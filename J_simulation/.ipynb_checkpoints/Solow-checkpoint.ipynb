{
 "cells": [
  {
   "cell_type": "code",
   "execution_count": 1,
   "id": "62051e58-5f47-4f66-8c53-18d47ed8efa3",
   "metadata": {},
   "outputs": [],
   "source": [
    "import numpy as np\n",
    "from scipy.optimize import fsolve\n",
    "import matplotlib.pyplot as plt\n",
    "%matplotlib inline"
   ]
  },
  {
   "cell_type": "code",
   "execution_count": 66,
   "id": "8519adbb-1c3c-405e-ab0d-35a63ac68d40",
   "metadata": {},
   "outputs": [],
   "source": [
    "class StaticAllocation:\n",
    "    ###\n",
    "    # finds allocation of capital and labor across sectors\n",
    "    ###\n",
    "    \n",
    "    def __init__(self,\n",
    "                 α_KA    = 0.15,\n",
    "                 α_LA    = 0.55,\n",
    "                 α_KM    = 0.6, \n",
    "                 α_LM    = 0.4,\n",
    "                 X_A     = 1,\n",
    "                 X_M     = 1,\n",
    "                 K       = 1,\n",
    "                 L       = 1,\n",
    "                 η_A     = 0.15,\n",
    "                 η_M     = 0.85,\n",
    "                 γ_A     = 0.1,\n",
    "                 s       = 0.3,\n",
    "                 τ_R     = 0,\n",
    "                 τ_W     = 0,\n",
    "                 ):\n",
    "        \n",
    "        self.α_KA, self.α_LA = α_KA, α_LA\n",
    "        self.α_KM, self.α_LM = α_KM, α_LM\n",
    "        self.X_A,  self.X_M  = X_A , X_M\n",
    "        self.L,    self.K    = L   , K\n",
    "        self.η_A,  self.η_M  = η_A , η_M\n",
    "        self.γ_A,  self.s    = γ_A   , s\n",
    "        self.τ_R,  self.τ_W  = τ_R , τ_W\n",
    "    \n",
    "    def Y_A(self, κ):\n",
    "        ###\n",
    "        # the production function for sector A\n",
    "        ###\n",
    "        X_A, α_KA, α_LA = self.X_A, self.α_KA, self.α_LA\n",
    "        K, L            = self.K, self.L\n",
    "        \n",
    "        λ = self.λ(κ)\n",
    "        \n",
    "        K_A = (1 - κ) * K \n",
    "        L_A = (1 - λ) * L\n",
    "        \n",
    "        Y_A = X_A * (K_A ** α_KA) * (L_A ** α_LA)\n",
    "        return Y_A\n",
    "    \n",
    "    \n",
    "    def Y_M(self, κ):\n",
    "        ###\n",
    "        # the production function for sector M\n",
    "        ###\n",
    "        X_M, α_KM, α_LM = self.X_M, self.α_KM, self.α_LM\n",
    "        K, L            = self.K, self.L\n",
    "        \n",
    "        λ = self.λ(κ)\n",
    "        \n",
    "        K_M = κ * K \n",
    "        L_M = λ * L\n",
    "        \n",
    "        Y_M = X_M * (K_M ** α_KM) * (L_M ** α_LM)\n",
    "        return Y_M\n",
    "    \n",
    "    \n",
    "    def λ(self, κ):\n",
    "        ###\n",
    "        # finds λ given κ\n",
    "        ###\n",
    "        α_KA, α_LA = self.α_KA, self.α_LA\n",
    "        α_KM, α_LM = self.α_KM, self.α_LM\n",
    "        η_A , η_M  = self.η_A , self.η_M\n",
    "        τ_R , τ_W  = self.τ_R , self.τ_W\n",
    "        \n",
    "        temp = (α_LA / α_LM) * (α_KM / α_KA) * ((1 + τ_W) / (1 + τ_R)) * ((1 - κ) / κ)\n",
    "        λ = (1 + temp) ** (-1)\n",
    "        return λ\n",
    "    \n",
    "    \n",
    "    def solve_κ(self):\n",
    "        ###\n",
    "        # equation for κ\n",
    "        ###\n",
    "        α_KA      = self.α_KA\n",
    "        α_KM      = self.α_KM\n",
    "        η_A, η_M  = self.η_A, self.η_M\n",
    "        γ_A       = self.γ_A\n",
    "        τ_R       = self.τ_R\n",
    "        \n",
    "        const = (η_M / η_A) * (α_KM / α_KA)\n",
    "        \n",
    "        func = lambda κ: const * (1 - (γ_A / self.Y_A(κ))) * ((1 - κ) / κ)\n",
    "        \n",
    "        κ_initial_guess = 0.1\n",
    "        κ = fsolve(func, κ_initial_guess)[0]\n",
    "        \n",
    "        return κ\n",
    "    \n",
    "    def solve_λ(self):\n",
    "        ###\n",
    "        # finds equilibrium labor allocation\n",
    "        ###\n",
    "        \n",
    "        κ = self.solve_κ()\n",
    "        λ = self.λ(κ)\n",
    "        \n",
    "        return λ\n",
    "    \n",
    "    \n",
    "    def solve_Y_A(self):\n",
    "        ###\n",
    "        # finds equilibrium labor allocation\n",
    "        ###\n",
    "        \n",
    "        κ = self.solve_κ()\n",
    "        Y_A = self.Y_A(κ)\n",
    "        \n",
    "        return Y_A\n",
    "    \n",
    "    \n",
    "    def solve_Y_M(self):\n",
    "        ###\n",
    "        # finds equilibrium labor allocation\n",
    "        ###\n",
    "        \n",
    "        κ = self.solve_κ()\n",
    "        Y_M = self.Y_M(κ)\n",
    "        \n",
    "        return Y_M"
   ]
  },
  {
   "cell_type": "code",
   "execution_count": 67,
   "id": "ceeaae92-fd4c-4102-8d48-d603f5129de7",
   "metadata": {},
   "outputs": [],
   "source": [
    "allocation = StaticAllocation()"
   ]
  },
  {
   "cell_type": "code",
   "execution_count": 68,
   "id": "f4ec506a-52ed-4987-b9ef-0b6ccfb644c8",
   "metadata": {},
   "outputs": [
    {
     "data": {
      "text/plain": [
       "0.9898864944178224"
      ]
     },
     "execution_count": 68,
     "metadata": {},
     "output_type": "execute_result"
    }
   ],
   "source": [
    "allocation.solve_κ()"
   ]
  },
  {
   "cell_type": "code",
   "execution_count": 69,
   "id": "c203caf6-d133-44e6-a8cc-c24c008d1410",
   "metadata": {},
   "outputs": [
    {
     "data": {
      "text/plain": [
       "0.9467970278014561"
      ]
     },
     "execution_count": 69,
     "metadata": {},
     "output_type": "execute_result"
    }
   ],
   "source": [
    "allocation.solve_λ()"
   ]
  },
  {
   "cell_type": "code",
   "execution_count": 70,
   "id": "565761cd-de27-40ca-9df2-8b82a881d680",
   "metadata": {},
   "outputs": [
    {
     "data": {
      "text/plain": [
       "0.10000000000005276"
      ]
     },
     "execution_count": 70,
     "metadata": {},
     "output_type": "execute_result"
    }
   ],
   "source": [
    "allocation.solve_Y_A()"
   ]
  },
  {
   "cell_type": "code",
   "execution_count": 76,
   "id": "c19f17fc-faa2-4b3f-b9e7-c893b8be0392",
   "metadata": {},
   "outputs": [
    {
     "data": {
      "image/png": "[encoded data removed]",
      "text/plain": [
       "<Figure size 432x288 with 1 Axes>"
      ]
     },
     "metadata": {
      "needs_background": "light"
     },
     "output_type": "display_data"
    }
   ],
   "source": [
    "fig, ax = plt.subplots()\n",
    "τ_Ws    = np.linspace(1e-2, 10, 100)\n",
    "κs      = np.zeros_like(τ_Ws)\n",
    "λs      = np.zeros_like(τ_Ws)\n",
    "for i, τ_W in enumerate(τ_Ws):\n",
    "    alloc = StaticAllocation(τ_W = τ_W, K = 0.1, L = 0.1)\n",
    "    κs[i] = alloc.solve_κ()\n",
    "    λs[i] = alloc.solve_λ()\n",
    "ax.plot(τ_Ws, κs, label = 'κ')\n",
    "ax.plot(τ_Ws, λs, label = 'λ')\n",
    "ax.legend()\n",
    "ax.set_xlabel(r'$\\tau_W$'.format())\n",
    "ax.set_ylabel(r'Shares'.format())\n",
    "ax.set_title(r'$\\tau_W$ and allocation'.format())\n",
    "plt.show()"
   ]
  },
  {
   "cell_type": "code",
   "execution_count": 77,
   "id": "09e0ba00-778a-4c63-b01c-6f0482d27816",
   "metadata": {},
   "outputs": [
    {
     "data": {
      "image/png": "[encoded data removed]",
      "text/plain": [
       "<Figure size 432x288 with 1 Axes>"
      ]
     },
     "metadata": {
      "needs_background": "light"
     },
     "output_type": "display_data"
    }
   ],
   "source": [
    "fig, ax = plt.subplots()\n",
    "τ_Rs    = np.linspace(1e-2, 10, 100)\n",
    "κs      = np.zeros_like(τ_Rs)\n",
    "λs      = np.zeros_like(τ_Rs)\n",
    "for i, τ_R in enumerate(τ_Rs):\n",
    "    alloc = StaticAllocation(τ_R = τ_R, K = 0.1, L = 0.1)\n",
    "    κs[i] = alloc.solve_κ()\n",
    "    λs[i] = alloc.solve_λ()\n",
    "ax.plot(τ_Rs, κs, label = 'κ')\n",
    "ax.plot(τ_Rs, λs, label = 'λ')\n",
    "ax.legend()\n",
    "ax.set_xlabel(r'$\\tau_R$'.format())\n",
    "ax.set_ylabel(r'Shares'.format())\n",
    "ax.set_title(r'$\\tau_R$ and allocation'.format())\n",
    "plt.show()"
   ]
  },
  {
   "cell_type": "code",
   "execution_count": 6,
   "id": "cb0db9f4-27de-4a22-a1c8-eb986e338858",
   "metadata": {},
   "outputs": [
    {
     "data": {
      "text/plain": [
       "array([0.9828974 , 0.98410291, 0.98512985, 0.98601639, 0.9867904 ,\n",
       "       0.98747273, 0.9880793 , 0.98862247, 0.98911204, 0.98955585,\n",
       "       0.98996023, 0.99033042, 0.99067071, 0.99098474, 0.99127552,\n",
       "       0.99154565, 0.99179733, 0.99203245, 0.99225266, 0.99245939,\n",
       "       0.99265388, 0.99283724, 0.99301041, 0.99317427, 0.99332957,\n",
       "       0.993477  , 0.99361715, 0.99375057, 0.99387777, 0.99399917,\n",
       "       0.99411518, 0.99422617, 0.99433247, 0.99443438, 0.99453217,\n",
       "       0.99462611, 0.99471643, 0.99480333, 0.99488701, 0.99496767,\n",
       "       0.99504546, 0.99512054, 0.99519307, 0.99526316, 0.99533094,\n",
       "       0.99539654, 0.99546006, 0.9955216 , 0.99558126, 0.99563912,\n",
       "       0.99569528, 0.99574979, 0.99580275, 0.99585421, 0.99590425,\n",
       "       0.99595292, 0.99600028, 0.99604639, 0.99609129, 0.99613504,\n",
       "       0.99617768, 0.99621925, 0.9962598 , 0.99629936, 0.99633797,\n",
       "       0.99637567, 0.99641249, 0.99644846, 0.99648361, 0.99651798,\n",
       "       0.99655158, 0.99658444, 0.99661659, 0.99664806, 0.99667886,\n",
       "       0.99670901, 0.99673855, 0.99676748, 0.99679583, 0.99682361,\n",
       "       0.99685085, 0.99687755, 0.99690374, 0.99692943, 0.99695463,\n",
       "       0.99697937, 0.99700364, 0.99702747, 0.99705087, 0.99707386,\n",
       "       0.99709643, 0.99711861, 0.9971404 , 0.99716181, 0.99718286,\n",
       "       0.99720356, 0.9972239 , 0.99724391, 0.9972636 , 0.99728296])"
      ]
     },
     "execution_count": 6,
     "metadata": {},
     "output_type": "execute_result"
    }
   ],
   "source": [
    "κs"
   ]
  },
  {
   "cell_type": "code",
   "execution_count": null,
   "id": "bff2c189-274e-4db5-b1d9-df781cae93d5",
   "metadata": {},
   "outputs": [],
   "source": []
  }
 ],
 "metadata": {
  "kernelspec": {
   "display_name": "Python 3",
   "language": "python",
   "name": "python3"
  },
  "language_info": {
   "codemirror_mode": {
    "name": "ipython",
    "version": 3
   },
   "file_extension": ".py",
   "mimetype": "text/x-python",
   "name": "python",
   "nbconvert_exporter": "python",
   "pygments_lexer": "ipython3",
   "version": "3.7.10"
  }
 },
 "nbformat": 4,
 "nbformat_minor": 5
}
