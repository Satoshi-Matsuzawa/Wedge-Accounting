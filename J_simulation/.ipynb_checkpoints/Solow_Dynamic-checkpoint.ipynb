{
 "cells": [
  {
   "cell_type": "code",
   "execution_count": 1,
   "id": "62051e58-5f47-4f66-8c53-18d47ed8efa3",
   "metadata": {},
   "outputs": [],
   "source": [
    "import numpy as np\n",
    "from scipy.optimize import fsolve\n",
    "import matplotlib.pyplot as plt\n",
    "%matplotlib inline"
   ]
  },
  {
   "cell_type": "code",
   "execution_count": 2,
   "id": "8519adbb-1c3c-405e-ab0d-35a63ac68d40",
   "metadata": {},
   "outputs": [],
   "source": [
    "class StaticAllocation:\n",
    "    ###\n",
    "    # finds allocation of capital and labor across sectors\n",
    "    # saving rate is fixed\n",
    "    ###\n",
    "    \n",
    "    def __init__(self,\n",
    "                 α_KA    = 0.15,\n",
    "                 α_LA    = 0.55,\n",
    "                 α_KM    = 0.6, \n",
    "                 α_LM    = 0.4,\n",
    "                 X_A     = 1,\n",
    "                 X_M     = 1,\n",
    "                 K       = 1,\n",
    "                 L       = 1,\n",
    "                 η_A     = 0.15,\n",
    "                 η_M     = 0.85,\n",
    "                 γ_A     = 0.1,\n",
    "                 s       = 0.3,\n",
    "                 τ_R     = 0,\n",
    "                 τ_W     = 0,\n",
    "                 ):\n",
    "        \n",
    "        self.α_KA, self.α_LA = α_KA, α_LA\n",
    "        self.α_KM, self.α_LM = α_KM, α_LM\n",
    "        self.X_A,  self.X_M  = X_A , X_M\n",
    "        self.L,    self.K    = L   , K\n",
    "        self.η_A,  self.η_M  = η_A , η_M\n",
    "        self.γ_A,  self.s    = γ_A   , s\n",
    "        self.τ_R,  self.τ_W  = τ_R , τ_W\n",
    "    \n",
    "    def Y_A(self, κ):\n",
    "        ###\n",
    "        # the production function for sector A\n",
    "        ###\n",
    "        X_A, α_KA, α_LA = self.X_A, self.α_KA, self.α_LA\n",
    "        K, L            = self.K, self.L\n",
    "        \n",
    "        λ = self.λ(κ)\n",
    "        \n",
    "        K_A = (1 - κ) * K \n",
    "        L_A = (1 - λ) * L\n",
    "        \n",
    "        Y_A = X_A * (K_A ** α_KA) * (L_A ** α_LA)\n",
    "        return Y_A\n",
    "    \n",
    "    \n",
    "    def Y_M(self, κ):\n",
    "        ###\n",
    "        # the production function for sector M\n",
    "        ###\n",
    "        X_M, α_KM, α_LM = self.X_M, self.α_KM, self.α_LM\n",
    "        K, L            = self.K, self.L\n",
    "        \n",
    "        λ = self.λ(κ)\n",
    "        \n",
    "        K_M = κ * K \n",
    "        L_M = λ * L\n",
    "        \n",
    "        Y_M = X_M * (K_M ** α_KM) * (L_M ** α_LM)\n",
    "        return Y_M\n",
    "    \n",
    "    \n",
    "    def λ(self, κ):\n",
    "        ###\n",
    "        # finds λ given κ\n",
    "        ###\n",
    "        α_KA, α_LA = self.α_KA, self.α_LA\n",
    "        α_KM, α_LM = self.α_KM, self.α_LM\n",
    "        η_A , η_M  = self.η_A , self.η_M\n",
    "        τ_R , τ_W  = self.τ_R , self.τ_W\n",
    "        \n",
    "        temp = (α_LA / α_LM) * (α_KM / α_KA) * ((1 + τ_W) / (1 + τ_R)) * ((1 - κ) / κ)\n",
    "        λ = (1 + temp) ** (-1)\n",
    "        return λ\n",
    "    \n",
    "    \n",
    "    def solve_κ(self):\n",
    "        ###\n",
    "        # equation for κ\n",
    "        ###\n",
    "        α_KA      = self.α_KA\n",
    "        α_KM      = self.α_KM\n",
    "        η_A, η_M  = self.η_A, self.η_M\n",
    "        γ_A       = self.γ_A\n",
    "        s         = self.s\n",
    "        τ_R       = self.τ_R\n",
    "        \n",
    "        const = (η_M / η_A) * (α_KM / α_KA)  * (1 / (1 + τ_R)) * (1 / (1 - s))\n",
    "        \n",
    "        func = lambda κ: const * (1 - (γ_A / self.Y_A(κ))) * ((1 - κ) / κ) - 1\n",
    "        \n",
    "        κ_initial_guess = 0.1\n",
    "        κ = fsolve(func, κ_initial_guess)[0]\n",
    "        \n",
    "        return κ\n",
    "    \n",
    "    def solve_λ(self):\n",
    "        ###\n",
    "        # finds equilibrium labor allocation\n",
    "        ###\n",
    "        \n",
    "        κ = self.solve_κ()\n",
    "        λ = self.λ(κ)\n",
    "        \n",
    "        return λ\n",
    "    \n",
    "    \n",
    "    def solve_Y_A(self):\n",
    "        ###\n",
    "        # finds equilibrium labor allocation\n",
    "        ###\n",
    "        \n",
    "        κ = self.solve_κ()\n",
    "        Y_A = self.Y_A(κ)\n",
    "        \n",
    "        return Y_A\n",
    "    \n",
    "    \n",
    "    def solve_Y_M(self):\n",
    "        ###\n",
    "        # finds equilibrium labor allocation\n",
    "        ###\n",
    "        \n",
    "        κ = self.solve_κ()\n",
    "        Y_M = self.Y_M(κ)\n",
    "        \n",
    "        return Y_M"
   ]
  },
  {
   "cell_type": "code",
   "execution_count": 3,
   "id": "ceeaae92-fd4c-4102-8d48-d603f5129de7",
   "metadata": {},
   "outputs": [],
   "source": [
    "allocation = StaticAllocation()"
   ]
  },
  {
   "cell_type": "code",
   "execution_count": 4,
   "id": "f4ec506a-52ed-4987-b9ef-0b6ccfb644c8",
   "metadata": {},
   "outputs": [
    {
     "data": {
      "text/plain": [
       "0.9532044603979779"
      ]
     },
     "execution_count": 4,
     "metadata": {},
     "output_type": "execute_result"
    }
   ],
   "source": [
    "allocation.solve_κ()"
   ]
  },
  {
   "cell_type": "code",
   "execution_count": 5,
   "id": "c203caf6-d133-44e6-a8cc-c24c008d1410",
   "metadata": {},
   "outputs": [
    {
     "data": {
      "text/plain": [
       "0.7873948990779351"
      ]
     },
     "execution_count": 5,
     "metadata": {},
     "output_type": "execute_result"
    }
   ],
   "source": [
    "allocation.solve_λ()"
   ]
  },
  {
   "cell_type": "code",
   "execution_count": 6,
   "id": "565761cd-de27-40ca-9df2-8b82a881d680",
   "metadata": {},
   "outputs": [
    {
     "data": {
      "text/plain": [
       "0.2695852911692016"
      ]
     },
     "execution_count": 6,
     "metadata": {},
     "output_type": "execute_result"
    }
   ],
   "source": [
    "allocation.solve_Y_A()"
   ]
  },
  {
   "cell_type": "code",
   "execution_count": 7,
   "id": "c19f17fc-faa2-4b3f-b9e7-c893b8be0392",
   "metadata": {},
   "outputs": [
    {
     "data": {
      "image/png": "[encoded data removed]",
      "text/plain": [
       "<Figure size 432x288 with 1 Axes>"
      ]
     },
     "metadata": {
      "needs_background": "light"
     },
     "output_type": "display_data"
    }
   ],
   "source": [
    "fig, ax = plt.subplots()\n",
    "τ_Ws    = np.linspace(1e-2, 10, 100)\n",
    "κs      = np.zeros_like(τ_Ws)\n",
    "λs      = np.zeros_like(τ_Ws)\n",
    "for i, τ_W in enumerate(τ_Ws):\n",
    "    alloc = StaticAllocation(τ_W = τ_W, K = 0.1, L = 0.1)\n",
    "    κs[i] = alloc.solve_κ()\n",
    "    λs[i] = alloc.solve_λ()\n",
    "ax.plot(τ_Ws, κs, label = 'κ')\n",
    "ax.plot(τ_Ws, λs, label = 'λ')\n",
    "ax.legend()\n",
    "ax.set_xlabel(r'$\\tau_W$'.format())\n",
    "ax.set_ylabel(r'Shares'.format())\n",
    "ax.set_title(r'$\\tau_W$ and allocation'.format())\n",
    "plt.show()"
   ]
  },
  {
   "cell_type": "code",
   "execution_count": 8,
   "id": "09e0ba00-778a-4c63-b01c-6f0482d27816",
   "metadata": {},
   "outputs": [
    {
     "data": {
      "image/png": "[encoded data removed]",
      "text/plain": [
       "<Figure size 432x288 with 1 Axes>"
      ]
     },
     "metadata": {
      "needs_background": "light"
     },
     "output_type": "display_data"
    }
   ],
   "source": [
    "fig, ax = plt.subplots()\n",
    "τ_Rs    = np.linspace(1e-2, 10, 100)\n",
    "κs      = np.zeros_like(τ_Rs)\n",
    "λs      = np.zeros_like(τ_Rs)\n",
    "for i, τ_R in enumerate(τ_Rs):\n",
    "    alloc = StaticAllocation(τ_R = τ_R, K = 0.1, L = 0.1)\n",
    "    κs[i] = alloc.solve_κ()\n",
    "    λs[i] = alloc.solve_λ()\n",
    "ax.plot(τ_Rs, κs, label = 'κ')\n",
    "ax.plot(τ_Rs, λs, label = 'λ')\n",
    "ax.legend()\n",
    "ax.set_xlabel(r'$\\tau_R$'.format())\n",
    "ax.set_ylabel(r'Shares'.format())\n",
    "ax.set_title(r'$\\tau_R$ and allocation'.format())\n",
    "plt.show()"
   ]
  },
  {
   "cell_type": "code",
   "execution_count": 9,
   "id": "cb0db9f4-27de-4a22-a1c8-eb986e338858",
   "metadata": {},
   "outputs": [
    {
     "data": {
      "text/plain": [
       "array([0.80418886, 0.7924846 , 0.78127138, 0.77050338, 0.76014211,\n",
       "       0.75015481, 0.74051325, 0.7311928 , 0.72217183, 0.71343116,\n",
       "       0.70495367, 0.69672398, 0.68872821, 0.68095374, 0.67338909,\n",
       "       0.66602375, 0.65884803, 0.65185303, 0.64503052, 0.63837284,\n",
       "       0.63187289, 0.62552406, 0.61932014, 0.61325536, 0.60732428,\n",
       "       0.60152179, 0.5958431 , 0.59028368, 0.58483924, 0.57950575,\n",
       "       0.57427939, 0.56915651, 0.56413369, 0.55920766, 0.55437529,\n",
       "       0.54963363, 0.54497986, 0.54041129, 0.53592534, 0.53151956,\n",
       "       0.5271916 , 0.52293922, 0.51876025, 0.51465265, 0.51061442,\n",
       "       0.50664367, 0.50273857, 0.49889738, 0.4951184 , 0.49140003,\n",
       "       0.48774069, 0.48413889, 0.48059317, 0.47710215, 0.47366447,\n",
       "       0.47027884, 0.466944  , 0.46365875, 0.46042191, 0.45723235,\n",
       "       0.45408898, 0.45099075, 0.44793663, 0.44492562, 0.44195678,\n",
       "       0.43902916, 0.43614188, 0.43329406, 0.43048484, 0.42771342,\n",
       "       0.42497899, 0.42228079, 0.41961805, 0.41699006, 0.41439611,\n",
       "       0.4118355 , 0.40930757, 0.40681168, 0.40434718, 0.40191346,\n",
       "       0.39950993, 0.39713601, 0.39479112, 0.39247472, 0.39018627,\n",
       "       0.38792525, 0.38569115, 0.38348348, 0.38130174, 0.37914547,\n",
       "       0.37701421, 0.37490751, 0.37282494, 0.37076606, 0.36873047,\n",
       "       0.36671775, 0.36472751, 0.36275937, 0.36081294, 0.35888786])"
      ]
     },
     "execution_count": 9,
     "metadata": {},
     "output_type": "execute_result"
    }
   ],
   "source": [
    "κs"
   ]
  },
  {
   "cell_type": "code",
   "execution_count": null,
   "id": "bff2c189-274e-4db5-b1d9-df781cae93d5",
   "metadata": {},
   "outputs": [],
   "source": []
  }
 ],
 "metadata": {
  "kernelspec": {
   "display_name": "Python 3",
   "language": "python",
   "name": "python3"
  },
  "language_info": {
   "codemirror_mode": {
    "name": "ipython",
    "version": 3
   },
   "file_extension": ".py",
   "mimetype": "text/x-python",
   "name": "python",
   "nbconvert_exporter": "python",
   "pygments_lexer": "ipython3",
   "version": "3.7.10"
  }
 },
 "nbformat": 4,
 "nbformat_minor": 5
}
