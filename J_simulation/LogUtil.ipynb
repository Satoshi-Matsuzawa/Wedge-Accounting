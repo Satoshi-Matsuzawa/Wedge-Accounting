{
 "cells": [
  {
   "cell_type": "code",
   "execution_count": 1,
   "id": "114b36ec-1700-4cb2-99b8-049ed9181cb1",
   "metadata": {},
   "outputs": [],
   "source": [
    "%matplotlib inline\n",
    "import matplotlib.pyplot as plt\n",
    "plt.rcParams[\"figure.figsize\"] = (11, 5)  #set default figure size\n",
    "import numpy as np\n",
    "from scipy.optimize import fsolve"
   ]
  },
  {
   "cell_type": "code",
   "execution_count": 25,
   "id": "064b993b-8e53-4114-a3af-88f33db61c05",
   "metadata": {},
   "outputs": [],
   "source": [
    "class StaticAllocation:\n",
    "    ###\n",
    "    # finds allocation of capital and labor across sectors given consumption of manufactured goods\n",
    "    ###\n",
    "    \n",
    "    def __init__(self,\n",
    "                 α_KA    = 0.15,\n",
    "                 α_LA    = 0.55,\n",
    "                 α_KM    = 0.6, \n",
    "                 α_LM    = 0.4,\n",
    "                 X_A     = 1,\n",
    "                 X_M     = 1,\n",
    "                 L       = 1,\n",
    "                 η_A     = 0.15,\n",
    "                 η_M     = 0.85,\n",
    "                 γ_A     = 0.3,\n",
    "                 τ_R     = 0,\n",
    "                 τ_W     = 0,\n",
    "                 ):\n",
    "        \n",
    "        self.α_KA, self.α_LA = α_KA, α_LA\n",
    "        self.α_KM, self.α_LM = α_KM, α_LM\n",
    "        self.X_A,  self.X_M  = X_A , X_M\n",
    "        self.L               = L\n",
    "        self.η_A,  self.η_M  = η_A , η_M\n",
    "        self.γ_A             = γ_A\n",
    "        self.τ_R,  self.τ_W  = τ_R , τ_W\n",
    "    \n",
    "    def Y_A_func(self, κ, K):\n",
    "        ###\n",
    "        # the production function for sector A\n",
    "        ###\n",
    "        X_A, α_KA, α_LA = self.X_A, self.α_KA, self.α_LA\n",
    "        L               = self.L\n",
    "        \n",
    "        λ = self.λ_func(κ)\n",
    "        \n",
    "        K_A = (1 - κ) * K \n",
    "        L_A = (1 - λ) * L\n",
    "        \n",
    "        Y_A = X_A * (K_A ** α_KA) * (L_A ** α_LA)\n",
    "        return Y_A\n",
    "    \n",
    "    \n",
    "    def Y_M_func(self, κ, K):\n",
    "        ###\n",
    "        # the production function for sector M\n",
    "        ###\n",
    "        X_M, α_KM, α_LM = self.X_M, self.α_KM, self.α_LM\n",
    "        L               = self.L\n",
    "        \n",
    "        λ = self.λ_func(κ)\n",
    "        \n",
    "        K_M = κ * K \n",
    "        L_M = λ * L\n",
    "        \n",
    "        Y_M = X_M * (K_M ** α_KM) * (L_M ** α_LM)\n",
    "        return Y_M\n",
    "    \n",
    "    \n",
    "    def λ_func(self, κ):\n",
    "        ###\n",
    "        # finds λ given κ\n",
    "        ###\n",
    "        α_KA, α_LA = self.α_KA, self.α_LA\n",
    "        α_KM, α_LM = self.α_KM, self.α_LM\n",
    "        η_A , η_M  = self.η_A , self.η_M\n",
    "        τ_R , τ_W  = self.τ_R , self.τ_W\n",
    "        \n",
    "        temp = (α_LA / α_LM) * (α_KM / α_KA) * ((1 + τ_W) / (1 + τ_R)) * ((1 - κ) / κ)\n",
    "        λ = (1 + temp) ** (-1)\n",
    "        return λ\n",
    "    \n",
    "    \n",
    "    def κ(self, C_M, K, κ_initial_guess):\n",
    "        ###\n",
    "        # equation for κ\n",
    "        ###\n",
    "        α_KA      = self.α_KA\n",
    "        α_KM      = self.α_KM\n",
    "        η_A, η_M  = self.η_A, self.η_M\n",
    "        γ_A       = self.γ_A\n",
    "        τ_R       = self.τ_R\n",
    "        \n",
    "        const = (η_M / η_A) * (α_KM / α_KA) * (1 / (1 + τ_R))\n",
    "        \n",
    "        func = lambda κ: const * (1 - (γ_A / self.Y_A_func(κ, K))) * (self.Y_M_func(κ, K) / C_M) * ((1 - κ) / κ) - 1\n",
    "        \n",
    "        κ_sol = fsolve(func, κ_initial_guess)[0] \n",
    "        \n",
    "        if κ_sol < 1:\n",
    "            κ = κ_sol\n",
    "        else:\n",
    "            κ = 1\n",
    "        \n",
    "        return κ\n",
    "    \n",
    "    def λ(self, C_M, K, κ_initial_guess):\n",
    "        ###\n",
    "        # finds equilibrium labor allocation\n",
    "        ###\n",
    "        \n",
    "        κ = self.κ(C_M, K, κ_initial_guess)\n",
    "        λ = self.λ_func(κ)\n",
    "        \n",
    "        return λ\n",
    "    \n",
    "    \n",
    "    def Y_A(self, C_M, K, κ_initial_guess):\n",
    "        ###\n",
    "        # finds equilibrium labor allocation\n",
    "        ###\n",
    "        \n",
    "        κ = self.κ(C_M, K, κ_initial_guess)\n",
    "        Y_A = self.Y_A_func(κ, K)\n",
    "        \n",
    "        return Y_A\n",
    "    \n",
    "    \n",
    "    def Y_M(self, C_M, K, κ_initial_guess):\n",
    "        ###\n",
    "        # finds equilibrium labor allocation\n",
    "        ###\n",
    "        \n",
    "        κ = self.κ(C_M, K, κ_initial_guess)\n",
    "        Y_M = self.Y_M_func(κ, K)\n",
    "        \n",
    "        return Y_M\n",
    "    \n",
    "    def Y_M_prime(self, C_M, K, κ_initial_guess):\n",
    "        ###\n",
    "        # derivative of Y_M\n",
    "        ###\n",
    "        \n",
    "        κ    = self.κ(C_M, K, κ_initial_guess)\n",
    "        α_KM = self.α_KM\n",
    "        K_M  = K * κ\n",
    "        Y_M  = self.Y_M_func(κ, K)\n",
    "        \n",
    "        Y_M_prime = α_KM * Y_M / K_M\n",
    "        \n",
    "        return Y_M_prime"
   ]
  },
  {
   "cell_type": "code",
   "execution_count": 26,
   "id": "f2e8c7cf-8f66-4b19-adec-42081b4f6ebc",
   "metadata": {},
   "outputs": [],
   "source": [
    "alloc = StaticAllocation()"
   ]
  },
  {
   "cell_type": "code",
   "execution_count": 27,
   "id": "fdca01dc-9a35-4af1-81f2-ad8c5a6dc1c1",
   "metadata": {},
   "outputs": [
    {
     "data": {
      "text/plain": [
       "0.9222982566426594"
      ]
     },
     "execution_count": 27,
     "metadata": {},
     "output_type": "execute_result"
    }
   ],
   "source": [
    "alloc.κ(C_M = 0.6, K = 2, κ_initial_guess = 0.8)"
   ]
  },
  {
   "cell_type": "code",
   "execution_count": 28,
   "id": "98931a7d-274f-44e7-b619-12fc94ca9c79",
   "metadata": {},
   "outputs": [
    {
     "data": {
      "text/plain": [
       "0.4033200187800411"
      ]
     },
     "execution_count": 28,
     "metadata": {},
     "output_type": "execute_result"
    }
   ],
   "source": [
    "alloc.Y_M_prime(C_M = 0.6, K = 2, κ_initial_guess = 0.8)"
   ]
  },
  {
   "cell_type": "code",
   "execution_count": 29,
   "id": "50e81f02-a9b8-420e-8a60-e764b62835d3",
   "metadata": {},
   "outputs": [
    {
     "data": {
      "text/plain": [
       "1.611461909397815"
      ]
     },
     "execution_count": 29,
     "metadata": {},
     "output_type": "execute_result"
    }
   ],
   "source": [
    "alloc.Y_M(C_M = 0.7, K = 3, κ_initial_guess = 0.9)"
   ]
  },
  {
   "cell_type": "code",
   "execution_count": 30,
   "id": "89bbcc2a-2596-4cdc-ae4d-8454361f2e7b",
   "metadata": {},
   "outputs": [],
   "source": [
    "class PlanningProblemLog(StaticAllocation):\n",
    "\n",
    "    def __init__(self, β=0.95, δ=0.05):\n",
    "        \n",
    "        super().__init__()\n",
    "\n",
    "        self.β = β\n",
    "        self.δ = δ\n",
    "\n",
    "    def u(self, C_M):\n",
    "        ###\n",
    "        # utility function\n",
    "        ###\n",
    "        u = np.log(C_M)\n",
    "\n",
    "        return u\n",
    "\n",
    "    def u_prime(self, C_M):\n",
    "        ###\n",
    "        # derivative of utility\n",
    "        ###\n",
    "        u_prime = 1/C_M\n",
    "\n",
    "        return u_prime\n",
    "\n",
    "    def u_prime_inv(self, C_M):\n",
    "        ###\n",
    "        # inverse of derivative of utility\n",
    "        ###\n",
    "        u_prime_inv = C_M\n",
    "\n",
    "        return u_prime_inv\n",
    "    \n",
    "    def next_K(self, C_M, K, κ_initial_guess):\n",
    "        ###\n",
    "        # return next K\n",
    "        ###\n",
    "        δ   = self.δ\n",
    "        Y_M = self.Y_M(C_M, K, κ_initial_guess)\n",
    "        Inv = Y_M - C_M\n",
    "        \n",
    "        next_K = K * (1 - δ) + Inv\n",
    "        return next_K\n",
    "        \n",
    "    \n",
    "    def next_C_M(self, C_M, K, κ_initial_guess):\n",
    "        ###\n",
    "        # return next C_M\n",
    "        ###\n",
    "        β = self.β\n",
    "        δ = self.δ\n",
    "        \n",
    "        next_K = self.next_K(C_M, K, κ_initial_guess)\n",
    "        \n",
    "        func = lambda next_C_M: C_M * β * (self.Y_M_prime(next_C_M, next_K, κ_initial_guess) + 1 - δ) - next_C_M\n",
    "        \n",
    "        next_C_M_initial_guess = C_M\n",
    "        next_C_M = fsolve(func, next_C_M_initial_guess)[0]\n",
    "        \n",
    "        return next_C_M"
   ]
  },
  {
   "cell_type": "code",
   "execution_count": 32,
   "id": "fb8600dd-ea8f-4984-b320-b98ad3c24a4a",
   "metadata": {},
   "outputs": [],
   "source": [
    "ppl = PlanningProblemLog()"
   ]
  },
  {
   "cell_type": "code",
   "execution_count": 33,
   "id": "27831d08-f3c7-4163-8ccc-4edbc3ae1e47",
   "metadata": {},
   "outputs": [
    {
     "data": {
      "text/plain": [
       "0.8870479442167519"
      ]
     },
     "execution_count": 33,
     "metadata": {},
     "output_type": "execute_result"
    }
   ],
   "source": [
    "ppl.κ(C_M = 0.7, K = 1, κ_initial_guess = 0.8)"
   ]
  },
  {
   "cell_type": "code",
   "execution_count": 34,
   "id": "e539a6b7-76a2-4b0c-92b2-94c4521c5048",
   "metadata": {},
   "outputs": [
    {
     "data": {
      "text/plain": [
       "1.0025819798975069"
      ]
     },
     "execution_count": 34,
     "metadata": {},
     "output_type": "execute_result"
    }
   ],
   "source": [
    "ppl.next_K(C_M = 0.7, K = 1, κ_initial_guess = 0.8)"
   ]
  },
  {
   "cell_type": "code",
   "execution_count": 35,
   "id": "124d3aae-b860-4180-8d44-56d4484f110e",
   "metadata": {},
   "outputs": [
    {
     "data": {
      "text/plain": [
       "1.0420686030295536"
      ]
     },
     "execution_count": 35,
     "metadata": {},
     "output_type": "execute_result"
    }
   ],
   "source": [
    "ppl.next_C_M(C_M = 0.8, K = 1.5, κ_initial_guess = 0.9)"
   ]
  },
  {
   "cell_type": "code",
   "execution_count": 36,
   "id": "7a67f1f7-57e2-453c-b603-427b695601b2",
   "metadata": {},
   "outputs": [],
   "source": [
    "def shooting(pp, C_M_0, K_0, κ_initial_guess, T=10):\n",
    "    '''\n",
    "    Given the initial condition of capital k0 and an initial guess\n",
    "    of consumption c0, computes the whole paths of c and k\n",
    "    using the state transition law and Euler equation for T periods.\n",
    "    '''\n",
    "    if C_M_0 > pp.Y_M(C_M_0, K_0, κ_initial_guess):\n",
    "        print(\"initial consumption is not feasible\")\n",
    "\n",
    "        return None\n",
    "\n",
    "    # initialize vectors of c and k\n",
    "    C_M_vec = np.empty(T+1)\n",
    "    K_vec   = np.empty(T+2)\n",
    "    κ_vec   = np.empty(T+1)\n",
    "    λ_vec   = np.empty(T+1)\n",
    "\n",
    "    C_M_vec[0] = C_M_0\n",
    "    K_vec[0] = K_0\n",
    "    κ_vec[0] = pp.κ(C_M_0, K_0, κ_initial_guess)\n",
    "    λ_vec[0] = pp.λ(C_M_0, K_0, κ_initial_guess)\n",
    "\n",
    "    for t in range(T):\n",
    "        K_vec[t+1]   = pp.next_K(C_M_vec[t], K_vec[t], κ_vec[t])\n",
    "        C_M_vec[t+1] = pp.next_C_M(C_M_vec[t], K_vec[t], κ_vec[t])\n",
    "        κ_vec[t+1]   = pp.κ(C_M_vec[t], K_vec[t], κ_vec[t])\n",
    "        λ_vec[t+1]   = pp.λ(C_M_vec[t], K_vec[t], κ_vec[t]) \n",
    "        \n",
    "\n",
    "    K_vec[T+1] = pp.next_K(C_M_vec[T], K_vec[T], κ_vec[T])\n",
    "\n",
    "    return C_M_vec, K_vec, κ_vec, λ_vec"
   ]
  },
  {
   "cell_type": "code",
   "execution_count": 37,
   "id": "fd222c27-6107-4f7e-a456-4a75eb9def12",
   "metadata": {},
   "outputs": [],
   "source": [
    "paths = shooting(ppl, 0.3, 1, 0.9, T=20)"
   ]
  },
  {
   "cell_type": "code",
   "execution_count": 38,
   "id": "4c112c66-7f0a-48c6-b9eb-b83fc2a9ce54",
   "metadata": {},
   "outputs": [
    {
     "data": {
      "image/png": "[encoded data removed]",
      "text/plain": [
       "<Figure size 1008x360 with 4 Axes>"
      ]
     },
     "metadata": {
      "needs_background": "light"
     },
     "output_type": "display_data"
    }
   ],
   "source": [
    "fig, axs = plt.subplots(1, 4, figsize=(14, 5))\n",
    "\n",
    "colors = ['blue', 'red', 'green', 'orange']\n",
    "titles = ['Consumption', 'Capital', 'Kappa', 'Lambda']\n",
    "ylabels = ['$c_t$', '$k_t$', '$\\kappa_t$', '$\\lambda_t$']\n",
    "\n",
    "T = paths[0].size - 1\n",
    "for i in range(4):\n",
    "    axs[i].plot(paths[i], c=colors[i])\n",
    "    axs[i].set(xlabel='t', ylabel=ylabels[i], title=titles[i])\n",
    "\n",
    "axs[1].scatter(T+1, 0, s=80)\n",
    "axs[1].axvline(T+1, color='k', ls='--', lw=1)\n",
    "\n",
    "plt.show()"
   ]
  },
  {
   "cell_type": "code",
   "execution_count": 39,
   "id": "6d0acd1c-1382-4adb-9935-2d1d13e46bc3",
   "metadata": {},
   "outputs": [],
   "source": [
    "def bisection(pp, c0, k0, κ_initial_guess, T=10, tol=1e-4, max_iter=500, k_ter=0, verbose=True):\n",
    "\n",
    "    # initial boundaries for guess c0\n",
    "    c0_upper = pp.Y_M(c0, k0, κ_initial_guess)\n",
    "    c0_lower = 0\n",
    "\n",
    "    i = 0\n",
    "    while True:\n",
    "        c_vec, k_vec, κ_vec, λ_vec = shooting(pp, c0, k0, κ_initial_guess, T)\n",
    "        error = k_vec[-1] - k_ter\n",
    "\n",
    "        # check if the terminal condition is satisfied\n",
    "        if np.abs(error) < tol:\n",
    "            if verbose:\n",
    "                print('Converged successfully on iteration ', i+1)\n",
    "            return c_vec, k_vec, κ_vec, λ_vec\n",
    "\n",
    "        i += 1\n",
    "        if i == max_iter:\n",
    "            if verbose:\n",
    "                print('Convergence failed.')\n",
    "            return c_vec, k_vec, κ_vec, λ_vec\n",
    "\n",
    "        # if iteration continues, updates boundaries and guess of c0\n",
    "        if error > 0:\n",
    "            c0_lower = c0\n",
    "        else:\n",
    "            c0_upper = c0\n",
    "\n",
    "        c0 = (c0_lower + c0_upper) / 2"
   ]
  },
  {
   "cell_type": "code",
   "execution_count": 40,
   "id": "f72f1aa1-8368-44cf-afed-ce361aebea46",
   "metadata": {},
   "outputs": [],
   "source": [
    "def plot_paths(pp, c0, k0, κ_initial_guess, T_arr, k_ter=0, k_ss=None, axs=None):\n",
    "\n",
    "    if axs is None:\n",
    "        fix, axs = plt.subplots(1, 5, figsize=(16, 4))\n",
    "    ylabels = ['$c_t$', '$k_t$', '$\\mu_t$', '$\\kappa_t$', '$\\lambda_t$']\n",
    "    titles = ['M Consumption', 'Capital', 'Lagrange Multiplier',\n",
    "              'Kappa', 'Lambda']\n",
    "\n",
    "    c_paths = []\n",
    "    k_paths = []\n",
    "    for T in T_arr:\n",
    "        c_vec, k_vec, κ_vec, λ_vec = bisection(pp, c0, k0, κ_initial_guess, T, k_ter=k_ter, verbose=False)\n",
    "        c_paths.append(c_vec)\n",
    "        k_paths.append(k_vec)\n",
    "\n",
    "        μ_vec = pp.u_prime(c_vec)\n",
    "        paths = [c_vec, k_vec, μ_vec, κ_vec, λ_vec]\n",
    "\n",
    "        for i in range(5):\n",
    "            axs[i].plot(paths[i])\n",
    "            axs[i].set(xlabel='t', ylabel=ylabels[i], title=titles[i])\n",
    "\n",
    "        # Plot steady state value of capital\n",
    "        if k_ss is not None:\n",
    "            axs[1].axhline(k_ss, c='k', ls='--', lw=1)\n",
    "\n",
    "        axs[1].axvline(T+1, c='k', ls='--', lw=1)\n",
    "        axs[1].scatter(T+1, paths[1][-1], s=80)\n",
    "\n",
    "    return c_paths, k_paths"
   ]
  },
  {
   "cell_type": "code",
   "execution_count": 41,
   "id": "81c9dc48-1be8-43ca-9532-a4581b449913",
   "metadata": {},
   "outputs": [
    {
     "name": "stderr",
     "output_type": "stream",
     "text": [
      "/Users/satoshi/miniconda3/envs/quantecon/lib/python3.7/site-packages/ipykernel_launcher.py:41: RuntimeWarning: invalid value encountered in power\n",
      "/Users/satoshi/miniconda3/envs/quantecon/lib/python3.7/site-packages/scipy/optimize/minpack.py:175: RuntimeWarning: The iteration is not making good progress, as measured by the \n",
      "  improvement from the last ten iterations.\n",
      "  warnings.warn(msg, RuntimeWarning)\n"
     ]
    },
    {
     "data": {
      "image/png": "[encoded data removed]",
      "text/plain": [
       "<Figure size 1152x288 with 5 Axes>"
      ]
     },
     "metadata": {
      "needs_background": "light"
     },
     "output_type": "display_data"
    }
   ],
   "source": [
    "plot_paths(ppl, 0.1, 1, 0.5, [10], k_ter = 10);"
   ]
  },
  {
   "cell_type": "code",
   "execution_count": null,
   "id": "4e1d1875-1aeb-4747-93a7-13538a56f477",
   "metadata": {},
   "outputs": [],
   "source": []
  }
 ],
 "metadata": {
  "kernelspec": {
   "display_name": "Python 3",
   "language": "python",
   "name": "python3"
  },
  "language_info": {
   "codemirror_mode": {
    "name": "ipython",
    "version": 3
   },
   "file_extension": ".py",
   "mimetype": "text/x-python",
   "name": "python",
   "nbconvert_exporter": "python",
   "pygments_lexer": "ipython3",
   "version": "3.7.10"
  }
 },
 "nbformat": 4,
 "nbformat_minor": 5
}
