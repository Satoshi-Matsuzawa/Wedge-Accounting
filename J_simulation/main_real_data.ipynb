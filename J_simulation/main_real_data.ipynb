{
 "cells": [
  {
   "cell_type": "code",
   "execution_count": 2,
   "id": "114b36ec-1700-4cb2-99b8-049ed9181cb1",
   "metadata": {},
   "outputs": [],
   "source": [
    "%matplotlib inline\n",
    "import matplotlib.pyplot as plt\n",
    "plt.rcParams[\"figure.figsize\"] = (11, 5)  #set default figure size\n",
    "import numpy as np\n",
    "from scipy.optimize import fsolve"
   ]
  },
  {
   "cell_type": "code",
   "execution_count": 3,
   "id": "9f09cb5f-4122-4f88-a6fb-c3614ccc5f89",
   "metadata": {},
   "outputs": [],
   "source": [
    "import pandas as pd"
   ]
  },
  {
   "cell_type": "code",
   "execution_count": 4,
   "id": "e0c42147-6ff5-4a1f-9dc3-dd1b9d37e0c4",
   "metadata": {},
   "outputs": [],
   "source": [
    "df_emp_pre = pd.read_csv('../../Data/Downloads/Pre/pre_emp.csv')\n",
    "df_emp_post = pd.read_csv('../../Data/Downloads/Post/post_emp.csv')"
   ]
  },
  {
   "cell_type": "code",
   "execution_count": 5,
   "id": "8b01cff7-7a08-49cc-82ce-e5444706a5d7",
   "metadata": {},
   "outputs": [],
   "source": [
    "df_cap_pre = pd.read_csv('../../Data/Downloads/Pre/pre_cap.csv')\n",
    "df_cap_post = pd.read_csv('../../Data/Downloads/Post/post_cap.csv')"
   ]
  },
  {
   "cell_type": "code",
   "execution_count": 6,
   "id": "89ed5b1e-9601-4b67-8f18-5910fcb3d656",
   "metadata": {},
   "outputs": [],
   "source": [
    "df_exp_pre = pd.read_csv('../../Data/Downloads/Pre/pre_exp.csv')\n",
    "df_exp_post = pd.read_csv('../../Data/Downloads/Post/post_exp.csv')"
   ]
  },
  {
   "cell_type": "code",
   "execution_count": 10,
   "id": "73b44ab0-1140-4ab0-88a6-3019d0f56bdf",
   "metadata": {},
   "outputs": [],
   "source": [
    "df_pi_post = pd.read_csv('../../Data/Downloads/Post/post_CPI.csv')"
   ]
  },
  {
   "cell_type": "code",
   "execution_count": 7,
   "id": "e2e21388-fa5e-4101-b1b6-a7fe4c33118f",
   "metadata": {},
   "outputs": [],
   "source": [
    "df_cns_post = pd.read_csv('../../Data/Analysis/Post/post_mu_ratio_dynamic.csv')"
   ]
  },
  {
   "cell_type": "code",
   "execution_count": 8,
   "id": "40ff87b6-53d4-4983-b95b-169c2afa9871",
   "metadata": {},
   "outputs": [],
   "source": [
    "df_pop_post = pd.read_csv('../../Data/Downloads/Post/post_pop.csv')"
   ]
  },
  {
   "cell_type": "code",
   "execution_count": 6,
   "id": "04a79e1e-cfac-4786-a51c-bed74950642e",
   "metadata": {},
   "outputs": [],
   "source": [
    "df_XA_pre = pd.read_csv('../../Data/Downloads/Pre/pre_exp.csv')\n",
    "df_XA_post = pd.read_csv('../../Data/Downloads/Post/post_exp.csv')"
   ]
  },
  {
   "cell_type": "code",
   "execution_count": 47,
   "id": "e83825a9-8724-4d3e-afcd-77dce7608771",
   "metadata": {},
   "outputs": [],
   "source": [
    "c_m_1955 = 5630 * 89276 / 1000000"
   ]
  },
  {
   "cell_type": "code",
   "execution_count": 48,
   "id": "739c7b72-f15a-4349-9f77-3ce17a3e805a",
   "metadata": {},
   "outputs": [
    {
     "data": {
      "text/plain": [
       "502.62388"
      ]
     },
     "execution_count": 48,
     "metadata": {},
     "output_type": "execute_result"
    }
   ],
   "source": [
    "c_m_1955"
   ]
  },
  {
   "cell_type": "code",
   "execution_count": 13,
   "id": "4547419b-c59e-4ec9-883b-c9f3c56f7cc7",
   "metadata": {},
   "outputs": [],
   "source": [
    "K_1955 = 31139283000 / 27.7"
   ]
  },
  {
   "cell_type": "code",
   "execution_count": 14,
   "id": "1bf2ac46-58bf-4c50-b452-826d6387d05e",
   "metadata": {},
   "outputs": [
    {
     "data": {
      "text/plain": [
       "1124161841.1552346"
      ]
     },
     "execution_count": 14,
     "metadata": {},
     "output_type": "execute_result"
    }
   ],
   "source": [
    "K_1955"
   ]
  },
  {
   "cell_type": "code",
   "execution_count": 18,
   "id": "064b993b-8e53-4114-a3af-88f33db61c05",
   "metadata": {},
   "outputs": [],
   "source": [
    "class StaticAllocation:\n",
    "    ###\n",
    "    # finds allocation of capital and labor across sectors given consumption of manufactured goods\n",
    "    ###\n",
    "    \n",
    "    def __init__(self,\n",
    "                 α_KA    = 0.15,\n",
    "                 α_LA    = 0.55,\n",
    "                 α_KM    = 0.6, \n",
    "                 α_LM    = 0.4,\n",
    "                 X_A     = 1,\n",
    "                 X_M     = 1,\n",
    "                 K       = K_1955,\n",
    "                 L       = 3913000,\n",
    "                 η_A     = 0.15,\n",
    "                 η_M     = 0.85,\n",
    "                 γ_A     = 0.1,\n",
    "                 τ_R     = 0,\n",
    "                 τ_W     = 0,\n",
    "                 C_M     = 502.62388,\n",
    "                 ):\n",
    "        \n",
    "        self.α_KA, self.α_LA = α_KA, α_LA\n",
    "        self.α_KM, self.α_LM = α_KM, α_LM\n",
    "        self.X_A,  self.X_M  = X_A , X_M\n",
    "        self.L,    self.K    = L   , K\n",
    "        self.η_A,  self.η_M  = η_A , η_M\n",
    "        self.γ_A             = γ_A\n",
    "        self.τ_R,  self.τ_W  = τ_R , τ_W\n",
    "        self.C_M             = C_M\n",
    "    \n",
    "    def Y_A(self, κ):\n",
    "        ###\n",
    "        # the production function for sector A\n",
    "        ###\n",
    "        X_A, α_KA, α_LA = self.X_A, self.α_KA, self.α_LA\n",
    "        K, L            = self.K, self.L\n",
    "        \n",
    "        λ = self.λ(κ)\n",
    "        \n",
    "        K_A = (1 - κ) * K \n",
    "        L_A = (1 - λ) * L\n",
    "        \n",
    "        Y_A = X_A * (K_A ** α_KA) * (L_A ** α_LA)\n",
    "        return Y_A\n",
    "    \n",
    "    \n",
    "    def Y_M(self, κ):\n",
    "        ###\n",
    "        # the production function for sector M\n",
    "        ###\n",
    "        X_M, α_KM, α_LM = self.X_M, self.α_KM, self.α_LM\n",
    "        K, L            = self.K, self.L\n",
    "        \n",
    "        λ = self.λ(κ)\n",
    "        \n",
    "        K_M = κ * K \n",
    "        L_M = λ * L\n",
    "        \n",
    "        Y_M = X_M * (K_M ** α_KM) * (L_M ** α_LM)\n",
    "        return Y_M\n",
    "    \n",
    "    \n",
    "    def λ(self, κ):\n",
    "        ###\n",
    "        # finds λ given κ\n",
    "        ###\n",
    "        α_KA, α_LA = self.α_KA, self.α_LA\n",
    "        α_KM, α_LM = self.α_KM, self.α_LM\n",
    "        η_A , η_M  = self.η_A , self.η_M\n",
    "        τ_R , τ_W  = self.τ_R , self.τ_W\n",
    "        \n",
    "        temp = (α_LA / α_LM) * (α_KM / α_KA) * ((1 + τ_W) / (1 + τ_R)) * ((1 - κ) / κ)\n",
    "        λ = (1 + temp) ** (-1)\n",
    "        return λ\n",
    "    \n",
    "    \n",
    "    def solve_κ(self):\n",
    "        ###\n",
    "        # equation for κ\n",
    "        ###\n",
    "        α_KA      = self.α_KA\n",
    "        α_KM      = self.α_KM\n",
    "        η_A, η_M  = self.η_A, self.η_M\n",
    "        γ_A       = self.γ_A\n",
    "        τ_R       = self.τ_R\n",
    "        C_M       = self.C_M\n",
    "        \n",
    "        const = (η_M / η_A) * (α_KM / α_KA) * (1 / (1 + τ_R))\n",
    "        \n",
    "        func = lambda κ: const * (1 - (γ_A / self.Y_A(κ))) * (self.Y_M(κ) / C_M) * ((1 - κ) / κ) - 1\n",
    "        \n",
    "        κ_initial_guess = 0.8\n",
    "        κ = fsolve(func, κ_initial_guess)[0]\n",
    "        \n",
    "        return κ\n",
    "    \n",
    "    def solve_λ(self):\n",
    "        ###\n",
    "        # finds equilibrium labor allocation\n",
    "        ###\n",
    "        \n",
    "        κ = self.solve_κ()\n",
    "        λ = self.λ(κ)\n",
    "        \n",
    "        return λ\n",
    "    \n",
    "    \n",
    "    def solve_Y_A(self):\n",
    "        ###\n",
    "        # finds equilibrium labor allocation\n",
    "        ###\n",
    "        \n",
    "        κ = self.solve_κ()\n",
    "        Y_A = self.Y_A(κ)\n",
    "        \n",
    "        return Y_A\n",
    "    \n",
    "    \n",
    "    def solve_Y_M(self):\n",
    "        ###\n",
    "        # finds equilibrium labor allocation\n",
    "        ###\n",
    "        \n",
    "        κ = self.solve_κ()\n",
    "        Y_M = self.Y_M(κ)\n",
    "        \n",
    "        return Y_M"
   ]
  },
  {
   "cell_type": "code",
   "execution_count": 19,
   "id": "f2e8c7cf-8f66-4b19-adec-42081b4f6ebc",
   "metadata": {},
   "outputs": [],
   "source": [
    "alloc = StaticAllocation()"
   ]
  },
  {
   "cell_type": "code",
   "execution_count": 20,
   "id": "fdca01dc-9a35-4af1-81f2-ad8c5a6dc1c1",
   "metadata": {},
   "outputs": [
    {
     "name": "stderr",
     "output_type": "stream",
     "text": [
      "/Users/satoshi/miniconda3/envs/quantecon/lib/python3.7/site-packages/ipykernel_launcher.py:44: RuntimeWarning: invalid value encountered in power\n"
     ]
    },
    {
     "data": {
      "text/plain": [
       "0.8"
      ]
     },
     "execution_count": 20,
     "metadata": {},
     "output_type": "execute_result"
    }
   ],
   "source": [
    "alloc.solve_κ()"
   ]
  },
  {
   "cell_type": "code",
   "execution_count": 21,
   "id": "50e81f02-a9b8-420e-8a60-e764b62835d3",
   "metadata": {},
   "outputs": [
    {
     "name": "stderr",
     "output_type": "stream",
     "text": [
      "/Users/satoshi/miniconda3/envs/quantecon/lib/python3.7/site-packages/ipykernel_launcher.py:44: RuntimeWarning: invalid value encountered in power\n"
     ]
    },
    {
     "data": {
      "text/plain": [
       "72291925.00891717"
      ]
     },
     "execution_count": 21,
     "metadata": {},
     "output_type": "execute_result"
    }
   ],
   "source": [
    "alloc.solve_Y_M()"
   ]
  },
  {
   "cell_type": "code",
   "execution_count": 22,
   "id": "89bbcc2a-2596-4cdc-ae4d-8454361f2e7b",
   "metadata": {},
   "outputs": [],
   "source": [
    "class PlanningProblem(StaticAllocation):\n",
    "\n",
    "    def __init__(self, σ=2, β=0.95, δ=0.02):\n",
    "        \n",
    "        super().__init__()\n",
    "\n",
    "        self.σ, self.β = σ, β\n",
    "        self.δ         = δ\n",
    "\n",
    "    def u(self, c):\n",
    "        '''\n",
    "        Utility function\n",
    "        ASIDE: If you have a utility function that is hard to solve by hand\n",
    "        you can use automatic or symbolic differentiation\n",
    "        See https://github.com/HIPS/autograd\n",
    "        '''\n",
    "        σ = self.σ\n",
    "\n",
    "        return c ** (1 - σ) / (1 - σ) if σ != 1 else np.log(c)\n",
    "\n",
    "    def u_prime(self, c):\n",
    "        'Derivative of utility'\n",
    "        σ = self.σ\n",
    "\n",
    "        return c ** (-σ)\n",
    "\n",
    "    def u_prime_inv(self, c):\n",
    "        'Inverse of derivative of utility'\n",
    "        σ = self.σ\n",
    "\n",
    "        return c ** (-1 / σ)\n",
    "\n",
    "    def f(self, k):\n",
    "        'Production function of M sector'\n",
    "        α_KM, X_M = self.α_KM, self.X_M\n",
    "\n",
    "        return X_M * k ** α_KM\n",
    "\n",
    "    def f_prime(self, k):\n",
    "        'Derivative of production function of M sector'\n",
    "        α_KM, X_M = self.α_KM, self.X_M\n",
    "\n",
    "        return α_KM * X_M * k ** (α_KM - 1)\n",
    "\n",
    "    def f_prime_inv(self, k):\n",
    "        'Inverse of derivative of production function'\n",
    "        α_KM, X_M = self.α_KM, self.X_M\n",
    "\n",
    "        return (k / (X_M * α_KM)) ** (1 / (α_KM - 1))\n",
    "\n",
    "    def next_k_c(self, k, c):\n",
    "        ''''\n",
    "        Given the current capital Kt and an arbitrary feasible\n",
    "        consumption choice Ct, computes Kt+1 by state transition law\n",
    "        and optimal Ct+1 by Euler equation.\n",
    "        '''\n",
    "        β, δ = self.β, self.δ\n",
    "        u_prime, u_prime_inv = self.u_prime, self.u_prime_inv\n",
    "        f, f_prime = self.f, self.f_prime\n",
    "\n",
    "        k_next = f(k) + (1 - δ) * k - c\n",
    "        c_next = u_prime_inv(u_prime(c) / (β * (f_prime(k_next) + (1 - δ))))\n",
    "\n",
    "        return k_next, c_next"
   ]
  },
  {
   "cell_type": "code",
   "execution_count": 23,
   "id": "fb8600dd-ea8f-4984-b320-b98ad3c24a4a",
   "metadata": {},
   "outputs": [],
   "source": [
    "pp = PlanningProblem()"
   ]
  },
  {
   "cell_type": "code",
   "execution_count": 24,
   "id": "27831d08-f3c7-4163-8ccc-4edbc3ae1e47",
   "metadata": {},
   "outputs": [
    {
     "name": "stderr",
     "output_type": "stream",
     "text": [
      "/Users/satoshi/miniconda3/envs/quantecon/lib/python3.7/site-packages/ipykernel_launcher.py:44: RuntimeWarning: invalid value encountered in power\n"
     ]
    },
    {
     "data": {
      "text/plain": [
       "0.8"
      ]
     },
     "execution_count": 24,
     "metadata": {},
     "output_type": "execute_result"
    }
   ],
   "source": [
    "pp.solve_κ()"
   ]
  },
  {
   "cell_type": "code",
   "execution_count": 25,
   "id": "0e411f7a-6aa4-4367-a7a7-6010cb7a3696",
   "metadata": {},
   "outputs": [
    {
     "name": "stderr",
     "output_type": "stream",
     "text": [
      "/Users/satoshi/miniconda3/envs/quantecon/lib/python3.7/site-packages/ipykernel_launcher.py:44: RuntimeWarning: invalid value encountered in power\n"
     ]
    },
    {
     "data": {
      "text/plain": [
       "8405.772869424622"
      ]
     },
     "execution_count": 25,
     "metadata": {},
     "output_type": "execute_result"
    }
   ],
   "source": [
    "pp.solve_Y_M()"
   ]
  },
  {
   "cell_type": "code",
   "execution_count": 26,
   "id": "7a67f1f7-57e2-453c-b603-427b695601b2",
   "metadata": {},
   "outputs": [],
   "source": [
    "def shooting(pp, c0, k0, T=10):\n",
    "    '''\n",
    "    Given the initial condition of capital k0 and an initial guess\n",
    "    of consumption c0, computes the whole paths of c and k\n",
    "    using the state transition law and Euler equation for T periods.\n",
    "    '''\n",
    "    if c0 > pp.f(k0):\n",
    "        print(\"initial consumption is not feasible\")\n",
    "\n",
    "        return None\n",
    "\n",
    "    # initialize vectors of c and k\n",
    "    c_vec = np.empty(T+1)\n",
    "    k_vec = np.empty(T+2)\n",
    "\n",
    "    c_vec[0] = c0\n",
    "    k_vec[0] = k0\n",
    "\n",
    "    for t in range(T):\n",
    "        k_vec[t+1], c_vec[t+1] = pp.next_k_c(k_vec[t], c_vec[t])\n",
    "\n",
    "    k_vec[T+1] = pp.f(k_vec[T]) + (1 - pp.δ) * k_vec[T] - c_vec[T]\n",
    "\n",
    "    return c_vec, k_vec"
   ]
  },
  {
   "cell_type": "code",
   "execution_count": 27,
   "id": "fd222c27-6107-4f7e-a456-4a75eb9def12",
   "metadata": {},
   "outputs": [],
   "source": [
    "paths = shooting(pp, 0.3, 0.5, T=10)"
   ]
  },
  {
   "cell_type": "code",
   "execution_count": 28,
   "id": "4c112c66-7f0a-48c6-b9eb-b83fc2a9ce54",
   "metadata": {},
   "outputs": [
    {
     "data": {
      "image/png": "[encoded data removed]",
      "text/plain": [
       "<Figure size 1008x360 with 2 Axes>"
      ]
     },
     "metadata": {
      "needs_background": "light"
     },
     "output_type": "display_data"
    }
   ],
   "source": [
    "fig, axs = plt.subplots(1, 2, figsize=(14, 5))\n",
    "\n",
    "colors = ['blue', 'red']\n",
    "titles = ['Consumption', 'Capital']\n",
    "ylabels = ['$c_t$', '$k_t$']\n",
    "\n",
    "T = paths[0].size - 1\n",
    "for i in range(2):\n",
    "    axs[i].plot(paths[i], c=colors[i])\n",
    "    axs[i].set(xlabel='t', ylabel=ylabels[i], title=titles[i])\n",
    "\n",
    "axs[1].scatter(T+1, 0, s=80)\n",
    "axs[1].axvline(T+1, color='k', ls='--', lw=1)\n",
    "\n",
    "plt.show()"
   ]
  },
  {
   "cell_type": "code",
   "execution_count": null,
   "id": "4e1d1875-1aeb-4747-93a7-13538a56f477",
   "metadata": {},
   "outputs": [],
   "source": []
  },
  {
   "cell_type": "code",
   "execution_count": null,
   "id": "840a8baa-fe12-4423-b538-a1334806f621",
   "metadata": {},
   "outputs": [],
   "source": []
  }
 ],
 "metadata": {
  "kernelspec": {
   "display_name": "Python 3 (ipykernel)",
   "language": "python",
   "name": "python3"
  },
  "language_info": {
   "codemirror_mode": {
    "name": "ipython",
    "version": 3
   },
   "file_extension": ".py",
   "mimetype": "text/x-python",
   "name": "python",
   "nbconvert_exporter": "python",
   "pygments_lexer": "ipython3",
   "version": "3.7.10"
  }
 },
 "nbformat": 4,
 "nbformat_minor": 5
}
