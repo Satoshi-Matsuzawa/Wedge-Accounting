{
 "cells": [
  {
   "cell_type": "code",
   "execution_count": 1,
   "id": "62051e58-5f47-4f66-8c53-18d47ed8efa3",
   "metadata": {},
   "outputs": [],
   "source": [
    "import numpy as np\n",
    "from scipy.optimize import fsolve\n",
    "import matplotlib.pyplot as plt\n",
    "%matplotlib inline"
   ]
  },
  {
   "cell_type": "code",
   "execution_count": 2,
   "id": "8519adbb-1c3c-405e-ab0d-35a63ac68d40",
   "metadata": {},
   "outputs": [],
   "source": [
    "class StaticAllocation:\n",
    "    ###\n",
    "    # finds allocation of capital and labor across sectors\n",
    "    ###\n",
    "    \n",
    "    def __init__(self,\n",
    "                 α_KA    = 0.15,\n",
    "                 α_LA    = 0.55,\n",
    "                 α_KM    = 0.6, \n",
    "                 α_LM    = 0.4,\n",
    "                 X_A     = 1,\n",
    "                 X_M     = 1,\n",
    "                 K       = 1,\n",
    "                 L       = 1,\n",
    "                 η_A     = 0.15,\n",
    "                 η_M     = 0.85,\n",
    "                 γ_A     = 0.1,\n",
    "                 s       = 0.3,\n",
    "                 τ_R     = 0,\n",
    "                 τ_W     = 0,\n",
    "                 ):\n",
    "        \n",
    "        self.α_KA, self.α_LA = α_KA, α_LA\n",
    "        self.α_KM, self.α_LM = α_KM, α_LM\n",
    "        self.X_A,  self.X_M  = X_A , X_M\n",
    "        self.L,    self.K    = L   , K\n",
    "        self.η_A,  self.η_M  = η_A , η_M\n",
    "        self.γ_A,  self.s    = γ_A   , s\n",
    "        self.τ_R,  self.τ_W  = τ_R , τ_W\n",
    "    \n",
    "    def Y_A(self, κ):\n",
    "        ###\n",
    "        # the production function for sector A\n",
    "        ###\n",
    "        X_A, α_KA, α_LA = self.X_A, self.α_KA, self.α_LA\n",
    "        K, L            = self.K, self.L\n",
    "        \n",
    "        λ = self.λ(κ)\n",
    "        \n",
    "        K_A = (1 - κ) * K \n",
    "        L_A = (1 - λ) * L\n",
    "        \n",
    "        Y_A = X_A * (K_A ** α_KA) * (L_A ** α_LA)\n",
    "        return Y_A\n",
    "    \n",
    "    \n",
    "    def Y_M(self, κ):\n",
    "        ###\n",
    "        # the production function for sector M\n",
    "        ###\n",
    "        X_M, α_KM, α_LM = self.X_M, self.α_KM, self.α_LM\n",
    "        K, L            = self.K, self.L\n",
    "        \n",
    "        λ = self.λ(κ)\n",
    "        \n",
    "        K_M = κ * K \n",
    "        L_M = λ * L\n",
    "        \n",
    "        Y_M = X_M * (K_M ** α_KM) * (L_M ** α_LM)\n",
    "        return Y_M\n",
    "    \n",
    "    \n",
    "    def λ(self, κ):\n",
    "        ###\n",
    "        # finds λ given κ\n",
    "        ###\n",
    "        α_KA, α_LA = self.α_KA, self.α_LA\n",
    "        α_KM, α_LM = self.α_KM, self.α_LM\n",
    "        η_A , η_M  = self.η_A , self.η_M\n",
    "        τ_R , τ_W  = self.τ_R , self.τ_W\n",
    "        \n",
    "        temp = (α_LA / α_LM) * (α_KM / α_KA) * ((1 + τ_W) / (1 + τ_R)) * ((1 - κ) / κ)\n",
    "        λ = (1 + temp) ** (-1)\n",
    "        return λ\n",
    "    \n",
    "    \n",
    "    def solve_κ(self):\n",
    "        ###\n",
    "        # equation for κ\n",
    "        ###\n",
    "        α_KA      = self.α_KA\n",
    "        α_KM      = self.α_KM\n",
    "        η_A, η_M  = self.η_A, self.η_M\n",
    "        γ_A       = self.γ_A\n",
    "        τ_R       = self.τ_R\n",
    "        \n",
    "        const = (η_M / η_A) * (α_KM / α_KA) * (1 / (1 + τ_R))\n",
    "        \n",
    "        func = lambda κ: const * (1 - (γ_A / self.Y_A(κ))) * ((1 - κ) / κ) - 1\n",
    "        \n",
    "        κ_initial_guess = 0.1\n",
    "        κ = fsolve(func, κ_initial_guess)[0]\n",
    "        \n",
    "        return κ\n",
    "    \n",
    "    def solve_λ(self):\n",
    "        ###\n",
    "        # finds equilibrium labor allocation\n",
    "        ###\n",
    "        \n",
    "        κ = self.solve_κ()\n",
    "        λ = self.λ(κ)\n",
    "        \n",
    "        return λ\n",
    "    \n",
    "    \n",
    "    def solve_Y_A(self):\n",
    "        ###\n",
    "        # finds equilibrium labor allocation\n",
    "        ###\n",
    "        \n",
    "        κ = self.solve_κ()\n",
    "        Y_A = self.Y_A(κ)\n",
    "        \n",
    "        return Y_A\n",
    "    \n",
    "    \n",
    "    def solve_Y_M(self):\n",
    "        ###\n",
    "        # finds equilibrium labor allocation\n",
    "        ###\n",
    "        \n",
    "        κ = self.solve_κ()\n",
    "        Y_M = self.Y_M(κ)\n",
    "        \n",
    "        return Y_M"
   ]
  },
  {
   "cell_type": "code",
   "execution_count": 3,
   "id": "ceeaae92-fd4c-4102-8d48-d603f5129de7",
   "metadata": {},
   "outputs": [],
   "source": [
    "allocation = StaticAllocation()"
   ]
  },
  {
   "cell_type": "code",
   "execution_count": 4,
   "id": "f4ec506a-52ed-4987-b9ef-0b6ccfb644c8",
   "metadata": {},
   "outputs": [
    {
     "data": {
      "text/plain": [
       "0.93926210408301"
      ]
     },
     "execution_count": 4,
     "metadata": {},
     "output_type": "execute_result"
    }
   ],
   "source": [
    "allocation.solve_κ()"
   ]
  },
  {
   "cell_type": "code",
   "execution_count": 5,
   "id": "c203caf6-d133-44e6-a8cc-c24c008d1410",
   "metadata": {},
   "outputs": [
    {
     "data": {
      "text/plain": [
       "0.7376478119639359"
      ]
     },
     "execution_count": 5,
     "metadata": {},
     "output_type": "execute_result"
    }
   ],
   "source": [
    "allocation.solve_λ()"
   ]
  },
  {
   "cell_type": "code",
   "execution_count": 10,
   "id": "565761cd-de27-40ca-9df2-8b82a881d680",
   "metadata": {},
   "outputs": [
    {
     "data": {
      "text/plain": [
       "0.8527303170151312"
      ]
     },
     "execution_count": 10,
     "metadata": {},
     "output_type": "execute_result"
    }
   ],
   "source": [
    "allocation.solve_Y_M()"
   ]
  },
  {
   "cell_type": "code",
   "execution_count": 7,
   "id": "c19f17fc-faa2-4b3f-b9e7-c893b8be0392",
   "metadata": {},
   "outputs": [
    {
     "data": {
      "image/png": "[encoded data removed]",
      "text/plain": [
       "<Figure size 432x288 with 1 Axes>"
      ]
     },
     "metadata": {
      "needs_background": "light"
     },
     "output_type": "display_data"
    }
   ],
   "source": [
    "fig, ax = plt.subplots()\n",
    "τ_Ws    = np.linspace(1e-2, 10, 100)\n",
    "κs      = np.zeros_like(τ_Ws)\n",
    "λs      = np.zeros_like(τ_Ws)\n",
    "for i, τ_W in enumerate(τ_Ws):\n",
    "    alloc = StaticAllocation(τ_W = τ_W, K = 0.1, L = 0.1)\n",
    "    κs[i] = alloc.solve_κ()\n",
    "    λs[i] = alloc.solve_λ()\n",
    "ax.plot(τ_Ws, κs, label = 'κ')\n",
    "ax.plot(τ_Ws, λs, label = 'λ')\n",
    "ax.legend()\n",
    "ax.set_xlabel(r'$\\tau_W$'.format())\n",
    "ax.set_ylabel(r'Shares'.format())\n",
    "ax.set_title(r'$\\tau_W$ and allocation'.format())\n",
    "plt.show()"
   ]
  },
  {
   "cell_type": "code",
   "execution_count": 8,
   "id": "09e0ba00-778a-4c63-b01c-6f0482d27816",
   "metadata": {},
   "outputs": [
    {
     "data": {
      "image/png": "[encoded data removed]",
      "text/plain": [
       "<Figure size 432x288 with 1 Axes>"
      ]
     },
     "metadata": {
      "needs_background": "light"
     },
     "output_type": "display_data"
    }
   ],
   "source": [
    "fig, ax = plt.subplots()\n",
    "τ_Rs    = np.linspace(1e-2, 10, 100)\n",
    "κs      = np.zeros_like(τ_Rs)\n",
    "λs      = np.zeros_like(τ_Rs)\n",
    "for i, τ_R in enumerate(τ_Rs):\n",
    "    alloc = StaticAllocation(τ_R = τ_R, K = 0.1, L = 0.1)\n",
    "    κs[i] = alloc.solve_κ()\n",
    "    λs[i] = alloc.solve_λ()\n",
    "ax.plot(τ_Rs, κs, label = 'κ')\n",
    "ax.plot(τ_Rs, λs, label = 'λ')\n",
    "ax.legend()\n",
    "ax.set_xlabel(r'$\\tau_R$'.format())\n",
    "ax.set_ylabel(r'Shares'.format())\n",
    "ax.set_title(r'$\\tau_R$ and allocation'.format())\n",
    "plt.show()"
   ]
  },
  {
   "cell_type": "code",
   "execution_count": 9,
   "id": "bff2c189-274e-4db5-b1d9-df781cae93d5",
   "metadata": {},
   "outputs": [
    {
     "data": {
      "text/plain": [
       "array([0.7851368 , 0.77230683, 0.76003973, 0.74828357, 0.73699458,\n",
       "       0.72613532, 0.71567344, 0.70558063, 0.69583195, 0.68640521,\n",
       "       0.67728059, 0.66844025, 0.65986803, 0.65154926, 0.64347054,\n",
       "       0.63561959, 0.62798512, 0.62055671, 0.61332472, 0.60628021,\n",
       "       0.59941486, 0.59272092, 0.58619115, 0.57981875, 0.57359739,\n",
       "       0.56752107, 0.56158418, 0.55578143, 0.55010782, 0.54455862,\n",
       "       0.53912937, 0.53381582, 0.52861398, 0.52352002, 0.51853032,\n",
       "       0.51364145, 0.5088501 , 0.50415317, 0.49954767, 0.49503074,\n",
       "       0.49059967, 0.48625186, 0.48198481, 0.47779615, 0.4736836 ,\n",
       "       0.46964495, 0.46567813, 0.4617811 , 0.45795193, 0.45418878,\n",
       "       0.45048983, 0.44685339, 0.44327778, 0.43976143, 0.43630278,\n",
       "       0.43290037, 0.42955276, 0.42625859, 0.42301651, 0.41982525,\n",
       "       0.41668357, 0.41359028, 0.41054421, 0.40754425, 0.40458932,\n",
       "       0.40167838, 0.39881039, 0.3959844 , 0.39319945, 0.39045461,\n",
       "       0.387749  , 0.38508175, 0.38245202, 0.379859  , 0.37730191,\n",
       "       0.37477997, 0.37229245, 0.36983861, 0.36741777, 0.36502924,\n",
       "       0.36267235, 0.36034647, 0.35805097, 0.35578524, 0.35354869,\n",
       "       0.35134074, 0.34916084, 0.34700844, 0.34488301, 0.34278403,\n",
       "       0.340711  , 0.33866343, 0.33664084, 0.33464277, 0.33266876,\n",
       "       0.33071838, 0.32879118, 0.32688675, 0.32500469, 0.32314458])"
      ]
     },
     "execution_count": 9,
     "metadata": {},
     "output_type": "execute_result"
    }
   ],
   "source": [
    "κs"
   ]
  },
  {
   "cell_type": "code",
   "execution_count": null,
   "id": "95d0894b-dc3d-4e30-96fd-ffa83be6124f",
   "metadata": {},
   "outputs": [],
   "source": []
  }
 ],
 "metadata": {
  "kernelspec": {
   "display_name": "Python 3 (ipykernel)",
   "language": "python",
   "name": "python3"
  },
  "language_info": {
   "codemirror_mode": {
    "name": "ipython",
    "version": 3
   },
   "file_extension": ".py",
   "mimetype": "text/x-python",
   "name": "python",
   "nbconvert_exporter": "python",
   "pygments_lexer": "ipython3",
   "version": "3.7.10"
  }
 },
 "nbformat": 4,
 "nbformat_minor": 5
}
