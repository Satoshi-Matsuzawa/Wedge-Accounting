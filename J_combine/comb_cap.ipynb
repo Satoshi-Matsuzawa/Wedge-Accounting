{
 "cells": [
  {
   "cell_type": "code",
   "execution_count": 1,
   "id": "unsigned-serve",
   "metadata": {},
   "outputs": [],
   "source": [
    "import pandas as pd\n",
    "import numpy as np\n",
    "import matplotlib.pyplot as plt\n",
    "import matplotlib as mpl"
   ]
  },
  {
   "cell_type": "code",
   "execution_count": 2,
   "id": "universal-bristol",
   "metadata": {},
   "outputs": [],
   "source": [
    "df_cap_pre = pd.read_csv('../../Data/Downloaded/pre_cap.csv')\n",
    "df_cap_post = pd.read_csv('../../Data/Downloaded/post_cap.csv')\n",
    "df_pi_pre   = pd.read_csv('../../Data/Downloaded/pre_price.csv')\n",
    "df_pi_post  = pd.read_csv('../../Data/Downloaded/post_price.csv')\n",
    "df_year_post = pd.read_csv('../../Data/Downloaded/post_year.csv')"
   ]
  },
  {
   "cell_type": "code",
   "execution_count": 3,
   "id": "enhanced-nature",
   "metadata": {},
   "outputs": [],
   "source": [
    "# take price at 1990\n",
    "p_1990 = df_pi_post.loc[35]['pi_ind']"
   ]
  },
  {
   "cell_type": "code",
   "execution_count": 4,
   "id": "structured-opera",
   "metadata": {},
   "outputs": [],
   "source": [
    "link_pi_55_to_90 = p_1990 / df_pi_post.loc[0]['pi_ind']"
   ]
  },
  {
   "cell_type": "code",
   "execution_count": 5,
   "id": "sustainable-search",
   "metadata": {},
   "outputs": [
    {
     "data": {
      "text/plain": [
       "3.732851985559567"
      ]
     },
     "execution_count": 5,
     "metadata": {},
     "output_type": "execute_result"
    }
   ],
   "source": [
    "link_pi_55_to_90"
   ]
  },
  {
   "cell_type": "code",
   "execution_count": 6,
   "id": "norman-customs",
   "metadata": {},
   "outputs": [],
   "source": [
    "link_pi_34_to_55 = df_pi_pre.loc[74]['price_ind_inv']"
   ]
  },
  {
   "cell_type": "code",
   "execution_count": 7,
   "id": "documentary-dollar",
   "metadata": {},
   "outputs": [
    {
     "data": {
      "text/plain": [
       "359.7"
      ]
     },
     "execution_count": 7,
     "metadata": {},
     "output_type": "execute_result"
    }
   ],
   "source": [
    "link_pi_34_to_55"
   ]
  },
  {
   "cell_type": "code",
   "execution_count": 8,
   "id": "yellow-dispute",
   "metadata": {},
   "outputs": [],
   "source": [
    "link_pi_pre_34_to_90 = link_pi_34_to_55 * link_pi_55_to_90"
   ]
  },
  {
   "cell_type": "code",
   "execution_count": 9,
   "id": "given-latex",
   "metadata": {},
   "outputs": [
    {
     "data": {
      "text/plain": [
       "1342.7068592057763"
      ]
     },
     "execution_count": 9,
     "metadata": {},
     "output_type": "execute_result"
    }
   ],
   "source": [
    "link_pi_pre_34_to_90"
   ]
  },
  {
   "cell_type": "code",
   "execution_count": 10,
   "id": "robust-retreat",
   "metadata": {},
   "outputs": [],
   "source": [
    "# adjust unit from one million yen to one billion yen\n",
    "adj_unit = 1e-3"
   ]
  },
  {
   "cell_type": "code",
   "execution_count": 11,
   "id": "former-point",
   "metadata": {},
   "outputs": [],
   "source": [
    "df_cap_pre['prm_cap_p90_bil'] = df_cap_pre['prm_cap'] * link_pi_pre_34_to_90 * adj_unit\n",
    "df_cap_pre['non_prm_cap_p90_bil'] = df_cap_pre['non_prm_cap'] * link_pi_pre_34_to_90 * adj_unit"
   ]
  },
  {
   "cell_type": "code",
   "execution_count": 12,
   "id": "narrative-sampling",
   "metadata": {},
   "outputs": [
    {
     "data": {
      "text/plain": [
       "0.001"
      ]
     },
     "execution_count": 12,
     "metadata": {},
     "output_type": "execute_result"
    }
   ],
   "source": [
    "adj_unit"
   ]
  },
  {
   "cell_type": "code",
   "execution_count": 13,
   "id": "cosmetic-brooks",
   "metadata": {},
   "outputs": [],
   "source": [
    "df_cap_post['prm_cap_p90_bil'] = df_cap_post['prm_cap'] * adj_unit\n",
    "df_cap_post['non_prm_cap_p90_bil'] = df_cap_post['non_prm_cap'] * adj_unit"
   ]
  },
  {
   "cell_type": "code",
   "execution_count": 14,
   "id": "surprising-maryland",
   "metadata": {},
   "outputs": [],
   "source": [
    "df_cap_post_yr = df_cap_post.join(df_year_post.set_index('year_jpn'), on = 'year_jpn')"
   ]
  },
  {
   "cell_type": "code",
   "execution_count": 15,
   "id": "rotary-publisher",
   "metadata": {},
   "outputs": [],
   "source": [
    "df_cap_post_picked = df_cap_post_yr[['year_wst', 'prm_cap_p90_bil', 'non_prm_cap_p90_bil']]"
   ]
  },
  {
   "cell_type": "code",
   "execution_count": 16,
   "id": "distinct-serial",
   "metadata": {},
   "outputs": [],
   "source": [
    "df_cap_pre_picked = df_cap_pre[['year_wst', 'prm_cap_p90_bil', 'non_prm_cap_p90_bil']]"
   ]
  },
  {
   "cell_type": "code",
   "execution_count": 17,
   "id": "dominican-potter",
   "metadata": {},
   "outputs": [],
   "source": [
    "df_cap_merged = pd.concat([df_cap_pre_picked, df_cap_post_picked])"
   ]
  },
  {
   "cell_type": "code",
   "execution_count": 18,
   "id": "southwest-manufacturer",
   "metadata": {},
   "outputs": [
    {
     "data": {
      "text/html": [
       "<div>\n",
       "<style scoped>\n",
       "    .dataframe tbody tr th:only-of-type {\n",
       "        vertical-align: middle;\n",
       "    }\n",
       "\n",
       "    .dataframe tbody tr th {\n",
       "        vertical-align: top;\n",
       "    }\n",
       "\n",
       "    .dataframe thead th {\n",
       "        text-align: right;\n",
       "    }\n",
       "</style>\n",
       "<table border=\"1\" class=\"dataframe\">\n",
       "  <thead>\n",
       "    <tr style=\"text-align: right;\">\n",
       "      <th></th>\n",
       "      <th>year_wst</th>\n",
       "      <th>prm_cap_p90_bil</th>\n",
       "      <th>non_prm_cap_p90_bil</th>\n",
       "    </tr>\n",
       "  </thead>\n",
       "  <tbody>\n",
       "    <tr>\n",
       "      <th>0</th>\n",
       "      <td>1881</td>\n",
       "      <td>4221.470365</td>\n",
       "      <td>1824.738622</td>\n",
       "    </tr>\n",
       "    <tr>\n",
       "      <th>1</th>\n",
       "      <td>1882</td>\n",
       "      <td>4229.526606</td>\n",
       "      <td>1878.446896</td>\n",
       "    </tr>\n",
       "    <tr>\n",
       "      <th>2</th>\n",
       "      <td>1883</td>\n",
       "      <td>4234.897434</td>\n",
       "      <td>1930.812464</td>\n",
       "    </tr>\n",
       "    <tr>\n",
       "      <th>3</th>\n",
       "      <td>1884</td>\n",
       "      <td>4238.925555</td>\n",
       "      <td>1988.548858</td>\n",
       "    </tr>\n",
       "    <tr>\n",
       "      <th>4</th>\n",
       "      <td>1885</td>\n",
       "      <td>4238.925555</td>\n",
       "      <td>2047.627960</td>\n",
       "    </tr>\n",
       "    <tr>\n",
       "      <th>...</th>\n",
       "      <td>...</td>\n",
       "      <td>...</td>\n",
       "      <td>...</td>\n",
       "    </tr>\n",
       "    <tr>\n",
       "      <th>41</th>\n",
       "      <td>1996</td>\n",
       "      <td>99372.316000</td>\n",
       "      <td>815406.807000</td>\n",
       "    </tr>\n",
       "    <tr>\n",
       "      <th>42</th>\n",
       "      <td>1997</td>\n",
       "      <td>101651.667000</td>\n",
       "      <td>857367.991000</td>\n",
       "    </tr>\n",
       "    <tr>\n",
       "      <th>43</th>\n",
       "      <td>1998</td>\n",
       "      <td>103256.590000</td>\n",
       "      <td>904049.845000</td>\n",
       "    </tr>\n",
       "    <tr>\n",
       "      <th>44</th>\n",
       "      <td>1999</td>\n",
       "      <td>104148.292000</td>\n",
       "      <td>940668.251000</td>\n",
       "    </tr>\n",
       "    <tr>\n",
       "      <th>45</th>\n",
       "      <td>2000</td>\n",
       "      <td>106146.064000</td>\n",
       "      <td>972922.738000</td>\n",
       "    </tr>\n",
       "  </tbody>\n",
       "</table>\n",
       "<p>103 rows × 3 columns</p>\n",
       "</div>"
      ],
      "text/plain": [
       "    year_wst  prm_cap_p90_bil  non_prm_cap_p90_bil\n",
       "0       1881      4221.470365          1824.738622\n",
       "1       1882      4229.526606          1878.446896\n",
       "2       1883      4234.897434          1930.812464\n",
       "3       1884      4238.925555          1988.548858\n",
       "4       1885      4238.925555          2047.627960\n",
       "..       ...              ...                  ...\n",
       "41      1996     99372.316000        815406.807000\n",
       "42      1997    101651.667000        857367.991000\n",
       "43      1998    103256.590000        904049.845000\n",
       "44      1999    104148.292000        940668.251000\n",
       "45      2000    106146.064000        972922.738000\n",
       "\n",
       "[103 rows x 3 columns]"
      ]
     },
     "execution_count": 18,
     "metadata": {},
     "output_type": "execute_result"
    }
   ],
   "source": [
    "df_cap_merged"
   ]
  },
  {
   "cell_type": "code",
   "execution_count": 19,
   "id": "animal-australia",
   "metadata": {},
   "outputs": [
    {
     "data": {
      "image/png": "[encoded data removed]",
      "text/plain": [
       "<Figure size 432x288 with 1 Axes>"
      ]
     },
     "metadata": {
      "needs_background": "light"
     },
     "output_type": "display_data"
    }
   ],
   "source": [
    "fig, ax = plt.subplots()\n",
    "df_cap_merged.plot(x = 'year_wst', y = 'prm_cap_p90_bil', ax = ax)\n",
    "plt.show()"
   ]
  },
  {
   "cell_type": "code",
   "execution_count": 20,
   "id": "ultimate-motion",
   "metadata": {},
   "outputs": [
    {
     "data": {
      "image/png": "[encoded data removed]",
      "text/plain": [
       "<Figure size 432x288 with 1 Axes>"
      ]
     },
     "metadata": {
      "needs_background": "light"
     },
     "output_type": "display_data"
    }
   ],
   "source": [
    "fig, ax = plt.subplots()\n",
    "df_cap_merged.plot(x = 'year_wst', y = 'non_prm_cap_p90_bil', ax = ax)\n",
    "plt.show()"
   ]
  },
  {
   "cell_type": "code",
   "execution_count": 21,
   "id": "practical-psychology",
   "metadata": {},
   "outputs": [],
   "source": [
    "df_pre = df_cap_pre_picked\n",
    "df_post = df_cap_post_picked"
   ]
  },
  {
   "cell_type": "code",
   "execution_count": 22,
   "id": "arctic-control",
   "metadata": {},
   "outputs": [
    {
     "data": {
      "image/png": "[encoded data removed]",
      "text/plain": [
       "<Figure size 451.364x252 with 1 Axes>"
      ]
     },
     "metadata": {
      "needs_background": "light"
     },
     "output_type": "display_data"
    }
   ],
   "source": [
    "fig, ax = plt.subplots()\n",
    "\n",
    "plt.rc('text', usetex=True)\n",
    "plt.rc('font', family='serif')\n",
    "\n",
    "#plt.rc('pgf', texsystem = 'xelatex')\n",
    "#df_pre.plot(x = 'year_wst', y = 'prm_cap_p90_bil', \n",
    "df_pre[df_pre.year_wst >= 1920].plot(x = 'year_wst', y = 'prm_cap_p90_bil', \n",
    "#               label = r'Normalized cap wedge $\\biggl(\\frac{1 + \\tau_{R,t}}{1 + \\tau_{C,t}}-1 \\biggr)$', \n",
    "               marker = '.',\n",
    "               linestyle = '--',\n",
    "               color = 'b',\n",
    "               ax = ax)\n",
    "#df_post.plot(x = 'year_wst', y = 'tot_cns_p90_mth',  \n",
    "df_post[df_post.year_wst <= 1970].plot(x = 'year_wst', y = 'prm_cap_p90_bil',  \n",
    "               marker = '.',\n",
    "               linestyle = '--',\n",
    "               color = 'b',\n",
    "               ax = ax)\n",
    "#ax.set_rasterized(True)\n",
    "ax.legend_.remove()\n",
    "ax.yaxis.set_major_formatter(mpl.ticker.StrMethodFormatter('{x:,.0f}'))\n",
    "plt.xlabel('year')\n",
    "fig.set_size_inches(w=6.26894, h=3.5)\n",
    "plt.title('Primary industry capital (one billion yen at 1990 price)')\n",
    "plt.savefig('../../Notes/comb_prm_cap.pdf')\n",
    "plt.show()"
   ]
  },
  {
   "cell_type": "code",
   "execution_count": 23,
   "id": "olympic-celebration",
   "metadata": {},
   "outputs": [
    {
     "data": {
      "image/png": "[encoded data removed]",
      "text/plain": [
       "<Figure size 451.364x252 with 1 Axes>"
      ]
     },
     "metadata": {
      "needs_background": "light"
     },
     "output_type": "display_data"
    }
   ],
   "source": [
    "fig, ax = plt.subplots()\n",
    "\n",
    "plt.rc('text', usetex=True)\n",
    "plt.rc('font', family='serif')\n",
    "\n",
    "#plt.rc('pgf', texsystem = 'xelatex')\n",
    "#df_pre.plot(x = 'year_wst', y = 'prm_cap_p90_bil', \n",
    "df_pre[df_pre.year_wst >= 1920].plot(x = 'year_wst', y = 'non_prm_cap_p90_bil', \n",
    "#               label = r'Normalized cap wedge $\\biggl(\\frac{1 + \\tau_{R,t}}{1 + \\tau_{C,t}}-1 \\biggr)$', \n",
    "               marker = '.',\n",
    "               linestyle = '--',\n",
    "               color = 'b',\n",
    "               ax = ax)\n",
    "#df_post.plot(x = 'year_wst', y = 'tot_cns_p90_mth',  \n",
    "df_post[df_post.year_wst <= 1970].plot(x = 'year_wst', y = 'non_prm_cap_p90_bil',  \n",
    "               marker = '.',\n",
    "               linestyle = '--',\n",
    "               color = 'b',\n",
    "               ax = ax)\n",
    "#ax.set_rasterized(True)\n",
    "ax.legend_.remove()\n",
    "ax.yaxis.set_major_formatter(mpl.ticker.StrMethodFormatter('{x:,.0f}'))\n",
    "plt.xlabel('year')\n",
    "fig.set_size_inches(w=6.26894, h=3.5)\n",
    "plt.title('Non-primary industry capital (one billion yen at 1990 price)')\n",
    "plt.savefig('../../Notes/comb_non_prm_cap.pdf')\n",
    "plt.show()"
   ]
  },
  {
   "cell_type": "code",
   "execution_count": null,
   "id": "attractive-fairy",
   "metadata": {},
   "outputs": [],
   "source": []
  }
 ],
 "metadata": {
  "kernelspec": {
   "display_name": "Python 3 (ipykernel)",
   "language": "python",
   "name": "python3"
  },
  "language_info": {
   "codemirror_mode": {
    "name": "ipython",
    "version": 3
   },
   "file_extension": ".py",
   "mimetype": "text/x-python",
   "name": "python",
   "nbconvert_exporter": "python",
   "pygments_lexer": "ipython3",
   "version": "3.9.6"
  }
 },
 "nbformat": 4,
 "nbformat_minor": 5
}
