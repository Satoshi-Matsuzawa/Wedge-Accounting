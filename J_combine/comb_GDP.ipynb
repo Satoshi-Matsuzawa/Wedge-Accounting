{
 "cells": [
  {
   "cell_type": "code",
   "execution_count": 1,
   "id": "academic-annotation",
   "metadata": {},
   "outputs": [],
   "source": [
    "import pandas as pd\n",
    "import numpy as np\n",
    "import matplotlib.pyplot as plt\n",
    "import matplotlib as mpl"
   ]
  },
  {
   "cell_type": "code",
   "execution_count": 2,
   "id": "regulation-summit",
   "metadata": {},
   "outputs": [],
   "source": [
    "df_GDP_pre = pd.read_csv('../../Data/Downloaded/pre_GDP.csv')\n",
    "df_GDP_post = pd.read_csv('../../Data/Downloaded/post_GDP.csv')\n",
    "df_pi_pre   = pd.read_csv('../../Data/Downloaded/pre_price.csv')\n",
    "df_pi_post  = pd.read_csv('../../Data/Downloaded/post_price.csv')\n",
    "df_GDP_def_post = pd.read_csv('../../Data/Downloaded/post_GDP_def.csv')\n",
    "df_pop = pd.read_csv('../../Data/Downloaded/post_pop.csv')"
   ]
  },
  {
   "cell_type": "code",
   "execution_count": 3,
   "id": "leading-visitor",
   "metadata": {},
   "outputs": [],
   "source": [
    "linked_ind_34_to_55_agg = df_pi_pre.iloc[-1]['price_ind_agg'].astype(float)"
   ]
  },
  {
   "cell_type": "code",
   "execution_count": 4,
   "id": "marine-fiber",
   "metadata": {},
   "outputs": [
    {
     "data": {
      "text/plain": [
       "321.6"
      ]
     },
     "execution_count": 4,
     "metadata": {},
     "output_type": "execute_result"
    }
   ],
   "source": [
    "linked_ind_34_to_55_agg"
   ]
  },
  {
   "cell_type": "code",
   "execution_count": 5,
   "id": "built-pastor",
   "metadata": {},
   "outputs": [],
   "source": [
    "# price at 1990 is set to 100\n",
    "p_1990 = 100"
   ]
  },
  {
   "cell_type": "code",
   "execution_count": 6,
   "id": "injured-strip",
   "metadata": {},
   "outputs": [],
   "source": [
    "GDP_def_55_to_90_tot = p_1990 / df_GDP_def_post.loc[0]['tot_prv_GDP']"
   ]
  },
  {
   "cell_type": "code",
   "execution_count": 7,
   "id": "public-jewel",
   "metadata": {},
   "outputs": [],
   "source": [
    "GDP_def_55_to_90_prm = p_1990 / df_GDP_def_post.loc[0]['prm_GDP'] "
   ]
  },
  {
   "cell_type": "code",
   "execution_count": 8,
   "id": "damaged-proof",
   "metadata": {},
   "outputs": [
    {
     "data": {
      "text/plain": [
       "5.208333333333334"
      ]
     },
     "execution_count": 8,
     "metadata": {},
     "output_type": "execute_result"
    }
   ],
   "source": [
    "GDP_def_55_to_90_tot"
   ]
  },
  {
   "cell_type": "code",
   "execution_count": 9,
   "id": "about-january",
   "metadata": {},
   "outputs": [
    {
     "data": {
      "text/plain": [
       "5.319148936170213"
      ]
     },
     "execution_count": 9,
     "metadata": {},
     "output_type": "execute_result"
    }
   ],
   "source": [
    "GDP_def_55_to_90_prm"
   ]
  },
  {
   "cell_type": "code",
   "execution_count": 10,
   "id": "deluxe-sender",
   "metadata": {},
   "outputs": [],
   "source": [
    "# create defilator that converts variables in 1934 to 1936 prices to 1990 prices"
   ]
  },
  {
   "cell_type": "code",
   "execution_count": 11,
   "id": "violent-macro",
   "metadata": {},
   "outputs": [],
   "source": [
    "GDP_def_55_to_90_col = [GDP_def_55_to_90_prm, GDP_def_55_to_90_tot]"
   ]
  },
  {
   "cell_type": "code",
   "execution_count": 12,
   "id": "current-phoenix",
   "metadata": {},
   "outputs": [],
   "source": [
    "GDP_def_34_to_90_col = [x * linked_ind_34_to_55_agg for x in GDP_def_55_to_90_col]"
   ]
  },
  {
   "cell_type": "code",
   "execution_count": 13,
   "id": "following-hungary",
   "metadata": {},
   "outputs": [
    {
     "data": {
      "text/plain": [
       "[1710.6382978723404, 1675.0000000000002]"
      ]
     },
     "execution_count": 13,
     "metadata": {},
     "output_type": "execute_result"
    }
   ],
   "source": [
    "GDP_def_34_to_90_col"
   ]
  },
  {
   "cell_type": "code",
   "execution_count": 14,
   "id": "rural-berkeley",
   "metadata": {},
   "outputs": [],
   "source": [
    "col_org = ['prm_GDP', 'tot_GDP']\n",
    "col_p90 = ['prm_GDP_p90', 'tot_GDP_p90']"
   ]
  },
  {
   "cell_type": "code",
   "execution_count": 15,
   "id": "blessed-freedom",
   "metadata": {},
   "outputs": [],
   "source": [
    "# convert unit from 1 million yen to 1 billion yen\n",
    "adjust_unit = 1000"
   ]
  },
  {
   "cell_type": "code",
   "execution_count": 16,
   "id": "static-budget",
   "metadata": {},
   "outputs": [],
   "source": [
    "for ind, col_name in enumerate(col_org):\n",
    "    df_GDP_pre[col_p90[ind]] = df_GDP_pre[col_name] * GDP_def_34_to_90_col[ind] / adjust_unit"
   ]
  },
  {
   "cell_type": "code",
   "execution_count": 17,
   "id": "killing-stanley",
   "metadata": {},
   "outputs": [],
   "source": [
    "df_GDP_pre_picked = df_GDP_pre[['year_wst', 'prm_GDP_p90', 'tot_GDP_p90']]"
   ]
  },
  {
   "cell_type": "code",
   "execution_count": 18,
   "id": "labeled-shape",
   "metadata": {},
   "outputs": [],
   "source": [
    "df_GDP_post_picked = df_GDP_post[['year_wst', 'prm_GDP', 'tot_prv_GDP']]"
   ]
  },
  {
   "cell_type": "code",
   "execution_count": 19,
   "id": "charitable-cologne",
   "metadata": {},
   "outputs": [],
   "source": [
    "df_GDP_post_picked.columns = ['year_wst', 'prm_GDP_p90', 'tot_GDP_p90']"
   ]
  },
  {
   "cell_type": "code",
   "execution_count": 20,
   "id": "wireless-louisiana",
   "metadata": {},
   "outputs": [
    {
     "name": "stderr",
     "output_type": "stream",
     "text": [
      "<ipython-input-20-db318b54a773>:1: SettingWithCopyWarning: \n",
      "A value is trying to be set on a copy of a slice from a DataFrame.\n",
      "Try using .loc[row_indexer,col_indexer] = value instead\n",
      "\n",
      "See the caveats in the documentation: https://pandas.pydata.org/pandas-docs/stable/user_guide/indexing.html#returning-a-view-versus-a-copy\n",
      "  df_GDP_pre_picked['non_prm_GDP_p90'] = df_GDP_pre_picked['tot_GDP_p90'] - df_GDP_pre_picked['prm_GDP_p90']\n"
     ]
    }
   ],
   "source": [
    "df_GDP_pre_picked['non_prm_GDP_p90'] = df_GDP_pre_picked['tot_GDP_p90'] - df_GDP_pre_picked['prm_GDP_p90']"
   ]
  },
  {
   "cell_type": "code",
   "execution_count": 21,
   "id": "geological-chess",
   "metadata": {},
   "outputs": [
    {
     "name": "stderr",
     "output_type": "stream",
     "text": [
      "<ipython-input-21-46388cc8b5e8>:1: SettingWithCopyWarning: \n",
      "A value is trying to be set on a copy of a slice from a DataFrame.\n",
      "Try using .loc[row_indexer,col_indexer] = value instead\n",
      "\n",
      "See the caveats in the documentation: https://pandas.pydata.org/pandas-docs/stable/user_guide/indexing.html#returning-a-view-versus-a-copy\n",
      "  df_GDP_post_picked['non_prm_GDP_p90'] = df_GDP_post_picked['tot_GDP_p90'] - df_GDP_post_picked['prm_GDP_p90']\n"
     ]
    }
   ],
   "source": [
    "df_GDP_post_picked['non_prm_GDP_p90'] = df_GDP_post_picked['tot_GDP_p90'] - df_GDP_post_picked['prm_GDP_p90']"
   ]
  },
  {
   "cell_type": "code",
   "execution_count": 22,
   "id": "reduced-tutorial",
   "metadata": {},
   "outputs": [],
   "source": [
    "df_GDP_merged = pd.concat([df_GDP_pre_picked, df_GDP_post_picked])"
   ]
  },
  {
   "cell_type": "code",
   "execution_count": 23,
   "id": "handy-stomach",
   "metadata": {},
   "outputs": [
    {
     "data": {
      "text/html": [
       "<div>\n",
       "<style scoped>\n",
       "    .dataframe tbody tr th:only-of-type {\n",
       "        vertical-align: middle;\n",
       "    }\n",
       "\n",
       "    .dataframe tbody tr th {\n",
       "        vertical-align: top;\n",
       "    }\n",
       "\n",
       "    .dataframe thead th {\n",
       "        text-align: right;\n",
       "    }\n",
       "</style>\n",
       "<table border=\"1\" class=\"dataframe\">\n",
       "  <thead>\n",
       "    <tr style=\"text-align: right;\">\n",
       "      <th></th>\n",
       "      <th>year_wst</th>\n",
       "      <th>prm_GDP_p90</th>\n",
       "      <th>tot_GDP_p90</th>\n",
       "      <th>non_prm_GDP_p90</th>\n",
       "    </tr>\n",
       "  </thead>\n",
       "  <tbody>\n",
       "    <tr>\n",
       "      <th>0</th>\n",
       "      <td>1885</td>\n",
       "      <td>2555.693617</td>\n",
       "      <td>5984.775</td>\n",
       "      <td>3429.081383</td>\n",
       "    </tr>\n",
       "    <tr>\n",
       "      <th>1</th>\n",
       "      <td>1886</td>\n",
       "      <td>2790.051064</td>\n",
       "      <td>6435.350</td>\n",
       "      <td>3645.298936</td>\n",
       "    </tr>\n",
       "    <tr>\n",
       "      <th>2</th>\n",
       "      <td>1887</td>\n",
       "      <td>2930.323404</td>\n",
       "      <td>6830.650</td>\n",
       "      <td>3900.326596</td>\n",
       "    </tr>\n",
       "    <tr>\n",
       "      <th>3</th>\n",
       "      <td>1888</td>\n",
       "      <td>2834.527660</td>\n",
       "      <td>6493.975</td>\n",
       "      <td>3659.447340</td>\n",
       "    </tr>\n",
       "    <tr>\n",
       "      <th>4</th>\n",
       "      <td>1889</td>\n",
       "      <td>2577.931915</td>\n",
       "      <td>6855.775</td>\n",
       "      <td>4277.843085</td>\n",
       "    </tr>\n",
       "    <tr>\n",
       "      <th>...</th>\n",
       "      <td>...</td>\n",
       "      <td>...</td>\n",
       "      <td>...</td>\n",
       "      <td>...</td>\n",
       "    </tr>\n",
       "    <tr>\n",
       "      <th>39</th>\n",
       "      <td>1994</td>\n",
       "      <td>10161.900000</td>\n",
       "      <td>433472.100</td>\n",
       "      <td>423310.200000</td>\n",
       "    </tr>\n",
       "    <tr>\n",
       "      <th>40</th>\n",
       "      <td>1995</td>\n",
       "      <td>9652.900000</td>\n",
       "      <td>442148.200</td>\n",
       "      <td>432495.300000</td>\n",
       "    </tr>\n",
       "    <tr>\n",
       "      <th>41</th>\n",
       "      <td>1996</td>\n",
       "      <td>9924.100000</td>\n",
       "      <td>461929.300</td>\n",
       "      <td>452005.200000</td>\n",
       "    </tr>\n",
       "    <tr>\n",
       "      <th>42</th>\n",
       "      <td>1997</td>\n",
       "      <td>9523.000000</td>\n",
       "      <td>469323.200</td>\n",
       "      <td>459800.200000</td>\n",
       "    </tr>\n",
       "    <tr>\n",
       "      <th>43</th>\n",
       "      <td>1998</td>\n",
       "      <td>9266.700000</td>\n",
       "      <td>455604.200</td>\n",
       "      <td>446337.500000</td>\n",
       "    </tr>\n",
       "  </tbody>\n",
       "</table>\n",
       "<p>100 rows × 4 columns</p>\n",
       "</div>"
      ],
      "text/plain": [
       "    year_wst   prm_GDP_p90  tot_GDP_p90  non_prm_GDP_p90\n",
       "0       1885   2555.693617     5984.775      3429.081383\n",
       "1       1886   2790.051064     6435.350      3645.298936\n",
       "2       1887   2930.323404     6830.650      3900.326596\n",
       "3       1888   2834.527660     6493.975      3659.447340\n",
       "4       1889   2577.931915     6855.775      4277.843085\n",
       "..       ...           ...          ...              ...\n",
       "39      1994  10161.900000   433472.100    423310.200000\n",
       "40      1995   9652.900000   442148.200    432495.300000\n",
       "41      1996   9924.100000   461929.300    452005.200000\n",
       "42      1997   9523.000000   469323.200    459800.200000\n",
       "43      1998   9266.700000   455604.200    446337.500000\n",
       "\n",
       "[100 rows x 4 columns]"
      ]
     },
     "execution_count": 23,
     "metadata": {},
     "output_type": "execute_result"
    }
   ],
   "source": [
    "df_GDP_merged"
   ]
  },
  {
   "cell_type": "code",
   "execution_count": 24,
   "id": "annoying-mileage",
   "metadata": {},
   "outputs": [],
   "source": [
    "df_GDP_pop_merged = df_GDP_merged.join(df_pop.set_index('year_wst'), on = 'year_wst')"
   ]
  },
  {
   "cell_type": "code",
   "execution_count": 25,
   "id": "scenic-argument",
   "metadata": {},
   "outputs": [],
   "source": [
    "df_GDP_pop_merged['prm_GDP_p90_pc'] = df_GDP_pop_merged['prm_GDP_p90'] / df_GDP_pop_merged['tot_pop']"
   ]
  },
  {
   "cell_type": "code",
   "execution_count": 26,
   "id": "worthy-geometry",
   "metadata": {},
   "outputs": [],
   "source": [
    "df_GDP_pop_merged['tot_GDP_p90_pc'] = df_GDP_pop_merged['tot_GDP_p90'] / df_GDP_pop_merged['tot_pop']"
   ]
  },
  {
   "cell_type": "code",
   "execution_count": 27,
   "id": "swedish-conjunction",
   "metadata": {},
   "outputs": [
    {
     "data": {
      "image/png": "[encoded data removed]",
      "text/plain": [
       "<Figure size 432x288 with 1 Axes>"
      ]
     },
     "metadata": {
      "needs_background": "light"
     },
     "output_type": "display_data"
    }
   ],
   "source": [
    "fig, ax = plt.subplots()\n",
    "df_GDP_pop_merged.plot(x = 'year_wst', y = 'prm_GDP_p90_pc', ax = ax)\n",
    "plt.title('Per capita value added of primary sector at 1990 prices')\n",
    "plt.show()"
   ]
  },
  {
   "cell_type": "code",
   "execution_count": 28,
   "id": "differential-keeping",
   "metadata": {},
   "outputs": [
    {
     "data": {
      "image/png": "[encoded data removed]",
      "text/plain": [
       "<Figure size 432x288 with 1 Axes>"
      ]
     },
     "metadata": {
      "needs_background": "light"
     },
     "output_type": "display_data"
    }
   ],
   "source": [
    "fig, ax = plt.subplots()\n",
    "df_GDP_pop_merged.plot(x = 'year_wst', y = 'tot_GDP_p90_pc', ax = ax)\n",
    "plt.title('Per capta GDP at 1990 prices')\n",
    "plt.show()"
   ]
  },
  {
   "cell_type": "code",
   "execution_count": 29,
   "id": "vanilla-spider",
   "metadata": {},
   "outputs": [
    {
     "data": {
      "image/png": "[encoded data removed]",
      "text/plain": [
       "<Figure size 432x288 with 1 Axes>"
      ]
     },
     "metadata": {
      "needs_background": "light"
     },
     "output_type": "display_data"
    }
   ],
   "source": [
    "fig, ax = plt.subplots()\n",
    "df_GDP_merged.plot(x = 'year_wst', y = 'prm_GDP_p90', ax = ax)\n",
    "plt.title('Value added of primary sector at 1990 prices')\n",
    "plt.show()"
   ]
  },
  {
   "cell_type": "code",
   "execution_count": 30,
   "id": "authentic-argument",
   "metadata": {},
   "outputs": [
    {
     "data": {
      "image/png": "[encoded data removed]",
      "text/plain": [
       "<Figure size 432x288 with 1 Axes>"
      ]
     },
     "metadata": {
      "needs_background": "light"
     },
     "output_type": "display_data"
    }
   ],
   "source": [
    "fig, ax = plt.subplots()\n",
    "df_GDP_pop_merged.plot(x = 'year_wst', y = 'tot_GDP_p90', ax = ax)\n",
    "plt.title('Total private sector value added at 1990 prices')\n",
    "plt.show()"
   ]
  },
  {
   "cell_type": "code",
   "execution_count": 31,
   "id": "stainless-westminster",
   "metadata": {},
   "outputs": [],
   "source": [
    "df_pre = df_GDP_pre_picked\n",
    "df_post = df_GDP_post_picked"
   ]
  },
  {
   "cell_type": "code",
   "execution_count": 32,
   "id": "controversial-convergence",
   "metadata": {},
   "outputs": [
    {
     "data": {
      "image/png": "[encoded data removed]",
      "text/plain": [
       "<Figure size 451.364x252 with 1 Axes>"
      ]
     },
     "metadata": {
      "needs_background": "light"
     },
     "output_type": "display_data"
    }
   ],
   "source": [
    "fig, ax = plt.subplots()\n",
    "\n",
    "plt.rc('text', usetex=True)\n",
    "plt.rc('font', family='serif')\n",
    "\n",
    "#plt.rc('pgf', texsystem = 'xelatex')\n",
    "#df_pre.plot(x = 'year_wst', y = 'prm_cap_p90_bil', \n",
    "df_pre[df_pre.year_wst >= 1920].plot(x = 'year_wst', y = 'prm_GDP_p90', \n",
    "#               label = r'Normalized cap wedge $\\biggl(\\frac{1 + \\tau_{R,t}}{1 + \\tau_{C,t}}-1 \\biggr)$', \n",
    "               marker = '.',\n",
    "               linestyle = '--',\n",
    "               color = 'b',\n",
    "               ax = ax)\n",
    "#df_post.plot(x = 'year_wst', y = 'tot_cns_p90_mth',  \n",
    "df_post[df_post.year_wst <= 1970].plot(x = 'year_wst', y = 'prm_GDP_p90',  \n",
    "               marker = '.',\n",
    "               linestyle = '--',\n",
    "               color = 'b',\n",
    "               ax = ax)\n",
    "#ax.set_rasterized(True)\n",
    "ax.legend_.remove()\n",
    "ax.yaxis.set_major_formatter(mpl.ticker.StrMethodFormatter('{x:,.0f}'))\n",
    "plt.xlabel('year')\n",
    "fig.set_size_inches(w=6.26894, h=3.5)\n",
    "plt.title('Primary industry value-added (one billion yen at 1990 price)')\n",
    "plt.savefig('../../Notes/comb_prm_GDP.pdf')\n",
    "plt.show()"
   ]
  },
  {
   "cell_type": "code",
   "execution_count": 33,
   "id": "requested-mother",
   "metadata": {},
   "outputs": [
    {
     "data": {
      "image/png": "[encoded data removed]",
      "text/plain": [
       "<Figure size 451.364x252 with 1 Axes>"
      ]
     },
     "metadata": {
      "needs_background": "light"
     },
     "output_type": "display_data"
    }
   ],
   "source": [
    "fig, ax = plt.subplots()\n",
    "\n",
    "plt.rc('text', usetex=True)\n",
    "plt.rc('font', family='serif')\n",
    "\n",
    "#plt.rc('pgf', texsystem = 'xelatex')\n",
    "#df_pre.plot(x = 'year_wst', y = 'prm_cap_p90_bil', \n",
    "df_pre[df_pre.year_wst >= 1920].plot(x = 'year_wst', y = 'non_prm_GDP_p90', \n",
    "#               label = r'Normalized cap wedge $\\biggl(\\frac{1 + \\tau_{R,t}}{1 + \\tau_{C,t}}-1 \\biggr)$', \n",
    "               marker = '.',\n",
    "               linestyle = '--',\n",
    "               color = 'b',\n",
    "               ax = ax)\n",
    "#df_post.plot(x = 'year_wst', y = 'tot_cns_p90_mth',  \n",
    "df_post[df_post.year_wst <= 1970].plot(x = 'year_wst', y = 'non_prm_GDP_p90',  \n",
    "               marker = '.',\n",
    "               linestyle = '--',\n",
    "               color = 'b',\n",
    "               ax = ax)\n",
    "#ax.set_rasterized(True)\n",
    "ax.legend_.remove()\n",
    "ax.yaxis.set_major_formatter(mpl.ticker.StrMethodFormatter('{x:,.0f}'))\n",
    "plt.xlabel('year')\n",
    "fig.set_size_inches(w=6.26894, h=3.5)\n",
    "plt.title('Non-primary industry value-added (one billion yen at 1990 price)')\n",
    "plt.savefig('../../Notes/comb_non_prm_GDP.pdf')\n",
    "plt.show()"
   ]
  },
  {
   "cell_type": "code",
   "execution_count": 34,
   "id": "republican-central",
   "metadata": {},
   "outputs": [
    {
     "data": {
      "text/html": [
       "<div>\n",
       "<style scoped>\n",
       "    .dataframe tbody tr th:only-of-type {\n",
       "        vertical-align: middle;\n",
       "    }\n",
       "\n",
       "    .dataframe tbody tr th {\n",
       "        vertical-align: top;\n",
       "    }\n",
       "\n",
       "    .dataframe thead th {\n",
       "        text-align: right;\n",
       "    }\n",
       "</style>\n",
       "<table border=\"1\" class=\"dataframe\">\n",
       "  <thead>\n",
       "    <tr style=\"text-align: right;\">\n",
       "      <th></th>\n",
       "      <th>year_wst</th>\n",
       "      <th>prm_GDP_p90</th>\n",
       "      <th>tot_GDP_p90</th>\n",
       "      <th>non_prm_GDP_p90</th>\n",
       "      <th>tot_pop</th>\n",
       "      <th>prm_GDP_p90_pc</th>\n",
       "      <th>tot_GDP_p90_pc</th>\n",
       "    </tr>\n",
       "  </thead>\n",
       "  <tbody>\n",
       "    <tr>\n",
       "      <th>0</th>\n",
       "      <td>1885</td>\n",
       "      <td>2555.693617</td>\n",
       "      <td>5984.775</td>\n",
       "      <td>3429.081383</td>\n",
       "      <td>38313000</td>\n",
       "      <td>0.000067</td>\n",
       "      <td>0.000156</td>\n",
       "    </tr>\n",
       "    <tr>\n",
       "      <th>1</th>\n",
       "      <td>1886</td>\n",
       "      <td>2790.051064</td>\n",
       "      <td>6435.350</td>\n",
       "      <td>3645.298936</td>\n",
       "      <td>38541000</td>\n",
       "      <td>0.000072</td>\n",
       "      <td>0.000167</td>\n",
       "    </tr>\n",
       "    <tr>\n",
       "      <th>2</th>\n",
       "      <td>1887</td>\n",
       "      <td>2930.323404</td>\n",
       "      <td>6830.650</td>\n",
       "      <td>3900.326596</td>\n",
       "      <td>38703000</td>\n",
       "      <td>0.000076</td>\n",
       "      <td>0.000176</td>\n",
       "    </tr>\n",
       "    <tr>\n",
       "      <th>3</th>\n",
       "      <td>1888</td>\n",
       "      <td>2834.527660</td>\n",
       "      <td>6493.975</td>\n",
       "      <td>3659.447340</td>\n",
       "      <td>39029000</td>\n",
       "      <td>0.000073</td>\n",
       "      <td>0.000166</td>\n",
       "    </tr>\n",
       "    <tr>\n",
       "      <th>4</th>\n",
       "      <td>1889</td>\n",
       "      <td>2577.931915</td>\n",
       "      <td>6855.775</td>\n",
       "      <td>4277.843085</td>\n",
       "      <td>39473000</td>\n",
       "      <td>0.000065</td>\n",
       "      <td>0.000174</td>\n",
       "    </tr>\n",
       "    <tr>\n",
       "      <th>...</th>\n",
       "      <td>...</td>\n",
       "      <td>...</td>\n",
       "      <td>...</td>\n",
       "      <td>...</td>\n",
       "      <td>...</td>\n",
       "      <td>...</td>\n",
       "      <td>...</td>\n",
       "    </tr>\n",
       "    <tr>\n",
       "      <th>39</th>\n",
       "      <td>1994</td>\n",
       "      <td>10161.900000</td>\n",
       "      <td>433472.100</td>\n",
       "      <td>423310.200000</td>\n",
       "      <td>125265000</td>\n",
       "      <td>0.000081</td>\n",
       "      <td>0.003460</td>\n",
       "    </tr>\n",
       "    <tr>\n",
       "      <th>40</th>\n",
       "      <td>1995</td>\n",
       "      <td>9652.900000</td>\n",
       "      <td>442148.200</td>\n",
       "      <td>432495.300000</td>\n",
       "      <td>125570000</td>\n",
       "      <td>0.000077</td>\n",
       "      <td>0.003521</td>\n",
       "    </tr>\n",
       "    <tr>\n",
       "      <th>41</th>\n",
       "      <td>1996</td>\n",
       "      <td>9924.100000</td>\n",
       "      <td>461929.300</td>\n",
       "      <td>452005.200000</td>\n",
       "      <td>125859000</td>\n",
       "      <td>0.000079</td>\n",
       "      <td>0.003670</td>\n",
       "    </tr>\n",
       "    <tr>\n",
       "      <th>42</th>\n",
       "      <td>1997</td>\n",
       "      <td>9523.000000</td>\n",
       "      <td>469323.200</td>\n",
       "      <td>459800.200000</td>\n",
       "      <td>126157000</td>\n",
       "      <td>0.000075</td>\n",
       "      <td>0.003720</td>\n",
       "    </tr>\n",
       "    <tr>\n",
       "      <th>43</th>\n",
       "      <td>1998</td>\n",
       "      <td>9266.700000</td>\n",
       "      <td>455604.200</td>\n",
       "      <td>446337.500000</td>\n",
       "      <td>126472000</td>\n",
       "      <td>0.000073</td>\n",
       "      <td>0.003602</td>\n",
       "    </tr>\n",
       "  </tbody>\n",
       "</table>\n",
       "<p>101 rows × 7 columns</p>\n",
       "</div>"
      ],
      "text/plain": [
       "    year_wst   prm_GDP_p90  tot_GDP_p90  non_prm_GDP_p90    tot_pop  \\\n",
       "0       1885   2555.693617     5984.775      3429.081383   38313000   \n",
       "1       1886   2790.051064     6435.350      3645.298936   38541000   \n",
       "2       1887   2930.323404     6830.650      3900.326596   38703000   \n",
       "3       1888   2834.527660     6493.975      3659.447340   39029000   \n",
       "4       1889   2577.931915     6855.775      4277.843085   39473000   \n",
       "..       ...           ...          ...              ...        ...   \n",
       "39      1994  10161.900000   433472.100    423310.200000  125265000   \n",
       "40      1995   9652.900000   442148.200    432495.300000  125570000   \n",
       "41      1996   9924.100000   461929.300    452005.200000  125859000   \n",
       "42      1997   9523.000000   469323.200    459800.200000  126157000   \n",
       "43      1998   9266.700000   455604.200    446337.500000  126472000   \n",
       "\n",
       "    prm_GDP_p90_pc  tot_GDP_p90_pc  \n",
       "0         0.000067        0.000156  \n",
       "1         0.000072        0.000167  \n",
       "2         0.000076        0.000176  \n",
       "3         0.000073        0.000166  \n",
       "4         0.000065        0.000174  \n",
       "..             ...             ...  \n",
       "39        0.000081        0.003460  \n",
       "40        0.000077        0.003521  \n",
       "41        0.000079        0.003670  \n",
       "42        0.000075        0.003720  \n",
       "43        0.000073        0.003602  \n",
       "\n",
       "[101 rows x 7 columns]"
      ]
     },
     "execution_count": 34,
     "metadata": {},
     "output_type": "execute_result"
    }
   ],
   "source": [
    "df_GDP_pop_merged"
   ]
  },
  {
   "cell_type": "code",
   "execution_count": null,
   "id": "b2c2498c-4063-4be9-baa5-c2a2f278da26",
   "metadata": {},
   "outputs": [],
   "source": []
  }
 ],
 "metadata": {
  "kernelspec": {
   "display_name": "Python 3 (ipykernel)",
   "language": "python",
   "name": "python3"
  },
  "language_info": {
   "codemirror_mode": {
    "name": "ipython",
    "version": 3
   },
   "file_extension": ".py",
   "mimetype": "text/x-python",
   "name": "python",
   "nbconvert_exporter": "python",
   "pygments_lexer": "ipython3",
   "version": "3.9.6"
  }
 },
 "nbformat": 4,
 "nbformat_minor": 5
}
