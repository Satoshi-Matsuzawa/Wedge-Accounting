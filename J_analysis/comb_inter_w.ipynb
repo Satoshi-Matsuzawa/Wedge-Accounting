{
 "cells": [
  {
   "cell_type": "code",
   "execution_count": 1,
   "id": "separate-escape",
   "metadata": {},
   "outputs": [],
   "source": [
    "import pandas as pd\n",
    "import numpy as np\n",
    "import matplotlib.pyplot as plt"
   ]
  },
  {
   "cell_type": "raw",
   "id": "exempt-binary",
   "metadata": {},
   "source": [
    "import matplotlib as mpl\n",
    "# Use thinterpolate backend (must be set before pyplot imported)\n",
    "mpl.use('pgf')"
   ]
  },
  {
   "cell_type": "code",
   "execution_count": 2,
   "id": "valued-morocco",
   "metadata": {},
   "outputs": [],
   "source": [
    "df_pre = pd.read_csv('../../Data/Results/pre_inter_w.csv')\n",
    "df_post = pd.read_csv('../../Data/Results/post_inter_w.csv')"
   ]
  },
  {
   "cell_type": "code",
   "execution_count": 3,
   "id": "3763df32-d010-473d-9304-033194816b52",
   "metadata": {},
   "outputs": [
    {
     "data": {
      "text/plain": [
       "Index(['year_wst', 'cons', 'food', 'non_food', 'year_jpn_x', 'cpi_goods',\n",
       "       'cpi_agr', 'cpi_ind', 'non_food_forward', 'PMt_cMt/PMt+1_cMt+1',\n",
       "       'cpi_ind_forward', 'PMt+1/PMt', 'cMt/cMt+1', 'tot_cap', 'prm_cap',\n",
       "       'year_jpn_y', 'non_prm_cap', 'tot_prv_GDP', 'prm_GDP', 'tot_GDP',\n",
       "       'non_prm_GDP', 'F_KA', 'F_KM', 'F_KM/F_KA', 'KM/KA', 'YM/YA',\n",
       "       'cns_growth', 'roi', 'intertemporal_wedge'],\n",
       "      dtype='object')"
      ]
     },
     "execution_count": 3,
     "metadata": {},
     "output_type": "execute_result"
    }
   ],
   "source": [
    "df_post.columns"
   ]
  },
  {
   "cell_type": "code",
   "execution_count": 4,
   "id": "291985a9-4cc8-495f-8a03-c522471803e9",
   "metadata": {},
   "outputs": [
    {
     "data": {
      "text/plain": [
       "1.7016859070773012"
      ]
     },
     "execution_count": 4,
     "metadata": {},
     "output_type": "execute_result"
    }
   ],
   "source": [
    "df_post[df_post.year_wst<= 1970].intertemporal_wedge.mean()"
   ]
  },
  {
   "cell_type": "code",
   "execution_count": 5,
   "id": "0f9a7c6f-ef4a-4615-bbbd-fb03a9744aa4",
   "metadata": {},
   "outputs": [
    {
     "data": {
      "text/plain": [
       "1.1207821736666885"
      ]
     },
     "execution_count": 5,
     "metadata": {},
     "output_type": "execute_result"
    }
   ],
   "source": [
    "df_pre[df_pre.year_wst>= 1920].intertemporal_wedge.mean()"
   ]
  },
  {
   "cell_type": "code",
   "execution_count": 6,
   "id": "e4d0710a-346e-47a9-84eb-41d271866a6d",
   "metadata": {},
   "outputs": [],
   "source": [
    "df_pre['w_MA_10'] = df_pre.iloc[:,-1].rolling(window=10).mean()"
   ]
  },
  {
   "cell_type": "code",
   "execution_count": 7,
   "id": "157f1ac3-6738-4b2f-9f5e-2d7e0b5b6f3d",
   "metadata": {},
   "outputs": [],
   "source": [
    "df_post['w_MA_10'] = df_post.iloc[:,-1].rolling(window=10).mean()"
   ]
  },
  {
   "cell_type": "code",
   "execution_count": 8,
   "id": "205f22d3-946a-419c-8052-27d44a9cb724",
   "metadata": {},
   "outputs": [
    {
     "data": {
      "text/plain": [
       "1.0750098608587444"
      ]
     },
     "execution_count": 8,
     "metadata": {},
     "output_type": "execute_result"
    }
   ],
   "source": [
    "df_post[df_post.year_wst<= 1960].cns_growth.mean()"
   ]
  },
  {
   "cell_type": "code",
   "execution_count": 9,
   "id": "f144b94b-deb6-4cf6-94fa-7e30626bb8f6",
   "metadata": {},
   "outputs": [
    {
     "data": {
      "text/plain": [
       "0.9578724616487079"
      ]
     },
     "execution_count": 9,
     "metadata": {},
     "output_type": "execute_result"
    }
   ],
   "source": [
    "df_post[(df_post.year_wst>= 1970) & (df_post.year_wst<= 1980)].cns_growth.mean()"
   ]
  },
  {
   "cell_type": "code",
   "execution_count": 10,
   "id": "176115d9-5d8e-45a1-96a9-fe7403b2a7e3",
   "metadata": {},
   "outputs": [
    {
     "data": {
      "text/html": [
       "<div>\n",
       "<style scoped>\n",
       "    .dataframe tbody tr th:only-of-type {\n",
       "        vertical-align: middle;\n",
       "    }\n",
       "\n",
       "    .dataframe tbody tr th {\n",
       "        vertical-align: top;\n",
       "    }\n",
       "\n",
       "    .dataframe thead th {\n",
       "        text-align: right;\n",
       "    }\n",
       "</style>\n",
       "<table border=\"1\" class=\"dataframe\">\n",
       "  <thead>\n",
       "    <tr style=\"text-align: right;\">\n",
       "      <th></th>\n",
       "      <th>year_wst</th>\n",
       "      <th>cns_growth</th>\n",
       "    </tr>\n",
       "  </thead>\n",
       "  <tbody>\n",
       "    <tr>\n",
       "      <th>0</th>\n",
       "      <td>1955</td>\n",
       "      <td>1.118727</td>\n",
       "    </tr>\n",
       "    <tr>\n",
       "      <th>1</th>\n",
       "      <td>1956</td>\n",
       "      <td>1.035083</td>\n",
       "    </tr>\n",
       "    <tr>\n",
       "      <th>2</th>\n",
       "      <td>1957</td>\n",
       "      <td>1.086946</td>\n",
       "    </tr>\n",
       "    <tr>\n",
       "      <th>3</th>\n",
       "      <td>1958</td>\n",
       "      <td>1.091147</td>\n",
       "    </tr>\n",
       "    <tr>\n",
       "      <th>4</th>\n",
       "      <td>1959</td>\n",
       "      <td>1.048366</td>\n",
       "    </tr>\n",
       "    <tr>\n",
       "      <th>5</th>\n",
       "      <td>1960</td>\n",
       "      <td>1.069790</td>\n",
       "    </tr>\n",
       "    <tr>\n",
       "      <th>6</th>\n",
       "      <td>1961</td>\n",
       "      <td>1.065185</td>\n",
       "    </tr>\n",
       "    <tr>\n",
       "      <th>7</th>\n",
       "      <td>1962</td>\n",
       "      <td>0.927584</td>\n",
       "    </tr>\n",
       "    <tr>\n",
       "      <th>8</th>\n",
       "      <td>1963</td>\n",
       "      <td>1.043839</td>\n",
       "    </tr>\n",
       "    <tr>\n",
       "      <th>9</th>\n",
       "      <td>1964</td>\n",
       "      <td>1.023642</td>\n",
       "    </tr>\n",
       "    <tr>\n",
       "      <th>10</th>\n",
       "      <td>1965</td>\n",
       "      <td>1.027628</td>\n",
       "    </tr>\n",
       "    <tr>\n",
       "      <th>11</th>\n",
       "      <td>1966</td>\n",
       "      <td>1.045499</td>\n",
       "    </tr>\n",
       "    <tr>\n",
       "      <th>12</th>\n",
       "      <td>1967</td>\n",
       "      <td>1.058475</td>\n",
       "    </tr>\n",
       "    <tr>\n",
       "      <th>13</th>\n",
       "      <td>1968</td>\n",
       "      <td>1.048471</td>\n",
       "    </tr>\n",
       "    <tr>\n",
       "      <th>14</th>\n",
       "      <td>1969</td>\n",
       "      <td>1.008003</td>\n",
       "    </tr>\n",
       "    <tr>\n",
       "      <th>15</th>\n",
       "      <td>1970</td>\n",
       "      <td>0.993192</td>\n",
       "    </tr>\n",
       "    <tr>\n",
       "      <th>16</th>\n",
       "      <td>1971</td>\n",
       "      <td>1.024961</td>\n",
       "    </tr>\n",
       "    <tr>\n",
       "      <th>17</th>\n",
       "      <td>1972</td>\n",
       "      <td>0.951936</td>\n",
       "    </tr>\n",
       "    <tr>\n",
       "      <th>18</th>\n",
       "      <td>1973</td>\n",
       "      <td>0.762883</td>\n",
       "    </tr>\n",
       "    <tr>\n",
       "      <th>19</th>\n",
       "      <td>1974</td>\n",
       "      <td>0.981634</td>\n",
       "    </tr>\n",
       "    <tr>\n",
       "      <th>20</th>\n",
       "      <td>1975</td>\n",
       "      <td>0.965004</td>\n",
       "    </tr>\n",
       "    <tr>\n",
       "      <th>21</th>\n",
       "      <td>1976</td>\n",
       "      <td>0.972505</td>\n",
       "    </tr>\n",
       "    <tr>\n",
       "      <th>22</th>\n",
       "      <td>1977</td>\n",
       "      <td>0.995773</td>\n",
       "    </tr>\n",
       "    <tr>\n",
       "      <th>23</th>\n",
       "      <td>1978</td>\n",
       "      <td>1.004891</td>\n",
       "    </tr>\n",
       "    <tr>\n",
       "      <th>24</th>\n",
       "      <td>1979</td>\n",
       "      <td>0.921784</td>\n",
       "    </tr>\n",
       "    <tr>\n",
       "      <th>25</th>\n",
       "      <td>1980</td>\n",
       "      <td>0.962035</td>\n",
       "    </tr>\n",
       "    <tr>\n",
       "      <th>26</th>\n",
       "      <td>1981</td>\n",
       "      <td>1.012029</td>\n",
       "    </tr>\n",
       "    <tr>\n",
       "      <th>27</th>\n",
       "      <td>1982</td>\n",
       "      <td>1.003115</td>\n",
       "    </tr>\n",
       "    <tr>\n",
       "      <th>28</th>\n",
       "      <td>1983</td>\n",
       "      <td>1.005569</td>\n",
       "    </tr>\n",
       "    <tr>\n",
       "      <th>29</th>\n",
       "      <td>1984</td>\n",
       "      <td>1.001382</td>\n",
       "    </tr>\n",
       "    <tr>\n",
       "      <th>30</th>\n",
       "      <td>1985</td>\n",
       "      <td>1.018368</td>\n",
       "    </tr>\n",
       "    <tr>\n",
       "      <th>31</th>\n",
       "      <td>1986</td>\n",
       "      <td>1.039077</td>\n",
       "    </tr>\n",
       "    <tr>\n",
       "      <th>32</th>\n",
       "      <td>1987</td>\n",
       "      <td>1.055320</td>\n",
       "    </tr>\n",
       "    <tr>\n",
       "      <th>33</th>\n",
       "      <td>1988</td>\n",
       "      <td>0.995780</td>\n",
       "    </tr>\n",
       "    <tr>\n",
       "      <th>34</th>\n",
       "      <td>1989</td>\n",
       "      <td>1.001395</td>\n",
       "    </tr>\n",
       "    <tr>\n",
       "      <th>35</th>\n",
       "      <td>1990</td>\n",
       "      <td>0.989288</td>\n",
       "    </tr>\n",
       "    <tr>\n",
       "      <th>36</th>\n",
       "      <td>1991</td>\n",
       "      <td>1.001440</td>\n",
       "    </tr>\n",
       "    <tr>\n",
       "      <th>37</th>\n",
       "      <td>1992</td>\n",
       "      <td>1.004714</td>\n",
       "    </tr>\n",
       "    <tr>\n",
       "      <th>38</th>\n",
       "      <td>1993</td>\n",
       "      <td>1.010141</td>\n",
       "    </tr>\n",
       "    <tr>\n",
       "      <th>39</th>\n",
       "      <td>1994</td>\n",
       "      <td>1.015987</td>\n",
       "    </tr>\n",
       "    <tr>\n",
       "      <th>40</th>\n",
       "      <td>1995</td>\n",
       "      <td>1.036897</td>\n",
       "    </tr>\n",
       "    <tr>\n",
       "      <th>41</th>\n",
       "      <td>1996</td>\n",
       "      <td>0.986486</td>\n",
       "    </tr>\n",
       "    <tr>\n",
       "      <th>42</th>\n",
       "      <td>1997</td>\n",
       "      <td>0.987853</td>\n",
       "    </tr>\n",
       "    <tr>\n",
       "      <th>43</th>\n",
       "      <td>1998</td>\n",
       "      <td>0.993616</td>\n",
       "    </tr>\n",
       "  </tbody>\n",
       "</table>\n",
       "</div>"
      ],
      "text/plain": [
       "    year_wst  cns_growth\n",
       "0       1955    1.118727\n",
       "1       1956    1.035083\n",
       "2       1957    1.086946\n",
       "3       1958    1.091147\n",
       "4       1959    1.048366\n",
       "5       1960    1.069790\n",
       "6       1961    1.065185\n",
       "7       1962    0.927584\n",
       "8       1963    1.043839\n",
       "9       1964    1.023642\n",
       "10      1965    1.027628\n",
       "11      1966    1.045499\n",
       "12      1967    1.058475\n",
       "13      1968    1.048471\n",
       "14      1969    1.008003\n",
       "15      1970    0.993192\n",
       "16      1971    1.024961\n",
       "17      1972    0.951936\n",
       "18      1973    0.762883\n",
       "19      1974    0.981634\n",
       "20      1975    0.965004\n",
       "21      1976    0.972505\n",
       "22      1977    0.995773\n",
       "23      1978    1.004891\n",
       "24      1979    0.921784\n",
       "25      1980    0.962035\n",
       "26      1981    1.012029\n",
       "27      1982    1.003115\n",
       "28      1983    1.005569\n",
       "29      1984    1.001382\n",
       "30      1985    1.018368\n",
       "31      1986    1.039077\n",
       "32      1987    1.055320\n",
       "33      1988    0.995780\n",
       "34      1989    1.001395\n",
       "35      1990    0.989288\n",
       "36      1991    1.001440\n",
       "37      1992    1.004714\n",
       "38      1993    1.010141\n",
       "39      1994    1.015987\n",
       "40      1995    1.036897\n",
       "41      1996    0.986486\n",
       "42      1997    0.987853\n",
       "43      1998    0.993616"
      ]
     },
     "execution_count": 10,
     "metadata": {},
     "output_type": "execute_result"
    }
   ],
   "source": [
    "df_post[['year_wst', 'cns_growth']]"
   ]
  },
  {
   "cell_type": "code",
   "execution_count": 13,
   "id": "promising-adapter",
   "metadata": {},
   "outputs": [
    {
     "data": {
      "image/png": "[encoded data removed]",
      "text/plain": [
       "<Figure size 451.364x252 with 1 Axes>"
      ]
     },
     "metadata": {
      "needs_background": "light"
     },
     "output_type": "display_data"
    }
   ],
   "source": [
    "fig, ax = plt.subplots()\n",
    "\n",
    "plt.rc('text', usetex=True)\n",
    "plt.rc('font', family='serif')\n",
    "\n",
    "plt.rc('pgf', texsystem = 'pdflatex')\n",
    "df_pre.plot(x = 'year_wst', y = 'intertemporal_wedge', \n",
    "#               label = r'Normalized cap wedge $\\biggl(\\frac{1 + \\tau_{R,t}}{1 + \\tau_{C,t}}-1 \\biggr)$', \n",
    "               linestyle = '--',\n",
    "               color = 'b',\n",
    "               ax = ax)\n",
    "plt.rc('pgf', texsystem = 'pdflatex')\n",
    "\n",
    "df_post.plot(x = 'year_wst', y = 'intertemporal_wedge',  \n",
    "               linestyle = '--',\n",
    "               color = 'b',\n",
    "               ax = ax)\n",
    "#ax.set_rasterized(True)\n",
    "ax.legend_.remove()\n",
    "plt.xlabel('year')\n",
    "fig.set_size_inches(w=6.26894, h=3.5)\n",
    "plt.title(r'\\textbf{Intertemporal wedge $\\tau_{K}$}')\n",
    "plt.savefig('../../Notes/Discussion/int_w.pgf')\n",
    "plt.savefig('../../Graphs/pdf/int_w.pdf')\n",
    "plt.show()"
   ]
  },
  {
   "cell_type": "code",
   "execution_count": 14,
   "id": "9b84d62a-776a-4c39-91d6-58830ae72d1f",
   "metadata": {},
   "outputs": [
    {
     "data": {
      "image/png": "[encoded data removed]",
      "text/plain": [
       "<Figure size 451.364x252 with 1 Axes>"
      ]
     },
     "metadata": {
      "needs_background": "light"
     },
     "output_type": "display_data"
    }
   ],
   "source": [
    "fig, ax = plt.subplots()\n",
    "\n",
    "plt.rc('text', usetex=True)\n",
    "plt.rc('font', family='serif')\n",
    "\n",
    "plt.rc('pgf', texsystem = 'pdflatex')\n",
    "df_pre.plot(x = 'year_wst', y = 'roi', \n",
    "#               label = r'Normalized cap wedge $\\biggl(\\frac{1 + \\tau_{R,t}}{1 + \\tau_{C,t}}-1 \\biggr)$', \n",
    "               linestyle = '--',\n",
    "               color = 'b',\n",
    "               ax = ax)\n",
    "plt.rc('pgf', texsystem = 'pdflatex')\n",
    "\n",
    "df_post.plot(x = 'year_wst', y = 'roi',  \n",
    "               linestyle = '--',\n",
    "               color = 'b',\n",
    "               ax = ax)\n",
    "#ax.set_rasterized(True)\n",
    "ax.legend_.remove()\n",
    "plt.xlabel('year')\n",
    "fig.set_size_inches(w=6.26894, h=3.5)\n",
    "plt.title(r'\\textbf{Return on investment}')\n",
    "plt.savefig('../../Notes/Discussion/int_roi.pgf')\n",
    "plt.savefig('../../Graphs/pdf/int_roi.pdf')\n",
    "plt.show()"
   ]
  },
  {
   "cell_type": "code",
   "execution_count": 158,
   "id": "3c9bab07-0c96-4b65-9fe6-684554e8476b",
   "metadata": {},
   "outputs": [
    {
     "data": {
      "image/png": "[encoded data removed]",
      "text/plain": [
       "<Figure size 451.364x252 with 1 Axes>"
      ]
     },
     "metadata": {
      "needs_background": "light"
     },
     "output_type": "display_data"
    }
   ],
   "source": [
    "fig, ax = plt.subplots()\n",
    "\n",
    "plt.rc('text', usetex=True)\n",
    "plt.rc('font', family='serif')\n",
    "\n",
    "plt.rc('pgf', texsystem = 'pdflatex')\n",
    "df_pre.plot(x = 'year_wst', y = 'F_KM', \n",
    "#               label = r'Normalized cap wedge $\\biggl(\\frac{1 + \\tau_{R,t}}{1 + \\tau_{C,t}}-1 \\biggr)$', \n",
    "               linestyle = '--',\n",
    "               color = 'b',\n",
    "               ax = ax)\n",
    "plt.rc('pgf', texsystem = 'pdflatex')\n",
    "\n",
    "df_post.plot(x = 'year_wst', y = 'F_KM',  \n",
    "               linestyle = '--',\n",
    "               color = 'b',\n",
    "               ax = ax)\n",
    "#ax.set_rasterized(True)\n",
    "ax.legend_.remove()\n",
    "plt.xlabel('year')\n",
    "fig.set_size_inches(w=6.26894, h=3.5)\n",
    "plt.title(r'\\textbf{Return on investment}')\n",
    "plt.savefig('../../Notes/Discussion/F_KM.pgf')\n",
    "plt.show()"
   ]
  },
  {
   "cell_type": "code",
   "execution_count": 18,
   "id": "d29cb226-74fa-4c5a-a66b-90bf6eb599db",
   "metadata": {},
   "outputs": [
    {
     "data": {
      "image/png": "[encoded data removed]",
      "text/plain": [
       "<Figure size 451.364x252 with 1 Axes>"
      ]
     },
     "metadata": {
      "needs_background": "light"
     },
     "output_type": "display_data"
    }
   ],
   "source": [
    "fig, ax = plt.subplots()\n",
    "\n",
    "plt.rc('text', usetex=True)\n",
    "plt.rc('font', family='serif')\n",
    "\n",
    "plt.rc('pgf', texsystem = 'pdflatex')\n",
    "df_pre.plot(x = 'year_wst', y = 'cMt/cMt+1', \n",
    "#               label = r'Normalized cap wedge $\\biggl(\\frac{1 + \\tau_{R,t}}{1 + \\tau_{C,t}}-1 \\biggr)$', \n",
    "               linestyle = '--',\n",
    "               color = 'b',\n",
    "               ax = ax)\n",
    "plt.rc('pgf', texsystem = 'pdflatex')\n",
    "\n",
    "df_post.plot(x = 'year_wst', y = 'cMt/cMt+1',  \n",
    "               linestyle = '--',\n",
    "               color = 'b',\n",
    "               ax = ax)\n",
    "#ax.set_rasterized(True)\n",
    "ax.legend_.remove()\n",
    "plt.xlabel('year')\n",
    "fig.set_size_inches(w=6.26894, h=3.5)\n",
    "plt.title(r'\\textbf{Consumption ratio $C^{M}_{t}/C^{M}_{t+1}$}')\n",
    "#plt.savefig('../../Notes/Discussion/int_cns_ratio.pgf')\n",
    "#plt.savefig('../../Graphs/pdf/int_cns_ratio.pdf')\n",
    "plt.show()"
   ]
  },
  {
   "cell_type": "code",
   "execution_count": 16,
   "id": "049b5527-339f-4821-8fae-47d1b6c677aa",
   "metadata": {},
   "outputs": [
    {
     "data": {
      "image/png": "[encoded data removed]",
      "text/plain": [
       "<Figure size 451.364x252 with 1 Axes>"
      ]
     },
     "metadata": {
      "needs_background": "light"
     },
     "output_type": "display_data"
    }
   ],
   "source": [
    "fig, ax = plt.subplots()\n",
    "\n",
    "plt.rc('text', usetex=True)\n",
    "plt.rc('font', family='serif')\n",
    "\n",
    "plt.rc('pgf', texsystem = 'pdflatex')\n",
    "df_pre.plot(x = 'year_wst', y = 'cns_growth', \n",
    "#               label = r'Normalized cap wedge $\\biggl(\\frac{1 + \\tau_{R,t}}{1 + \\tau_{C,t}}-1 \\biggr)$', \n",
    "               linestyle = '--',\n",
    "               color = 'b',\n",
    "               ax = ax)\n",
    "plt.rc('pgf', texsystem = 'pdflatex')\n",
    "\n",
    "df_post.plot(x = 'year_wst', y = 'cns_growth',  \n",
    "               linestyle = '--',\n",
    "               color = 'b',\n",
    "               ax = ax)\n",
    "#ax.set_rasterized(True)\n",
    "ax.legend_.remove()\n",
    "plt.xlabel('year')\n",
    "fig.set_size_inches(w=6.26894, h=3.5)\n",
    "plt.title(r'\\textbf{Consumption growth $C^{M}_{t+1}/C^{M}_{t}$}')\n",
    "plt.savefig('../../Notes/Discussion/int_cns.pgf')\n",
    "plt.savefig('../../Graphs/pdf/int_cns.pdf')\n",
    "plt.show()"
   ]
  },
  {
   "cell_type": "code",
   "execution_count": 125,
   "id": "07d11165-e182-4ae9-9db9-4c45fc770b00",
   "metadata": {},
   "outputs": [
    {
     "data": {
      "text/plain": [
       "0.9653518568909352"
      ]
     },
     "execution_count": 125,
     "metadata": {},
     "output_type": "execute_result"
    }
   ],
   "source": [
    "df_pre[df_pre.year_wst>= 1920].loc[:,'cMt/cMt+1'].mean()"
   ]
  },
  {
   "cell_type": "code",
   "execution_count": 126,
   "id": "2a3b9e61-4e3a-45d8-a682-1c2ad0eddd9d",
   "metadata": {},
   "outputs": [
    {
     "data": {
      "text/plain": [
       "0.9571363860857356"
      ]
     },
     "execution_count": 126,
     "metadata": {},
     "output_type": "execute_result"
    }
   ],
   "source": [
    "df_post[df_post.year_wst< 1970].loc[:,'cMt/cMt+1'].mean()"
   ]
  },
  {
   "cell_type": "code",
   "execution_count": 71,
   "id": "0347a105-d73e-4c0d-b248-580cd15a2e84",
   "metadata": {},
   "outputs": [
    {
     "data": {
      "image/png": "[encoded data removed]",
      "text/plain": [
       "<Figure size 451.364x252 with 1 Axes>"
      ]
     },
     "metadata": {
      "needs_background": "light"
     },
     "output_type": "display_data"
    }
   ],
   "source": [
    "fig, ax = plt.subplots()\n",
    "\n",
    "plt.rc('text', usetex=True)\n",
    "plt.rc('font', family='serif')\n",
    "\n",
    "plt.rc('pgf', texsystem = 'pdflatex')\n",
    "df_pre.plot(x = 'year_wst', y = 'PMt_cMt/PMt+1_cMt+1', \n",
    "#               label = r'Normalized cap wedge $\\biggl(\\frac{1 + \\tau_{R,t}}{1 + \\tau_{C,t}}-1 \\biggr)$', \n",
    "               linestyle = '--',\n",
    "               color = 'b',\n",
    "               ax = ax)\n",
    "plt.rc('pgf', texsystem = 'pdflatex')\n",
    "\n",
    "df_post.plot(x = 'year_wst', y = 'PMt_cMt/PMt+1_cMt+1',  \n",
    "               linestyle = '--',\n",
    "               color = 'b',\n",
    "               ax = ax)\n",
    "#ax.set_rasterized(True)\n",
    "ax.legend_.remove()\n",
    "plt.xlabel('year')\n",
    "fig.set_size_inches(w=6.26894, h=3.5)\n",
    "plt.title(r'\\textbf{Expenditures}')\n",
    "plt.savefig('../../Notes/Discussion/int_exp.pgf')\n",
    "plt.show()"
   ]
  },
  {
   "cell_type": "code",
   "execution_count": 49,
   "id": "00bc3980-df40-478b-a127-cda870287ee7",
   "metadata": {},
   "outputs": [],
   "source": [
    "beta = 0.96"
   ]
  },
  {
   "cell_type": "code",
   "execution_count": 188,
   "id": "d31233d5-60d0-4e92-9e17-86b16060faa4",
   "metadata": {},
   "outputs": [],
   "source": [
    "rho = 3"
   ]
  },
  {
   "cell_type": "code",
   "execution_count": 189,
   "id": "3223b91f-6e00-4764-b597-ad85d5b34996",
   "metadata": {},
   "outputs": [],
   "source": [
    "df_pre['wedge_test'] = beta * (df_pre['cMt/cMt+1'])** rho * df_pre['roi']"
   ]
  },
  {
   "cell_type": "code",
   "execution_count": 190,
   "id": "3d6893c1-4f99-4591-b6fe-db0366febfef",
   "metadata": {},
   "outputs": [],
   "source": [
    "df_post['wedge_test'] = beta * (df_post['cMt/cMt+1'])** rho * df_post['roi']"
   ]
  },
  {
   "cell_type": "code",
   "execution_count": 191,
   "id": "saved-tactics",
   "metadata": {},
   "outputs": [
    {
     "data": {
      "image/png": "[encoded data removed]",
      "text/plain": [
       "<Figure size 451.364x252 with 1 Axes>"
      ]
     },
     "metadata": {
      "needs_background": "light"
     },
     "output_type": "display_data"
    }
   ],
   "source": [
    "fig, ax = plt.subplots()\n",
    "\n",
    "plt.rc('text', usetex=True)\n",
    "plt.rc('font', family='serif')\n",
    "\n",
    "#plt.rc('pgf', texsystem = 'pdflatex')\n",
    "df_pre.plot(x = 'year_wst', y = 'wedge_test', \n",
    "#               label = r'Normalized cap wedge $\\biggl(\\frac{1 + \\tau_{R,t}}{1 + \\tau_{C,t}}-1 \\biggr)$', \n",
    "               marker = '.',\n",
    "               linestyle = '--',\n",
    "               color = 'b',\n",
    "               ax = ax)\n",
    "df_post.plot(x = 'year_wst', y = 'wedge_test',  \n",
    "               marker = '.',\n",
    "               linestyle = '--',\n",
    "               color = 'b',\n",
    "               ax = ax)\n",
    "#ax.set_rasterized(True)\n",
    "ax.legend_.remove()\n",
    "plt.xlabel('year')\n",
    "fig.set_size_inches(w=6.26894, h=3.5)\n",
    "plt.title(r'\\textbf{Intertemporal wedge $\\tau_{K,t+1}$}')\n",
    "plt.savefig('../../Notes/Discussion/int_w_test.pdf')\n",
    "plt.show()"
   ]
  },
  {
   "cell_type": "code",
   "execution_count": 193,
   "id": "c808c584-2303-4324-913b-a64699e91d4b",
   "metadata": {},
   "outputs": [
    {
     "data": {
      "text/plain": [
       "1.5685301334698918"
      ]
     },
     "execution_count": 193,
     "metadata": {},
     "output_type": "execute_result"
    }
   ],
   "source": [
    "df_post[df_post.year_wst< 1970].wedge_test.mean()"
   ]
  },
  {
   "cell_type": "code",
   "execution_count": 194,
   "id": "cabafc61-39a2-45b5-bf60-38ebd445c7ca",
   "metadata": {},
   "outputs": [
    {
     "data": {
      "text/plain": [
       "1.7040692486471183"
      ]
     },
     "execution_count": 194,
     "metadata": {},
     "output_type": "execute_result"
    }
   ],
   "source": [
    "df_post[df_post.year_wst< 1970].intertemporal_wedge.mean()"
   ]
  },
  {
   "cell_type": "code",
   "execution_count": 170,
   "id": "be78cc85-85c6-4c1a-97e3-bfd4a6da05d2",
   "metadata": {},
   "outputs": [
    {
     "data": {
      "text/plain": [
       "1.0387307982191418"
      ]
     },
     "execution_count": 170,
     "metadata": {},
     "output_type": "execute_result"
    }
   ],
   "source": [
    "df_pre[df_pre.year_wst>= 1920].wedge_test.mean()"
   ]
  },
  {
   "cell_type": "code",
   "execution_count": 73,
   "id": "9dedf902-ea78-4d75-9002-2bf7ec99efe1",
   "metadata": {},
   "outputs": [
    {
     "data": {
      "image/png": "[encoded data removed]",
      "text/plain": [
       "<Figure size 451.364x252 with 1 Axes>"
      ]
     },
     "metadata": {
      "needs_background": "light"
     },
     "output_type": "display_data"
    }
   ],
   "source": [
    "fig, ax = plt.subplots()\n",
    "\n",
    "plt.rc('text', usetex=True)\n",
    "plt.rc('font', family='serif')\n",
    "\n",
    "#plt.rc('pgf', texsystem = 'pdflatex')\n",
    "df_pre.plot(x = 'year_wst', y = 'PMt+1/PMt', \n",
    "#               label = r'Normalized cap wedge $\\biggl(\\frac{1 + \\tau_{R,t}}{1 + \\tau_{C,t}}-1 \\biggr)$', \n",
    "               marker = '.',\n",
    "               linestyle = '--',\n",
    "               color = 'b',\n",
    "               ax = ax)\n",
    "df_post.plot(x = 'year_wst', y = 'PMt+1/PMt',  \n",
    "               marker = '.',\n",
    "               linestyle = '--',\n",
    "               color = 'b',\n",
    "               ax = ax)\n",
    "#ax.set_rasterized(True)\n",
    "ax.legend_.remove()\n",
    "plt.xlabel('year')\n",
    "fig.set_size_inches(w=6.26894, h=3.5)\n",
    "plt.title(r'\\textbf{Intertemporal wedge $\\tau_{K,t+1}$}')\n",
    "#plt.savefig('../../Notes/Discussion/int_w_test.pdf')\n",
    "plt.show()"
   ]
  },
  {
   "cell_type": "code",
   "execution_count": 69,
   "id": "8353e412-f9b4-44ca-8257-892887d7af19",
   "metadata": {},
   "outputs": [
    {
     "data": {
      "image/png": "[encoded data removed]",
      "text/plain": [
       "<Figure size 451.364x252 with 1 Axes>"
      ]
     },
     "metadata": {
      "needs_background": "light"
     },
     "output_type": "display_data"
    }
   ],
   "source": [
    "fig, ax = plt.subplots()\n",
    "\n",
    "plt.rc('text', usetex=True)\n",
    "plt.rc('font', family='serif')\n",
    "\n",
    "\n",
    "df_post.plot(x = 'year_wst', y = 'non_food',  \n",
    "               linestyle = '--',\n",
    "               color = 'b',\n",
    "               ax = ax)\n",
    "#ax.set_rasterized(True)\n",
    "ax.legend_.remove()\n",
    "plt.xlabel('year')\n",
    "fig.set_size_inches(w=6.26894, h=3.5)\n",
    "plt.title(r'\\textbf{Expeniduters}')\n",
    "#plt.savefig('../../Notes/Discussion/int_exp.pgf')\n",
    "plt.show()"
   ]
  },
  {
   "cell_type": "code",
   "execution_count": 70,
   "id": "ce278a0f-966a-4317-a7bb-cbe960a192c5",
   "metadata": {},
   "outputs": [
    {
     "data": {
      "image/png": "[encoded data removed]",
      "text/plain": [
       "<Figure size 451.364x252 with 1 Axes>"
      ]
     },
     "metadata": {
      "needs_background": "light"
     },
     "output_type": "display_data"
    }
   ],
   "source": [
    "fig, ax = plt.subplots()\n",
    "\n",
    "plt.rc('text', usetex=True)\n",
    "plt.rc('font', family='serif')\n",
    "\n",
    "\n",
    "df_post.plot(x = 'year_wst', y = 'PMt+1/PMt',  \n",
    "               linestyle = '--',\n",
    "               color = 'b',\n",
    "               ax = ax)\n",
    "#ax.set_rasterized(True)\n",
    "ax.legend_.remove()\n",
    "plt.xlabel('year')\n",
    "fig.set_size_inches(w=6.26894, h=3.5)\n",
    "plt.title(r'\\textbf{Inflations}')\n",
    "#plt.savefig('../../Notes/Discussion/int_exp.pgf')\n",
    "plt.show()"
   ]
  },
  {
   "cell_type": "code",
   "execution_count": null,
   "id": "773dc3eb-d438-4dca-a6aa-0bd0fe2c1f7e",
   "metadata": {},
   "outputs": [],
   "source": []
  }
 ],
 "metadata": {
  "kernelspec": {
   "display_name": "Python 3 (ipykernel)",
   "language": "python",
   "name": "python3"
  },
  "language_info": {
   "codemirror_mode": {
    "name": "ipython",
    "version": 3
   },
   "file_extension": ".py",
   "mimetype": "text/x-python",
   "name": "python",
   "nbconvert_exporter": "python",
   "pygments_lexer": "ipython3",
   "version": "3.9.6"
  }
 },
 "nbformat": 4,
 "nbformat_minor": 5
}
