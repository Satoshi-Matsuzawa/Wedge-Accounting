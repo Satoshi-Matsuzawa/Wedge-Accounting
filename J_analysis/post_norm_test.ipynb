{
 "cells": [
  {
   "cell_type": "code",
   "execution_count": 33,
   "id": "2b4f88cf-a104-4763-b81e-5d93a3061c2c",
   "metadata": {},
   "outputs": [],
   "source": [
    "import pandas as pd\n",
    "import numpy as np\n",
    "import matplotlib.pyplot as plt"
   ]
  },
  {
   "cell_type": "code",
   "execution_count": 34,
   "id": "8b8a487a-7d8e-420d-9668-3e75a5c16660",
   "metadata": {},
   "outputs": [],
   "source": [
    "# read csv files\n",
    "df_post_CPI = pd.read_csv('../../Data/Downloads/Post/post_CPI_alt.csv')\n",
    "df_CPI_link = pd.read_csv('../../Data/Downloads/Pre/pre_CPI_link.csv')\n",
    "df_post_exp = pd.read_csv('../../Data/Downloads/Post/post_exp.csv')"
   ]
  },
  {
   "cell_type": "code",
   "execution_count": 35,
   "id": "536cdc12-aab0-4c1c-9d93-b8dbb1dbf007",
   "metadata": {},
   "outputs": [],
   "source": [
    "gammaA = 50.85"
   ]
  },
  {
   "cell_type": "code",
   "execution_count": 36,
   "id": "f7863e84-4f2b-4ec3-bd38-6b85ad2d292c",
   "metadata": {},
   "outputs": [
    {
     "data": {
      "text/plain": [
       "1528.5086250000002"
      ]
     },
     "execution_count": 36,
     "metadata": {},
     "output_type": "execute_result"
    }
   ],
   "source": [
    "50.85 * 360.71 /12"
   ]
  },
  {
   "cell_type": "code",
   "execution_count": 37,
   "id": "3a0a5efc-c1d6-4c8f-a60d-6e55ffba71f9",
   "metadata": {},
   "outputs": [],
   "source": [
    "cpi_agr_link_1935_55 = df_CPI_link.loc[df_CPI_link.year_wst == 1955]['cpi_agr'].values[0]"
   ]
  },
  {
   "cell_type": "code",
   "execution_count": 38,
   "id": "270180a3-3e0f-4f2a-9fa5-f027e89092fc",
   "metadata": {},
   "outputs": [
    {
     "data": {
      "text/plain": [
       "36071.0"
      ]
     },
     "execution_count": 38,
     "metadata": {},
     "output_type": "execute_result"
    }
   ],
   "source": [
    "cpi_agr_link_1935_55"
   ]
  },
  {
   "cell_type": "code",
   "execution_count": 39,
   "id": "b763a655-b41a-44d5-b417-4f4ae99fd62d",
   "metadata": {},
   "outputs": [],
   "source": [
    "gammaA_1955 = gammaA / 100 * cpi_agr_link_1935_55"
   ]
  },
  {
   "cell_type": "code",
   "execution_count": 40,
   "id": "a415c72d-3619-430d-a024-a7435a8ca682",
   "metadata": {},
   "outputs": [
    {
     "data": {
      "text/plain": [
       "18342.1035"
      ]
     },
     "execution_count": 40,
     "metadata": {},
     "output_type": "execute_result"
    }
   ],
   "source": [
    "gammaA_1955"
   ]
  },
  {
   "cell_type": "code",
   "execution_count": 41,
   "id": "9f157caa-8cea-4347-b974-2636d7047740",
   "metadata": {},
   "outputs": [],
   "source": [
    "cpi_agr_1955 = df_post_CPI.loc[df_post_CPI.year_wst == 1955]['cpi_agr'].values[0]"
   ]
  },
  {
   "cell_type": "code",
   "execution_count": 42,
   "id": "86152be3-069d-4e74-8e77-a80053822df7",
   "metadata": {},
   "outputs": [
    {
     "data": {
      "text/plain": [
       "16.6"
      ]
     },
     "execution_count": 42,
     "metadata": {},
     "output_type": "execute_result"
    }
   ],
   "source": [
    "cpi_agr_1955"
   ]
  },
  {
   "cell_type": "code",
   "execution_count": 51,
   "id": "360e94af-cc76-4ecf-bc6a-700a50e2fdcb",
   "metadata": {},
   "outputs": [],
   "source": [
    "cpi_agr_1990 = df_post_CPI.loc[df_post_CPI.year_wst == 1990]['cpi_agr'].values[0]"
   ]
  },
  {
   "cell_type": "code",
   "execution_count": 52,
   "id": "79c45591-2f33-4d3d-89c4-d9c94f1dc3e3",
   "metadata": {},
   "outputs": [],
   "source": [
    "cpi_agr_link_1955_1990 = cpi_agr_1990 / cpi_agr_1955"
   ]
  },
  {
   "cell_type": "code",
   "execution_count": 45,
   "id": "256af1bc-4598-4809-8d1c-7045b517e070",
   "metadata": {},
   "outputs": [
    {
     "data": {
      "text/plain": [
       "6.024096385542168"
      ]
     },
     "execution_count": 45,
     "metadata": {},
     "output_type": "execute_result"
    }
   ],
   "source": [
    "cpi_agr_link_1955_2005"
   ]
  },
  {
   "cell_type": "code",
   "execution_count": 46,
   "id": "0acfcfc8-0844-4fd9-b13c-6f94ea5fb0a8",
   "metadata": {},
   "outputs": [
    {
     "data": {
      "text/plain": [
       "1528.5086250000002"
      ]
     },
     "execution_count": 46,
     "metadata": {},
     "output_type": "execute_result"
    }
   ],
   "source": [
    "gammaA_1955/12"
   ]
  },
  {
   "cell_type": "code",
   "execution_count": 47,
   "id": "23a55faa-849a-46d3-b32f-22d5d8f83d9a",
   "metadata": {},
   "outputs": [
    {
     "data": {
      "text/plain": [
       "374.56905503634476"
      ]
     },
     "execution_count": 47,
     "metadata": {},
     "output_type": "execute_result"
    }
   ],
   "source": [
    "36071/96.3"
   ]
  },
  {
   "cell_type": "code",
   "execution_count": 48,
   "id": "d5051709-84a6-42f1-8e6a-dcc415b8f3f4",
   "metadata": {},
   "outputs": [],
   "source": [
    "gammaA_2005 = gammaA / 100 * cpi_agr_link_1935_55 * cpi_agr_link_1955_2005"
   ]
  },
  {
   "cell_type": "code",
   "execution_count": 49,
   "id": "b18e74ba-afe4-4ae9-9e9a-7be555029bd9",
   "metadata": {},
   "outputs": [
    {
     "data": {
      "text/plain": [
       "110494.59939759035"
      ]
     },
     "execution_count": 49,
     "metadata": {},
     "output_type": "execute_result"
    }
   ],
   "source": [
    "gammaA_2005"
   ]
  },
  {
   "cell_type": "code",
   "execution_count": 17,
   "id": "e02bc816-0153-46fc-af95-cbbe606403a5",
   "metadata": {},
   "outputs": [],
   "source": [
    "df = df_post_exp.merge(df_post_CPI, on = 'year_wst')"
   ]
  },
  {
   "cell_type": "code",
   "execution_count": 18,
   "id": "ec108a21-80ff-43d8-bb0e-e887d9bd46ca",
   "metadata": {},
   "outputs": [],
   "source": [
    "df['food_real'] = df.food / df.cpi_agr * 100\n",
    "df['cons_real'] = df.cons / df.cpi_goods * 100\n",
    "df['non_food_real'] = df.cons_real - df.food_real"
   ]
  },
  {
   "cell_type": "code",
   "execution_count": 19,
   "id": "806a1959-6377-452d-8601-2ecfddf9c08a",
   "metadata": {},
   "outputs": [],
   "source": [
    "df['food_pc_real'] = df.food_pc / df.cpi_agr * 100\n",
    "df['cons_pc_real'] = df.cons_pc / df.cpi_goods * 100\n",
    "df['non_food_pc_real'] = df.cons_pc_real - df.food_pc_real"
   ]
  },
  {
   "cell_type": "code",
   "execution_count": 20,
   "id": "a5ecd2b7-f269-4d98-a6ea-20c15537cd1c",
   "metadata": {},
   "outputs": [],
   "source": [
    "cpi_agr_1955 = df_post_CPI.loc[df_post_CPI.year_wst == 1955]['cpi_agr'].values[0]"
   ]
  },
  {
   "cell_type": "code",
   "execution_count": 21,
   "id": "d1ca961c-ece2-427c-8516-4687ba36475a",
   "metadata": {},
   "outputs": [],
   "source": [
    "df['cpi_agr_35'] =  cpi_agr_link_1935_55 / cpi_agr_1955 * df.cpi_agr"
   ]
  },
  {
   "cell_type": "code",
   "execution_count": 22,
   "id": "2481cdc1-13ac-444f-bbfd-f33255017112",
   "metadata": {},
   "outputs": [],
   "source": [
    "df['gammaA'] = gammaA/ 100 * df.cpi_agr_35/12"
   ]
  },
  {
   "cell_type": "code",
   "execution_count": 23,
   "id": "b9588d52-20e0-4389-859b-2123f2e3ec66",
   "metadata": {},
   "outputs": [],
   "source": [
    "df['cA-gammaA/cM_nom'] = (df.food_pc - df.gammaA) / df.non_food_pc"
   ]
  },
  {
   "cell_type": "code",
   "execution_count": 24,
   "id": "a4a59ef7-5945-459f-82d5-dbc07ff3c9a8",
   "metadata": {},
   "outputs": [],
   "source": [
    "df['cA-gammaA/cM_real'] = (df.food_pc_real - gammaA_2005/12 ) / df.non_food_pc_real"
   ]
  },
  {
   "cell_type": "code",
   "execution_count": 25,
   "id": "7be64099-08ea-45a7-8142-12c9237a669f",
   "metadata": {},
   "outputs": [],
   "source": [
    "df['cA/cM_nom']  = df.food_pc / df.non_food_pc\n",
    "df['cA/cM_real'] = df.food_pc_real / df.non_food_pc_real"
   ]
  },
  {
   "cell_type": "code",
   "execution_count": 26,
   "id": "565e5a43-6092-4a09-8ac7-0870a4fd8a69",
   "metadata": {},
   "outputs": [],
   "source": [
    "df['food/total_nom'] = df.food_pc/df.cons_pc\n",
    "df['food/total_real'] = df.food_pc_real/df.cons_pc_real"
   ]
  },
  {
   "cell_type": "code",
   "execution_count": 27,
   "id": "85c85a23-ecc9-41db-8bb3-b2ac77102f5f",
   "metadata": {},
   "outputs": [],
   "source": [
    "df.to_csv('test.csv')"
   ]
  },
  {
   "cell_type": "code",
   "execution_count": 28,
   "id": "887db11d-1bc9-41d8-823e-96087bf2536c",
   "metadata": {},
   "outputs": [],
   "source": [
    "df_temp = df[['year_wst', 'cA-gammaA/cM_nom', 'cA-gammaA/cM_real']]"
   ]
  },
  {
   "cell_type": "code",
   "execution_count": 29,
   "id": "663e4500-de26-4a72-aef5-ffcc07bd9af6",
   "metadata": {},
   "outputs": [],
   "source": [
    "df_temp.to_csv('test1.csv')"
   ]
  },
  {
   "cell_type": "code",
   "execution_count": 31,
   "id": "bdba0505-8eb2-447b-a13f-7799037ec744",
   "metadata": {},
   "outputs": [
    {
     "data": {
      "text/plain": [
       "Index(['year_jpn_x', 'year_wst', 'hh_size', 'cons', 'food', 'non_food',\n",
       "       'cons_pc', 'food_pc', 'non_food_pc', 'year_jpn_y', 'cpi_goods',\n",
       "       'cpi_agr', 'food_real', 'cons_real', 'non_food_real', 'food_pc_real',\n",
       "       'cons_pc_real', 'non_food_pc_real', 'cpi_agr_35', 'gammaA',\n",
       "       'cA-gammaA/cM_nom', 'cA-gammaA/cM_real', 'cA/cM_nom', 'cA/cM_real',\n",
       "       'food/total_nom', 'food/total_real'],\n",
       "      dtype='object')"
      ]
     },
     "execution_count": 31,
     "metadata": {},
     "output_type": "execute_result"
    }
   ],
   "source": [
    "df.columns"
   ]
  },
  {
   "cell_type": "code",
   "execution_count": null,
   "id": "5fdbded4-8742-4c56-83c6-e25b41b80856",
   "metadata": {},
   "outputs": [],
   "source": []
  }
 ],
 "metadata": {
  "kernelspec": {
   "display_name": "Python 3 (ipykernel)",
   "language": "python",
   "name": "python3"
  },
  "language_info": {
   "codemirror_mode": {
    "name": "ipython",
    "version": 3
   },
   "file_extension": ".py",
   "mimetype": "text/x-python",
   "name": "python",
   "nbconvert_exporter": "python",
   "pygments_lexer": "ipython3",
   "version": "3.9.6"
  }
 },
 "nbformat": 4,
 "nbformat_minor": 5
}
