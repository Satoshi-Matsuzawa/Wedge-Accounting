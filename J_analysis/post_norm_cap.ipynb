{
 "cells": [
  {
   "cell_type": "code",
   "execution_count": 28,
   "id": "detailed-contract",
   "metadata": {},
   "outputs": [],
   "source": [
    "import pandas as pd\n",
    "import numpy as np\n",
    "import matplotlib.pyplot as plt"
   ]
  },
  {
   "cell_type": "code",
   "execution_count": 29,
   "id": "handed-concentrate",
   "metadata": {},
   "outputs": [],
   "source": [
    "# read csv files\n",
    "df_cap = pd.read_csv('../../Data/Downloaded_Old/post_cap.csv')\n",
    "df_GDP = pd.read_csv('../../Data/Downloaded_Old/post_GDP.csv')\n",
    "df_cns = pd.read_csv('../../Data/Downloaded_Old/post_real_cns.csv')"
   ]
  },
  {
   "cell_type": "code",
   "execution_count": 30,
   "id": "offshore-front",
   "metadata": {},
   "outputs": [],
   "source": [
    "# parameters\n",
    "α_KA  = 0.15\n",
    "α_LA  = 0.55\n",
    "α_KM  = 0.66\n",
    "α_LM  = 0.34\n",
    "η     = 0.15\n",
    "γ_pre = 60\n",
    "#γ_post = 76.4\n",
    "γ_post = 68.8 \n",
    "δ     = 0.05\n",
    "β     = 0.96"
   ]
  },
  {
   "cell_type": "code",
   "execution_count": 31,
   "id": "serial-pixel",
   "metadata": {},
   "outputs": [],
   "source": [
    "# create the ratio of marginal utility\n",
    "df_cns['cA-γ/cM'] = (df_cns['real_food_cns'] - γ_post) / df_cns['real_non_food_cns']\n",
    "df_cns['mu_M/mu_A'] = (1-η) / η * df_cns['cA-γ/cM']"
   ]
  },
  {
   "cell_type": "code",
   "execution_count": 32,
   "id": "focal-spray",
   "metadata": {},
   "outputs": [],
   "source": [
    "# change d type for merge\n",
    "df_cap['year_jpn'] = df_cap['year_jpn'].astype(str)\n",
    "df_GDP['year_jpn'] = df_GDP['year_jpn'].astype(str)"
   ]
  },
  {
   "cell_type": "code",
   "execution_count": 33,
   "id": "organizational-fleet",
   "metadata": {},
   "outputs": [],
   "source": [
    "# divide by 1000 to make the unit common. \n",
    "denom = 1000\n",
    "\n",
    "columns = ['tot_cap', 'prm_cap', 'non_prm_cap']\n",
    "for column in columns:\n",
    "    df_cap[column] = df_cap[column] / denom"
   ]
  },
  {
   "cell_type": "code",
   "execution_count": 34,
   "id": "warming-newfoundland",
   "metadata": {},
   "outputs": [],
   "source": [
    "df_GDP_cap = pd.merge(df_GDP, df_cap, on = 'year_jpn')"
   ]
  },
  {
   "cell_type": "code",
   "execution_count": 35,
   "id": "creative-bhutan",
   "metadata": {},
   "outputs": [],
   "source": [
    "df_GDP_cap_picked = df_GDP_cap[['year_wst', 'prm_GDP', 'non_prm_GDP', 'prm_cap', 'non_prm_cap']].copy()"
   ]
  },
  {
   "cell_type": "code",
   "execution_count": 36,
   "id": "disturbed-equation",
   "metadata": {},
   "outputs": [],
   "source": [
    "df_GDP_cap_picked['F_KA'] = α_KA * df_GDP_cap_picked['prm_GDP'] / df_GDP_cap_picked['prm_cap'] "
   ]
  },
  {
   "cell_type": "code",
   "execution_count": 37,
   "id": "departmental-principle",
   "metadata": {},
   "outputs": [],
   "source": [
    "df_GDP_cap_picked['F_KM'] = α_KM * df_GDP_cap_picked['non_prm_GDP'] / df_GDP_cap_picked['non_prm_cap'] "
   ]
  },
  {
   "cell_type": "code",
   "execution_count": 38,
   "id": "complex-hampshire",
   "metadata": {},
   "outputs": [],
   "source": [
    "df_GDP_cap_picked['F_KM/F_KA'] = df_GDP_cap_picked['F_KM'] / df_GDP_cap_picked['F_KA']"
   ]
  },
  {
   "cell_type": "code",
   "execution_count": 39,
   "id": "limited-impossible",
   "metadata": {},
   "outputs": [],
   "source": [
    "df_merged = pd.merge(df_GDP_cap_picked, \n",
    "                    df_cns[['year_wst', 'mu_M/mu_A']], on = 'year_wst')"
   ]
  },
  {
   "cell_type": "code",
   "execution_count": 40,
   "id": "mathematical-istanbul",
   "metadata": {},
   "outputs": [],
   "source": [
    "df_merged['norm_cap_wedge'] = df_merged['mu_M/mu_A'] * df_merged['F_KM/F_KA']"
   ]
  },
  {
   "cell_type": "code",
   "execution_count": 41,
   "id": "temporal-clock",
   "metadata": {},
   "outputs": [],
   "source": [
    "df_merged['norm_cap_wedge-1'] = df_merged['norm_cap_wedge'] - 1"
   ]
  },
  {
   "cell_type": "code",
   "execution_count": 42,
   "id": "external-legislation",
   "metadata": {},
   "outputs": [
    {
     "data": {
      "text/plain": [
       "<AxesSubplot:xlabel='year_wst'>"
      ]
     },
     "execution_count": 42,
     "metadata": {},
     "output_type": "execute_result"
    },
    {
     "data": {
      "image/png": "[encoded data removed]",
      "text/plain": [
       "<Figure size 432x288 with 1 Axes>"
      ]
     },
     "metadata": {
      "needs_background": "light"
     },
     "output_type": "display_data"
    }
   ],
   "source": [
    "fig, ax = plt.subplots()\n",
    "df_merged.plot(x = 'year_wst', y = 'norm_cap_wedge-1', ax = ax)"
   ]
  },
  {
   "cell_type": "code",
   "execution_count": 43,
   "id": "adjacent-creator",
   "metadata": {},
   "outputs": [],
   "source": [
    "df_merged.to_csv('../../Data/Results/post_cap_w.csv', index = False)"
   ]
  },
  {
   "cell_type": "code",
   "execution_count": 44,
   "id": "bigger-canvas",
   "metadata": {},
   "outputs": [
    {
     "data": {
      "text/plain": [
       "0.2467488868418013"
      ]
     },
     "execution_count": 44,
     "metadata": {},
     "output_type": "execute_result"
    }
   ],
   "source": [
    "(df_merged.loc[3].norm_cap_wedge - df_merged.loc[11].norm_cap_wedge) / df_merged.loc[3].norm_cap_wedge"
   ]
  },
  {
   "cell_type": "code",
   "execution_count": 45,
   "id": "bibliographic-madison",
   "metadata": {},
   "outputs": [
    {
     "data": {
      "text/plain": [
       "21.857485052628107"
      ]
     },
     "execution_count": 45,
     "metadata": {},
     "output_type": "execute_result"
    }
   ],
   "source": [
    "df_merged.loc[0:15]['norm_cap_wedge-1'].mean()"
   ]
  },
  {
   "cell_type": "code",
   "execution_count": 46,
   "id": "a8c5684d-de65-41c6-8965-c7882dd844db",
   "metadata": {},
   "outputs": [],
   "source": [
    "df_merged['YM/YA'] = df_merged['non_prm_GDP']/df_merged['prm_GDP']"
   ]
  },
  {
   "cell_type": "code",
   "execution_count": 47,
   "id": "e2eb3a3f-c66e-4891-9961-e085100dccda",
   "metadata": {},
   "outputs": [],
   "source": [
    "df_merged['KM/KA'] = df_merged['non_prm_cap']/df_merged['prm_cap']"
   ]
  },
  {
   "cell_type": "code",
   "execution_count": 48,
   "id": "55ca0315-2ca7-4cb1-867e-5aa5e40d9a28",
   "metadata": {},
   "outputs": [
    {
     "data": {
      "text/plain": [
       "<matplotlib.legend.Legend at 0x11ab12b50>"
      ]
     },
     "execution_count": 48,
     "metadata": {},
     "output_type": "execute_result"
    },
    {
     "data": {
      "image/png": "[encoded data removed]",
      "text/plain": [
       "<Figure size 432x288 with 1 Axes>"
      ]
     },
     "metadata": {
      "needs_background": "light"
     },
     "output_type": "display_data"
    }
   ],
   "source": [
    "fig, ax = plt.subplots()\n",
    "df_merged.plot(x = 'year_wst', y = 'YM/YA', ax = ax)\n",
    "df_merged.plot(x = 'year_wst', y = 'KM/KA', ax = ax)\n",
    "plt.legend()"
   ]
  },
  {
   "cell_type": "code",
   "execution_count": 50,
   "id": "2083888f-f9a7-49db-8bab-629578b92dc6",
   "metadata": {},
   "outputs": [],
   "source": [
    "#df_merged.to_csv('../../Data/Results/post_cap_w_test.csv', index = False)"
   ]
  },
  {
   "cell_type": "code",
   "execution_count": 54,
   "id": "9f7ecc4b-fdfe-4bed-a7b3-13c49f317fd6",
   "metadata": {},
   "outputs": [],
   "source": [
    "df_GDP_cap['F_K'] = α_KM * df_GDP_cap['tot_prv_GDP'] / df_GDP_cap['tot_cap'] "
   ]
  },
  {
   "cell_type": "code",
   "execution_count": 56,
   "id": "a0558e18-445a-4110-9dcf-bec83c4a580f",
   "metadata": {},
   "outputs": [
    {
     "data": {
      "text/plain": [
       "<AxesSubplot:xlabel='year_wst'>"
      ]
     },
     "execution_count": 56,
     "metadata": {},
     "output_type": "execute_result"
    },
    {
     "data": {
      "image/png": "[encoded data removed]",
      "text/plain": [
       "<Figure size 432x288 with 1 Axes>"
      ]
     },
     "metadata": {
      "needs_background": "light"
     },
     "output_type": "display_data"
    }
   ],
   "source": [
    "fig, ax = plt.subplots()\n",
    "df_GDP_cap.plot(x = 'year_wst', y = 'F_K', ax = ax)"
   ]
  },
  {
   "cell_type": "code",
   "execution_count": null,
   "id": "concerned-butler",
   "metadata": {},
   "outputs": [],
   "source": []
  }
 ],
 "metadata": {
  "kernelspec": {
   "display_name": "Python 3 (ipykernel)",
   "language": "python",
   "name": "python3"
  },
  "language_info": {
   "codemirror_mode": {
    "name": "ipython",
    "version": 3
   },
   "file_extension": ".py",
   "mimetype": "text/x-python",
   "name": "python",
   "nbconvert_exporter": "python",
   "pygments_lexer": "ipython3",
   "version": "3.9.6"
  }
 },
 "nbformat": 4,
 "nbformat_minor": 5
}
