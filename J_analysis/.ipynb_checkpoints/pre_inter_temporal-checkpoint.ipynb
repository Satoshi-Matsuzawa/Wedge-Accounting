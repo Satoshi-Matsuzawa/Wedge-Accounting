{
 "cells": [
  {
   "cell_type": "code",
   "execution_count": 45,
   "id": "supposed-greeting",
   "metadata": {},
   "outputs": [],
   "source": [
    "import pandas as pd\n",
    "import numpy as np\n",
    "import matplotlib.pyplot as plt"
   ]
  },
  {
   "cell_type": "code",
   "execution_count": 46,
   "id": "dried-piano",
   "metadata": {},
   "outputs": [],
   "source": [
    "# read csv files\n",
    "df_cap = pd.read_csv('../../Data/Downloaded/postwar_cap.csv')\n",
    "df_GDP = pd.read_csv('../../Data/Downloaded/postwar_GDP.csv')\n",
    "df_cns = pd.read_csv('../../Data/Downloaded/postwar_real_cons.csv')"
   ]
  },
  {
   "cell_type": "code",
   "execution_count": 47,
   "id": "heavy-longitude",
   "metadata": {},
   "outputs": [],
   "source": [
    "# parameters\n",
    "α_KA  = 0.15\n",
    "α_LA  = 0.55\n",
    "α_KM  = 0.6\n",
    "α_LM  = 0.4\n",
    "η     = 0.15\n",
    "γ_pre = 60\n",
    "γ_post = 76.4\n",
    "δ     = 0.05\n",
    "β     = 0.96"
   ]
  },
  {
   "cell_type": "code",
   "execution_count": 48,
   "id": "pregnant-concern",
   "metadata": {},
   "outputs": [],
   "source": [
    "# calculation of intertemporal wedge requires cMt/cMt+1\n",
    "df_cns['c_M_t'] = df_cns['real_non_food_cons']\n",
    "df_cns['c_M_t+1'] = df_cns['real_non_food_cons'].shift(-1)"
   ]
  },
  {
   "cell_type": "code",
   "execution_count": 49,
   "id": "static-boards",
   "metadata": {},
   "outputs": [],
   "source": [
    "df_cns['c_M_t/c_M_t+1'] = df_cns['c_M_t'] / df_cns['c_M_t+1']"
   ]
  },
  {
   "cell_type": "code",
   "execution_count": 50,
   "id": "certain-transcription",
   "metadata": {},
   "outputs": [],
   "source": [
    "# change d type for merge\n",
    "df_cap['year_jpn'] = df_cap['year_jpn'].astype(str)\n",
    "df_GDP['year_jpn'] = df_GDP['year_jpn'].astype(str)"
   ]
  },
  {
   "cell_type": "code",
   "execution_count": 51,
   "id": "political-scene",
   "metadata": {},
   "outputs": [],
   "source": [
    "# divide by 1000 to make the unit common. \n",
    "denom = 1000\n",
    "\n",
    "columns = ['tot_cap', 'prm_cap', 'non_prm_cap']\n",
    "for column in columns:\n",
    "    df_cap[column] = df_cap[column] / denom"
   ]
  },
  {
   "cell_type": "code",
   "execution_count": 52,
   "id": "electoral-science",
   "metadata": {},
   "outputs": [],
   "source": [
    "df_GDP_cap = pd.merge(df_GDP[['year_jpn', 'year_wst', 'non_prm_GDP']],\n",
    "                      df_cap[['year_jpn', 'non_prm_cap']], on = 'year_jpn')"
   ]
  },
  {
   "cell_type": "code",
   "execution_count": 53,
   "id": "mediterranean-perception",
   "metadata": {},
   "outputs": [],
   "source": [
    "df_GDP_cap['non_prm_cap_prod'] = α_KM * df_GDP_cap['non_prm_GDP'] / df_GDP_cap['non_prm_cap']"
   ]
  },
  {
   "cell_type": "code",
   "execution_count": 54,
   "id": "mysterious-instrumentation",
   "metadata": {},
   "outputs": [],
   "source": [
    "# real return on capital\n",
    "df_GDP_cap['real_roc'] = 1 - δ + df_GDP_cap['non_prm_cap_prod']"
   ]
  },
  {
   "cell_type": "code",
   "execution_count": 55,
   "id": "underlying-import",
   "metadata": {},
   "outputs": [],
   "source": [
    "df_merged = pd.merge(df_GDP_cap[['year_wst', 'real_roc']], \n",
    "                     df_cns[['year_wst', 'c_M_t/c_M_t+1']],\n",
    "                    on = 'year_wst')"
   ]
  },
  {
   "cell_type": "code",
   "execution_count": 56,
   "id": "honest-assist",
   "metadata": {},
   "outputs": [],
   "source": [
    "df_merged['intertemporal_wedge'] = β * df_merged['c_M_t/c_M_t+1'] * df_merged['real_roc']"
   ]
  },
  {
   "cell_type": "code",
   "execution_count": 57,
   "id": "experienced-dallas",
   "metadata": {},
   "outputs": [],
   "source": [
    "df_merged['intertemporal_wedge-1'] = df_merged['intertemporal_wedge'] - 1"
   ]
  },
  {
   "cell_type": "code",
   "execution_count": 58,
   "id": "shaped-genesis",
   "metadata": {},
   "outputs": [
    {
     "data": {
      "text/plain": [
       "<AxesSubplot:xlabel='year_wst'>"
      ]
     },
     "execution_count": 58,
     "metadata": {},
     "output_type": "execute_result"
    },
    {
     "data": {
      "image/png": "[encoded data removed]",
      "text/plain": [
       "<Figure size 432x288 with 1 Axes>"
      ]
     },
     "metadata": {
      "needs_background": "light"
     },
     "output_type": "display_data"
    }
   ],
   "source": [
    "fig, ax = plt.subplots()\n",
    "df_merged.plot(x = 'year_wst', y = 'intertemporal_wedge-1', ax = ax)"
   ]
  },
  {
   "cell_type": "code",
   "execution_count": null,
   "id": "elegant-school",
   "metadata": {},
   "outputs": [],
   "source": []
  }
 ],
 "metadata": {
  "kernelspec": {
   "display_name": "Python 3",
   "language": "python",
   "name": "python3"
  },
  "language_info": {
   "codemirror_mode": {
    "name": "ipython",
    "version": 3
   },
   "file_extension": ".py",
   "mimetype": "text/x-python",
   "name": "python",
   "nbconvert_exporter": "python",
   "pygments_lexer": "ipython3",
   "version": "3.7.10"
  }
 },
 "nbformat": 4,
 "nbformat_minor": 5
}
