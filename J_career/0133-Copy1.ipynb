{
 "cells": [
  {
   "cell_type": "code",
   "execution_count": 1,
   "id": "7f19b9b9-1bbe-4f8a-875e-6f4f6f9cc43b",
   "metadata": {},
   "outputs": [],
   "source": [
    "# This is for checking the calibration of parameters "
   ]
  },
  {
   "cell_type": "code",
   "execution_count": 2,
   "id": "488596d3-3a86-49f9-be5f-528a6aa8fbd8",
   "metadata": {},
   "outputs": [],
   "source": [
    "import pandas as pd\n",
    "import numpy as np\n",
    "import matplotlib.pyplot as plt"
   ]
  },
  {
   "cell_type": "code",
   "execution_count": 3,
   "id": "b3fd54a8-8cc4-4ae6-8485-f3cfb1c6e77e",
   "metadata": {},
   "outputs": [],
   "source": [
    "file = '../../Data/CareerHistory/0133/0133_ver2.dat'\n",
    "df = pd.read_csv(file, sep = '\\t')"
   ]
  },
  {
   "cell_type": "code",
   "execution_count": 4,
   "id": "bbd784df-befa-4f90-8e32-15618205c7b6",
   "metadata": {},
   "outputs": [],
   "source": [
    "# Exclude Tokyo, Kanagawa, Osaka, Kyoto, Hyogo, Aichi \n",
    "df = df.loc[(df.q3 != 12) & (df.q3 != 14) & (df.q3 != 29) &(df.q3 != 26)& (df.q3 != 30) & (df.q3 != 21) & (df.q3 != 47)]"
   ]
  },
  {
   "cell_type": "code",
   "execution_count": 5,
   "id": "2f80b071-09ba-4e2f-a090-679576c3c4c9",
   "metadata": {},
   "outputs": [
    {
     "data": {
      "text/html": [
       "<div>\n",
       "<style scoped>\n",
       "    .dataframe tbody tr th:only-of-type {\n",
       "        vertical-align: middle;\n",
       "    }\n",
       "\n",
       "    .dataframe tbody tr th {\n",
       "        vertical-align: top;\n",
       "    }\n",
       "\n",
       "    .dataframe thead th {\n",
       "        text-align: right;\n",
       "    }\n",
       "</style>\n",
       "<table border=\"1\" class=\"dataframe\">\n",
       "  <thead>\n",
       "    <tr style=\"text-align: right;\">\n",
       "      <th></th>\n",
       "      <th>sampleno</th>\n",
       "      <th>kyojuuchi</th>\n",
       "      <th>q1</th>\n",
       "      <th>q2</th>\n",
       "      <th>q3</th>\n",
       "      <th>q3_toshiruikei</th>\n",
       "      <th>q4_1</th>\n",
       "      <th>q4_2</th>\n",
       "      <th>q5_1</th>\n",
       "      <th>q5_2</th>\n",
       "      <th>...</th>\n",
       "      <th>q30_1_3</th>\n",
       "      <th>q30_1_4_dai</th>\n",
       "      <th>q30_1_4_shou</th>\n",
       "      <th>q30_1_5</th>\n",
       "      <th>q30_1_6</th>\n",
       "      <th>q31</th>\n",
       "      <th>q32</th>\n",
       "      <th>q32_1</th>\n",
       "      <th>q33</th>\n",
       "      <th>q33_1</th>\n",
       "    </tr>\n",
       "  </thead>\n",
       "  <tbody>\n",
       "    <tr>\n",
       "      <th>0</th>\n",
       "      <td>1</td>\n",
       "      <td>10</td>\n",
       "      <td>53</td>\n",
       "      <td>1</td>\n",
       "      <td>10</td>\n",
       "      <td>4</td>\n",
       "      <td>4</td>\n",
       "      <td>3</td>\n",
       "      <td>3</td>\n",
       "      <td>3</td>\n",
       "      <td>...</td>\n",
       "      <td>44</td>\n",
       "      <td>4</td>\n",
       "      <td>66</td>\n",
       "      <td>8</td>\n",
       "      <td>1</td>\n",
       "      <td>2</td>\n",
       "      <td>99</td>\n",
       "      <td>998</td>\n",
       "      <td>99</td>\n",
       "      <td>998</td>\n",
       "    </tr>\n",
       "    <tr>\n",
       "      <th>1</th>\n",
       "      <td>2</td>\n",
       "      <td>10</td>\n",
       "      <td>61</td>\n",
       "      <td>1</td>\n",
       "      <td>10</td>\n",
       "      <td>4</td>\n",
       "      <td>4</td>\n",
       "      <td>3</td>\n",
       "      <td>3</td>\n",
       "      <td>3</td>\n",
       "      <td>...</td>\n",
       "      <td>13</td>\n",
       "      <td>97</td>\n",
       "      <td>997</td>\n",
       "      <td>8</td>\n",
       "      <td>98</td>\n",
       "      <td>2</td>\n",
       "      <td>99</td>\n",
       "      <td>998</td>\n",
       "      <td>99</td>\n",
       "      <td>998</td>\n",
       "    </tr>\n",
       "    <tr>\n",
       "      <th>2</th>\n",
       "      <td>3</td>\n",
       "      <td>10</td>\n",
       "      <td>49</td>\n",
       "      <td>1</td>\n",
       "      <td>10</td>\n",
       "      <td>4</td>\n",
       "      <td>6</td>\n",
       "      <td>3</td>\n",
       "      <td>1</td>\n",
       "      <td>1</td>\n",
       "      <td>...</td>\n",
       "      <td>13</td>\n",
       "      <td>97</td>\n",
       "      <td>997</td>\n",
       "      <td>8</td>\n",
       "      <td>98</td>\n",
       "      <td>7</td>\n",
       "      <td>99</td>\n",
       "      <td>998</td>\n",
       "      <td>99</td>\n",
       "      <td>998</td>\n",
       "    </tr>\n",
       "    <tr>\n",
       "      <th>3</th>\n",
       "      <td>4</td>\n",
       "      <td>10</td>\n",
       "      <td>69</td>\n",
       "      <td>1</td>\n",
       "      <td>10</td>\n",
       "      <td>4</td>\n",
       "      <td>9</td>\n",
       "      <td>6</td>\n",
       "      <td>6</td>\n",
       "      <td>6</td>\n",
       "      <td>...</td>\n",
       "      <td>13</td>\n",
       "      <td>97</td>\n",
       "      <td>997</td>\n",
       "      <td>8</td>\n",
       "      <td>98</td>\n",
       "      <td>1</td>\n",
       "      <td>99</td>\n",
       "      <td>998</td>\n",
       "      <td>99</td>\n",
       "      <td>998</td>\n",
       "    </tr>\n",
       "    <tr>\n",
       "      <th>4</th>\n",
       "      <td>5</td>\n",
       "      <td>10</td>\n",
       "      <td>45</td>\n",
       "      <td>1</td>\n",
       "      <td>10</td>\n",
       "      <td>4</td>\n",
       "      <td>4</td>\n",
       "      <td>1</td>\n",
       "      <td>3</td>\n",
       "      <td>1</td>\n",
       "      <td>...</td>\n",
       "      <td>48</td>\n",
       "      <td>4</td>\n",
       "      <td>66</td>\n",
       "      <td>8</td>\n",
       "      <td>2</td>\n",
       "      <td>6</td>\n",
       "      <td>99</td>\n",
       "      <td>998</td>\n",
       "      <td>99</td>\n",
       "      <td>998</td>\n",
       "    </tr>\n",
       "    <tr>\n",
       "      <th>...</th>\n",
       "      <td>...</td>\n",
       "      <td>...</td>\n",
       "      <td>...</td>\n",
       "      <td>...</td>\n",
       "      <td>...</td>\n",
       "      <td>...</td>\n",
       "      <td>...</td>\n",
       "      <td>...</td>\n",
       "      <td>...</td>\n",
       "      <td>...</td>\n",
       "      <td>...</td>\n",
       "      <td>...</td>\n",
       "      <td>...</td>\n",
       "      <td>...</td>\n",
       "      <td>...</td>\n",
       "      <td>...</td>\n",
       "      <td>...</td>\n",
       "      <td>...</td>\n",
       "      <td>...</td>\n",
       "      <td>...</td>\n",
       "      <td>...</td>\n",
       "    </tr>\n",
       "    <tr>\n",
       "      <th>4216</th>\n",
       "      <td>4217</td>\n",
       "      <td>47</td>\n",
       "      <td>56</td>\n",
       "      <td>2</td>\n",
       "      <td>50</td>\n",
       "      <td>7</td>\n",
       "      <td>4</td>\n",
       "      <td>2</td>\n",
       "      <td>2</td>\n",
       "      <td>2</td>\n",
       "      <td>...</td>\n",
       "      <td>13</td>\n",
       "      <td>97</td>\n",
       "      <td>997</td>\n",
       "      <td>8</td>\n",
       "      <td>98</td>\n",
       "      <td>2</td>\n",
       "      <td>4</td>\n",
       "      <td>998</td>\n",
       "      <td>4</td>\n",
       "      <td>998</td>\n",
       "    </tr>\n",
       "    <tr>\n",
       "      <th>4237</th>\n",
       "      <td>4238</td>\n",
       "      <td>47</td>\n",
       "      <td>29</td>\n",
       "      <td>2</td>\n",
       "      <td>35</td>\n",
       "      <td>3</td>\n",
       "      <td>3</td>\n",
       "      <td>2</td>\n",
       "      <td>2</td>\n",
       "      <td>2</td>\n",
       "      <td>...</td>\n",
       "      <td>13</td>\n",
       "      <td>97</td>\n",
       "      <td>997</td>\n",
       "      <td>8</td>\n",
       "      <td>98</td>\n",
       "      <td>7</td>\n",
       "      <td>6</td>\n",
       "      <td>998</td>\n",
       "      <td>6</td>\n",
       "      <td>998</td>\n",
       "    </tr>\n",
       "    <tr>\n",
       "      <th>4238</th>\n",
       "      <td>4239</td>\n",
       "      <td>47</td>\n",
       "      <td>49</td>\n",
       "      <td>2</td>\n",
       "      <td>46</td>\n",
       "      <td>4</td>\n",
       "      <td>6</td>\n",
       "      <td>6</td>\n",
       "      <td>4</td>\n",
       "      <td>4</td>\n",
       "      <td>...</td>\n",
       "      <td>45</td>\n",
       "      <td>8</td>\n",
       "      <td>251</td>\n",
       "      <td>1</td>\n",
       "      <td>5</td>\n",
       "      <td>6</td>\n",
       "      <td>4</td>\n",
       "      <td>998</td>\n",
       "      <td>3</td>\n",
       "      <td>998</td>\n",
       "    </tr>\n",
       "    <tr>\n",
       "      <th>4243</th>\n",
       "      <td>4244</td>\n",
       "      <td>47</td>\n",
       "      <td>31</td>\n",
       "      <td>2</td>\n",
       "      <td>44</td>\n",
       "      <td>3</td>\n",
       "      <td>6</td>\n",
       "      <td>5</td>\n",
       "      <td>4</td>\n",
       "      <td>3</td>\n",
       "      <td>...</td>\n",
       "      <td>13</td>\n",
       "      <td>97</td>\n",
       "      <td>997</td>\n",
       "      <td>8</td>\n",
       "      <td>98</td>\n",
       "      <td>7</td>\n",
       "      <td>5</td>\n",
       "      <td>998</td>\n",
       "      <td>5</td>\n",
       "      <td>998</td>\n",
       "    </tr>\n",
       "    <tr>\n",
       "      <th>4244</th>\n",
       "      <td>4245</td>\n",
       "      <td>47</td>\n",
       "      <td>32</td>\n",
       "      <td>2</td>\n",
       "      <td>4</td>\n",
       "      <td>4</td>\n",
       "      <td>6</td>\n",
       "      <td>5</td>\n",
       "      <td>4</td>\n",
       "      <td>3</td>\n",
       "      <td>...</td>\n",
       "      <td>13</td>\n",
       "      <td>97</td>\n",
       "      <td>997</td>\n",
       "      <td>8</td>\n",
       "      <td>98</td>\n",
       "      <td>7</td>\n",
       "      <td>8</td>\n",
       "      <td>998</td>\n",
       "      <td>8</td>\n",
       "      <td>998</td>\n",
       "    </tr>\n",
       "  </tbody>\n",
       "</table>\n",
       "<p>3140 rows × 406 columns</p>\n",
       "</div>"
      ],
      "text/plain": [
       "      sampleno  kyojuuchi  q1  q2  q3  q3_toshiruikei  q4_1  q4_2  q5_1  q5_2  \\\n",
       "0            1         10  53   1  10               4     4     3     3     3   \n",
       "1            2         10  61   1  10               4     4     3     3     3   \n",
       "2            3         10  49   1  10               4     6     3     1     1   \n",
       "3            4         10  69   1  10               4     9     6     6     6   \n",
       "4            5         10  45   1  10               4     4     1     3     1   \n",
       "...        ...        ...  ..  ..  ..             ...   ...   ...   ...   ...   \n",
       "4216      4217         47  56   2  50               7     4     2     2     2   \n",
       "4237      4238         47  29   2  35               3     3     2     2     2   \n",
       "4238      4239         47  49   2  46               4     6     6     4     4   \n",
       "4243      4244         47  31   2  44               3     6     5     4     3   \n",
       "4244      4245         47  32   2   4               4     6     5     4     3   \n",
       "\n",
       "      ...  q30_1_3  q30_1_4_dai  q30_1_4_shou  q30_1_5  q30_1_6  q31  q32  \\\n",
       "0     ...       44            4            66        8        1    2   99   \n",
       "1     ...       13           97           997        8       98    2   99   \n",
       "2     ...       13           97           997        8       98    7   99   \n",
       "3     ...       13           97           997        8       98    1   99   \n",
       "4     ...       48            4            66        8        2    6   99   \n",
       "...   ...      ...          ...           ...      ...      ...  ...  ...   \n",
       "4216  ...       13           97           997        8       98    2    4   \n",
       "4237  ...       13           97           997        8       98    7    6   \n",
       "4238  ...       45            8           251        1        5    6    4   \n",
       "4243  ...       13           97           997        8       98    7    5   \n",
       "4244  ...       13           97           997        8       98    7    8   \n",
       "\n",
       "      q32_1  q33  q33_1  \n",
       "0       998   99    998  \n",
       "1       998   99    998  \n",
       "2       998   99    998  \n",
       "3       998   99    998  \n",
       "4       998   99    998  \n",
       "...     ...  ...    ...  \n",
       "4216    998    4    998  \n",
       "4237    998    6    998  \n",
       "4238    998    3    998  \n",
       "4243    998    5    998  \n",
       "4244    998    8    998  \n",
       "\n",
       "[3140 rows x 406 columns]"
      ]
     },
     "execution_count": 5,
     "metadata": {},
     "output_type": "execute_result"
    }
   ],
   "source": [
    "df"
   ]
  },
  {
   "cell_type": "code",
   "execution_count": 6,
   "id": "6783655e-4edb-4444-86ad-713352895f2d",
   "metadata": {},
   "outputs": [],
   "source": [
    "# Exclude data with missing first job location\n",
    "df = df.loc[(df.q15_3 != 50) & (df.q15_3 != 98) & (df.q15_3 != 99) &(df.q15_3 != 49)]"
   ]
  },
  {
   "cell_type": "code",
   "execution_count": 7,
   "id": "885eae2d-cd93-46c4-a009-529ae7621d51",
   "metadata": {},
   "outputs": [],
   "source": [
    "# Create columns for move history"
   ]
  },
  {
   "cell_type": "code",
   "execution_count": 8,
   "id": "42e66e57-c5fb-4ba9-9282-dce6c4c39703",
   "metadata": {},
   "outputs": [
    {
     "name": "stderr",
     "output_type": "stream",
     "text": [
      "/var/folders/hb/3db8mbcj4l74ztsvqyx17yd00000gn/T/ipykernel_4350/1724093637.py:1: SettingWithCopyWarning: \n",
      "A value is trying to be set on a copy of a slice from a DataFrame.\n",
      "Try using .loc[row_indexer,col_indexer] = value instead\n",
      "\n",
      "See the caveats in the documentation: https://pandas.pydata.org/pandas-docs/stable/user_guide/indexing.html#returning-a-view-versus-a-copy\n",
      "  df['moved_pref_first_job'] = 0\n",
      "/Users/satoshi/miniconda3/envs/jpandas/lib/python3.9/site-packages/pandas/core/indexing.py:1817: SettingWithCopyWarning: \n",
      "A value is trying to be set on a copy of a slice from a DataFrame.\n",
      "Try using .loc[row_indexer,col_indexer] = value instead\n",
      "\n",
      "See the caveats in the documentation: https://pandas.pydata.org/pandas-docs/stable/user_guide/indexing.html#returning-a-view-versus-a-copy\n",
      "  self._setitem_single_column(loc, value, pi)\n"
     ]
    }
   ],
   "source": [
    "df['moved_pref_first_job'] = 0\n",
    "df.loc[df.q26_2 != df.q15_3, 'moved_pref_first_job'] = 1"
   ]
  },
  {
   "cell_type": "code",
   "execution_count": 9,
   "id": "ce3993cd-c9b2-48ab-8687-9ba7af6a8a32",
   "metadata": {},
   "outputs": [
    {
     "name": "stderr",
     "output_type": "stream",
     "text": [
      "/var/folders/hb/3db8mbcj4l74ztsvqyx17yd00000gn/T/ipykernel_4350/2816994642.py:1: SettingWithCopyWarning: \n",
      "A value is trying to be set on a copy of a slice from a DataFrame.\n",
      "Try using .loc[row_indexer,col_indexer] = value instead\n",
      "\n",
      "See the caveats in the documentation: https://pandas.pydata.org/pandas-docs/stable/user_guide/indexing.html#returning-a-view-versus-a-copy\n",
      "  df['moved_within_pref_first_job'] = 0\n"
     ]
    }
   ],
   "source": [
    "df['moved_within_pref_first_job'] = 0\n",
    "df.loc[(df.q3 == df.q15_3) & (df.q3_toshiruikei != df.q15_3_toshiruikei), 'moved_within_pref_first_job'] = 1"
   ]
  },
  {
   "cell_type": "code",
   "execution_count": 10,
   "id": "50259743-94ca-4513-9cc6-4c5dfd9da42b",
   "metadata": {},
   "outputs": [
    {
     "name": "stderr",
     "output_type": "stream",
     "text": [
      "/var/folders/hb/3db8mbcj4l74ztsvqyx17yd00000gn/T/ipykernel_4350/3329407535.py:1: SettingWithCopyWarning: \n",
      "A value is trying to be set on a copy of a slice from a DataFrame.\n",
      "Try using .loc[row_indexer,col_indexer] = value instead\n",
      "\n",
      "See the caveats in the documentation: https://pandas.pydata.org/pandas-docs/stable/user_guide/indexing.html#returning-a-view-versus-a-copy\n",
      "  df['moved_first_job'] = df['moved_pref_first_job'] + df['moved_within_pref_first_job']\n"
     ]
    }
   ],
   "source": [
    "df['moved_first_job'] = df['moved_pref_first_job'] + df['moved_within_pref_first_job']"
   ]
  },
  {
   "cell_type": "code",
   "execution_count": 11,
   "id": "82637de5-cbd8-4eb0-abba-897b27604bf8",
   "metadata": {},
   "outputs": [],
   "source": [
    "year = 1981"
   ]
  },
  {
   "cell_type": "code",
   "execution_count": 12,
   "id": "b24d6bde-203d-4f1d-b4ed-0bc115775b10",
   "metadata": {},
   "outputs": [
    {
     "name": "stderr",
     "output_type": "stream",
     "text": [
      "/var/folders/hb/3db8mbcj4l74ztsvqyx17yd00000gn/T/ipykernel_4350/266042074.py:1: SettingWithCopyWarning: \n",
      "A value is trying to be set on a copy of a slice from a DataFrame.\n",
      "Try using .loc[row_indexer,col_indexer] = value instead\n",
      "\n",
      "See the caveats in the documentation: https://pandas.pydata.org/pandas-docs/stable/user_guide/indexing.html#returning-a-view-versus-a-copy\n",
      "  df['birth_year'] = year - df.q1\n"
     ]
    }
   ],
   "source": [
    "df['birth_year'] = year - df.q1"
   ]
  },
  {
   "cell_type": "code",
   "execution_count": 13,
   "id": "2ed2539b-9efe-4f21-932d-afd236955646",
   "metadata": {},
   "outputs": [
    {
     "name": "stderr",
     "output_type": "stream",
     "text": [
      "/var/folders/hb/3db8mbcj4l74ztsvqyx17yd00000gn/T/ipykernel_4350/827002645.py:1: SettingWithCopyWarning: \n",
      "A value is trying to be set on a copy of a slice from a DataFrame.\n",
      "Try using .loc[row_indexer,col_indexer] = value instead\n",
      "\n",
      "See the caveats in the documentation: https://pandas.pydata.org/pandas-docs/stable/user_guide/indexing.html#returning-a-view-versus-a-copy\n",
      "  df['first_job_year'] = df['birth_year'] + df.q15_9_1\n"
     ]
    }
   ],
   "source": [
    "df['first_job_year'] = df['birth_year'] + df.q15_9_1"
   ]
  },
  {
   "cell_type": "code",
   "execution_count": 14,
   "id": "fa73d739-4eea-423f-b192-c04fbed8f1b4",
   "metadata": {},
   "outputs": [
    {
     "name": "stderr",
     "output_type": "stream",
     "text": [
      "/var/folders/hb/3db8mbcj4l74ztsvqyx17yd00000gn/T/ipykernel_4350/3672233403.py:1: SettingWithCopyWarning: \n",
      "A value is trying to be set on a copy of a slice from a DataFrame.\n",
      "Try using .loc[row_indexer,col_indexer] = value instead\n",
      "\n",
      "See the caveats in the documentation: https://pandas.pydata.org/pandas-docs/stable/user_guide/indexing.html#returning-a-view-versus-a-copy\n",
      "  df['counts'] = 1\n"
     ]
    }
   ],
   "source": [
    "df['counts'] = 1"
   ]
  },
  {
   "cell_type": "code",
   "execution_count": 15,
   "id": "eb8fbd23-74cf-4b90-a205-afdf4ed9d2db",
   "metadata": {},
   "outputs": [
    {
     "name": "stderr",
     "output_type": "stream",
     "text": [
      "/var/folders/hb/3db8mbcj4l74ztsvqyx17yd00000gn/T/ipykernel_4350/2268962213.py:1: SettingWithCopyWarning: \n",
      "A value is trying to be set on a copy of a slice from a DataFrame.\n",
      "Try using .loc[row_indexer,col_indexer] = value instead\n",
      "\n",
      "See the caveats in the documentation: https://pandas.pydata.org/pandas-docs/stable/user_guide/indexing.html#returning-a-view-versus-a-copy\n",
      "  df['moved_pref'] = 0\n"
     ]
    }
   ],
   "source": [
    "df['moved_pref'] = 0\n",
    "df.loc[df.kyojuuchi != df.q3, 'moved_pref'] = 1"
   ]
  },
  {
   "cell_type": "code",
   "execution_count": 16,
   "id": "6f54806e-7a0e-464b-a4f2-f85bb1f7cb5f",
   "metadata": {},
   "outputs": [
    {
     "name": "stderr",
     "output_type": "stream",
     "text": [
      "/var/folders/hb/3db8mbcj4l74ztsvqyx17yd00000gn/T/ipykernel_4350/763782325.py:2: SettingWithCopyWarning: \n",
      "A value is trying to be set on a copy of a slice from a DataFrame.\n",
      "Try using .loc[row_indexer,col_indexer] = value instead\n",
      "\n",
      "See the caveats in the documentation: https://pandas.pydata.org/pandas-docs/stable/user_guide/indexing.html#returning-a-view-versus-a-copy\n",
      "  df['new_middle'] = 0\n",
      "/var/folders/hb/3db8mbcj4l74ztsvqyx17yd00000gn/T/ipykernel_4350/763782325.py:5: SettingWithCopyWarning: \n",
      "A value is trying to be set on a copy of a slice from a DataFrame.\n",
      "Try using .loc[row_indexer,col_indexer] = value instead\n",
      "\n",
      "See the caveats in the documentation: https://pandas.pydata.org/pandas-docs/stable/user_guide/indexing.html#returning-a-view-versus-a-copy\n",
      "  df['new_high'] = 0\n",
      "/var/folders/hb/3db8mbcj4l74ztsvqyx17yd00000gn/T/ipykernel_4350/763782325.py:8: SettingWithCopyWarning: \n",
      "A value is trying to be set on a copy of a slice from a DataFrame.\n",
      "Try using .loc[row_indexer,col_indexer] = value instead\n",
      "\n",
      "See the caveats in the documentation: https://pandas.pydata.org/pandas-docs/stable/user_guide/indexing.html#returning-a-view-versus-a-copy\n",
      "  df['new_junior_college'] = 0\n",
      "/var/folders/hb/3db8mbcj4l74ztsvqyx17yd00000gn/T/ipykernel_4350/763782325.py:11: SettingWithCopyWarning: \n",
      "A value is trying to be set on a copy of a slice from a DataFrame.\n",
      "Try using .loc[row_indexer,col_indexer] = value instead\n",
      "\n",
      "See the caveats in the documentation: https://pandas.pydata.org/pandas-docs/stable/user_guide/indexing.html#returning-a-view-versus-a-copy\n",
      "  df['new_college'] = 0\n",
      "/var/folders/hb/3db8mbcj4l74ztsvqyx17yd00000gn/T/ipykernel_4350/763782325.py:14: SettingWithCopyWarning: \n",
      "A value is trying to be set on a copy of a slice from a DataFrame.\n",
      "Try using .loc[row_indexer,col_indexer] = value instead\n",
      "\n",
      "See the caveats in the documentation: https://pandas.pydata.org/pandas-docs/stable/user_guide/indexing.html#returning-a-view-versus-a-copy\n",
      "  df['old_elementary'] = 0\n",
      "/var/folders/hb/3db8mbcj4l74ztsvqyx17yd00000gn/T/ipykernel_4350/763782325.py:17: SettingWithCopyWarning: \n",
      "A value is trying to be set on a copy of a slice from a DataFrame.\n",
      "Try using .loc[row_indexer,col_indexer] = value instead\n",
      "\n",
      "See the caveats in the documentation: https://pandas.pydata.org/pandas-docs/stable/user_guide/indexing.html#returning-a-view-versus-a-copy\n",
      "  df['old_upper_elementary'] = 0\n",
      "/var/folders/hb/3db8mbcj4l74ztsvqyx17yd00000gn/T/ipykernel_4350/763782325.py:20: SettingWithCopyWarning: \n",
      "A value is trying to be set on a copy of a slice from a DataFrame.\n",
      "Try using .loc[row_indexer,col_indexer] = value instead\n",
      "\n",
      "See the caveats in the documentation: https://pandas.pydata.org/pandas-docs/stable/user_guide/indexing.html#returning-a-view-versus-a-copy\n",
      "  df['old_vocational'] = 0\n",
      "/var/folders/hb/3db8mbcj4l74ztsvqyx17yd00000gn/T/ipykernel_4350/763782325.py:23: SettingWithCopyWarning: \n",
      "A value is trying to be set on a copy of a slice from a DataFrame.\n",
      "Try using .loc[row_indexer,col_indexer] = value instead\n",
      "\n",
      "See the caveats in the documentation: https://pandas.pydata.org/pandas-docs/stable/user_guide/indexing.html#returning-a-view-versus-a-copy\n",
      "  df['old_middle'] = 0\n",
      "/var/folders/hb/3db8mbcj4l74ztsvqyx17yd00000gn/T/ipykernel_4350/763782325.py:26: SettingWithCopyWarning: \n",
      "A value is trying to be set on a copy of a slice from a DataFrame.\n",
      "Try using .loc[row_indexer,col_indexer] = value instead\n",
      "\n",
      "See the caveats in the documentation: https://pandas.pydata.org/pandas-docs/stable/user_guide/indexing.html#returning-a-view-versus-a-copy\n",
      "  df['old_high'] = 0\n",
      "/var/folders/hb/3db8mbcj4l74ztsvqyx17yd00000gn/T/ipykernel_4350/763782325.py:29: SettingWithCopyWarning: \n",
      "A value is trying to be set on a copy of a slice from a DataFrame.\n",
      "Try using .loc[row_indexer,col_indexer] = value instead\n",
      "\n",
      "See the caveats in the documentation: https://pandas.pydata.org/pandas-docs/stable/user_guide/indexing.html#returning-a-view-versus-a-copy\n",
      "  df['old_college'] = 0\n",
      "/var/folders/hb/3db8mbcj4l74ztsvqyx17yd00000gn/T/ipykernel_4350/763782325.py:32: SettingWithCopyWarning: \n",
      "A value is trying to be set on a copy of a slice from a DataFrame.\n",
      "Try using .loc[row_indexer,col_indexer] = value instead\n",
      "\n",
      "See the caveats in the documentation: https://pandas.pydata.org/pandas-docs/stable/user_guide/indexing.html#returning-a-view-versus-a-copy\n",
      "  df['high'] = df['new_high'] + df['old_high']\n",
      "/var/folders/hb/3db8mbcj4l74ztsvqyx17yd00000gn/T/ipykernel_4350/763782325.py:34: SettingWithCopyWarning: \n",
      "A value is trying to be set on a copy of a slice from a DataFrame.\n",
      "Try using .loc[row_indexer,col_indexer] = value instead\n",
      "\n",
      "See the caveats in the documentation: https://pandas.pydata.org/pandas-docs/stable/user_guide/indexing.html#returning-a-view-versus-a-copy\n",
      "  df['middle'] = df['new_middle'] + df['old_middle'] + df['old_vocational'] + df['old_upper_elementary']\n",
      "/var/folders/hb/3db8mbcj4l74ztsvqyx17yd00000gn/T/ipykernel_4350/763782325.py:36: SettingWithCopyWarning: \n",
      "A value is trying to be set on a copy of a slice from a DataFrame.\n",
      "Try using .loc[row_indexer,col_indexer] = value instead\n",
      "\n",
      "See the caveats in the documentation: https://pandas.pydata.org/pandas-docs/stable/user_guide/indexing.html#returning-a-view-versus-a-copy\n",
      "  df['college'] = df['new_college'] + df['old_college']\n"
     ]
    }
   ],
   "source": [
    "# Create columns for educational attainment\n",
    "df['new_middle'] = 0\n",
    "df.loc[df.q26_1 == 7, 'new_middle'] = 1\n",
    "\n",
    "df['new_high'] = 0\n",
    "df.loc[df.q26_1 == 8, 'new_high'] = 1\n",
    "\n",
    "df['new_junior_college'] = 0\n",
    "df.loc[df.q26_1 == 9, 'new_junior_college'] = 1\n",
    "\n",
    "df['new_college'] = 0\n",
    "df.loc[df.q26_1 == 10, 'new_college'] = 1\n",
    "\n",
    "df['old_elementary'] = 0\n",
    "df.loc[df.q26_1 == 1, 'old_elementary'] = 1\n",
    "\n",
    "df['old_upper_elementary'] = 0\n",
    "df.loc[df.q26_1 == 2, 'old_upper_elementary'] = 1\n",
    "\n",
    "df['old_vocational'] = 0\n",
    "df.loc[df.q26_1 == 3, 'old_vocational'] = 1\n",
    "\n",
    "df['old_middle'] = 0\n",
    "df.loc[df.q26_1 == 4, 'old_middle'] = 1\n",
    "\n",
    "df['old_high'] = 0\n",
    "df.loc[df.q26_1 == 5, 'old_high'] = 1\n",
    "\n",
    "df['old_college'] = 0\n",
    "df.loc[df.q26_1 == 6, 'old_college'] = 1\n",
    "\n",
    "df['high'] = df['new_high'] + df['old_high']\n",
    "\n",
    "df['middle'] = df['new_middle'] + df['old_middle'] + df['old_vocational'] + df['old_upper_elementary']\n",
    "\n",
    "df['college'] = df['new_college'] + df['old_college']"
   ]
  },
  {
   "cell_type": "code",
   "execution_count": 17,
   "id": "c903004b-1c4c-4447-929e-d4f62e50e85d",
   "metadata": {},
   "outputs": [
    {
     "name": "stderr",
     "output_type": "stream",
     "text": [
      "/var/folders/hb/3db8mbcj4l74ztsvqyx17yd00000gn/T/ipykernel_4350/175030797.py:2: SettingWithCopyWarning: \n",
      "A value is trying to be set on a copy of a slice from a DataFrame.\n",
      "Try using .loc[row_indexer,col_indexer] = value instead\n",
      "\n",
      "See the caveats in the documentation: https://pandas.pydata.org/pandas-docs/stable/user_guide/indexing.html#returning-a-view-versus-a-copy\n",
      "  df['first_job_school'] = 0\n",
      "/var/folders/hb/3db8mbcj4l74ztsvqyx17yd00000gn/T/ipykernel_4350/175030797.py:5: SettingWithCopyWarning: \n",
      "A value is trying to be set on a copy of a slice from a DataFrame.\n",
      "Try using .loc[row_indexer,col_indexer] = value instead\n",
      "\n",
      "See the caveats in the documentation: https://pandas.pydata.org/pandas-docs/stable/user_guide/indexing.html#returning-a-view-versus-a-copy\n",
      "  df['first_job_pub_emp'] = 0\n",
      "/var/folders/hb/3db8mbcj4l74ztsvqyx17yd00000gn/T/ipykernel_4350/175030797.py:8: SettingWithCopyWarning: \n",
      "A value is trying to be set on a copy of a slice from a DataFrame.\n",
      "Try using .loc[row_indexer,col_indexer] = value instead\n",
      "\n",
      "See the caveats in the documentation: https://pandas.pydata.org/pandas-docs/stable/user_guide/indexing.html#returning-a-view-versus-a-copy\n",
      "  df['first_job_conn'] = 0\n",
      "/var/folders/hb/3db8mbcj4l74ztsvqyx17yd00000gn/T/ipykernel_4350/175030797.py:12: SettingWithCopyWarning: \n",
      "A value is trying to be set on a copy of a slice from a DataFrame.\n",
      "Try using .loc[row_indexer,col_indexer] = value instead\n",
      "\n",
      "See the caveats in the documentation: https://pandas.pydata.org/pandas-docs/stable/user_guide/indexing.html#returning-a-view-versus-a-copy\n",
      "  df['first_job_adv'] = 0\n",
      "/var/folders/hb/3db8mbcj4l74ztsvqyx17yd00000gn/T/ipykernel_4350/175030797.py:15: SettingWithCopyWarning: \n",
      "A value is trying to be set on a copy of a slice from a DataFrame.\n",
      "Try using .loc[row_indexer,col_indexer] = value instead\n",
      "\n",
      "See the caveats in the documentation: https://pandas.pydata.org/pandas-docs/stable/user_guide/indexing.html#returning-a-view-versus-a-copy\n",
      "  df['first_job_other'] = 0\n",
      "/var/folders/hb/3db8mbcj4l74ztsvqyx17yd00000gn/T/ipykernel_4350/175030797.py:18: SettingWithCopyWarning: \n",
      "A value is trying to be set on a copy of a slice from a DataFrame.\n",
      "Try using .loc[row_indexer,col_indexer] = value instead\n",
      "\n",
      "See the caveats in the documentation: https://pandas.pydata.org/pandas-docs/stable/user_guide/indexing.html#returning-a-view-versus-a-copy\n",
      "  df['first_job_self'] = 0\n"
     ]
    }
   ],
   "source": [
    "# Create columns for the job matching means for the first job\n",
    "df['first_job_school'] = 0\n",
    "df.loc[df.q15_8 == 3, 'first_job_school'] = 1\n",
    "\n",
    "df['first_job_pub_emp'] = 0\n",
    "df.loc[df.q15_8 == 4, 'first_job_pub_emp'] = 1\n",
    "\n",
    "df['first_job_conn'] = 0\n",
    "df.loc[df.q15_8 == 1, 'first_job_conn'] = 1\n",
    "df.loc[df.q15_8 == 2, 'first_job_conn'] = 1\n",
    "\n",
    "df['first_job_adv'] = 0\n",
    "df.loc[df.q15_8 == 5, 'first_job_adv'] = 1\n",
    "\n",
    "df['first_job_other'] = 0\n",
    "df.loc[df.q15_8 == 6, 'first_job_other'] = 1\n",
    "\n",
    "df['first_job_self'] = 0\n",
    "df.loc[df.q15_8 == 7, 'first_job_self'] = 1"
   ]
  },
  {
   "cell_type": "code",
   "execution_count": 18,
   "id": "d1bc7a03-73f7-4851-8113-ad889dbbea73",
   "metadata": {},
   "outputs": [],
   "source": [
    "def plot_graphs(year_column, data_column, title, label1, label2, filename):\n",
    "    \n",
    "    _df = df[[year_column, data_column, 'counts']].copy()\n",
    "    \n",
    "    if year_column == 'first_job_year':\n",
    "        _df = _df.loc[_df[year_column] <= 1975]\n",
    "    \n",
    "    _df_group = _df.groupby([year_column])[[data_column, 'counts']].sum().reset_index()\n",
    "    _df_group['data_ratio'] = _df_group[data_column] / _df_group.counts\n",
    "    _df_group['ratio_SMA_5'] = _df_group['data_ratio'].rolling(window = 5).mean()\n",
    "    \n",
    "    fig, ax = plt.subplots()\n",
    "    plt.rc('text', usetex=True)\n",
    "    plt.rc('font', family='serif')\n",
    "\n",
    "    plt.rc('pgf', texsystem = 'pdflatex')\n",
    "    \n",
    "    _df_group.plot(x = year_column, y = 'data_ratio', ax = ax, label = label1,linestyle = '--',\n",
    "               color = 'b',)\n",
    "    _df_group.plot(x = year_column, y = 'ratio_SMA_5', ax = ax, label = label2, alpha = 0.7)\n",
    "    \n",
    "    fig.set_size_inches(w=6.26894, h=3.5)    \n",
    "    plt.xlabel('year')\n",
    "    \n",
    "\n",
    "    plt.title(title)\n",
    "    plt.savefig(filename)\n",
    "    plt.show()"
   ]
  },
  {
   "cell_type": "code",
   "execution_count": 24,
   "id": "7d94a0be-8c7f-4409-80fa-209345fae93d",
   "metadata": {},
   "outputs": [
    {
     "data": {
      "image/png": "[encoded data removed]",
      "text/plain": [
       "<Figure size 451.364x252 with 1 Axes>"
      ]
     },
     "metadata": {
      "needs_background": "light"
     },
     "output_type": "display_data"
    }
   ],
   "source": [
    "title = r'Proportion of workers who moved between prefectures in their first job'\n",
    "legend1 = 'Original series'\n",
    "legend2 = 'Five-year moving average'\n",
    "filename = '../../Notes/Discussion/moved_pref_first_job2.pgf'\n",
    "plot_graphs('first_job_year', 'moved_pref_first_job', title, legend1, legend2, filename)"
   ]
  },
  {
   "cell_type": "code",
   "execution_count": 27,
   "id": "aba7538b-3fe7-432b-9c55-1ff6a7ab5d41",
   "metadata": {},
   "outputs": [],
   "source": [
    "def plot_graphs_subsample(year_column, data_column, subsample, title, label1, label2, filename):\n",
    "    \n",
    "    _df = df[[year_column, data_column, subsample,'counts']].copy()\n",
    "    _df = _df.loc[_df[subsample] == 1,:]\n",
    "    \n",
    "    if year_column == 'first_job_year':\n",
    "        _df = _df.loc[_df[year_column] <= 1975]\n",
    "    \n",
    "    _df_group = _df.groupby([year_column])[[data_column, 'counts']].sum().reset_index()\n",
    "    _df_group['data_ratio'] = _df_group[data_column] / _df_group.counts\n",
    "    _df_group['ratio_SMA_5'] = _df_group['data_ratio'].rolling(window = 5).mean()\n",
    "    \n",
    "    fig, ax = plt.subplots()\n",
    "    plt.rc('text', usetex=True)\n",
    "    plt.rc('font', family='serif')\n",
    "    plt.rc('pgf', texsystem = 'pdflatex')\n",
    "    \n",
    "    _df_group.plot(x = year_column, y = 'data_ratio', ax = ax, label = label1, color = 'b', linestyle = '--')\n",
    "    _df_group.plot(x = year_column, y = 'ratio_SMA_5', ax = ax, label = label2, alpha = 0.7)\n",
    "    \n",
    "    fig.set_size_inches(w=6.26894, h=3.5)    \n",
    "    plt.xlabel('year')\n",
    "    \n",
    "    plt.title(title)\n",
    "    plt.savefig(filename)\n",
    "    plt.show()"
   ]
  },
  {
   "cell_type": "code",
   "execution_count": 28,
   "id": "912ff630-de04-40fb-9738-a76448e9907c",
   "metadata": {},
   "outputs": [
    {
     "data": {
      "image/png": "[encoded data removed]",
      "text/plain": [
       "<Figure size 451.364x252 with 1 Axes>"
      ]
     },
     "metadata": {
      "needs_background": "light"
     },
     "output_type": "display_data"
    }
   ],
   "source": [
    "title = r'Proportion of middle school graduates who moved between prefectures in their first job'\n",
    "label1 = 'Original series'\n",
    "label2 = 'Five-year moving average'\n",
    "filename = filename = '../../Notes/Discussion/moved_pref_first_job_middle.pgf'\n",
    "plot_graphs_subsample('first_job_year', 'moved_pref_first_job', 'middle', title, label1, label2, filename)"
   ]
  },
  {
   "cell_type": "code",
   "execution_count": 22,
   "id": "291e5f8b-24e5-45ea-9eb6-e83e02971b33",
   "metadata": {},
   "outputs": [
    {
     "data": {
      "image/png": "[encoded data removed]",
      "text/plain": [
       "<Figure size 451.364x252 with 1 Axes>"
      ]
     },
     "metadata": {
      "needs_background": "light"
     },
     "output_type": "display_data"
    }
   ],
   "source": [
    "title = r'Proportion of workers who moved between prefectures in their first job'\n",
    "label1 = 'Original series'\n",
    "label2 = 'Five-year moving average'\n",
    "filename = filename = '../../Notes/Discussion/moved_pref_first_job_middle.pgf'\n",
    "plot_graphs_subsample('first_job_year', 'moved_pref_first_job', 'middle', title, label1, label2, filename)"
   ]
  },
  {
   "cell_type": "code",
   "execution_count": 23,
   "id": "c59af4a1-1546-4cd8-87af-3a1c02c100b1",
   "metadata": {},
   "outputs": [
    {
     "data": {
      "image/png": "[encoded data removed]",
      "text/plain": [
       "<Figure size 451.364x252 with 1 Axes>"
      ]
     },
     "metadata": {
      "needs_background": "light"
     },
     "output_type": "display_data"
    }
   ],
   "source": [
    "title = r'Proportion of workers who moved between prefectures in their first job'\n",
    "label1 = 'Original series'\n",
    "label2 = 'Five-year moving average'\n",
    "filename = filename = '../../Notes/Discussion/moved_pref_first_job_high2.pgf'\n",
    "plot_graphs_subsample('first_job_year', 'moved_pref_first_job', 'high', title, label1, label2, filename)"
   ]
  },
  {
   "cell_type": "code",
   "execution_count": null,
   "id": "a9eab063-0631-4151-8953-a55e761499bb",
   "metadata": {},
   "outputs": [],
   "source": []
  },
  {
   "cell_type": "code",
   "execution_count": null,
   "id": "b305c5b2-886a-47c5-a15a-28fc0432ad63",
   "metadata": {},
   "outputs": [],
   "source": []
  }
 ],
 "metadata": {
  "kernelspec": {
   "display_name": "Python 3 (ipykernel)",
   "language": "python",
   "name": "python3"
  },
  "language_info": {
   "codemirror_mode": {
    "name": "ipython",
    "version": 3
   },
   "file_extension": ".py",
   "mimetype": "text/x-python",
   "name": "python",
   "nbconvert_exporter": "python",
   "pygments_lexer": "ipython3",
   "version": "3.9.6"
  }
 },
 "nbformat": 4,
 "nbformat_minor": 5
}
