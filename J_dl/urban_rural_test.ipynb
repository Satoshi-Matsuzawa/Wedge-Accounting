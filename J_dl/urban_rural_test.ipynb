{
 "cells": [
  {
   "cell_type": "code",
   "execution_count": 1,
   "id": "5a8ba49c-431e-4d88-bb0f-88bbe0e703f6",
   "metadata": {},
   "outputs": [],
   "source": [
    "import pandas as pd"
   ]
  },
  {
   "cell_type": "code",
   "execution_count": 2,
   "id": "2f212a4b-22aa-4c7d-804b-54e21ec5b377",
   "metadata": {},
   "outputs": [],
   "source": [
    "url = 'https://warp.da.ndl.go.jp/info:ndljp/pid/11423429/www.stat.go.jp/data/chouki/zuhyou/02-07.xls'\n",
    "df_original = pd.read_excel(url, header=None, index_col=None)"
   ]
  },
  {
   "cell_type": "code",
   "execution_count": 4,
   "id": "2c149444-500b-4a4a-b61e-5648866d7d2b",
   "metadata": {},
   "outputs": [],
   "source": [
    "df = df_original.copy()"
   ]
  },
  {
   "cell_type": "code",
   "execution_count": 5,
   "id": "2836d3d4-e3c2-4237-b593-43845ee39d88",
   "metadata": {},
   "outputs": [],
   "source": [
    "\n",
    "    # Select columns for Japanese calendar year, western calendar year,\n",
    "    # total, urban and rural population.\n",
    "df = df.iloc[:, [0, 1, 2, 3, 4]]\n",
    "\n",
    "    # Set the column name\n",
    "columns = ['year_jpn', 'year_wst', 'tot_pop', 'urban_pop', 'rural_pop']\n",
    "df.columns = columns\n",
    "\n",
    "    # Trim the data frame\n",
    "df = df.iloc[9:1161, :]\n"
   ]
  },
  {
   "cell_type": "code",
   "execution_count": 6,
   "id": "e28fe10b-2246-417b-a5bd-729e78e44016",
   "metadata": {},
   "outputs": [
    {
     "data": {
      "text/html": [
       "<div>\n",
       "<style scoped>\n",
       "    .dataframe tbody tr th:only-of-type {\n",
       "        vertical-align: middle;\n",
       "    }\n",
       "\n",
       "    .dataframe tbody tr th {\n",
       "        vertical-align: top;\n",
       "    }\n",
       "\n",
       "    .dataframe thead th {\n",
       "        text-align: right;\n",
       "    }\n",
       "</style>\n",
       "<table border=\"1\" class=\"dataframe\">\n",
       "  <thead>\n",
       "    <tr style=\"text-align: right;\">\n",
       "      <th></th>\n",
       "      <th>year_jpn</th>\n",
       "      <th>year_wst</th>\n",
       "      <th>tot_pop</th>\n",
       "      <th>urban_pop</th>\n",
       "      <th>rural_pop</th>\n",
       "    </tr>\n",
       "  </thead>\n",
       "  <tbody>\n",
       "    <tr>\n",
       "      <th>9</th>\n",
       "      <td>全国</td>\n",
       "      <td>Japan</td>\n",
       "      <td>NaN</td>\n",
       "      <td>NaN</td>\n",
       "      <td>NaN</td>\n",
       "    </tr>\n",
       "    <tr>\n",
       "      <th>10</th>\n",
       "      <td>明治31年</td>\n",
       "      <td>1898</td>\n",
       "      <td>45403041</td>\n",
       "      <td>5334563</td>\n",
       "      <td>40068478</td>\n",
       "    </tr>\n",
       "    <tr>\n",
       "      <th>11</th>\n",
       "      <td>36</td>\n",
       "      <td>1903</td>\n",
       "      <td>48542736</td>\n",
       "      <td>6809976</td>\n",
       "      <td>41732760</td>\n",
       "    </tr>\n",
       "    <tr>\n",
       "      <th>12</th>\n",
       "      <td>41</td>\n",
       "      <td>1908</td>\n",
       "      <td>51741853</td>\n",
       "      <td>8299744</td>\n",
       "      <td>43442109</td>\n",
       "    </tr>\n",
       "    <tr>\n",
       "      <th>13</th>\n",
       "      <td>大正 2年</td>\n",
       "      <td>1913</td>\n",
       "      <td>55131270</td>\n",
       "      <td>8999264</td>\n",
       "      <td>46132006</td>\n",
       "    </tr>\n",
       "    <tr>\n",
       "      <th>...</th>\n",
       "      <td>...</td>\n",
       "      <td>...</td>\n",
       "      <td>...</td>\n",
       "      <td>...</td>\n",
       "      <td>...</td>\n",
       "    </tr>\n",
       "    <tr>\n",
       "      <th>1156</th>\n",
       "      <td>60</td>\n",
       "      <td>1985</td>\n",
       "      <td>1179097</td>\n",
       "      <td>796714</td>\n",
       "      <td>382383</td>\n",
       "    </tr>\n",
       "    <tr>\n",
       "      <th>1157</th>\n",
       "      <td>平成 2年</td>\n",
       "      <td>1990</td>\n",
       "      <td>1222398</td>\n",
       "      <td>825965</td>\n",
       "      <td>396433</td>\n",
       "    </tr>\n",
       "    <tr>\n",
       "      <th>1158</th>\n",
       "      <td>7</td>\n",
       "      <td>1995</td>\n",
       "      <td>1273440</td>\n",
       "      <td>857390</td>\n",
       "      <td>416050</td>\n",
       "    </tr>\n",
       "    <tr>\n",
       "      <th>1159</th>\n",
       "      <td>12</td>\n",
       "      <td>2000</td>\n",
       "      <td>1318220</td>\n",
       "      <td>881832</td>\n",
       "      <td>436388</td>\n",
       "    </tr>\n",
       "    <tr>\n",
       "      <th>1160</th>\n",
       "      <td>17</td>\n",
       "      <td>2005</td>\n",
       "      <td>1361594</td>\n",
       "      <td>1014617</td>\n",
       "      <td>346977</td>\n",
       "    </tr>\n",
       "  </tbody>\n",
       "</table>\n",
       "<p>1152 rows × 5 columns</p>\n",
       "</div>"
      ],
      "text/plain": [
       "     year_jpn year_wst   tot_pop urban_pop rural_pop\n",
       "9          全国    Japan       NaN       NaN       NaN\n",
       "10      明治31年     1898  45403041   5334563  40068478\n",
       "11        36　     1903  48542736   6809976  41732760\n",
       "12        41　     1908  51741853   8299744  43442109\n",
       "13      大正 2年     1913  55131270   8999264  46132006\n",
       "...       ...      ...       ...       ...       ...\n",
       "1156      60　     1985   1179097    796714    382383\n",
       "1157    平成 2年     1990   1222398    825965    396433\n",
       "1158       7　     1995   1273440    857390    416050\n",
       "1159      12　     2000   1318220    881832    436388\n",
       "1160      17　     2005   1361594   1014617    346977\n",
       "\n",
       "[1152 rows x 5 columns]"
      ]
     },
     "execution_count": 6,
     "metadata": {},
     "output_type": "execute_result"
    }
   ],
   "source": [
    "df"
   ]
  },
  {
   "cell_type": "code",
   "execution_count": 12,
   "id": "332a9916-9956-494a-95ac-a4892a232941",
   "metadata": {},
   "outputs": [],
   "source": [
    "# Create a dictionary of prefectures and indices\n",
    "number_of_prefs = 48\n",
    "rows_label = 24\n",
    "pref_labels = {}\n",
    "num_of_prefs = 48\n",
    "pref_row_init = 0\n",
    "data_row_init = 1\n",
    "rows_data = 23\n",
    "for i in range(num_of_prefs):\n",
    "    pref_name = df.iloc[pref_row_init + i * rows_label, 0].strip()\n",
    "    pref_row  = data_row_init + i * rows_data\n",
    "    pref_labels[pref_name] = pref_row"
   ]
  },
  {
   "cell_type": "code",
   "execution_count": 84,
   "id": "3e99856d-3f61-4b7b-957d-00b0c8a26932",
   "metadata": {},
   "outputs": [],
   "source": [
    "num_of_pref = 48\n",
    "rows_btw_pref = 24\n",
    "rows_data = 23\n",
    "pref_row_init = 0\n",
    "\n",
    "pref_dict = {}\n",
    "\n",
    "for i in range(num_of_pref):\n",
    "    pref_row = pref_row_init + i * rows_btw_pref\n",
    "    pref_name = df.iloc[pref_row, 0].strip()\n",
    "    \n",
    "    data_start_loc = pref_row + 1\n",
    "    data_end_loc    = data_start_loc + rows_data\n",
    "    pref_dict[pref_name] = data_start_loc, data_end_loc"
   ]
  },
  {
   "cell_type": "code",
   "execution_count": 85,
   "id": "1d4e33fe-ee4c-492d-a766-6ffd2172d1ce",
   "metadata": {},
   "outputs": [
    {
     "data": {
      "text/plain": [
       "{'全国': (1, 24),\n",
       " '北海道': (25, 48),\n",
       " '青森県': (49, 72),\n",
       " '岩手県': (73, 96),\n",
       " '宮城県': (97, 120),\n",
       " '秋田県': (121, 144),\n",
       " '山形県': (145, 168),\n",
       " '福島県': (169, 192),\n",
       " '茨城県': (193, 216),\n",
       " '栃木県': (217, 240),\n",
       " '群馬県': (241, 264),\n",
       " '埼玉県': (265, 288),\n",
       " '千葉県': (289, 312),\n",
       " '東京都': (313, 336),\n",
       " '神奈川県': (337, 360),\n",
       " '新潟県': (361, 384),\n",
       " '富山県': (385, 408),\n",
       " '石川県': (409, 432),\n",
       " '福井県': (433, 456),\n",
       " '山梨県': (457, 480),\n",
       " '長野県': (481, 504),\n",
       " '岐阜県': (505, 528),\n",
       " '静岡県': (529, 552),\n",
       " '愛知県': (553, 576),\n",
       " '三重県': (577, 600),\n",
       " '滋賀県': (601, 624),\n",
       " '京都府': (625, 648),\n",
       " '大阪府': (649, 672),\n",
       " '兵庫県': (673, 696),\n",
       " '奈良県': (697, 720),\n",
       " '和歌山県': (721, 744),\n",
       " '鳥取県': (745, 768),\n",
       " '島根県': (769, 792),\n",
       " '岡山県': (793, 816),\n",
       " '広島県': (817, 840),\n",
       " '山口県': (841, 864),\n",
       " '徳島県': (865, 888),\n",
       " '香川県': (889, 912),\n",
       " '愛媛県': (913, 936),\n",
       " '高知県': (937, 960),\n",
       " '福岡県': (961, 984),\n",
       " '佐賀県': (985, 1008),\n",
       " '長崎県': (1009, 1032),\n",
       " '熊本県': (1033, 1056),\n",
       " '大分県': (1057, 1080),\n",
       " '宮崎県': (1081, 1104),\n",
       " '鹿児島県': (1105, 1128),\n",
       " '沖縄県': (1129, 1152)}"
      ]
     },
     "execution_count": 85,
     "metadata": {},
     "output_type": "execute_result"
    }
   ],
   "source": [
    "pref_dict"
   ]
  },
  {
   "cell_type": "code",
   "execution_count": 86,
   "id": "f66b036f-472b-4bcd-b360-180f2c06e319",
   "metadata": {},
   "outputs": [],
   "source": [
    "def save_csv(pref_name, csv_pref_name):\n",
    "    pref_data_start = pref_dict[pref_name][0]\n",
    "    pred_data_end   = pref_dict[pref_name][1]\n",
    "    df_temp = df.iloc[pref_data_start: pred_data_end].copy()\n",
    "    csv_title = 'urban_rural_pop_' + csv_pref_name + '.csv'\n",
    "    df_temp.to_csv(csv_title, index = False)"
   ]
  },
  {
   "cell_type": "code",
   "execution_count": 87,
   "id": "cd1ff909-780f-4c59-8762-f0474f9e83b4",
   "metadata": {},
   "outputs": [],
   "source": [
    "save_csv('全国', 'total')"
   ]
  },
  {
   "cell_type": "code",
   "execution_count": 88,
   "id": "4f39080e-b469-4d18-b90b-b1829bb085f5",
   "metadata": {},
   "outputs": [],
   "source": [
    "save_csv('東京都', 'tokyo')\n",
    "save_csv('神奈川県', 'kanagawa')\n",
    "save_csv('埼玉県', 'saitama')\n",
    "save_csv('千葉県', 'chiba')\n",
    "save_csv('愛知県', 'nagoya')\n",
    "save_csv('京都府', 'kyoto')\n",
    "save_csv('大阪府', 'osaka')\n",
    "save_csv('兵庫県', 'hyogo')"
   ]
  },
  {
   "cell_type": "code",
   "execution_count": 90,
   "id": "24af5273-c5ff-415d-aade-1d47c0fc7fb7",
   "metadata": {},
   "outputs": [],
   "source": [
    "df.to_csv('test.csv')"
   ]
  },
  {
   "cell_type": "code",
   "execution_count": null,
   "id": "5f498c0e-e1e5-4653-9bbf-f75d01bcaf8f",
   "metadata": {},
   "outputs": [],
   "source": []
  }
 ],
 "metadata": {
  "kernelspec": {
   "display_name": "Python 3 (ipykernel)",
   "language": "python",
   "name": "python3"
  },
  "language_info": {
   "codemirror_mode": {
    "name": "ipython",
    "version": 3
   },
   "file_extension": ".py",
   "mimetype": "text/x-python",
   "name": "python",
   "nbconvert_exporter": "python",
   "pygments_lexer": "ipython3",
   "version": "3.9.6"
  }
 },
 "nbformat": 4,
 "nbformat_minor": 5
}
