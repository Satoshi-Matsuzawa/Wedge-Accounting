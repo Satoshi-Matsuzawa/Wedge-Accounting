{
 "cells": [
  {
   "cell_type": "code",
   "execution_count": 55,
   "id": "individual-delight",
   "metadata": {},
   "outputs": [],
   "source": [
    "# Creates total consumption of agricultural and non-agricultural products\n",
    "# Expressed in 1000 yen at 1934 to 1936 prices"
   ]
  },
  {
   "cell_type": "code",
   "execution_count": 1,
   "id": "worthy-heritage",
   "metadata": {},
   "outputs": [],
   "source": [
    "import pandas as pd"
   ]
  },
  {
   "cell_type": "code",
   "execution_count": 2,
   "id": "internal-gazette",
   "metadata": {},
   "outputs": [],
   "source": [
    "url = \"http://d-infra.ier.hit-u.ac.jp/Japanese/ltes/LTES_01.xlsx\""
   ]
  },
  {
   "cell_type": "code",
   "execution_count": 3,
   "id": "accomplished-civilization",
   "metadata": {},
   "outputs": [],
   "source": [
    "xl = pd.ExcelFile(url)"
   ]
  },
  {
   "cell_type": "code",
   "execution_count": 4,
   "id": "monthly-sociology",
   "metadata": {},
   "outputs": [
    {
     "data": {
      "text/plain": [
       "['第1表',\n",
       " '第1-A表',\n",
       " '第2表',\n",
       " '第3表',\n",
       " '第4表',\n",
       " '第4-A表\\u3000なし',\n",
       " '第5表',\n",
       " '第6表',\n",
       " '第6-A表',\n",
       " '第7表',\n",
       " '第7表（参考表）',\n",
       " '第7-A表\\u3000なし',\n",
       " '第8表',\n",
       " '第8-A表',\n",
       " '第9表',\n",
       " '第9-A表',\n",
       " '第10表',\n",
       " '第11表',\n",
       " '第12表',\n",
       " '第13表',\n",
       " '第14表',\n",
       " '第15表',\n",
       " '第16表',\n",
       " '第17表',\n",
       " '第18表',\n",
       " '第18-A表',\n",
       " '第19表',\n",
       " '第20表',\n",
       " '第21表',\n",
       " '第21-A表\\u3000なし',\n",
       " '第22表',\n",
       " '第23表',\n",
       " '第24表',\n",
       " '第25表',\n",
       " '第26表',\n",
       " '第27表',\n",
       " '第28表',\n",
       " '第29表',\n",
       " '第30表',\n",
       " '第30-A表\\u3000なし',\n",
       " '第31表',\n",
       " '第32表～第42表\\u3000なし']"
      ]
     },
     "execution_count": 4,
     "metadata": {},
     "output_type": "execute_result"
    }
   ],
   "source": [
    "xl.sheet_names"
   ]
  },
  {
   "cell_type": "code",
   "execution_count": 5,
   "id": "tough-vacation",
   "metadata": {},
   "outputs": [],
   "source": [
    "df_original = xl.parse('第19表')"
   ]
  },
  {
   "cell_type": "code",
   "execution_count": 8,
   "id": "dynamic-safety",
   "metadata": {},
   "outputs": [],
   "source": [
    "stat_name_jpn = df_original.iloc[0,2]"
   ]
  },
  {
   "cell_type": "code",
   "execution_count": 10,
   "id": "worst-collect",
   "metadata": {},
   "outputs": [
    {
     "data": {
      "text/plain": [
       "'第19表\\u3000個人消費支出（1934～1936年価格，1885～1940年）'"
      ]
     },
     "execution_count": 10,
     "metadata": {},
     "output_type": "execute_result"
    }
   ],
   "source": [
    "stat_name_jpn"
   ]
  },
  {
   "cell_type": "code",
   "execution_count": 11,
   "id": "compact-strength",
   "metadata": {},
   "outputs": [],
   "source": [
    "stat_name_eng = df_original.iloc[1,2]"
   ]
  },
  {
   "cell_type": "code",
   "execution_count": 12,
   "id": "typical-avenue",
   "metadata": {},
   "outputs": [
    {
     "data": {
      "text/plain": [
       "'Table 19\\u3000Personal Consumption Expenditures：1934～1936 Prices, 1885～1940'"
      ]
     },
     "execution_count": 12,
     "metadata": {},
     "output_type": "execute_result"
    }
   ],
   "source": [
    "stat_name_eng"
   ]
  },
  {
   "cell_type": "code",
   "execution_count": 30,
   "id": "ready-popularity",
   "metadata": {},
   "outputs": [],
   "source": [
    "# Remove columns and rows with too many nulls\n",
    "df_dropped = df_original.loc[df_original.notnull().sum(axis=1) > 2, df_original.notnull().sum() > 2]"
   ]
  },
  {
   "cell_type": "code",
   "execution_count": 41,
   "id": "activated-mexico",
   "metadata": {},
   "outputs": [],
   "source": [
    "food_unit_jpn = df_dropped.iloc[8,2]"
   ]
  },
  {
   "cell_type": "code",
   "execution_count": 39,
   "id": "robust-column",
   "metadata": {},
   "outputs": [],
   "source": [
    "food_unit_eng = df_dropped.iloc[9,2]"
   ]
  },
  {
   "cell_type": "code",
   "execution_count": 42,
   "id": "stretch-interstate",
   "metadata": {},
   "outputs": [],
   "source": [
    "total_unit_jpn = df_dropped.iloc[8, -1]\n",
    "total_unit_eng = df_dropped.iloc[9, -1]"
   ]
  },
  {
   "cell_type": "code",
   "execution_count": 45,
   "id": "electronic-guess",
   "metadata": {},
   "outputs": [
    {
     "data": {
      "text/plain": [
       "('1000円:R', '100万円:R')"
      ]
     },
     "execution_count": 45,
     "metadata": {},
     "output_type": "execute_result"
    }
   ],
   "source": [
    "# Notice the difference\n",
    "food_unit_jpn, total_unit_jpn"
   ]
  },
  {
   "cell_type": "code",
   "execution_count": 46,
   "id": "moved-production",
   "metadata": {},
   "outputs": [],
   "source": [
    "# Pick food consumption and total consumption\n",
    "df_picked = df_dropped.iloc[10:,[0, 1, -1]]"
   ]
  },
  {
   "cell_type": "code",
   "execution_count": 47,
   "id": "primary-spouse",
   "metadata": {},
   "outputs": [],
   "source": [
    "df_picked.columns = ['year_wst', 'food', 'total']"
   ]
  },
  {
   "cell_type": "code",
   "execution_count": 48,
   "id": "received-defeat",
   "metadata": {},
   "outputs": [],
   "source": [
    "# Adjust the unit difference\n",
    "# Both units are 1000 yen at the price of 1934-36 \n",
    "df_picked['total'] = df_picked['total'] * 1000"
   ]
  },
  {
   "cell_type": "code",
   "execution_count": 51,
   "id": "elder-incidence",
   "metadata": {},
   "outputs": [],
   "source": [
    "df_picked['non_food'] = df_picked['total'] - df_picked['food']"
   ]
  },
  {
   "cell_type": "code",
   "execution_count": 54,
   "id": "isolated-james",
   "metadata": {},
   "outputs": [],
   "source": [
    "df_picked.to_csv('../../Data/Downloaded/prewar_tot_consumption.csv')"
   ]
  },
  {
   "cell_type": "code",
   "execution_count": null,
   "id": "incorporate-relay",
   "metadata": {},
   "outputs": [],
   "source": []
  }
 ],
 "metadata": {
  "kernelspec": {
   "display_name": "Python 3",
   "language": "python",
   "name": "python3"
  },
  "language_info": {
   "codemirror_mode": {
    "name": "ipython",
    "version": 3
   },
   "file_extension": ".py",
   "mimetype": "text/x-python",
   "name": "python",
   "nbconvert_exporter": "python",
   "pygments_lexer": "ipython3",
   "version": "3.7.10"
  }
 },
 "nbformat": 4,
 "nbformat_minor": 5
}
