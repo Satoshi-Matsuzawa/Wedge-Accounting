{
 "cells": [
  {
   "cell_type": "code",
   "execution_count": 1,
   "id": "a358c585-4ca6-4235-8e57-be9818b52ff9",
   "metadata": {},
   "outputs": [],
   "source": [
    "import pandas as pd"
   ]
  },
  {
   "cell_type": "code",
   "execution_count": 2,
   "id": "9208b0d5-b393-412e-8b95-f701bdd1b445",
   "metadata": {},
   "outputs": [],
   "source": [
    "url = \"https://warp.da.ndl.go.jp/info:ndljp/pid/11423429/www.stat.go.jp/data/chouki/zuhyou/01-12.xls\""
   ]
  },
  {
   "cell_type": "code",
   "execution_count": 3,
   "id": "177e3d75-32df-45ce-8976-265e12cb3d66",
   "metadata": {},
   "outputs": [],
   "source": [
    "df_original = pd.read_excel(url, header = None, index_col = None)"
   ]
  },
  {
   "cell_type": "code",
   "execution_count": 5,
   "id": "58b0a420-205f-458a-9968-9ba471c01f48",
   "metadata": {},
   "outputs": [],
   "source": [
    "stat_name_jpn = df_original.iloc[0,0]"
   ]
  },
  {
   "cell_type": "code",
   "execution_count": 6,
   "id": "54e7498f-6c7c-4815-a071-261782812029",
   "metadata": {},
   "outputs": [],
   "source": [
    "stat_name_eng = df_original.iloc[1,0]"
   ]
  },
  {
   "cell_type": "code",
   "execution_count": 7,
   "id": "33e0a54a-7b35-401d-bcf5-aff6699d098e",
   "metadata": {},
   "outputs": [
    {
     "data": {
      "text/plain": [
       "('１－１２\\u3000都道府県別市区町村数（大正９年～平成１７年）',\n",
       " '1-12 Number of Shi, Ku, Machi and Mura for each Prefecture (1920--2005)')"
      ]
     },
     "execution_count": 7,
     "metadata": {},
     "output_type": "execute_result"
    }
   ],
   "source": [
    "stat_name_jpn, stat_name_eng"
   ]
  },
  {
   "cell_type": "code",
   "execution_count": 8,
   "id": "4c113204-e752-4831-9c9f-9a16b74cef8e",
   "metadata": {},
   "outputs": [],
   "source": [
    "# remove columns and rows with too many nulls\n",
    "df_dropped = df_original.loc[df_original.notnull().sum(axis=1) > 2, df_original.notnull().sum() > 2].reset_index(drop = True)"
   ]
  },
  {
   "cell_type": "code",
   "execution_count": 9,
   "id": "417d13c5-cbac-4648-8936-568ad4e80d1a",
   "metadata": {},
   "outputs": [],
   "source": [
    "df_dropped = df_dropped.replace('-', 0)"
   ]
  },
  {
   "cell_type": "code",
   "execution_count": 10,
   "id": "5aba12f3-71ce-4ff7-a9d7-dfec452bb5da",
   "metadata": {},
   "outputs": [
    {
     "data": {
      "text/html": [
       "<div>\n",
       "<style scoped>\n",
       "    .dataframe tbody tr th:only-of-type {\n",
       "        vertical-align: middle;\n",
       "    }\n",
       "\n",
       "    .dataframe tbody tr th {\n",
       "        vertical-align: top;\n",
       "    }\n",
       "\n",
       "    .dataframe thead th {\n",
       "        text-align: right;\n",
       "    }\n",
       "</style>\n",
       "<table border=\"1\" class=\"dataframe\">\n",
       "  <thead>\n",
       "    <tr style=\"text-align: right;\">\n",
       "      <th></th>\n",
       "      <th>0</th>\n",
       "      <th>1</th>\n",
       "      <th>2</th>\n",
       "      <th>3</th>\n",
       "      <th>4</th>\n",
       "      <th>5</th>\n",
       "      <th>6</th>\n",
       "      <th>7</th>\n",
       "      <th>8</th>\n",
       "      <th>9</th>\n",
       "      <th>...</th>\n",
       "      <th>40</th>\n",
       "      <th>41</th>\n",
       "      <th>42</th>\n",
       "      <th>43</th>\n",
       "      <th>44</th>\n",
       "      <th>45</th>\n",
       "      <th>46</th>\n",
       "      <th>47</th>\n",
       "      <th>48</th>\n",
       "      <th>49</th>\n",
       "    </tr>\n",
       "  </thead>\n",
       "  <tbody>\n",
       "    <tr>\n",
       "      <th>0</th>\n",
       "      <td>年次</td>\n",
       "      <td>NaN</td>\n",
       "      <td>全国</td>\n",
       "      <td>北海道</td>\n",
       "      <td>青森県</td>\n",
       "      <td>岩手県</td>\n",
       "      <td>宮城県</td>\n",
       "      <td>秋田県</td>\n",
       "      <td>山形県</td>\n",
       "      <td>福島県</td>\n",
       "      <td>...</td>\n",
       "      <td>愛媛県</td>\n",
       "      <td>高知県</td>\n",
       "      <td>福岡県</td>\n",
       "      <td>佐賀県</td>\n",
       "      <td>長崎県</td>\n",
       "      <td>熊本県</td>\n",
       "      <td>大分県</td>\n",
       "      <td>宮崎県</td>\n",
       "      <td>鹿児島県</td>\n",
       "      <td>沖縄県</td>\n",
       "    </tr>\n",
       "    <tr>\n",
       "      <th>1</th>\n",
       "      <td>Year</td>\n",
       "      <td>NaN</td>\n",
       "      <td>Japan  1)</td>\n",
       "      <td>Hokkaido</td>\n",
       "      <td>Aomori-ken</td>\n",
       "      <td>Iwate-ken</td>\n",
       "      <td>Miyagi-ken</td>\n",
       "      <td>Akita-ken</td>\n",
       "      <td>Yamagata-ken</td>\n",
       "      <td>Fukushima-ken</td>\n",
       "      <td>...</td>\n",
       "      <td>Ehime-ken</td>\n",
       "      <td>Kochi-ken</td>\n",
       "      <td>Fukuoka-ken</td>\n",
       "      <td>Saga-ken</td>\n",
       "      <td>Nagasaki-ken</td>\n",
       "      <td>Kumamoto-ken</td>\n",
       "      <td>Oita-ken</td>\n",
       "      <td>Miyazaki-ken</td>\n",
       "      <td>Kagoshima-ken</td>\n",
       "      <td>Okinawa-ken</td>\n",
       "    </tr>\n",
       "    <tr>\n",
       "      <th>2</th>\n",
       "      <td>大正 9年</td>\n",
       "      <td>1920.0</td>\n",
       "      <td>12244</td>\n",
       "      <td>308</td>\n",
       "      <td>170</td>\n",
       "      <td>241</td>\n",
       "      <td>204</td>\n",
       "      <td>240</td>\n",
       "      <td>230</td>\n",
       "      <td>421</td>\n",
       "      <td>...</td>\n",
       "      <td>296</td>\n",
       "      <td>197</td>\n",
       "      <td>343</td>\n",
       "      <td>135</td>\n",
       "      <td>198</td>\n",
       "      <td>364</td>\n",
       "      <td>258</td>\n",
       "      <td>100</td>\n",
       "      <td>143</td>\n",
       "      <td>56</td>\n",
       "    </tr>\n",
       "    <tr>\n",
       "      <th>3</th>\n",
       "      <td>14</td>\n",
       "      <td>1925.0</td>\n",
       "      <td>12018</td>\n",
       "      <td>271</td>\n",
       "      <td>170</td>\n",
       "      <td>239</td>\n",
       "      <td>205</td>\n",
       "      <td>239</td>\n",
       "      <td>229</td>\n",
       "      <td>410</td>\n",
       "      <td>...</td>\n",
       "      <td>283</td>\n",
       "      <td>196</td>\n",
       "      <td>337</td>\n",
       "      <td>133</td>\n",
       "      <td>192</td>\n",
       "      <td>349</td>\n",
       "      <td>257</td>\n",
       "      <td>98</td>\n",
       "      <td>145</td>\n",
       "      <td>57</td>\n",
       "    </tr>\n",
       "    <tr>\n",
       "      <th>4</th>\n",
       "      <td>昭和 5年</td>\n",
       "      <td>1930.0</td>\n",
       "      <td>11864</td>\n",
       "      <td>273</td>\n",
       "      <td>167</td>\n",
       "      <td>237</td>\n",
       "      <td>203</td>\n",
       "      <td>238</td>\n",
       "      <td>228</td>\n",
       "      <td>406</td>\n",
       "      <td>...</td>\n",
       "      <td>276</td>\n",
       "      <td>192</td>\n",
       "      <td>321</td>\n",
       "      <td>132</td>\n",
       "      <td>186</td>\n",
       "      <td>350</td>\n",
       "      <td>256</td>\n",
       "      <td>96</td>\n",
       "      <td>143</td>\n",
       "      <td>57</td>\n",
       "    </tr>\n",
       "    <tr>\n",
       "      <th>...</th>\n",
       "      <td>...</td>\n",
       "      <td>...</td>\n",
       "      <td>...</td>\n",
       "      <td>...</td>\n",
       "      <td>...</td>\n",
       "      <td>...</td>\n",
       "      <td>...</td>\n",
       "      <td>...</td>\n",
       "      <td>...</td>\n",
       "      <td>...</td>\n",
       "      <td>...</td>\n",
       "      <td>...</td>\n",
       "      <td>...</td>\n",
       "      <td>...</td>\n",
       "      <td>...</td>\n",
       "      <td>...</td>\n",
       "      <td>...</td>\n",
       "      <td>...</td>\n",
       "      <td>...</td>\n",
       "      <td>...</td>\n",
       "      <td>...</td>\n",
       "    </tr>\n",
       "    <tr>\n",
       "      <th>87</th>\n",
       "      <td>60</td>\n",
       "      <td>1985.0</td>\n",
       "      <td>601</td>\n",
       "      <td>24</td>\n",
       "      <td>25</td>\n",
       "      <td>18</td>\n",
       "      <td>2</td>\n",
       "      <td>11</td>\n",
       "      <td>4</td>\n",
       "      <td>28</td>\n",
       "      <td>...</td>\n",
       "      <td>14</td>\n",
       "      <td>19</td>\n",
       "      <td>8</td>\n",
       "      <td>6</td>\n",
       "      <td>1</td>\n",
       "      <td>21</td>\n",
       "      <td>11</td>\n",
       "      <td>7</td>\n",
       "      <td>9</td>\n",
       "      <td>28</td>\n",
       "    </tr>\n",
       "    <tr>\n",
       "      <th>88</th>\n",
       "      <td>平成 2年</td>\n",
       "      <td>1990.0</td>\n",
       "      <td>587</td>\n",
       "      <td>24</td>\n",
       "      <td>25</td>\n",
       "      <td>18</td>\n",
       "      <td>2</td>\n",
       "      <td>10</td>\n",
       "      <td>4</td>\n",
       "      <td>28</td>\n",
       "      <td>...</td>\n",
       "      <td>14</td>\n",
       "      <td>19</td>\n",
       "      <td>8</td>\n",
       "      <td>5</td>\n",
       "      <td>1</td>\n",
       "      <td>21</td>\n",
       "      <td>11</td>\n",
       "      <td>7</td>\n",
       "      <td>9</td>\n",
       "      <td>28</td>\n",
       "    </tr>\n",
       "    <tr>\n",
       "      <th>89</th>\n",
       "      <td>7</td>\n",
       "      <td>1995.0</td>\n",
       "      <td>576</td>\n",
       "      <td>24</td>\n",
       "      <td>25</td>\n",
       "      <td>16</td>\n",
       "      <td>2</td>\n",
       "      <td>10</td>\n",
       "      <td>4</td>\n",
       "      <td>28</td>\n",
       "      <td>...</td>\n",
       "      <td>14</td>\n",
       "      <td>19</td>\n",
       "      <td>8</td>\n",
       "      <td>5</td>\n",
       "      <td>1</td>\n",
       "      <td>21</td>\n",
       "      <td>11</td>\n",
       "      <td>7</td>\n",
       "      <td>9</td>\n",
       "      <td>27</td>\n",
       "    </tr>\n",
       "    <tr>\n",
       "      <th>90</th>\n",
       "      <td>12</td>\n",
       "      <td>2000.0</td>\n",
       "      <td>567</td>\n",
       "      <td>24</td>\n",
       "      <td>25</td>\n",
       "      <td>16</td>\n",
       "      <td>2</td>\n",
       "      <td>10</td>\n",
       "      <td>4</td>\n",
       "      <td>28</td>\n",
       "      <td>...</td>\n",
       "      <td>14</td>\n",
       "      <td>19</td>\n",
       "      <td>8</td>\n",
       "      <td>5</td>\n",
       "      <td>1</td>\n",
       "      <td>20</td>\n",
       "      <td>11</td>\n",
       "      <td>7</td>\n",
       "      <td>9</td>\n",
       "      <td>27</td>\n",
       "    </tr>\n",
       "    <tr>\n",
       "      <th>91</th>\n",
       "      <td>17</td>\n",
       "      <td>2005.0</td>\n",
       "      <td>288</td>\n",
       "      <td>20</td>\n",
       "      <td>11</td>\n",
       "      <td>11</td>\n",
       "      <td>1</td>\n",
       "      <td>4</td>\n",
       "      <td>3</td>\n",
       "      <td>24</td>\n",
       "      <td>...</td>\n",
       "      <td>0</td>\n",
       "      <td>10</td>\n",
       "      <td>6</td>\n",
       "      <td>3</td>\n",
       "      <td>0</td>\n",
       "      <td>8</td>\n",
       "      <td>1</td>\n",
       "      <td>7</td>\n",
       "      <td>5</td>\n",
       "      <td>23</td>\n",
       "    </tr>\n",
       "  </tbody>\n",
       "</table>\n",
       "<p>92 rows × 50 columns</p>\n",
       "</div>"
      ],
      "text/plain": [
       "       0       1          2         3           4          5           6   \\\n",
       "0      年次     NaN         全国       北海道         青森県        岩手県         宮城県   \n",
       "1    Year     NaN  Japan  1)  Hokkaido  Aomori-ken  Iwate-ken  Miyagi-ken   \n",
       "2   大正 9年  1920.0      12244       308         170        241         204   \n",
       "3     14　  1925.0      12018       271         170        239         205   \n",
       "4   昭和 5年  1930.0      11864       273         167        237         203   \n",
       "..    ...     ...        ...       ...         ...        ...         ...   \n",
       "87    60　  1985.0        601        24          25         18           2   \n",
       "88  平成 2年  1990.0        587        24          25         18           2   \n",
       "89     7　  1995.0        576        24          25         16           2   \n",
       "90    12　  2000.0        567        24          25         16           2   \n",
       "91    17　  2005.0        288        20          11         11           1   \n",
       "\n",
       "           7             8              9   ...         40         41  \\\n",
       "0         秋田県           山形県            福島県  ...        愛媛県        高知県   \n",
       "1   Akita-ken  Yamagata-ken  Fukushima-ken  ...  Ehime-ken  Kochi-ken   \n",
       "2         240           230            421  ...        296        197   \n",
       "3         239           229            410  ...        283        196   \n",
       "4         238           228            406  ...        276        192   \n",
       "..        ...           ...            ...  ...        ...        ...   \n",
       "87         11             4             28  ...         14         19   \n",
       "88         10             4             28  ...         14         19   \n",
       "89         10             4             28  ...         14         19   \n",
       "90         10             4             28  ...         14         19   \n",
       "91          4             3             24  ...          0         10   \n",
       "\n",
       "             42        43            44            45        46            47  \\\n",
       "0           福岡県       佐賀県           長崎県           熊本県       大分県           宮崎県   \n",
       "1   Fukuoka-ken  Saga-ken  Nagasaki-ken  Kumamoto-ken  Oita-ken  Miyazaki-ken   \n",
       "2           343       135           198           364       258           100   \n",
       "3           337       133           192           349       257            98   \n",
       "4           321       132           186           350       256            96   \n",
       "..          ...       ...           ...           ...       ...           ...   \n",
       "87            8         6             1            21        11             7   \n",
       "88            8         5             1            21        11             7   \n",
       "89            8         5             1            21        11             7   \n",
       "90            8         5             1            20        11             7   \n",
       "91            6         3             0             8         1             7   \n",
       "\n",
       "               48           49  \n",
       "0            鹿児島県          沖縄県  \n",
       "1   Kagoshima-ken  Okinawa-ken  \n",
       "2             143           56  \n",
       "3             145           57  \n",
       "4             143           57  \n",
       "..            ...          ...  \n",
       "87              9           28  \n",
       "88              9           28  \n",
       "89              9           27  \n",
       "90              9           27  \n",
       "91              5           23  \n",
       "\n",
       "[92 rows x 50 columns]"
      ]
     },
     "execution_count": 10,
     "metadata": {},
     "output_type": "execute_result"
    }
   ],
   "source": [
    "df_dropped"
   ]
  },
  {
   "cell_type": "code",
   "execution_count": 11,
   "id": "232e3f65-720a-476c-9d4e-e0fc3e94ab6a",
   "metadata": {},
   "outputs": [
    {
     "data": {
      "text/plain": [
       "0       年次\n",
       "1      NaN\n",
       "2       全国\n",
       "3      北海道\n",
       "4      青森県\n",
       "5      岩手県\n",
       "6      宮城県\n",
       "7      秋田県\n",
       "8      山形県\n",
       "9      福島県\n",
       "10     茨城県\n",
       "11     栃木県\n",
       "12     群馬県\n",
       "13     埼玉県\n",
       "14     千葉県\n",
       "15     東京都\n",
       "16    神奈川県\n",
       "17     新潟県\n",
       "18     富山県\n",
       "19     石川県\n",
       "20     福井県\n",
       "21     山梨県\n",
       "22     長野県\n",
       "23     岐阜県\n",
       "24     静岡県\n",
       "25     愛知県\n",
       "26     三重県\n",
       "27     滋賀県\n",
       "28     京都府\n",
       "29     大阪府\n",
       "30     兵庫県\n",
       "31     奈良県\n",
       "32    和歌山県\n",
       "33     鳥取県\n",
       "34     島根県\n",
       "35     岡山県\n",
       "36     広島県\n",
       "37     山口県\n",
       "38     徳島県\n",
       "39     香川県\n",
       "40     愛媛県\n",
       "41     高知県\n",
       "42     福岡県\n",
       "43     佐賀県\n",
       "44     長崎県\n",
       "45     熊本県\n",
       "46     大分県\n",
       "47     宮崎県\n",
       "48    鹿児島県\n",
       "49     沖縄県\n",
       "Name: 0, dtype: object"
      ]
     },
     "execution_count": 11,
     "metadata": {},
     "output_type": "execute_result"
    }
   ],
   "source": [
    "columns_original_jpn = df_dropped.iloc[0,:]\n",
    "columns_original_jpn"
   ]
  },
  {
   "cell_type": "code",
   "execution_count": 12,
   "id": "8889dbbe-02c7-4843-82e6-b0a5f5962ac9",
   "metadata": {},
   "outputs": [
    {
     "data": {
      "text/plain": [
       "0              Year\n",
       "1               NaN\n",
       "2         Japan  1)\n",
       "3          Hokkaido\n",
       "4        Aomori-ken\n",
       "5         Iwate-ken\n",
       "6        Miyagi-ken\n",
       "7         Akita-ken\n",
       "8      Yamagata-ken\n",
       "9     Fukushima-ken\n",
       "10      Ibaraki-ken\n",
       "11      Tochigi-ken\n",
       "12        Gumma-ken\n",
       "13      Saitama-ken\n",
       "14        Chiba-ken\n",
       "15      Tokyo-to 1)\n",
       "16     Kanagawa-ken\n",
       "17      Niigata-ken\n",
       "18       Toyama-ken\n",
       "19     Ishikawa-ken\n",
       "20        Fukui-ken\n",
       "21    Yamanashi-ken\n",
       "22       Nagano-ken\n",
       "23         Gifu-ken\n",
       "24     Shizuoka-ken\n",
       "25        Aichi-ken\n",
       "26          Mie-ken\n",
       "27        Shiga-ken\n",
       "28         Kyoto-fu\n",
       "29         Osaka-fu\n",
       "30        Hyogo-ken\n",
       "31         Nara-ken\n",
       "32     Wakayama-ken\n",
       "33      Tottori-ken\n",
       "34      Shimane-ken\n",
       "35      Okayama-ken\n",
       "36    Hiroshima-ken\n",
       "37    Yamaguchi-ken\n",
       "38    Tokushima-ken\n",
       "39       Kagawa-ken\n",
       "40        Ehime-ken\n",
       "41        Kochi-ken\n",
       "42      Fukuoka-ken\n",
       "43         Saga-ken\n",
       "44     Nagasaki-ken\n",
       "45     Kumamoto-ken\n",
       "46         Oita-ken\n",
       "47     Miyazaki-ken\n",
       "48    Kagoshima-ken\n",
       "49      Okinawa-ken\n",
       "Name: 1, dtype: object"
      ]
     },
     "execution_count": 12,
     "metadata": {},
     "output_type": "execute_result"
    }
   ],
   "source": [
    "columns_original_eng = df_dropped.iloc[1,:]\n",
    "columns_original_eng"
   ]
  },
  {
   "cell_type": "code",
   "execution_count": 13,
   "id": "de6ddec3-8fdb-41a4-95ed-d01d4cb21c47",
   "metadata": {},
   "outputs": [
    {
     "data": {
      "text/plain": [
       "50"
      ]
     },
     "execution_count": 13,
     "metadata": {},
     "output_type": "execute_result"
    }
   ],
   "source": [
    "len(columns_original_eng)"
   ]
  },
  {
   "cell_type": "code",
   "execution_count": 14,
   "id": "a1bfecc6-b7fd-4aad-b1c4-d39ead18eecf",
   "metadata": {},
   "outputs": [],
   "source": [
    "columns_prefs = [i.split('-')[0] for i in columns_original_eng[3:]]"
   ]
  },
  {
   "cell_type": "code",
   "execution_count": 15,
   "id": "753bccb1-2506-4408-9bec-2c0bcaadb12f",
   "metadata": {},
   "outputs": [
    {
     "data": {
      "text/plain": [
       "['Hokkaido',\n",
       " 'Aomori',\n",
       " 'Iwate',\n",
       " 'Miyagi',\n",
       " 'Akita',\n",
       " 'Yamagata',\n",
       " 'Fukushima',\n",
       " 'Ibaraki',\n",
       " 'Tochigi',\n",
       " 'Gumma',\n",
       " 'Saitama',\n",
       " 'Chiba',\n",
       " 'Tokyo',\n",
       " 'Kanagawa',\n",
       " 'Niigata',\n",
       " 'Toyama',\n",
       " 'Ishikawa',\n",
       " 'Fukui',\n",
       " 'Yamanashi',\n",
       " 'Nagano',\n",
       " 'Gifu',\n",
       " 'Shizuoka',\n",
       " 'Aichi',\n",
       " 'Mie',\n",
       " 'Shiga',\n",
       " 'Kyoto',\n",
       " 'Osaka',\n",
       " 'Hyogo',\n",
       " 'Nara',\n",
       " 'Wakayama',\n",
       " 'Tottori',\n",
       " 'Shimane',\n",
       " 'Okayama',\n",
       " 'Hiroshima',\n",
       " 'Yamaguchi',\n",
       " 'Tokushima',\n",
       " 'Kagawa',\n",
       " 'Ehime',\n",
       " 'Kochi',\n",
       " 'Fukuoka',\n",
       " 'Saga',\n",
       " 'Nagasaki',\n",
       " 'Kumamoto',\n",
       " 'Oita',\n",
       " 'Miyazaki',\n",
       " 'Kagoshima',\n",
       " 'Okinawa']"
      ]
     },
     "execution_count": 15,
     "metadata": {},
     "output_type": "execute_result"
    }
   ],
   "source": [
    "columns_prefs"
   ]
  },
  {
   "cell_type": "code",
   "execution_count": 37,
   "id": "459d57d2-efd1-4bf6-adcf-cb584cc33d2e",
   "metadata": {},
   "outputs": [],
   "source": [
    "num_of_prefs = len(columns_prefs)"
   ]
  },
  {
   "cell_type": "code",
   "execution_count": 38,
   "id": "25fc0ed1-762e-4dc5-98ef-a74cb7b66f49",
   "metadata": {},
   "outputs": [],
   "source": [
    "columns = ['year_jpn', 'year_wst', 'total']"
   ]
  },
  {
   "cell_type": "code",
   "execution_count": 39,
   "id": "15ed3de0-c64b-4bde-b4aa-f28c5e9be2ac",
   "metadata": {},
   "outputs": [],
   "source": [
    "columns = columns + columns_prefs"
   ]
  },
  {
   "cell_type": "code",
   "execution_count": 40,
   "id": "34a8d881-5943-4100-a860-f74e10f20522",
   "metadata": {},
   "outputs": [
    {
     "data": {
      "text/plain": [
       "50"
      ]
     },
     "execution_count": 40,
     "metadata": {},
     "output_type": "execute_result"
    }
   ],
   "source": [
    "len(df_dropped.columns)"
   ]
  },
  {
   "cell_type": "code",
   "execution_count": 41,
   "id": "cf76dd2d-3800-4e51-b7a2-348c619e2113",
   "metadata": {},
   "outputs": [
    {
     "data": {
      "text/plain": [
       "50"
      ]
     },
     "execution_count": 41,
     "metadata": {},
     "output_type": "execute_result"
    }
   ],
   "source": [
    "len(columns)"
   ]
  },
  {
   "cell_type": "code",
   "execution_count": 42,
   "id": "74640e27-bb1c-47ca-a60f-9a63db983791",
   "metadata": {},
   "outputs": [
    {
     "data": {
      "text/plain": [
       "['year_jpn',\n",
       " 'year_wst',\n",
       " 'total',\n",
       " 'Hokkaido',\n",
       " 'Aomori',\n",
       " 'Iwate',\n",
       " 'Miyagi',\n",
       " 'Akita',\n",
       " 'Yamagata',\n",
       " 'Fukushima',\n",
       " 'Ibaraki',\n",
       " 'Tochigi',\n",
       " 'Gumma',\n",
       " 'Saitama',\n",
       " 'Chiba',\n",
       " 'Tokyo',\n",
       " 'Kanagawa',\n",
       " 'Niigata',\n",
       " 'Toyama',\n",
       " 'Ishikawa',\n",
       " 'Fukui',\n",
       " 'Yamanashi',\n",
       " 'Nagano',\n",
       " 'Gifu',\n",
       " 'Shizuoka',\n",
       " 'Aichi',\n",
       " 'Mie',\n",
       " 'Shiga',\n",
       " 'Kyoto',\n",
       " 'Osaka',\n",
       " 'Hyogo',\n",
       " 'Nara',\n",
       " 'Wakayama',\n",
       " 'Tottori',\n",
       " 'Shimane',\n",
       " 'Okayama',\n",
       " 'Hiroshima',\n",
       " 'Yamaguchi',\n",
       " 'Tokushima',\n",
       " 'Kagawa',\n",
       " 'Ehime',\n",
       " 'Kochi',\n",
       " 'Fukuoka',\n",
       " 'Saga',\n",
       " 'Nagasaki',\n",
       " 'Kumamoto',\n",
       " 'Oita',\n",
       " 'Miyazaki',\n",
       " 'Kagoshima',\n",
       " 'Okinawa']"
      ]
     },
     "execution_count": 42,
     "metadata": {},
     "output_type": "execute_result"
    }
   ],
   "source": [
    "columns"
   ]
  },
  {
   "cell_type": "code",
   "execution_count": 43,
   "id": "65eed348-007e-4ccb-bb97-d5516ce558e3",
   "metadata": {},
   "outputs": [],
   "source": [
    "df_dropped.columns = columns"
   ]
  },
  {
   "cell_type": "code",
   "execution_count": 44,
   "id": "feab2177-cb73-4a6b-ac78-ff994e50ddb9",
   "metadata": {},
   "outputs": [],
   "source": [
    "df = df_dropped.drop([0, 1])"
   ]
  },
  {
   "cell_type": "code",
   "execution_count": 45,
   "id": "c5312b34-c064-48a3-9542-5747deea87a5",
   "metadata": {},
   "outputs": [],
   "source": [
    "#df.to_csv('../../Data/Downloaded/shi_gun_counts.csv', index = False)"
   ]
  },
  {
   "cell_type": "code",
   "execution_count": 46,
   "id": "ef43bd5c-cd96-43ed-aecf-03c11053bb73",
   "metadata": {},
   "outputs": [],
   "source": [
    "#df_dropped.iloc[]"
   ]
  },
  {
   "cell_type": "code",
   "execution_count": 47,
   "id": "bccd6986-6a5b-41b1-ad42-f18e9341968c",
   "metadata": {},
   "outputs": [],
   "source": [
    "# Number of rows of data for each category\n",
    "rows_data = 18"
   ]
  },
  {
   "cell_type": "code",
   "execution_count": 48,
   "id": "9a709f52-85ee-4c67-bda2-c8dd3588e88d",
   "metadata": {},
   "outputs": [],
   "source": [
    "data_row_init = 0"
   ]
  },
  {
   "cell_type": "code",
   "execution_count": 49,
   "id": "90f182e9-d0a5-4684-8a69-92bf2ba2dab6",
   "metadata": {},
   "outputs": [
    {
     "data": {
      "text/plain": [
       "'大正 9年'"
      ]
     },
     "execution_count": 49,
     "metadata": {},
     "output_type": "execute_result"
    }
   ],
   "source": [
    "df.iloc[0, 0]"
   ]
  },
  {
   "cell_type": "code",
   "execution_count": 50,
   "id": "c5b7b5f7-00eb-4404-a2fc-00041d9fa4b7",
   "metadata": {},
   "outputs": [
    {
     "data": {
      "text/plain": [
       "'大正 9年'"
      ]
     },
     "execution_count": 50,
     "metadata": {},
     "output_type": "execute_result"
    }
   ],
   "source": [
    "df.iloc[data_row_init + rows_data, 0]"
   ]
  },
  {
   "cell_type": "code",
   "execution_count": 51,
   "id": "376a8971-600d-4d4d-9265-51602849ed31",
   "metadata": {},
   "outputs": [
    {
     "data": {
      "text/plain": [
       "2     大正 9年\n",
       "3       14　\n",
       "4     昭和 5年\n",
       "5       10　\n",
       "6       15　\n",
       "7       20　\n",
       "8       25　\n",
       "9       30　\n",
       "10      35　\n",
       "11      40　\n",
       "12      45　\n",
       "13      50　\n",
       "14      55　\n",
       "15      60　\n",
       "16    平成 2年\n",
       "17       7　\n",
       "18      12　\n",
       "19      17　\n",
       "Name: year_jpn, dtype: object"
      ]
     },
     "execution_count": 51,
     "metadata": {},
     "output_type": "execute_result"
    }
   ],
   "source": [
    "df.iloc[0:rows_data, 0]"
   ]
  },
  {
   "cell_type": "code",
   "execution_count": 52,
   "id": "308063ba-ec92-4827-a9c9-588f9990a9e7",
   "metadata": {},
   "outputs": [],
   "source": [
    "# Number of rows between labels in each category\n",
    "rows_label = 19"
   ]
  },
  {
   "cell_type": "code",
   "execution_count": 53,
   "id": "2750f04b-18dc-4fc4-9c07-0547bafe8249",
   "metadata": {},
   "outputs": [
    {
     "data": {
      "text/plain": [
       "'計'"
      ]
     },
     "execution_count": 53,
     "metadata": {},
     "output_type": "execute_result"
    }
   ],
   "source": [
    "df_original.iloc[5,0]"
   ]
  },
  {
   "cell_type": "code",
   "execution_count": 54,
   "id": "48b94a6a-0b5a-49f0-9e53-1f84891a7bb8",
   "metadata": {},
   "outputs": [
    {
     "data": {
      "text/plain": [
       "'市'"
      ]
     },
     "execution_count": 54,
     "metadata": {},
     "output_type": "execute_result"
    }
   ],
   "source": [
    "df_original.iloc[5 + rows_label, 0]"
   ]
  },
  {
   "cell_type": "code",
   "execution_count": 55,
   "id": "66f10246-c2e7-4431-a5be-6bfdf455568e",
   "metadata": {},
   "outputs": [
    {
     "ename": "IndexError",
     "evalue": "single positional indexer is out-of-bounds",
     "output_type": "error",
     "traceback": [
      "\u001b[0;31m---------------------------------------------------------------------------\u001b[0m",
      "\u001b[0;31mIndexError\u001b[0m                                Traceback (most recent call last)",
      "\u001b[0;32m/var/folders/hb/3db8mbcj4l74ztsvqyx17yd00000gn/T/ipykernel_24681/2786942938.py\u001b[0m in \u001b[0;36m<module>\u001b[0;34m\u001b[0m\n\u001b[1;32m      4\u001b[0m \u001b[0mcat_row_init\u001b[0m \u001b[0;34m=\u001b[0m \u001b[0;36m5\u001b[0m\u001b[0;34m\u001b[0m\u001b[0;34m\u001b[0m\u001b[0m\n\u001b[1;32m      5\u001b[0m \u001b[0;32mfor\u001b[0m \u001b[0mi\u001b[0m \u001b[0;32min\u001b[0m \u001b[0mrange\u001b[0m\u001b[0;34m(\u001b[0m\u001b[0mnum_of_prefs\u001b[0m\u001b[0;34m)\u001b[0m\u001b[0;34m:\u001b[0m\u001b[0;34m\u001b[0m\u001b[0;34m\u001b[0m\u001b[0m\n\u001b[0;32m----> 6\u001b[0;31m     \u001b[0mcat_name\u001b[0m \u001b[0;34m=\u001b[0m \u001b[0mdf_original\u001b[0m\u001b[0;34m.\u001b[0m\u001b[0miloc\u001b[0m\u001b[0;34m[\u001b[0m\u001b[0mcat_row_init\u001b[0m \u001b[0;34m+\u001b[0m \u001b[0mi\u001b[0m \u001b[0;34m*\u001b[0m \u001b[0mrows_label\u001b[0m\u001b[0;34m,\u001b[0m \u001b[0;36m0\u001b[0m\u001b[0;34m]\u001b[0m\u001b[0;34m.\u001b[0m\u001b[0mstrip\u001b[0m\u001b[0;34m(\u001b[0m\u001b[0;34m)\u001b[0m\u001b[0;34m\u001b[0m\u001b[0;34m\u001b[0m\u001b[0m\n\u001b[0m\u001b[1;32m      7\u001b[0m     \u001b[0mcat_row\u001b[0m  \u001b[0;34m=\u001b[0m \u001b[0mdata_row_init\u001b[0m \u001b[0;34m+\u001b[0m \u001b[0mi\u001b[0m \u001b[0;34m*\u001b[0m \u001b[0mrows_data\u001b[0m\u001b[0;34m\u001b[0m\u001b[0;34m\u001b[0m\u001b[0m\n\u001b[1;32m      8\u001b[0m     \u001b[0mcat_labels\u001b[0m\u001b[0;34m[\u001b[0m\u001b[0mcat_name\u001b[0m\u001b[0;34m]\u001b[0m \u001b[0;34m=\u001b[0m \u001b[0mcat_row\u001b[0m\u001b[0;34m\u001b[0m\u001b[0;34m\u001b[0m\u001b[0m\n",
      "\u001b[0;32m~/miniconda3/envs/jpandas/lib/python3.9/site-packages/pandas/core/indexing.py\u001b[0m in \u001b[0;36m__getitem__\u001b[0;34m(self, key)\u001b[0m\n\u001b[1;32m    923\u001b[0m                 \u001b[0;32mwith\u001b[0m \u001b[0msuppress\u001b[0m\u001b[0;34m(\u001b[0m\u001b[0mKeyError\u001b[0m\u001b[0;34m,\u001b[0m \u001b[0mIndexError\u001b[0m\u001b[0;34m)\u001b[0m\u001b[0;34m:\u001b[0m\u001b[0;34m\u001b[0m\u001b[0;34m\u001b[0m\u001b[0m\n\u001b[1;32m    924\u001b[0m                     \u001b[0;32mreturn\u001b[0m \u001b[0mself\u001b[0m\u001b[0;34m.\u001b[0m\u001b[0mobj\u001b[0m\u001b[0;34m.\u001b[0m\u001b[0m_get_value\u001b[0m\u001b[0;34m(\u001b[0m\u001b[0;34m*\u001b[0m\u001b[0mkey\u001b[0m\u001b[0;34m,\u001b[0m \u001b[0mtakeable\u001b[0m\u001b[0;34m=\u001b[0m\u001b[0mself\u001b[0m\u001b[0;34m.\u001b[0m\u001b[0m_takeable\u001b[0m\u001b[0;34m)\u001b[0m\u001b[0;34m\u001b[0m\u001b[0;34m\u001b[0m\u001b[0m\n\u001b[0;32m--> 925\u001b[0;31m             \u001b[0;32mreturn\u001b[0m \u001b[0mself\u001b[0m\u001b[0;34m.\u001b[0m\u001b[0m_getitem_tuple\u001b[0m\u001b[0;34m(\u001b[0m\u001b[0mkey\u001b[0m\u001b[0;34m)\u001b[0m\u001b[0;34m\u001b[0m\u001b[0;34m\u001b[0m\u001b[0m\n\u001b[0m\u001b[1;32m    926\u001b[0m         \u001b[0;32melse\u001b[0m\u001b[0;34m:\u001b[0m\u001b[0;34m\u001b[0m\u001b[0;34m\u001b[0m\u001b[0m\n\u001b[1;32m    927\u001b[0m             \u001b[0;31m# we by definition only have the 0th axis\u001b[0m\u001b[0;34m\u001b[0m\u001b[0;34m\u001b[0m\u001b[0;34m\u001b[0m\u001b[0m\n",
      "\u001b[0;32m~/miniconda3/envs/jpandas/lib/python3.9/site-packages/pandas/core/indexing.py\u001b[0m in \u001b[0;36m_getitem_tuple\u001b[0;34m(self, tup)\u001b[0m\n\u001b[1;32m   1504\u001b[0m     \u001b[0;32mdef\u001b[0m \u001b[0m_getitem_tuple\u001b[0m\u001b[0;34m(\u001b[0m\u001b[0mself\u001b[0m\u001b[0;34m,\u001b[0m \u001b[0mtup\u001b[0m\u001b[0;34m:\u001b[0m \u001b[0mtuple\u001b[0m\u001b[0;34m)\u001b[0m\u001b[0;34m:\u001b[0m\u001b[0;34m\u001b[0m\u001b[0;34m\u001b[0m\u001b[0m\n\u001b[1;32m   1505\u001b[0m \u001b[0;34m\u001b[0m\u001b[0m\n\u001b[0;32m-> 1506\u001b[0;31m         \u001b[0mself\u001b[0m\u001b[0;34m.\u001b[0m\u001b[0m_has_valid_tuple\u001b[0m\u001b[0;34m(\u001b[0m\u001b[0mtup\u001b[0m\u001b[0;34m)\u001b[0m\u001b[0;34m\u001b[0m\u001b[0;34m\u001b[0m\u001b[0m\n\u001b[0m\u001b[1;32m   1507\u001b[0m         \u001b[0;32mwith\u001b[0m \u001b[0msuppress\u001b[0m\u001b[0;34m(\u001b[0m\u001b[0mIndexingError\u001b[0m\u001b[0;34m)\u001b[0m\u001b[0;34m:\u001b[0m\u001b[0;34m\u001b[0m\u001b[0;34m\u001b[0m\u001b[0m\n\u001b[1;32m   1508\u001b[0m             \u001b[0;32mreturn\u001b[0m \u001b[0mself\u001b[0m\u001b[0;34m.\u001b[0m\u001b[0m_getitem_lowerdim\u001b[0m\u001b[0;34m(\u001b[0m\u001b[0mtup\u001b[0m\u001b[0;34m)\u001b[0m\u001b[0;34m\u001b[0m\u001b[0;34m\u001b[0m\u001b[0m\n",
      "\u001b[0;32m~/miniconda3/envs/jpandas/lib/python3.9/site-packages/pandas/core/indexing.py\u001b[0m in \u001b[0;36m_has_valid_tuple\u001b[0;34m(self, key)\u001b[0m\n\u001b[1;32m    752\u001b[0m         \u001b[0;32mfor\u001b[0m \u001b[0mi\u001b[0m\u001b[0;34m,\u001b[0m \u001b[0mk\u001b[0m \u001b[0;32min\u001b[0m \u001b[0menumerate\u001b[0m\u001b[0;34m(\u001b[0m\u001b[0mkey\u001b[0m\u001b[0;34m)\u001b[0m\u001b[0;34m:\u001b[0m\u001b[0;34m\u001b[0m\u001b[0;34m\u001b[0m\u001b[0m\n\u001b[1;32m    753\u001b[0m             \u001b[0;32mtry\u001b[0m\u001b[0;34m:\u001b[0m\u001b[0;34m\u001b[0m\u001b[0;34m\u001b[0m\u001b[0m\n\u001b[0;32m--> 754\u001b[0;31m                 \u001b[0mself\u001b[0m\u001b[0;34m.\u001b[0m\u001b[0m_validate_key\u001b[0m\u001b[0;34m(\u001b[0m\u001b[0mk\u001b[0m\u001b[0;34m,\u001b[0m \u001b[0mi\u001b[0m\u001b[0;34m)\u001b[0m\u001b[0;34m\u001b[0m\u001b[0;34m\u001b[0m\u001b[0m\n\u001b[0m\u001b[1;32m    755\u001b[0m             \u001b[0;32mexcept\u001b[0m \u001b[0mValueError\u001b[0m \u001b[0;32mas\u001b[0m \u001b[0merr\u001b[0m\u001b[0;34m:\u001b[0m\u001b[0;34m\u001b[0m\u001b[0;34m\u001b[0m\u001b[0m\n\u001b[1;32m    756\u001b[0m                 raise ValueError(\n",
      "\u001b[0;32m~/miniconda3/envs/jpandas/lib/python3.9/site-packages/pandas/core/indexing.py\u001b[0m in \u001b[0;36m_validate_key\u001b[0;34m(self, key, axis)\u001b[0m\n\u001b[1;32m   1407\u001b[0m             \u001b[0;32mreturn\u001b[0m\u001b[0;34m\u001b[0m\u001b[0;34m\u001b[0m\u001b[0m\n\u001b[1;32m   1408\u001b[0m         \u001b[0;32melif\u001b[0m \u001b[0mis_integer\u001b[0m\u001b[0;34m(\u001b[0m\u001b[0mkey\u001b[0m\u001b[0;34m)\u001b[0m\u001b[0;34m:\u001b[0m\u001b[0;34m\u001b[0m\u001b[0;34m\u001b[0m\u001b[0m\n\u001b[0;32m-> 1409\u001b[0;31m             \u001b[0mself\u001b[0m\u001b[0;34m.\u001b[0m\u001b[0m_validate_integer\u001b[0m\u001b[0;34m(\u001b[0m\u001b[0mkey\u001b[0m\u001b[0;34m,\u001b[0m \u001b[0maxis\u001b[0m\u001b[0;34m)\u001b[0m\u001b[0;34m\u001b[0m\u001b[0;34m\u001b[0m\u001b[0m\n\u001b[0m\u001b[1;32m   1410\u001b[0m         \u001b[0;32melif\u001b[0m \u001b[0misinstance\u001b[0m\u001b[0;34m(\u001b[0m\u001b[0mkey\u001b[0m\u001b[0;34m,\u001b[0m \u001b[0mtuple\u001b[0m\u001b[0;34m)\u001b[0m\u001b[0;34m:\u001b[0m\u001b[0;34m\u001b[0m\u001b[0;34m\u001b[0m\u001b[0m\n\u001b[1;32m   1411\u001b[0m             \u001b[0;31m# a tuple should already have been caught by this point\u001b[0m\u001b[0;34m\u001b[0m\u001b[0;34m\u001b[0m\u001b[0;34m\u001b[0m\u001b[0m\n",
      "\u001b[0;32m~/miniconda3/envs/jpandas/lib/python3.9/site-packages/pandas/core/indexing.py\u001b[0m in \u001b[0;36m_validate_integer\u001b[0;34m(self, key, axis)\u001b[0m\n\u001b[1;32m   1498\u001b[0m         \u001b[0mlen_axis\u001b[0m \u001b[0;34m=\u001b[0m \u001b[0mlen\u001b[0m\u001b[0;34m(\u001b[0m\u001b[0mself\u001b[0m\u001b[0;34m.\u001b[0m\u001b[0mobj\u001b[0m\u001b[0;34m.\u001b[0m\u001b[0m_get_axis\u001b[0m\u001b[0;34m(\u001b[0m\u001b[0maxis\u001b[0m\u001b[0;34m)\u001b[0m\u001b[0;34m)\u001b[0m\u001b[0;34m\u001b[0m\u001b[0;34m\u001b[0m\u001b[0m\n\u001b[1;32m   1499\u001b[0m         \u001b[0;32mif\u001b[0m \u001b[0mkey\u001b[0m \u001b[0;34m>=\u001b[0m \u001b[0mlen_axis\u001b[0m \u001b[0;32mor\u001b[0m \u001b[0mkey\u001b[0m \u001b[0;34m<\u001b[0m \u001b[0;34m-\u001b[0m\u001b[0mlen_axis\u001b[0m\u001b[0;34m:\u001b[0m\u001b[0;34m\u001b[0m\u001b[0;34m\u001b[0m\u001b[0m\n\u001b[0;32m-> 1500\u001b[0;31m             \u001b[0;32mraise\u001b[0m \u001b[0mIndexError\u001b[0m\u001b[0;34m(\u001b[0m\u001b[0;34m\"single positional indexer is out-of-bounds\"\u001b[0m\u001b[0;34m)\u001b[0m\u001b[0;34m\u001b[0m\u001b[0;34m\u001b[0m\u001b[0m\n\u001b[0m\u001b[1;32m   1501\u001b[0m \u001b[0;34m\u001b[0m\u001b[0m\n\u001b[1;32m   1502\u001b[0m     \u001b[0;31m# -------------------------------------------------------------------\u001b[0m\u001b[0;34m\u001b[0m\u001b[0;34m\u001b[0m\u001b[0;34m\u001b[0m\u001b[0m\n",
      "\u001b[0;31mIndexError\u001b[0m: single positional indexer is out-of-bounds"
     ]
    }
   ],
   "source": [
    "# Create a dictionary of categories and indices\n",
    "cat_labels = {}\n",
    "num_of_cats = 5\n",
    "cat_row_init = 5\n",
    "for i in range(num_of_prefs):\n",
    "    cat_name = df_original.iloc[cat_row_init + i * rows_label, 0].strip()\n",
    "    cat_row  = data_row_init + i * rows_data\n",
    "    cat_labels[cat_name] = cat_row"
   ]
  },
  {
   "cell_type": "code",
   "execution_count": 57,
   "id": "47ee3845-1e7e-49c0-bd25-882cb793d344",
   "metadata": {},
   "outputs": [
    {
     "data": {
      "text/plain": [
       "{'計': 0, '市': 18, '区': 36, '町': 54, '村': 72, '(1) 各年10月1日現在。': 90}"
      ]
     },
     "execution_count": 57,
     "metadata": {},
     "output_type": "execute_result"
    }
   ],
   "source": [
    "cat_labels"
   ]
  },
  {
   "cell_type": "code",
   "execution_count": 58,
   "id": "62154148-9b4f-40b8-82eb-3f66d9394b08",
   "metadata": {},
   "outputs": [
    {
     "data": {
      "text/plain": [
       "'大正 9年'"
      ]
     },
     "execution_count": 58,
     "metadata": {},
     "output_type": "execute_result"
    }
   ],
   "source": [
    "df.iloc[cat_labels['村'], 0]"
   ]
  },
  {
   "cell_type": "code",
   "execution_count": 59,
   "id": "ce714d07-a0ce-42f6-9542-0f1c58ff7788",
   "metadata": {},
   "outputs": [],
   "source": [
    "def save_csv(cat_name, csv_cat_name):\n",
    "    cat_id = cat_labels[cat_name]\n",
    "    df_temp = df.iloc[cat_id: cat_id + rows_data]\n",
    "    csv_title = '../../Data/Downloaded/num_of_mun_' + csv_cat_name + '.csv'\n",
    "    df_temp.to_csv(csv_title, index = False)"
   ]
  },
  {
   "cell_type": "code",
   "execution_count": 60,
   "id": "3d74d92d-3277-4598-9ef4-97d10349da9c",
   "metadata": {},
   "outputs": [
    {
     "ename": "FileNotFoundError",
     "evalue": "[Errno 2] No such file or directory: '../../Data/Downloaded/num_of_mun_tot.csv'",
     "output_type": "error",
     "traceback": [
      "\u001b[0;31m---------------------------------------------------------------------------\u001b[0m",
      "\u001b[0;31mFileNotFoundError\u001b[0m                         Traceback (most recent call last)",
      "\u001b[0;32m/var/folders/hb/3db8mbcj4l74ztsvqyx17yd00000gn/T/ipykernel_24681/2460611538.py\u001b[0m in \u001b[0;36m<module>\u001b[0;34m\u001b[0m\n\u001b[0;32m----> 1\u001b[0;31m \u001b[0msave_csv\u001b[0m\u001b[0;34m(\u001b[0m\u001b[0;34m'計'\u001b[0m\u001b[0;34m,\u001b[0m \u001b[0;34m'tot'\u001b[0m\u001b[0;34m)\u001b[0m\u001b[0;34m\u001b[0m\u001b[0;34m\u001b[0m\u001b[0m\n\u001b[0m\u001b[1;32m      2\u001b[0m \u001b[0msave_csv\u001b[0m\u001b[0;34m(\u001b[0m\u001b[0;34m'市'\u001b[0m\u001b[0;34m,\u001b[0m \u001b[0;34m'shi'\u001b[0m\u001b[0;34m)\u001b[0m\u001b[0;34m\u001b[0m\u001b[0;34m\u001b[0m\u001b[0m\n\u001b[1;32m      3\u001b[0m \u001b[0msave_csv\u001b[0m\u001b[0;34m(\u001b[0m\u001b[0;34m'区'\u001b[0m\u001b[0;34m,\u001b[0m \u001b[0;34m'ku'\u001b[0m\u001b[0;34m)\u001b[0m\u001b[0;34m\u001b[0m\u001b[0;34m\u001b[0m\u001b[0m\n\u001b[1;32m      4\u001b[0m \u001b[0msave_csv\u001b[0m\u001b[0;34m(\u001b[0m\u001b[0;34m'町'\u001b[0m\u001b[0;34m,\u001b[0m \u001b[0;34m'cho'\u001b[0m\u001b[0;34m)\u001b[0m\u001b[0;34m\u001b[0m\u001b[0;34m\u001b[0m\u001b[0m\n\u001b[1;32m      5\u001b[0m \u001b[0msave_csv\u001b[0m\u001b[0;34m(\u001b[0m\u001b[0;34m'村'\u001b[0m\u001b[0;34m,\u001b[0m \u001b[0;34m'son'\u001b[0m\u001b[0;34m)\u001b[0m\u001b[0;34m\u001b[0m\u001b[0;34m\u001b[0m\u001b[0m\n",
      "\u001b[0;32m/var/folders/hb/3db8mbcj4l74ztsvqyx17yd00000gn/T/ipykernel_24681/3798642815.py\u001b[0m in \u001b[0;36msave_csv\u001b[0;34m(cat_name, csv_cat_name)\u001b[0m\n\u001b[1;32m      3\u001b[0m     \u001b[0mdf_temp\u001b[0m \u001b[0;34m=\u001b[0m \u001b[0mdf\u001b[0m\u001b[0;34m.\u001b[0m\u001b[0miloc\u001b[0m\u001b[0;34m[\u001b[0m\u001b[0mcat_id\u001b[0m\u001b[0;34m:\u001b[0m \u001b[0mcat_id\u001b[0m \u001b[0;34m+\u001b[0m \u001b[0mrows_data\u001b[0m\u001b[0;34m]\u001b[0m\u001b[0;34m\u001b[0m\u001b[0;34m\u001b[0m\u001b[0m\n\u001b[1;32m      4\u001b[0m     \u001b[0mcsv_title\u001b[0m \u001b[0;34m=\u001b[0m \u001b[0;34m'../../Data/Downloaded/num_of_mun_'\u001b[0m \u001b[0;34m+\u001b[0m \u001b[0mcsv_cat_name\u001b[0m \u001b[0;34m+\u001b[0m \u001b[0;34m'.csv'\u001b[0m\u001b[0;34m\u001b[0m\u001b[0;34m\u001b[0m\u001b[0m\n\u001b[0;32m----> 5\u001b[0;31m     \u001b[0mdf_temp\u001b[0m\u001b[0;34m.\u001b[0m\u001b[0mto_csv\u001b[0m\u001b[0;34m(\u001b[0m\u001b[0mcsv_title\u001b[0m\u001b[0;34m,\u001b[0m \u001b[0mindex\u001b[0m \u001b[0;34m=\u001b[0m \u001b[0;32mFalse\u001b[0m\u001b[0;34m)\u001b[0m\u001b[0;34m\u001b[0m\u001b[0;34m\u001b[0m\u001b[0m\n\u001b[0m",
      "\u001b[0;32m~/miniconda3/envs/jpandas/lib/python3.9/site-packages/pandas/core/generic.py\u001b[0m in \u001b[0;36mto_csv\u001b[0;34m(self, path_or_buf, sep, na_rep, float_format, columns, header, index, index_label, mode, encoding, compression, quoting, quotechar, line_terminator, chunksize, date_format, doublequote, escapechar, decimal, errors, storage_options)\u001b[0m\n\u001b[1;32m   3461\u001b[0m         )\n\u001b[1;32m   3462\u001b[0m \u001b[0;34m\u001b[0m\u001b[0m\n\u001b[0;32m-> 3463\u001b[0;31m         return DataFrameRenderer(formatter).to_csv(\n\u001b[0m\u001b[1;32m   3464\u001b[0m             \u001b[0mpath_or_buf\u001b[0m\u001b[0;34m,\u001b[0m\u001b[0;34m\u001b[0m\u001b[0;34m\u001b[0m\u001b[0m\n\u001b[1;32m   3465\u001b[0m             \u001b[0mline_terminator\u001b[0m\u001b[0;34m=\u001b[0m\u001b[0mline_terminator\u001b[0m\u001b[0;34m,\u001b[0m\u001b[0;34m\u001b[0m\u001b[0;34m\u001b[0m\u001b[0m\n",
      "\u001b[0;32m~/miniconda3/envs/jpandas/lib/python3.9/site-packages/pandas/io/formats/format.py\u001b[0m in \u001b[0;36mto_csv\u001b[0;34m(self, path_or_buf, encoding, sep, columns, index_label, mode, compression, quoting, quotechar, line_terminator, chunksize, date_format, doublequote, escapechar, errors, storage_options)\u001b[0m\n\u001b[1;32m   1103\u001b[0m             \u001b[0mformatter\u001b[0m\u001b[0;34m=\u001b[0m\u001b[0mself\u001b[0m\u001b[0;34m.\u001b[0m\u001b[0mfmt\u001b[0m\u001b[0;34m,\u001b[0m\u001b[0;34m\u001b[0m\u001b[0;34m\u001b[0m\u001b[0m\n\u001b[1;32m   1104\u001b[0m         )\n\u001b[0;32m-> 1105\u001b[0;31m         \u001b[0mcsv_formatter\u001b[0m\u001b[0;34m.\u001b[0m\u001b[0msave\u001b[0m\u001b[0;34m(\u001b[0m\u001b[0;34m)\u001b[0m\u001b[0;34m\u001b[0m\u001b[0;34m\u001b[0m\u001b[0m\n\u001b[0m\u001b[1;32m   1106\u001b[0m \u001b[0;34m\u001b[0m\u001b[0m\n\u001b[1;32m   1107\u001b[0m         \u001b[0;32mif\u001b[0m \u001b[0mcreated_buffer\u001b[0m\u001b[0;34m:\u001b[0m\u001b[0;34m\u001b[0m\u001b[0;34m\u001b[0m\u001b[0m\n",
      "\u001b[0;32m~/miniconda3/envs/jpandas/lib/python3.9/site-packages/pandas/io/formats/csvs.py\u001b[0m in \u001b[0;36msave\u001b[0;34m(self)\u001b[0m\n\u001b[1;32m    235\u001b[0m         \"\"\"\n\u001b[1;32m    236\u001b[0m         \u001b[0;31m# apply compression and byte/text conversion\u001b[0m\u001b[0;34m\u001b[0m\u001b[0;34m\u001b[0m\u001b[0;34m\u001b[0m\u001b[0m\n\u001b[0;32m--> 237\u001b[0;31m         with get_handle(\n\u001b[0m\u001b[1;32m    238\u001b[0m             \u001b[0mself\u001b[0m\u001b[0;34m.\u001b[0m\u001b[0mfilepath_or_buffer\u001b[0m\u001b[0;34m,\u001b[0m\u001b[0;34m\u001b[0m\u001b[0;34m\u001b[0m\u001b[0m\n\u001b[1;32m    239\u001b[0m             \u001b[0mself\u001b[0m\u001b[0;34m.\u001b[0m\u001b[0mmode\u001b[0m\u001b[0;34m,\u001b[0m\u001b[0;34m\u001b[0m\u001b[0;34m\u001b[0m\u001b[0m\n",
      "\u001b[0;32m~/miniconda3/envs/jpandas/lib/python3.9/site-packages/pandas/io/common.py\u001b[0m in \u001b[0;36mget_handle\u001b[0;34m(path_or_buf, mode, encoding, compression, memory_map, is_text, errors, storage_options)\u001b[0m\n\u001b[1;32m    699\u001b[0m         \u001b[0;32mif\u001b[0m \u001b[0mioargs\u001b[0m\u001b[0;34m.\u001b[0m\u001b[0mencoding\u001b[0m \u001b[0;32mand\u001b[0m \u001b[0;34m\"b\"\u001b[0m \u001b[0;32mnot\u001b[0m \u001b[0;32min\u001b[0m \u001b[0mioargs\u001b[0m\u001b[0;34m.\u001b[0m\u001b[0mmode\u001b[0m\u001b[0;34m:\u001b[0m\u001b[0;34m\u001b[0m\u001b[0;34m\u001b[0m\u001b[0m\n\u001b[1;32m    700\u001b[0m             \u001b[0;31m# Encoding\u001b[0m\u001b[0;34m\u001b[0m\u001b[0;34m\u001b[0m\u001b[0;34m\u001b[0m\u001b[0m\n\u001b[0;32m--> 701\u001b[0;31m             handle = open(\n\u001b[0m\u001b[1;32m    702\u001b[0m                 \u001b[0mhandle\u001b[0m\u001b[0;34m,\u001b[0m\u001b[0;34m\u001b[0m\u001b[0;34m\u001b[0m\u001b[0m\n\u001b[1;32m    703\u001b[0m                 \u001b[0mioargs\u001b[0m\u001b[0;34m.\u001b[0m\u001b[0mmode\u001b[0m\u001b[0;34m,\u001b[0m\u001b[0;34m\u001b[0m\u001b[0;34m\u001b[0m\u001b[0m\n",
      "\u001b[0;31mFileNotFoundError\u001b[0m: [Errno 2] No such file or directory: '../../Data/Downloaded/num_of_mun_tot.csv'"
     ]
    }
   ],
   "source": [
    "save_csv('計', 'tot')\n",
    "save_csv('市', 'shi')\n",
    "save_csv('区', 'ku')\n",
    "save_csv('町', 'cho')\n",
    "save_csv('村', 'son')"
   ]
  },
  {
   "cell_type": "code",
   "execution_count": 61,
   "id": "cc390f3b-3513-454f-a1ac-ef3dfce5d896",
   "metadata": {},
   "outputs": [
    {
     "data": {
      "text/html": [
       "<div>\n",
       "<style scoped>\n",
       "    .dataframe tbody tr th:only-of-type {\n",
       "        vertical-align: middle;\n",
       "    }\n",
       "\n",
       "    .dataframe tbody tr th {\n",
       "        vertical-align: top;\n",
       "    }\n",
       "\n",
       "    .dataframe thead th {\n",
       "        text-align: right;\n",
       "    }\n",
       "</style>\n",
       "<table border=\"1\" class=\"dataframe\">\n",
       "  <thead>\n",
       "    <tr style=\"text-align: right;\">\n",
       "      <th></th>\n",
       "      <th>year_jpn</th>\n",
       "      <th>year_wst</th>\n",
       "      <th>total</th>\n",
       "      <th>Hokkaido</th>\n",
       "      <th>Aomori</th>\n",
       "      <th>Iwate</th>\n",
       "      <th>Miyagi</th>\n",
       "      <th>Akita</th>\n",
       "      <th>Yamagata</th>\n",
       "      <th>Fukushima</th>\n",
       "      <th>...</th>\n",
       "      <th>Ehime</th>\n",
       "      <th>Kochi</th>\n",
       "      <th>Fukuoka</th>\n",
       "      <th>Saga</th>\n",
       "      <th>Nagasaki</th>\n",
       "      <th>Kumamoto</th>\n",
       "      <th>Oita</th>\n",
       "      <th>Miyazaki</th>\n",
       "      <th>Kagoshima</th>\n",
       "      <th>Okinawa</th>\n",
       "    </tr>\n",
       "  </thead>\n",
       "  <tbody>\n",
       "    <tr>\n",
       "      <th>2</th>\n",
       "      <td>大正 9年</td>\n",
       "      <td>1920.0</td>\n",
       "      <td>12244</td>\n",
       "      <td>308</td>\n",
       "      <td>170</td>\n",
       "      <td>241</td>\n",
       "      <td>204</td>\n",
       "      <td>240</td>\n",
       "      <td>230</td>\n",
       "      <td>421</td>\n",
       "      <td>...</td>\n",
       "      <td>296</td>\n",
       "      <td>197</td>\n",
       "      <td>343</td>\n",
       "      <td>135</td>\n",
       "      <td>198</td>\n",
       "      <td>364</td>\n",
       "      <td>258</td>\n",
       "      <td>100</td>\n",
       "      <td>143</td>\n",
       "      <td>56</td>\n",
       "    </tr>\n",
       "    <tr>\n",
       "      <th>3</th>\n",
       "      <td>14</td>\n",
       "      <td>1925.0</td>\n",
       "      <td>12018</td>\n",
       "      <td>271</td>\n",
       "      <td>170</td>\n",
       "      <td>239</td>\n",
       "      <td>205</td>\n",
       "      <td>239</td>\n",
       "      <td>229</td>\n",
       "      <td>410</td>\n",
       "      <td>...</td>\n",
       "      <td>283</td>\n",
       "      <td>196</td>\n",
       "      <td>337</td>\n",
       "      <td>133</td>\n",
       "      <td>192</td>\n",
       "      <td>349</td>\n",
       "      <td>257</td>\n",
       "      <td>98</td>\n",
       "      <td>145</td>\n",
       "      <td>57</td>\n",
       "    </tr>\n",
       "    <tr>\n",
       "      <th>4</th>\n",
       "      <td>昭和 5年</td>\n",
       "      <td>1930.0</td>\n",
       "      <td>11864</td>\n",
       "      <td>273</td>\n",
       "      <td>167</td>\n",
       "      <td>237</td>\n",
       "      <td>203</td>\n",
       "      <td>238</td>\n",
       "      <td>228</td>\n",
       "      <td>406</td>\n",
       "      <td>...</td>\n",
       "      <td>276</td>\n",
       "      <td>192</td>\n",
       "      <td>321</td>\n",
       "      <td>132</td>\n",
       "      <td>186</td>\n",
       "      <td>350</td>\n",
       "      <td>256</td>\n",
       "      <td>96</td>\n",
       "      <td>143</td>\n",
       "      <td>57</td>\n",
       "    </tr>\n",
       "    <tr>\n",
       "      <th>5</th>\n",
       "      <td>10</td>\n",
       "      <td>1935.0</td>\n",
       "      <td>11545</td>\n",
       "      <td>274</td>\n",
       "      <td>167</td>\n",
       "      <td>237</td>\n",
       "      <td>202</td>\n",
       "      <td>236</td>\n",
       "      <td>228</td>\n",
       "      <td>407</td>\n",
       "      <td>...</td>\n",
       "      <td>269</td>\n",
       "      <td>190</td>\n",
       "      <td>310</td>\n",
       "      <td>125</td>\n",
       "      <td>185</td>\n",
       "      <td>346</td>\n",
       "      <td>248</td>\n",
       "      <td>95</td>\n",
       "      <td>140</td>\n",
       "      <td>57</td>\n",
       "    </tr>\n",
       "    <tr>\n",
       "      <th>6</th>\n",
       "      <td>15</td>\n",
       "      <td>1940.0</td>\n",
       "      <td>11190</td>\n",
       "      <td>276</td>\n",
       "      <td>165</td>\n",
       "      <td>236</td>\n",
       "      <td>202</td>\n",
       "      <td>234</td>\n",
       "      <td>228</td>\n",
       "      <td>404</td>\n",
       "      <td>...</td>\n",
       "      <td>253</td>\n",
       "      <td>190</td>\n",
       "      <td>306</td>\n",
       "      <td>125</td>\n",
       "      <td>170</td>\n",
       "      <td>339</td>\n",
       "      <td>240</td>\n",
       "      <td>89</td>\n",
       "      <td>140</td>\n",
       "      <td>58</td>\n",
       "    </tr>\n",
       "    <tr>\n",
       "      <th>...</th>\n",
       "      <td>...</td>\n",
       "      <td>...</td>\n",
       "      <td>...</td>\n",
       "      <td>...</td>\n",
       "      <td>...</td>\n",
       "      <td>...</td>\n",
       "      <td>...</td>\n",
       "      <td>...</td>\n",
       "      <td>...</td>\n",
       "      <td>...</td>\n",
       "      <td>...</td>\n",
       "      <td>...</td>\n",
       "      <td>...</td>\n",
       "      <td>...</td>\n",
       "      <td>...</td>\n",
       "      <td>...</td>\n",
       "      <td>...</td>\n",
       "      <td>...</td>\n",
       "      <td>...</td>\n",
       "      <td>...</td>\n",
       "      <td>...</td>\n",
       "    </tr>\n",
       "    <tr>\n",
       "      <th>87</th>\n",
       "      <td>60</td>\n",
       "      <td>1985.0</td>\n",
       "      <td>601</td>\n",
       "      <td>24</td>\n",
       "      <td>25</td>\n",
       "      <td>18</td>\n",
       "      <td>2</td>\n",
       "      <td>11</td>\n",
       "      <td>4</td>\n",
       "      <td>28</td>\n",
       "      <td>...</td>\n",
       "      <td>14</td>\n",
       "      <td>19</td>\n",
       "      <td>8</td>\n",
       "      <td>6</td>\n",
       "      <td>1</td>\n",
       "      <td>21</td>\n",
       "      <td>11</td>\n",
       "      <td>7</td>\n",
       "      <td>9</td>\n",
       "      <td>28</td>\n",
       "    </tr>\n",
       "    <tr>\n",
       "      <th>88</th>\n",
       "      <td>平成 2年</td>\n",
       "      <td>1990.0</td>\n",
       "      <td>587</td>\n",
       "      <td>24</td>\n",
       "      <td>25</td>\n",
       "      <td>18</td>\n",
       "      <td>2</td>\n",
       "      <td>10</td>\n",
       "      <td>4</td>\n",
       "      <td>28</td>\n",
       "      <td>...</td>\n",
       "      <td>14</td>\n",
       "      <td>19</td>\n",
       "      <td>8</td>\n",
       "      <td>5</td>\n",
       "      <td>1</td>\n",
       "      <td>21</td>\n",
       "      <td>11</td>\n",
       "      <td>7</td>\n",
       "      <td>9</td>\n",
       "      <td>28</td>\n",
       "    </tr>\n",
       "    <tr>\n",
       "      <th>89</th>\n",
       "      <td>7</td>\n",
       "      <td>1995.0</td>\n",
       "      <td>576</td>\n",
       "      <td>24</td>\n",
       "      <td>25</td>\n",
       "      <td>16</td>\n",
       "      <td>2</td>\n",
       "      <td>10</td>\n",
       "      <td>4</td>\n",
       "      <td>28</td>\n",
       "      <td>...</td>\n",
       "      <td>14</td>\n",
       "      <td>19</td>\n",
       "      <td>8</td>\n",
       "      <td>5</td>\n",
       "      <td>1</td>\n",
       "      <td>21</td>\n",
       "      <td>11</td>\n",
       "      <td>7</td>\n",
       "      <td>9</td>\n",
       "      <td>27</td>\n",
       "    </tr>\n",
       "    <tr>\n",
       "      <th>90</th>\n",
       "      <td>12</td>\n",
       "      <td>2000.0</td>\n",
       "      <td>567</td>\n",
       "      <td>24</td>\n",
       "      <td>25</td>\n",
       "      <td>16</td>\n",
       "      <td>2</td>\n",
       "      <td>10</td>\n",
       "      <td>4</td>\n",
       "      <td>28</td>\n",
       "      <td>...</td>\n",
       "      <td>14</td>\n",
       "      <td>19</td>\n",
       "      <td>8</td>\n",
       "      <td>5</td>\n",
       "      <td>1</td>\n",
       "      <td>20</td>\n",
       "      <td>11</td>\n",
       "      <td>7</td>\n",
       "      <td>9</td>\n",
       "      <td>27</td>\n",
       "    </tr>\n",
       "    <tr>\n",
       "      <th>91</th>\n",
       "      <td>17</td>\n",
       "      <td>2005.0</td>\n",
       "      <td>288</td>\n",
       "      <td>20</td>\n",
       "      <td>11</td>\n",
       "      <td>11</td>\n",
       "      <td>1</td>\n",
       "      <td>4</td>\n",
       "      <td>3</td>\n",
       "      <td>24</td>\n",
       "      <td>...</td>\n",
       "      <td>0</td>\n",
       "      <td>10</td>\n",
       "      <td>6</td>\n",
       "      <td>3</td>\n",
       "      <td>0</td>\n",
       "      <td>8</td>\n",
       "      <td>1</td>\n",
       "      <td>7</td>\n",
       "      <td>5</td>\n",
       "      <td>23</td>\n",
       "    </tr>\n",
       "  </tbody>\n",
       "</table>\n",
       "<p>90 rows × 50 columns</p>\n",
       "</div>"
      ],
      "text/plain": [
       "   year_jpn  year_wst  total Hokkaido Aomori Iwate Miyagi Akita Yamagata  \\\n",
       "2     大正 9年    1920.0  12244      308    170   241    204   240      230   \n",
       "3       14　    1925.0  12018      271    170   239    205   239      229   \n",
       "4     昭和 5年    1930.0  11864      273    167   237    203   238      228   \n",
       "5       10　    1935.0  11545      274    167   237    202   236      228   \n",
       "6       15　    1940.0  11190      276    165   236    202   234      228   \n",
       "..      ...       ...    ...      ...    ...   ...    ...   ...      ...   \n",
       "87      60　    1985.0    601       24     25    18      2    11        4   \n",
       "88    平成 2年    1990.0    587       24     25    18      2    10        4   \n",
       "89       7　    1995.0    576       24     25    16      2    10        4   \n",
       "90      12　    2000.0    567       24     25    16      2    10        4   \n",
       "91      17　    2005.0    288       20     11    11      1     4        3   \n",
       "\n",
       "   Fukushima  ... Ehime Kochi Fukuoka Saga Nagasaki Kumamoto Oita Miyazaki  \\\n",
       "2        421  ...   296   197     343  135      198      364  258      100   \n",
       "3        410  ...   283   196     337  133      192      349  257       98   \n",
       "4        406  ...   276   192     321  132      186      350  256       96   \n",
       "5        407  ...   269   190     310  125      185      346  248       95   \n",
       "6        404  ...   253   190     306  125      170      339  240       89   \n",
       "..       ...  ...   ...   ...     ...  ...      ...      ...  ...      ...   \n",
       "87        28  ...    14    19       8    6        1       21   11        7   \n",
       "88        28  ...    14    19       8    5        1       21   11        7   \n",
       "89        28  ...    14    19       8    5        1       21   11        7   \n",
       "90        28  ...    14    19       8    5        1       20   11        7   \n",
       "91        24  ...     0    10       6    3        0        8    1        7   \n",
       "\n",
       "   Kagoshima Okinawa  \n",
       "2        143      56  \n",
       "3        145      57  \n",
       "4        143      57  \n",
       "5        140      57  \n",
       "6        140      58  \n",
       "..       ...     ...  \n",
       "87         9      28  \n",
       "88         9      28  \n",
       "89         9      27  \n",
       "90         9      27  \n",
       "91         5      23  \n",
       "\n",
       "[90 rows x 50 columns]"
      ]
     },
     "execution_count": 61,
     "metadata": {},
     "output_type": "execute_result"
    }
   ],
   "source": [
    "df"
   ]
  },
  {
   "cell_type": "code",
   "execution_count": null,
   "id": "8b2942d7-8b98-47de-9084-95c0324fc2ff",
   "metadata": {},
   "outputs": [],
   "source": []
  }
 ],
 "metadata": {
  "kernelspec": {
   "display_name": "Python 3 (ipykernel)",
   "language": "python",
   "name": "python3"
  },
  "language_info": {
   "codemirror_mode": {
    "name": "ipython",
    "version": 3
   },
   "file_extension": ".py",
   "mimetype": "text/x-python",
   "name": "python",
   "nbconvert_exporter": "python",
   "pygments_lexer": "ipython3",
   "version": "3.9.6"
  }
 },
 "nbformat": 4,
 "nbformat_minor": 5
}
