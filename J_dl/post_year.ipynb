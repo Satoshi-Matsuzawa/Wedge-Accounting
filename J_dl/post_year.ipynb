{
 "cells": [
  {
   "cell_type": "code",
   "execution_count": 17,
   "id": "martial-invitation",
   "metadata": {},
   "outputs": [],
   "source": [
    "# Create a csv file containing Japanese and Western calendar years "
   ]
  },
  {
   "cell_type": "code",
   "execution_count": 18,
   "id": "political-translation",
   "metadata": {},
   "outputs": [],
   "source": [
    "import pandas as pd"
   ]
  },
  {
   "cell_type": "code",
   "execution_count": 19,
   "id": "dramatic-smart",
   "metadata": {},
   "outputs": [],
   "source": [
    "df_original = pd.read_csv('../../Data/Downloaded/post_emp.csv')"
   ]
  },
  {
   "cell_type": "code",
   "execution_count": 20,
   "id": "gentle-weekend",
   "metadata": {},
   "outputs": [],
   "source": [
    "df_picked = df_original[['year_jpn', 'year_wst']]"
   ]
  },
  {
   "cell_type": "code",
   "execution_count": 21,
   "id": "optional-evolution",
   "metadata": {},
   "outputs": [],
   "source": [
    "df_picked.to_csv('../../Data/Downloaded/post_year.csv', index = False)"
   ]
  },
  {
   "cell_type": "code",
   "execution_count": null,
   "id": "signal-subdivision",
   "metadata": {},
   "outputs": [],
   "source": []
  }
 ],
 "metadata": {
  "kernelspec": {
   "display_name": "Python 3",
   "language": "python",
   "name": "python3"
  },
  "language_info": {
   "codemirror_mode": {
    "name": "ipython",
    "version": 3
   },
   "file_extension": ".py",
   "mimetype": "text/x-python",
   "name": "python",
   "nbconvert_exporter": "python",
   "pygments_lexer": "ipython3",
   "version": "3.9.5"
  }
 },
 "nbformat": 4,
 "nbformat_minor": 5
}
