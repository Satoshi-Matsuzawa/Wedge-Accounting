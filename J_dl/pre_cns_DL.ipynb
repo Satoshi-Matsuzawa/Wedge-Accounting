{
 "cells": [
  {
   "cell_type": "code",
   "execution_count": 1,
   "id": "looking-canon",
   "metadata": {},
   "outputs": [],
   "source": [
    "# Creates total consumption of agricultural and non-agricultural products\n",
    "# Expressed in 1000 yen at 1934 to 1936 prices"
   ]
  },
  {
   "cell_type": "code",
   "execution_count": 2,
   "id": "departmental-market",
   "metadata": {},
   "outputs": [],
   "source": [
    "import pandas as pd"
   ]
  },
  {
   "cell_type": "code",
   "execution_count": 3,
   "id": "administrative-litigation",
   "metadata": {},
   "outputs": [],
   "source": [
    "url = \"http://d-infra.ier.hit-u.ac.jp/Japanese/ltes/LTES_01.xlsx\""
   ]
  },
  {
   "cell_type": "code",
   "execution_count": 4,
   "id": "understanding-restriction",
   "metadata": {},
   "outputs": [],
   "source": [
    "xl = pd.ExcelFile(url)"
   ]
  },
  {
   "cell_type": "code",
   "execution_count": 5,
   "id": "visible-fitting",
   "metadata": {},
   "outputs": [
    {
     "data": {
      "text/plain": [
       "['第1表',\n",
       " '第1-A表',\n",
       " '第2表',\n",
       " '第3表',\n",
       " '第4表',\n",
       " '第4-A表\\u3000なし',\n",
       " '第5表',\n",
       " '第6表',\n",
       " '第6-A表',\n",
       " '第7表',\n",
       " '第7表（参考表）',\n",
       " '第7-A表\\u3000なし',\n",
       " '第8表',\n",
       " '第8-A表',\n",
       " '第9表',\n",
       " '第9-A表',\n",
       " '第10表',\n",
       " '第11表',\n",
       " '第12表',\n",
       " '第13表',\n",
       " '第14表',\n",
       " '第15表',\n",
       " '第16表',\n",
       " '第17表',\n",
       " '第18表',\n",
       " '第18-A表',\n",
       " '第19表',\n",
       " '第20表',\n",
       " '第21表',\n",
       " '第21-A表\\u3000なし',\n",
       " '第22表',\n",
       " '第23表',\n",
       " '第24表',\n",
       " '第25表',\n",
       " '第26表',\n",
       " '第27表',\n",
       " '第28表',\n",
       " '第29表',\n",
       " '第30表',\n",
       " '第30-A表\\u3000なし',\n",
       " '第31表',\n",
       " '第32表～第42表\\u3000なし']"
      ]
     },
     "execution_count": 5,
     "metadata": {},
     "output_type": "execute_result"
    }
   ],
   "source": [
    "xl.sheet_names"
   ]
  },
  {
   "cell_type": "code",
   "execution_count": 6,
   "id": "liberal-housing",
   "metadata": {},
   "outputs": [],
   "source": [
    "df_original = xl.parse('第19表')"
   ]
  },
  {
   "cell_type": "code",
   "execution_count": 7,
   "id": "seasonal-picking",
   "metadata": {},
   "outputs": [],
   "source": [
    "stat_name_jpn = df_original.iloc[0,2]"
   ]
  },
  {
   "cell_type": "code",
   "execution_count": 8,
   "id": "upset-google",
   "metadata": {},
   "outputs": [
    {
     "data": {
      "text/plain": [
       "'第19表\\u3000個人消費支出（1934～1936年価格，1885～1940年）'"
      ]
     },
     "execution_count": 8,
     "metadata": {},
     "output_type": "execute_result"
    }
   ],
   "source": [
    "stat_name_jpn"
   ]
  },
  {
   "cell_type": "code",
   "execution_count": 9,
   "id": "specified-token",
   "metadata": {},
   "outputs": [],
   "source": [
    "stat_name_eng = df_original.iloc[1,2]"
   ]
  },
  {
   "cell_type": "code",
   "execution_count": 10,
   "id": "vital-rocket",
   "metadata": {},
   "outputs": [
    {
     "data": {
      "text/plain": [
       "'Table 19\\u3000Personal Consumption Expenditures：1934～1936 Prices, 1885～1940'"
      ]
     },
     "execution_count": 10,
     "metadata": {},
     "output_type": "execute_result"
    }
   ],
   "source": [
    "stat_name_eng"
   ]
  },
  {
   "cell_type": "code",
   "execution_count": 11,
   "id": "departmental-rehabilitation",
   "metadata": {},
   "outputs": [],
   "source": [
    "# Remove columns and rows with too many nulls\n",
    "df_dropped = df_original.loc[df_original.notnull().sum(axis=1) > 2, df_original.notnull().sum() > 2]"
   ]
  },
  {
   "cell_type": "code",
   "execution_count": 12,
   "id": "selected-spare",
   "metadata": {},
   "outputs": [],
   "source": [
    "food_unit_jpn = df_dropped.iloc[8,2]"
   ]
  },
  {
   "cell_type": "code",
   "execution_count": 13,
   "id": "stopped-swiss",
   "metadata": {},
   "outputs": [],
   "source": [
    "food_unit_eng = df_dropped.iloc[9,2]"
   ]
  },
  {
   "cell_type": "code",
   "execution_count": 14,
   "id": "optical-omaha",
   "metadata": {},
   "outputs": [],
   "source": [
    "total_unit_jpn = df_dropped.iloc[8, -1]\n",
    "total_unit_eng = df_dropped.iloc[9, -1]"
   ]
  },
  {
   "cell_type": "code",
   "execution_count": 15,
   "id": "developmental-newsletter",
   "metadata": {},
   "outputs": [
    {
     "data": {
      "text/plain": [
       "('1000円:R', '100万円:R')"
      ]
     },
     "execution_count": 15,
     "metadata": {},
     "output_type": "execute_result"
    }
   ],
   "source": [
    "# Notice the difference\n",
    "food_unit_jpn, total_unit_jpn"
   ]
  },
  {
   "cell_type": "code",
   "execution_count": 16,
   "id": "underlying-adrian",
   "metadata": {},
   "outputs": [],
   "source": [
    "# Pick food consumption and total consumption\n",
    "df_picked = df_dropped.iloc[10:,[0, 1, -1]]"
   ]
  },
  {
   "cell_type": "code",
   "execution_count": 17,
   "id": "amended-acoustic",
   "metadata": {},
   "outputs": [],
   "source": [
    "df_picked.columns = ['year_wst', 'food', 'total']"
   ]
  },
  {
   "cell_type": "code",
   "execution_count": 18,
   "id": "several-lesson",
   "metadata": {},
   "outputs": [],
   "source": [
    "# Adjust the unit difference\n",
    "# Both units are 1000 yen at the price of 1934-36 \n",
    "df_picked['total'] = df_picked['total'] * 1000"
   ]
  },
  {
   "cell_type": "code",
   "execution_count": 19,
   "id": "turkish-joining",
   "metadata": {},
   "outputs": [],
   "source": [
    "df_picked['non_food'] = df_picked['total'] - df_picked['food']"
   ]
  },
  {
   "cell_type": "code",
   "execution_count": 21,
   "id": "beneficial-shooting",
   "metadata": {},
   "outputs": [],
   "source": [
    "df_picked.to_csv('../../Data/pre_tot_cns.csv', index = False)"
   ]
  },
  {
   "cell_type": "code",
   "execution_count": null,
   "id": "comprehensive-offense",
   "metadata": {},
   "outputs": [],
   "source": []
  }
 ],
 "metadata": {
  "kernelspec": {
   "display_name": "Python 3 (ipykernel)",
   "language": "python",
   "name": "python3"
  },
  "language_info": {
   "codemirror_mode": {
    "name": "ipython",
    "version": 3
   },
   "file_extension": ".py",
   "mimetype": "text/x-python",
   "name": "python",
   "nbconvert_exporter": "python",
   "pygments_lexer": "ipython3",
   "version": "3.9.7"
  }
 },
 "nbformat": 4,
 "nbformat_minor": 5
}
