{
 "cells": [
  {
   "cell_type": "code",
   "execution_count": 2,
   "id": "sought-error",
   "metadata": {},
   "outputs": [],
   "source": [
    "# create price level"
   ]
  },
  {
   "cell_type": "code",
   "execution_count": 3,
   "id": "accepted-token",
   "metadata": {},
   "outputs": [],
   "source": [
    "import pandas as pd"
   ]
  },
  {
   "cell_type": "code",
   "execution_count": 4,
   "id": "canadian-companion",
   "metadata": {},
   "outputs": [],
   "source": [
    "url = 'http://d-infra.ier.hit-u.ac.jp/Japanese/ltes/LTES_08.xlsx'"
   ]
  },
  {
   "cell_type": "code",
   "execution_count": 5,
   "id": "difficult-result",
   "metadata": {},
   "outputs": [],
   "source": [
    "xl = pd.ExcelFile(url)"
   ]
  },
  {
   "cell_type": "code",
   "execution_count": 6,
   "id": "reduced-contents",
   "metadata": {},
   "outputs": [],
   "source": [
    "df_original = xl.parse('第1表')"
   ]
  },
  {
   "cell_type": "code",
   "execution_count": 7,
   "id": "applicable-builder",
   "metadata": {},
   "outputs": [],
   "source": [
    "stat_name_jpn = df_original.iloc[0, 4]"
   ]
  },
  {
   "cell_type": "code",
   "execution_count": 8,
   "id": "optional-helicopter",
   "metadata": {},
   "outputs": [],
   "source": [
    "stat_name_eng = df_original.iloc[1,4]"
   ]
  },
  {
   "cell_type": "code",
   "execution_count": 9,
   "id": "increased-universal",
   "metadata": {},
   "outputs": [
    {
     "data": {
      "text/html": [
       "<div>\n",
       "<style scoped>\n",
       "    .dataframe tbody tr th:only-of-type {\n",
       "        vertical-align: middle;\n",
       "    }\n",
       "\n",
       "    .dataframe tbody tr th {\n",
       "        vertical-align: top;\n",
       "    }\n",
       "\n",
       "    .dataframe thead th {\n",
       "        text-align: right;\n",
       "    }\n",
       "</style>\n",
       "<table border=\"1\" class=\"dataframe\">\n",
       "  <thead>\n",
       "    <tr style=\"text-align: right;\">\n",
       "      <th></th>\n",
       "      <th>Unnamed: 0</th>\n",
       "      <th>Unnamed: 1</th>\n",
       "      <th>Unnamed: 2</th>\n",
       "      <th>Unnamed: 3</th>\n",
       "      <th>Unnamed: 4</th>\n",
       "      <th>Unnamed: 5</th>\n",
       "      <th>Unnamed: 6</th>\n",
       "      <th>Unnamed: 7</th>\n",
       "      <th>Unnamed: 8</th>\n",
       "      <th>Unnamed: 9</th>\n",
       "    </tr>\n",
       "  </thead>\n",
       "  <tbody>\n",
       "    <tr>\n",
       "      <th>0</th>\n",
       "      <td>NaN</td>\n",
       "      <td>NaN</td>\n",
       "      <td>NaN</td>\n",
       "      <td>NaN</td>\n",
       "      <td>第1表　支出諸物価指数の総括</td>\n",
       "      <td>NaN</td>\n",
       "      <td>NaN</td>\n",
       "      <td>NaN</td>\n",
       "      <td>NaN</td>\n",
       "      <td>NaN</td>\n",
       "    </tr>\n",
       "    <tr>\n",
       "      <th>1</th>\n",
       "      <td>NaN</td>\n",
       "      <td>NaN</td>\n",
       "      <td>NaN</td>\n",
       "      <td>NaN</td>\n",
       "      <td>Table 1　Summary of Expenditure Price Indexes</td>\n",
       "      <td>NaN</td>\n",
       "      <td>NaN</td>\n",
       "      <td>NaN</td>\n",
       "      <td>NaN</td>\n",
       "      <td>NaN</td>\n",
       "    </tr>\n",
       "    <tr>\n",
       "      <th>2</th>\n",
       "      <td>NaN</td>\n",
       "      <td>NaN</td>\n",
       "      <td>NaN</td>\n",
       "      <td>NaN</td>\n",
       "      <td>NaN</td>\n",
       "      <td>NaN</td>\n",
       "      <td>NaN</td>\n",
       "      <td>NaN</td>\n",
       "      <td>NaN</td>\n",
       "      <td>NaN</td>\n",
       "    </tr>\n",
       "    <tr>\n",
       "      <th>3</th>\n",
       "      <td>NaN</td>\n",
       "      <td>NaN</td>\n",
       "      <td>NaN</td>\n",
       "      <td>NaN</td>\n",
       "      <td>NaN</td>\n",
       "      <td>NaN</td>\n",
       "      <td>NaN</td>\n",
       "      <td>NaN</td>\n",
       "      <td>NaN</td>\n",
       "      <td>NaN</td>\n",
       "    </tr>\n",
       "    <tr>\n",
       "      <th>4</th>\n",
       "      <td>NaN</td>\n",
       "      <td>NaN</td>\n",
       "      <td>NaN</td>\n",
       "      <td>NaN</td>\n",
       "      <td>51865</td>\n",
       "      <td>51865</td>\n",
       "      <td>51866</td>\n",
       "      <td>51866</td>\n",
       "      <td>51867</td>\n",
       "      <td>51867</td>\n",
       "    </tr>\n",
       "    <tr>\n",
       "      <th>...</th>\n",
       "      <td>...</td>\n",
       "      <td>...</td>\n",
       "      <td>...</td>\n",
       "      <td>...</td>\n",
       "      <td>...</td>\n",
       "      <td>...</td>\n",
       "      <td>...</td>\n",
       "      <td>...</td>\n",
       "      <td>...</td>\n",
       "      <td>...</td>\n",
       "    </tr>\n",
       "    <tr>\n",
       "      <th>106</th>\n",
       "      <td>NaN</td>\n",
       "      <td>NaN</td>\n",
       "      <td>NaN</td>\n",
       "      <td>1965</td>\n",
       "      <td>NaN</td>\n",
       "      <td>NaN</td>\n",
       "      <td>NaN</td>\n",
       "      <td>134.8</td>\n",
       "      <td>NaN</td>\n",
       "      <td>NaN</td>\n",
       "    </tr>\n",
       "    <tr>\n",
       "      <th>107</th>\n",
       "      <td>NaN</td>\n",
       "      <td>NaN</td>\n",
       "      <td>NaN</td>\n",
       "      <td>NaN</td>\n",
       "      <td>NaN</td>\n",
       "      <td>NaN</td>\n",
       "      <td>NaN</td>\n",
       "      <td>NaN</td>\n",
       "      <td>NaN</td>\n",
       "      <td>NaN</td>\n",
       "    </tr>\n",
       "    <tr>\n",
       "      <th>108</th>\n",
       "      <td>NaN</td>\n",
       "      <td>NaN</td>\n",
       "      <td>NaN</td>\n",
       "      <td>リンク倍率</td>\n",
       "      <td>NaN</td>\n",
       "      <td>321.6</td>\n",
       "      <td>NaN</td>\n",
       "      <td>315.2</td>\n",
       "      <td>NaN</td>\n",
       "      <td>359.7</td>\n",
       "    </tr>\n",
       "    <tr>\n",
       "      <th>109</th>\n",
       "      <td>NaN</td>\n",
       "      <td>NaN</td>\n",
       "      <td>NaN</td>\n",
       "      <td>1955Linked Index</td>\n",
       "      <td>NaN</td>\n",
       "      <td>NaN</td>\n",
       "      <td>NaN</td>\n",
       "      <td>NaN</td>\n",
       "      <td>NaN</td>\n",
       "      <td>NaN</td>\n",
       "    </tr>\n",
       "    <tr>\n",
       "      <th>110</th>\n",
       "      <td>NaN</td>\n",
       "      <td>NaN</td>\n",
       "      <td>NaN</td>\n",
       "      <td>(1934～1936＝1)</td>\n",
       "      <td>NaN</td>\n",
       "      <td>NaN</td>\n",
       "      <td>NaN</td>\n",
       "      <td>NaN</td>\n",
       "      <td>NaN</td>\n",
       "      <td>NaN</td>\n",
       "    </tr>\n",
       "  </tbody>\n",
       "</table>\n",
       "<p>111 rows × 10 columns</p>\n",
       "</div>"
      ],
      "text/plain": [
       "     Unnamed: 0  Unnamed: 1  Unnamed: 2        Unnamed: 3  \\\n",
       "0           NaN         NaN         NaN               NaN   \n",
       "1           NaN         NaN         NaN               NaN   \n",
       "2           NaN         NaN         NaN               NaN   \n",
       "3           NaN         NaN         NaN               NaN   \n",
       "4           NaN         NaN         NaN               NaN   \n",
       "..          ...         ...         ...               ...   \n",
       "106         NaN         NaN         NaN              1965   \n",
       "107         NaN         NaN         NaN               NaN   \n",
       "108         NaN         NaN         NaN             リンク倍率   \n",
       "109         NaN         NaN         NaN  1955Linked Index   \n",
       "110         NaN         NaN         NaN     (1934～1936＝1)   \n",
       "\n",
       "                                       Unnamed: 4 Unnamed: 5 Unnamed: 6  \\\n",
       "0                                  第1表　支出諸物価指数の総括        NaN        NaN   \n",
       "1    Table 1　Summary of Expenditure Price Indexes        NaN        NaN   \n",
       "2                                             NaN        NaN        NaN   \n",
       "3                                             NaN        NaN        NaN   \n",
       "4                                           51865      51865      51866   \n",
       "..                                            ...        ...        ...   \n",
       "106                                           NaN        NaN        NaN   \n",
       "107                                           NaN        NaN        NaN   \n",
       "108                                           NaN      321.6        NaN   \n",
       "109                                           NaN        NaN        NaN   \n",
       "110                                           NaN        NaN        NaN   \n",
       "\n",
       "    Unnamed: 7 Unnamed: 8 Unnamed: 9  \n",
       "0          NaN        NaN        NaN  \n",
       "1          NaN        NaN        NaN  \n",
       "2          NaN        NaN        NaN  \n",
       "3          NaN        NaN        NaN  \n",
       "4        51866      51867      51867  \n",
       "..         ...        ...        ...  \n",
       "106      134.8        NaN        NaN  \n",
       "107        NaN        NaN        NaN  \n",
       "108      315.2        NaN      359.7  \n",
       "109        NaN        NaN        NaN  \n",
       "110        NaN        NaN        NaN  \n",
       "\n",
       "[111 rows x 10 columns]"
      ]
     },
     "execution_count": 9,
     "metadata": {},
     "output_type": "execute_result"
    }
   ],
   "source": [
    "df_original"
   ]
  },
  {
   "cell_type": "code",
   "execution_count": 10,
   "id": "administrative-fashion",
   "metadata": {},
   "outputs": [],
   "source": [
    "# linked index name\n",
    "linked_index = df_original.iloc[109, 3]"
   ]
  },
  {
   "cell_type": "code",
   "execution_count": 11,
   "id": "still-willow",
   "metadata": {},
   "outputs": [
    {
     "data": {
      "text/plain": [
       "'1955Linked Index'"
      ]
     },
     "execution_count": 11,
     "metadata": {},
     "output_type": "execute_result"
    }
   ],
   "source": [
    "linked_index"
   ]
  },
  {
   "cell_type": "code",
   "execution_count": 12,
   "id": "entertaining-monkey",
   "metadata": {},
   "outputs": [],
   "source": [
    "# index\n",
    "unit = df_original.iloc[12,4]"
   ]
  },
  {
   "cell_type": "code",
   "execution_count": 13,
   "id": "herbal-development",
   "metadata": {},
   "outputs": [],
   "source": [
    "# linked index, 1934 to 1936 price = 1\n",
    "total_price_index_1955_linked_index = df_original.iloc[108, 5]"
   ]
  },
  {
   "cell_type": "code",
   "execution_count": 13,
   "id": "increasing-handle",
   "metadata": {},
   "outputs": [
    {
     "data": {
      "text/plain": [
       "321.6"
      ]
     },
     "execution_count": 13,
     "metadata": {},
     "output_type": "execute_result"
    }
   ],
   "source": [
    "total_price_index_1955_linked_index"
   ]
  },
  {
   "cell_type": "code",
   "execution_count": 14,
   "id": "loose-relative",
   "metadata": {},
   "outputs": [],
   "source": [
    "# linked index, 1934 to 1936 price = 1\n",
    "consumer_price_index_1955_linked_index = df_original.iloc[108, 7]"
   ]
  },
  {
   "cell_type": "code",
   "execution_count": 15,
   "id": "strange-superior",
   "metadata": {},
   "outputs": [
    {
     "data": {
      "text/plain": [
       "315.2"
      ]
     },
     "execution_count": 15,
     "metadata": {},
     "output_type": "execute_result"
    }
   ],
   "source": [
    "consumer_price_index_1955_linked_index"
   ]
  },
  {
   "cell_type": "code",
   "execution_count": 16,
   "id": "young-ordinance",
   "metadata": {},
   "outputs": [],
   "source": [
    "# linked index, 1934 to 1936 price = 1\n",
    "investment_goods_price_index_1955_linked_index = df_original.iloc[108, 9]"
   ]
  },
  {
   "cell_type": "code",
   "execution_count": 17,
   "id": "qualified-southwest",
   "metadata": {},
   "outputs": [
    {
     "data": {
      "text/plain": [
       "359.7"
      ]
     },
     "execution_count": 17,
     "metadata": {},
     "output_type": "execute_result"
    }
   ],
   "source": [
    "investment_goods_price_index_1955_linked_index"
   ]
  },
  {
   "cell_type": "code",
   "execution_count": 16,
   "id": "choice-decrease",
   "metadata": {},
   "outputs": [],
   "source": [
    "# Remove columns and rows with too many nulls\n",
    "df_dropped = df_original.loc[df_original.notnull().sum(axis=1) > 2, df_original.notnull().sum() > 2]"
   ]
  },
  {
   "cell_type": "code",
   "execution_count": 17,
   "id": "sexual-longitude",
   "metadata": {},
   "outputs": [],
   "source": [
    "df_dropped.columns = ['year_wst', 'J0801__001_1', 'J0801__001_2', 'J0801__002_1', 'J0801__002_2', 'J0801__003_1', 'J0801__003_2']"
   ]
  },
  {
   "cell_type": "code",
   "execution_count": 18,
   "id": "general-monitor",
   "metadata": {},
   "outputs": [
    {
     "data": {
      "text/html": [
       "<div>\n",
       "<style scoped>\n",
       "    .dataframe tbody tr th:only-of-type {\n",
       "        vertical-align: middle;\n",
       "    }\n",
       "\n",
       "    .dataframe tbody tr th {\n",
       "        vertical-align: top;\n",
       "    }\n",
       "\n",
       "    .dataframe thead th {\n",
       "        text-align: right;\n",
       "    }\n",
       "</style>\n",
       "<table border=\"1\" class=\"dataframe\">\n",
       "  <thead>\n",
       "    <tr style=\"text-align: right;\">\n",
       "      <th></th>\n",
       "      <th>year_wst</th>\n",
       "      <th>J0801__001_1</th>\n",
       "      <th>J0801__001_2</th>\n",
       "      <th>J0801__002_1</th>\n",
       "      <th>J0801__002_2</th>\n",
       "      <th>J0801__003_1</th>\n",
       "      <th>J0801__003_2</th>\n",
       "    </tr>\n",
       "  </thead>\n",
       "  <tbody>\n",
       "    <tr>\n",
       "      <th>4</th>\n",
       "      <td>NaN</td>\n",
       "      <td>51865</td>\n",
       "      <td>51865</td>\n",
       "      <td>51866</td>\n",
       "      <td>51866</td>\n",
       "      <td>51867</td>\n",
       "      <td>51867</td>\n",
       "    </tr>\n",
       "    <tr>\n",
       "      <th>5</th>\n",
       "      <td>NaN</td>\n",
       "      <td>1</td>\n",
       "      <td>2</td>\n",
       "      <td>1</td>\n",
       "      <td>2</td>\n",
       "      <td>1</td>\n",
       "      <td>2</td>\n",
       "    </tr>\n",
       "    <tr>\n",
       "      <th>6</th>\n",
       "      <td>NaN</td>\n",
       "      <td>支出物価指数：総合</td>\n",
       "      <td>支出物価指数：総合</td>\n",
       "      <td>支出物価指数：消費者物価</td>\n",
       "      <td>支出物価指数：消費者物価</td>\n",
       "      <td>支出物価指数：投資財物価</td>\n",
       "      <td>支出物価指数：投資財物価</td>\n",
       "    </tr>\n",
       "    <tr>\n",
       "      <th>7</th>\n",
       "      <td>NaN</td>\n",
       "      <td>Summary of Expenditure Price Indexes: Aggregate</td>\n",
       "      <td>Summary of Expenditure Price Indexes: Aggregate</td>\n",
       "      <td>Summary of Expenditure Price Indexes: Consumer...</td>\n",
       "      <td>Summary of Expenditure Price Indexes: Consumer...</td>\n",
       "      <td>Summary of Expenditure Price Indexes: Investme...</td>\n",
       "      <td>Summary of Expenditure Price Indexes: Investme...</td>\n",
       "    </tr>\n",
       "    <tr>\n",
       "      <th>8</th>\n",
       "      <td>NaN</td>\n",
       "      <td>J0801__001</td>\n",
       "      <td>J0801__001</td>\n",
       "      <td>J0801__002</td>\n",
       "      <td>J0801__002</td>\n",
       "      <td>J0801__003</td>\n",
       "      <td>J0801__003</td>\n",
       "    </tr>\n",
       "    <tr>\n",
       "      <th>...</th>\n",
       "      <td>...</td>\n",
       "      <td>...</td>\n",
       "      <td>...</td>\n",
       "      <td>...</td>\n",
       "      <td>...</td>\n",
       "      <td>...</td>\n",
       "      <td>...</td>\n",
       "    </tr>\n",
       "    <tr>\n",
       "      <th>102</th>\n",
       "      <td>1961</td>\n",
       "      <td>NaN</td>\n",
       "      <td>105.1</td>\n",
       "      <td>NaN</td>\n",
       "      <td>105</td>\n",
       "      <td>NaN</td>\n",
       "      <td>105.8</td>\n",
       "    </tr>\n",
       "    <tr>\n",
       "      <th>103</th>\n",
       "      <td>1962</td>\n",
       "      <td>NaN</td>\n",
       "      <td>109.9</td>\n",
       "      <td>NaN</td>\n",
       "      <td>111.9</td>\n",
       "      <td>NaN</td>\n",
       "      <td>106.8</td>\n",
       "    </tr>\n",
       "    <tr>\n",
       "      <th>104</th>\n",
       "      <td>1963</td>\n",
       "      <td>NaN</td>\n",
       "      <td>116.3</td>\n",
       "      <td>NaN</td>\n",
       "      <td>120.1</td>\n",
       "      <td>NaN</td>\n",
       "      <td>108.9</td>\n",
       "    </tr>\n",
       "    <tr>\n",
       "      <th>105</th>\n",
       "      <td>1964</td>\n",
       "      <td>NaN</td>\n",
       "      <td>119.1</td>\n",
       "      <td>NaN</td>\n",
       "      <td>125.1</td>\n",
       "      <td>NaN</td>\n",
       "      <td>110.4</td>\n",
       "    </tr>\n",
       "    <tr>\n",
       "      <th>108</th>\n",
       "      <td>リンク倍率</td>\n",
       "      <td>NaN</td>\n",
       "      <td>321.6</td>\n",
       "      <td>NaN</td>\n",
       "      <td>315.2</td>\n",
       "      <td>NaN</td>\n",
       "      <td>359.7</td>\n",
       "    </tr>\n",
       "  </tbody>\n",
       "</table>\n",
       "<p>85 rows × 7 columns</p>\n",
       "</div>"
      ],
      "text/plain": [
       "    year_wst                                     J0801__001_1  \\\n",
       "4        NaN                                            51865   \n",
       "5        NaN                                                1   \n",
       "6        NaN                                        支出物価指数：総合   \n",
       "7        NaN  Summary of Expenditure Price Indexes: Aggregate   \n",
       "8        NaN                                       J0801__001   \n",
       "..       ...                                              ...   \n",
       "102     1961                                              NaN   \n",
       "103     1962                                              NaN   \n",
       "104     1963                                              NaN   \n",
       "105     1964                                              NaN   \n",
       "108    リンク倍率                                              NaN   \n",
       "\n",
       "                                        J0801__001_2  \\\n",
       "4                                              51865   \n",
       "5                                                  2   \n",
       "6                                          支出物価指数：総合   \n",
       "7    Summary of Expenditure Price Indexes: Aggregate   \n",
       "8                                         J0801__001   \n",
       "..                                               ...   \n",
       "102                                            105.1   \n",
       "103                                            109.9   \n",
       "104                                            116.3   \n",
       "105                                            119.1   \n",
       "108                                            321.6   \n",
       "\n",
       "                                          J0801__002_1  \\\n",
       "4                                                51866   \n",
       "5                                                    1   \n",
       "6                                         支出物価指数：消費者物価   \n",
       "7    Summary of Expenditure Price Indexes: Consumer...   \n",
       "8                                           J0801__002   \n",
       "..                                                 ...   \n",
       "102                                                NaN   \n",
       "103                                                NaN   \n",
       "104                                                NaN   \n",
       "105                                                NaN   \n",
       "108                                                NaN   \n",
       "\n",
       "                                          J0801__002_2  \\\n",
       "4                                                51866   \n",
       "5                                                    2   \n",
       "6                                         支出物価指数：消費者物価   \n",
       "7    Summary of Expenditure Price Indexes: Consumer...   \n",
       "8                                           J0801__002   \n",
       "..                                                 ...   \n",
       "102                                                105   \n",
       "103                                              111.9   \n",
       "104                                              120.1   \n",
       "105                                              125.1   \n",
       "108                                              315.2   \n",
       "\n",
       "                                          J0801__003_1  \\\n",
       "4                                                51867   \n",
       "5                                                    1   \n",
       "6                                         支出物価指数：投資財物価   \n",
       "7    Summary of Expenditure Price Indexes: Investme...   \n",
       "8                                           J0801__003   \n",
       "..                                                 ...   \n",
       "102                                                NaN   \n",
       "103                                                NaN   \n",
       "104                                                NaN   \n",
       "105                                                NaN   \n",
       "108                                                NaN   \n",
       "\n",
       "                                          J0801__003_2  \n",
       "4                                                51867  \n",
       "5                                                    2  \n",
       "6                                         支出物価指数：投資財物価  \n",
       "7    Summary of Expenditure Price Indexes: Investme...  \n",
       "8                                           J0801__003  \n",
       "..                                                 ...  \n",
       "102                                              105.8  \n",
       "103                                              106.8  \n",
       "104                                              108.9  \n",
       "105                                              110.4  \n",
       "108                                              359.7  \n",
       "\n",
       "[85 rows x 7 columns]"
      ]
     },
     "execution_count": 18,
     "metadata": {},
     "output_type": "execute_result"
    }
   ],
   "source": [
    "df_dropped"
   ]
  },
  {
   "cell_type": "code",
   "execution_count": 46,
   "id": "dc702834-8cf9-4232-b6d6-1e527225e3b8",
   "metadata": {},
   "outputs": [],
   "source": [
    "columns = df_original.loc[8].tolist()"
   ]
  },
  {
   "cell_type": "code",
   "execution_count": 47,
   "id": "f5a5070b-f3ae-4d94-afe4-b6f425d428cc",
   "metadata": {},
   "outputs": [],
   "source": [
    "columns.append('J0801__004')"
   ]
  },
  {
   "cell_type": "code",
   "execution_count": 48,
   "id": "9d712df4-c988-4ed3-8bef-622b62964555",
   "metadata": {},
   "outputs": [
    {
     "data": {
      "text/plain": [
       "[nan,\n",
       " nan,\n",
       " nan,\n",
       " nan,\n",
       " 'J0801__001',\n",
       " 'J0801__001',\n",
       " 'J0801__002',\n",
       " 'J0801__002',\n",
       " 'J0801__003',\n",
       " 'J0801__003',\n",
       " 'J0801__004']"
      ]
     },
     "execution_count": 48,
     "metadata": {},
     "output_type": "execute_result"
    }
   ],
   "source": [
    "columns"
   ]
  },
  {
   "cell_type": "code",
   "execution_count": 49,
   "id": "144e25e3-21d3-40d6-ad3e-6644eca4739e",
   "metadata": {},
   "outputs": [
    {
     "data": {
      "text/plain": [
       "[nan,\n",
       " nan,\n",
       " nan,\n",
       " nan,\n",
       " 'J0801__001_1',\n",
       " 'J0801__001_2',\n",
       " 'J0801__002_1',\n",
       " 'J0801__002_2',\n",
       " 'J0801__003_1',\n",
       " 'J0801__003_2',\n",
       " 'J0801__004']"
      ]
     },
     "execution_count": 49,
     "metadata": {},
     "output_type": "execute_result"
    }
   ],
   "source": [
    "mylist = columns\n",
    "[v + '_' + str(mylist[:i].count(v) + 1) if mylist.count(v) >= 2 else v for i, v in enumerate(mylist)]"
   ]
  },
  {
   "cell_type": "code",
   "execution_count": 55,
   "id": "67c6b474-edd8-4188-bb12-72ee68ba9095",
   "metadata": {},
   "outputs": [
    {
     "name": "stdout",
     "output_type": "stream",
     "text": [
      "0\n",
      "0\n",
      "0\n",
      "0\n",
      "0\n",
      "1\n",
      "0\n",
      "1\n",
      "0\n",
      "1\n",
      "0\n"
     ]
    }
   ],
   "source": [
    "for i, v in enumerate(mylist):\n",
    "    print(mylist[:i].count(v))\n",
    "    "
   ]
  },
  {
   "cell_type": "code",
   "execution_count": 21,
   "id": "recent-client",
   "metadata": {},
   "outputs": [],
   "source": [
    "df_dropped['J0801__001'] = df_dropped['J0801__001_1'].fillna(0) + df_dropped['J0801__001_2'].fillna(0)"
   ]
  },
  {
   "cell_type": "code",
   "execution_count": 22,
   "id": "controversial-optimum",
   "metadata": {},
   "outputs": [],
   "source": [
    "df_dropped['J0801__002'] = df_dropped['J0801__002_1'].fillna(0) + df_dropped['J0801__002_2'].fillna(0)"
   ]
  },
  {
   "cell_type": "code",
   "execution_count": 23,
   "id": "biblical-backing",
   "metadata": {},
   "outputs": [],
   "source": [
    "df_dropped['J0801__003'] = df_dropped['J0801__003_1'].fillna(0) + df_dropped['J0801__003_2'].fillna(0)"
   ]
  },
  {
   "cell_type": "code",
   "execution_count": 24,
   "id": "mechanical-touch",
   "metadata": {},
   "outputs": [],
   "source": [
    "df_picked = df_dropped[['year_wst', 'J0801__001', 'J0801__002', 'J0801__003']]"
   ]
  },
  {
   "cell_type": "code",
   "execution_count": 25,
   "id": "martial-shaft",
   "metadata": {},
   "outputs": [],
   "source": [
    "df_picked.columns = ['year_wst', 'price_ind_agg', 'price_ind_consumer', 'price_ind_inv']"
   ]
  },
  {
   "cell_type": "code",
   "execution_count": 26,
   "id": "brazilian-turkish",
   "metadata": {},
   "outputs": [],
   "source": [
    "df_picked = df_picked.iloc[10:]"
   ]
  },
  {
   "cell_type": "code",
   "execution_count": 27,
   "id": "thorough-income",
   "metadata": {},
   "outputs": [],
   "source": [
    "# rename linked index row\n",
    "df_picked.loc[108, 'year_wst'] = linked_index"
   ]
  },
  {
   "cell_type": "code",
   "execution_count": 28,
   "id": "adequate-brook",
   "metadata": {},
   "outputs": [
    {
     "data": {
      "text/html": [
       "<div>\n",
       "<style scoped>\n",
       "    .dataframe tbody tr th:only-of-type {\n",
       "        vertical-align: middle;\n",
       "    }\n",
       "\n",
       "    .dataframe tbody tr th {\n",
       "        vertical-align: top;\n",
       "    }\n",
       "\n",
       "    .dataframe thead th {\n",
       "        text-align: right;\n",
       "    }\n",
       "</style>\n",
       "<table border=\"1\" class=\"dataframe\">\n",
       "  <thead>\n",
       "    <tr style=\"text-align: right;\">\n",
       "      <th></th>\n",
       "      <th>year_wst</th>\n",
       "      <th>price_ind_agg</th>\n",
       "      <th>price_ind_consumer</th>\n",
       "      <th>price_ind_inv</th>\n",
       "    </tr>\n",
       "  </thead>\n",
       "  <tbody>\n",
       "    <tr>\n",
       "      <th>20</th>\n",
       "      <td>1879</td>\n",
       "      <td>32.6</td>\n",
       "      <td>33.1</td>\n",
       "      <td>30.8</td>\n",
       "    </tr>\n",
       "    <tr>\n",
       "      <th>21</th>\n",
       "      <td>1880</td>\n",
       "      <td>36.5</td>\n",
       "      <td>38</td>\n",
       "      <td>28.9</td>\n",
       "    </tr>\n",
       "    <tr>\n",
       "      <th>22</th>\n",
       "      <td>1881</td>\n",
       "      <td>40.1</td>\n",
       "      <td>41.8</td>\n",
       "      <td>30.2</td>\n",
       "    </tr>\n",
       "    <tr>\n",
       "      <th>23</th>\n",
       "      <td>1882</td>\n",
       "      <td>37.5</td>\n",
       "      <td>38.9</td>\n",
       "      <td>29.9</td>\n",
       "    </tr>\n",
       "    <tr>\n",
       "      <th>24</th>\n",
       "      <td>1883</td>\n",
       "      <td>33</td>\n",
       "      <td>33.4</td>\n",
       "      <td>31.9</td>\n",
       "    </tr>\n",
       "    <tr>\n",
       "      <th>...</th>\n",
       "      <td>...</td>\n",
       "      <td>...</td>\n",
       "      <td>...</td>\n",
       "      <td>...</td>\n",
       "    </tr>\n",
       "    <tr>\n",
       "      <th>102</th>\n",
       "      <td>1961</td>\n",
       "      <td>105.1</td>\n",
       "      <td>105</td>\n",
       "      <td>105.8</td>\n",
       "    </tr>\n",
       "    <tr>\n",
       "      <th>103</th>\n",
       "      <td>1962</td>\n",
       "      <td>109.9</td>\n",
       "      <td>111.9</td>\n",
       "      <td>106.8</td>\n",
       "    </tr>\n",
       "    <tr>\n",
       "      <th>104</th>\n",
       "      <td>1963</td>\n",
       "      <td>116.3</td>\n",
       "      <td>120.1</td>\n",
       "      <td>108.9</td>\n",
       "    </tr>\n",
       "    <tr>\n",
       "      <th>105</th>\n",
       "      <td>1964</td>\n",
       "      <td>119.1</td>\n",
       "      <td>125.1</td>\n",
       "      <td>110.4</td>\n",
       "    </tr>\n",
       "    <tr>\n",
       "      <th>108</th>\n",
       "      <td>1955Linked Index</td>\n",
       "      <td>321.6</td>\n",
       "      <td>315.2</td>\n",
       "      <td>359.7</td>\n",
       "    </tr>\n",
       "  </tbody>\n",
       "</table>\n",
       "<p>75 rows × 4 columns</p>\n",
       "</div>"
      ],
      "text/plain": [
       "             year_wst price_ind_agg price_ind_consumer price_ind_inv\n",
       "20               1879          32.6               33.1          30.8\n",
       "21               1880          36.5                 38          28.9\n",
       "22               1881          40.1               41.8          30.2\n",
       "23               1882          37.5               38.9          29.9\n",
       "24               1883            33               33.4          31.9\n",
       "..                ...           ...                ...           ...\n",
       "102              1961         105.1                105         105.8\n",
       "103              1962         109.9              111.9         106.8\n",
       "104              1963         116.3              120.1         108.9\n",
       "105              1964         119.1              125.1         110.4\n",
       "108  1955Linked Index         321.6              315.2         359.7\n",
       "\n",
       "[75 rows x 4 columns]"
      ]
     },
     "execution_count": 28,
     "metadata": {},
     "output_type": "execute_result"
    }
   ],
   "source": [
    "df_picked"
   ]
  },
  {
   "cell_type": "code",
   "execution_count": 29,
   "id": "narrow-ontario",
   "metadata": {},
   "outputs": [],
   "source": [
    "df_picked.to_csv('../../Data/Downloaded/pre_price.csv', index = False)"
   ]
  },
  {
   "cell_type": "code",
   "execution_count": null,
   "id": "nervous-hartford",
   "metadata": {},
   "outputs": [],
   "source": []
  }
 ],
 "metadata": {
  "kernelspec": {
   "display_name": "Python 3 (ipykernel)",
   "language": "python",
   "name": "python3"
  },
  "language_info": {
   "codemirror_mode": {
    "name": "ipython",
    "version": 3
   },
   "file_extension": ".py",
   "mimetype": "text/x-python",
   "name": "python",
   "nbconvert_exporter": "python",
   "pygments_lexer": "ipython3",
   "version": "3.9.6"
  }
 },
 "nbformat": 4,
 "nbformat_minor": 5
}
