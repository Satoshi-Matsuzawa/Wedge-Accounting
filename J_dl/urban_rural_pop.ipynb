{
 "cells": [
  {
   "cell_type": "code",
   "execution_count": 21,
   "id": "a358c585-4ca6-4235-8e57-be9818b52ff9",
   "metadata": {},
   "outputs": [],
   "source": [
    "import pandas as pd\n",
    "import numpy as np"
   ]
  },
  {
   "cell_type": "code",
   "execution_count": 3,
   "id": "9208b0d5-b393-412e-8b95-f701bdd1b445",
   "metadata": {},
   "outputs": [],
   "source": [
    "url = \"https://warp.da.ndl.go.jp/info:ndljp/pid/11423429/www.stat.go.jp/data/chouki/zuhyou/02-07.xls\""
   ]
  },
  {
   "cell_type": "code",
   "execution_count": 4,
   "id": "177e3d75-32df-45ce-8976-265e12cb3d66",
   "metadata": {},
   "outputs": [],
   "source": [
    "df_original = pd.read_excel(url, header = None, index_col = None)"
   ]
  },
  {
   "cell_type": "code",
   "execution_count": 5,
   "id": "e5d7fd04-4ce9-418d-8db4-f5500d475a1f",
   "metadata": {},
   "outputs": [
    {
     "data": {
      "text/html": [
       "<div>\n",
       "<style scoped>\n",
       "    .dataframe tbody tr th:only-of-type {\n",
       "        vertical-align: middle;\n",
       "    }\n",
       "\n",
       "    .dataframe tbody tr th {\n",
       "        vertical-align: top;\n",
       "    }\n",
       "\n",
       "    .dataframe thead th {\n",
       "        text-align: right;\n",
       "    }\n",
       "</style>\n",
       "<table border=\"1\" class=\"dataframe\">\n",
       "  <thead>\n",
       "    <tr style=\"text-align: right;\">\n",
       "      <th></th>\n",
       "      <th>0</th>\n",
       "      <th>1</th>\n",
       "      <th>2</th>\n",
       "      <th>3</th>\n",
       "      <th>4</th>\n",
       "      <th>5</th>\n",
       "      <th>6</th>\n",
       "      <th>7</th>\n",
       "      <th>8</th>\n",
       "      <th>9</th>\n",
       "      <th>10</th>\n",
       "    </tr>\n",
       "  </thead>\n",
       "  <tbody>\n",
       "    <tr>\n",
       "      <th>0</th>\n",
       "      <td>２－７　都道府県・市部・郡部別人口，人口密度，人口集中地区人口及び面積（明治３１年～平成１７年）</td>\n",
       "      <td>NaN</td>\n",
       "      <td>NaN</td>\n",
       "      <td>NaN</td>\n",
       "      <td>NaN</td>\n",
       "      <td>NaN</td>\n",
       "      <td>NaN</td>\n",
       "      <td>NaN</td>\n",
       "      <td>NaN</td>\n",
       "      <td>NaN</td>\n",
       "      <td>NaN</td>\n",
       "    </tr>\n",
       "    <tr>\n",
       "      <th>1</th>\n",
       "      <td>2-7 Population, Population Density,  Populatio...</td>\n",
       "      <td>NaN</td>\n",
       "      <td>NaN</td>\n",
       "      <td>NaN</td>\n",
       "      <td>NaN</td>\n",
       "      <td>NaN</td>\n",
       "      <td>NaN</td>\n",
       "      <td>NaN</td>\n",
       "      <td>NaN</td>\n",
       "      <td>NaN</td>\n",
       "      <td>NaN</td>\n",
       "    </tr>\n",
       "    <tr>\n",
       "      <th>2</th>\n",
       "      <td>NaN</td>\n",
       "      <td>NaN</td>\n",
       "      <td>NaN</td>\n",
       "      <td>NaN</td>\n",
       "      <td>NaN</td>\n",
       "      <td>NaN</td>\n",
       "      <td>NaN</td>\n",
       "      <td>NaN</td>\n",
       "      <td>NaN</td>\n",
       "      <td>NaN</td>\n",
       "      <td>NaN</td>\n",
       "    </tr>\n",
       "    <tr>\n",
       "      <th>3</th>\n",
       "      <td>都道府県,年次</td>\n",
       "      <td>NaN</td>\n",
       "      <td>人口</td>\n",
       "      <td>NaN</td>\n",
       "      <td>NaN</td>\n",
       "      <td>面積(平方キロメートル)</td>\n",
       "      <td>人口密度(1平方キロメートル当たり)</td>\n",
       "      <td>人口集中地区</td>\n",
       "      <td>NaN</td>\n",
       "      <td>NaN</td>\n",
       "      <td>NaN</td>\n",
       "    </tr>\n",
       "    <tr>\n",
       "      <th>4</th>\n",
       "      <td>NaN</td>\n",
       "      <td>NaN</td>\n",
       "      <td>NaN</td>\n",
       "      <td>NaN</td>\n",
       "      <td>NaN</td>\n",
       "      <td>NaN</td>\n",
       "      <td>NaN</td>\n",
       "      <td>densely Inhabited districts</td>\n",
       "      <td>NaN</td>\n",
       "      <td>NaN</td>\n",
       "      <td>NaN</td>\n",
       "    </tr>\n",
       "    <tr>\n",
       "      <th>...</th>\n",
       "      <td>...</td>\n",
       "      <td>...</td>\n",
       "      <td>...</td>\n",
       "      <td>...</td>\n",
       "      <td>...</td>\n",
       "      <td>...</td>\n",
       "      <td>...</td>\n",
       "      <td>...</td>\n",
       "      <td>...</td>\n",
       "      <td>...</td>\n",
       "      <td>...</td>\n",
       "    </tr>\n",
       "    <tr>\n",
       "      <th>1199</th>\n",
       "      <td>f) Excluding Amami-Islands.</td>\n",
       "      <td>NaN</td>\n",
       "      <td>NaN</td>\n",
       "      <td>NaN</td>\n",
       "      <td>NaN</td>\n",
       "      <td>NaN</td>\n",
       "      <td>NaN</td>\n",
       "      <td>NaN</td>\n",
       "      <td>NaN</td>\n",
       "      <td>NaN</td>\n",
       "      <td>NaN</td>\n",
       "    </tr>\n",
       "    <tr>\n",
       "      <th>1200</th>\n",
       "      <td>g) Including Amami-Islands.</td>\n",
       "      <td>NaN</td>\n",
       "      <td>NaN</td>\n",
       "      <td>NaN</td>\n",
       "      <td>NaN</td>\n",
       "      <td>NaN</td>\n",
       "      <td>NaN</td>\n",
       "      <td>NaN</td>\n",
       "      <td>NaN</td>\n",
       "      <td>NaN</td>\n",
       "      <td>NaN</td>\n",
       "    </tr>\n",
       "    <tr>\n",
       "      <th>1201</th>\n",
       "      <td>〔資料〕総務省統計局統計調査部国勢統計課「国勢調査報告」</td>\n",
       "      <td>NaN</td>\n",
       "      <td>NaN</td>\n",
       "      <td>NaN</td>\n",
       "      <td>NaN</td>\n",
       "      <td>ホームページ</td>\n",
       "      <td>NaN</td>\n",
       "      <td>NaN</td>\n",
       "      <td>NaN</td>\n",
       "      <td>NaN</td>\n",
       "      <td>NaN</td>\n",
       "    </tr>\n",
       "    <tr>\n",
       "      <th>1202</th>\n",
       "      <td>内閣統計局「日本帝国人口統計」「日本帝国人口静態統計」</td>\n",
       "      <td>NaN</td>\n",
       "      <td>NaN</td>\n",
       "      <td>NaN</td>\n",
       "      <td>NaN</td>\n",
       "      <td>NaN</td>\n",
       "      <td>NaN</td>\n",
       "      <td>NaN</td>\n",
       "      <td>NaN</td>\n",
       "      <td>NaN</td>\n",
       "      <td>NaN</td>\n",
       "    </tr>\n",
       "    <tr>\n",
       "      <th>1203</th>\n",
       "      <td>Source:   Statistical Survey Department, Stati...</td>\n",
       "      <td>NaN</td>\n",
       "      <td>NaN</td>\n",
       "      <td>NaN</td>\n",
       "      <td>NaN</td>\n",
       "      <td>NaN</td>\n",
       "      <td>NaN</td>\n",
       "      <td>NaN</td>\n",
       "      <td>NaN</td>\n",
       "      <td>NaN</td>\n",
       "      <td>NaN</td>\n",
       "    </tr>\n",
       "  </tbody>\n",
       "</table>\n",
       "<p>1204 rows × 11 columns</p>\n",
       "</div>"
      ],
      "text/plain": [
       "                                                     0    1    2    3    4   \\\n",
       "0      ２－７　都道府県・市部・郡部別人口，人口密度，人口集中地区人口及び面積（明治３１年～平成１７年）  NaN  NaN  NaN  NaN   \n",
       "1     2-7 Population, Population Density,  Populatio...  NaN  NaN  NaN  NaN   \n",
       "2                                                   NaN  NaN  NaN  NaN  NaN   \n",
       "3                                               都道府県,年次  NaN   人口  NaN  NaN   \n",
       "4                                                   NaN  NaN  NaN  NaN  NaN   \n",
       "...                                                 ...  ...  ...  ...  ...   \n",
       "1199                        f) Excluding Amami-Islands.  NaN  NaN  NaN  NaN   \n",
       "1200                        g) Including Amami-Islands.  NaN  NaN  NaN  NaN   \n",
       "1201                       〔資料〕総務省統計局統計調査部国勢統計課「国勢調査報告」  NaN  NaN  NaN  NaN   \n",
       "1202                    　　　　内閣統計局「日本帝国人口統計」「日本帝国人口静態統計」  NaN  NaN  NaN  NaN   \n",
       "1203  Source:   Statistical Survey Department, Stati...  NaN  NaN  NaN  NaN   \n",
       "\n",
       "                5                   6                            7    8    9   \\\n",
       "0              NaN                 NaN                          NaN  NaN  NaN   \n",
       "1              NaN                 NaN                          NaN  NaN  NaN   \n",
       "2              NaN                 NaN                          NaN  NaN  NaN   \n",
       "3     面積(平方キロメートル)  人口密度(1平方キロメートル当たり)                      人口集中地区   NaN  NaN   \n",
       "4              NaN                 NaN  densely Inhabited districts  NaN  NaN   \n",
       "...            ...                 ...                          ...  ...  ...   \n",
       "1199           NaN                 NaN                          NaN  NaN  NaN   \n",
       "1200           NaN                 NaN                          NaN  NaN  NaN   \n",
       "1201        ホームページ                 NaN                          NaN  NaN  NaN   \n",
       "1202           NaN                 NaN                          NaN  NaN  NaN   \n",
       "1203           NaN                 NaN                          NaN  NaN  NaN   \n",
       "\n",
       "       10  \n",
       "0     NaN  \n",
       "1     NaN  \n",
       "2     NaN  \n",
       "3     NaN  \n",
       "4     NaN  \n",
       "...   ...  \n",
       "1199  NaN  \n",
       "1200  NaN  \n",
       "1201  NaN  \n",
       "1202  NaN  \n",
       "1203  NaN  \n",
       "\n",
       "[1204 rows x 11 columns]"
      ]
     },
     "execution_count": 5,
     "metadata": {},
     "output_type": "execute_result"
    }
   ],
   "source": [
    "df_original"
   ]
  },
  {
   "cell_type": "code",
   "execution_count": 6,
   "id": "58b0a420-205f-458a-9968-9ba471c01f48",
   "metadata": {},
   "outputs": [],
   "source": [
    "stat_name_jpn = df_original.loc[0,0]"
   ]
  },
  {
   "cell_type": "code",
   "execution_count": 7,
   "id": "54e7498f-6c7c-4815-a071-261782812029",
   "metadata": {},
   "outputs": [],
   "source": [
    "stat_name_eng = df_original.loc[1,0]"
   ]
  },
  {
   "cell_type": "code",
   "execution_count": 8,
   "id": "7790f68f-05f6-4981-b723-9d16771e6102",
   "metadata": {},
   "outputs": [
    {
     "data": {
      "text/plain": [
       "'全国'"
      ]
     },
     "execution_count": 8,
     "metadata": {},
     "output_type": "execute_result"
    }
   ],
   "source": [
    "df_original.iloc[9, 0]"
   ]
  },
  {
   "cell_type": "code",
   "execution_count": 9,
   "id": "00e7bcac-d919-458d-a9bf-32620d2e7923",
   "metadata": {},
   "outputs": [
    {
     "data": {
      "text/plain": [
       "'北海道'"
      ]
     },
     "execution_count": 9,
     "metadata": {},
     "output_type": "execute_result"
    }
   ],
   "source": [
    "df_original.iloc[9+24, 0]"
   ]
  },
  {
   "cell_type": "code",
   "execution_count": 10,
   "id": "4c113204-e752-4831-9c9f-9a16b74cef8e",
   "metadata": {},
   "outputs": [],
   "source": [
    "# remove columns and rows with too many nulls\n",
    "df_dropped = df_original.loc[df_original.notnull().sum(axis=1) > 2, df_original.notnull().sum() > 2].reset_index(drop = True)"
   ]
  },
  {
   "cell_type": "code",
   "execution_count": 11,
   "id": "417d13c5-cbac-4648-8936-568ad4e80d1a",
   "metadata": {},
   "outputs": [],
   "source": [
    "df_dropped = df_dropped.replace('-', 0)"
   ]
  },
  {
   "cell_type": "code",
   "execution_count": 12,
   "id": "5aba12f3-71ce-4ff7-a9d7-dfec452bb5da",
   "metadata": {},
   "outputs": [
    {
     "data": {
      "text/html": [
       "<div>\n",
       "<style scoped>\n",
       "    .dataframe tbody tr th:only-of-type {\n",
       "        vertical-align: middle;\n",
       "    }\n",
       "\n",
       "    .dataframe tbody tr th {\n",
       "        vertical-align: top;\n",
       "    }\n",
       "\n",
       "    .dataframe thead th {\n",
       "        text-align: right;\n",
       "    }\n",
       "</style>\n",
       "<table border=\"1\" class=\"dataframe\">\n",
       "  <thead>\n",
       "    <tr style=\"text-align: right;\">\n",
       "      <th></th>\n",
       "      <th>0</th>\n",
       "      <th>1</th>\n",
       "      <th>2</th>\n",
       "      <th>3</th>\n",
       "      <th>4</th>\n",
       "      <th>5</th>\n",
       "      <th>6</th>\n",
       "      <th>7</th>\n",
       "      <th>8</th>\n",
       "      <th>9</th>\n",
       "      <th>10</th>\n",
       "    </tr>\n",
       "  </thead>\n",
       "  <tbody>\n",
       "    <tr>\n",
       "      <th>0</th>\n",
       "      <td>都道府県,年次</td>\n",
       "      <td>NaN</td>\n",
       "      <td>人口</td>\n",
       "      <td>NaN</td>\n",
       "      <td>NaN</td>\n",
       "      <td>面積(平方キロメートル)</td>\n",
       "      <td>人口密度(1平方キロメートル当たり)</td>\n",
       "      <td>人口集中地区</td>\n",
       "      <td>NaN</td>\n",
       "      <td>NaN</td>\n",
       "      <td>NaN</td>\n",
       "    </tr>\n",
       "    <tr>\n",
       "      <th>1</th>\n",
       "      <td>NaN</td>\n",
       "      <td>NaN</td>\n",
       "      <td>NaN</td>\n",
       "      <td>市部</td>\n",
       "      <td>郡部</td>\n",
       "      <td>NaN</td>\n",
       "      <td>NaN</td>\n",
       "      <td>市部</td>\n",
       "      <td>NaN</td>\n",
       "      <td>郡部</td>\n",
       "      <td>NaN</td>\n",
       "    </tr>\n",
       "    <tr>\n",
       "      <th>2</th>\n",
       "      <td>NaN</td>\n",
       "      <td>NaN</td>\n",
       "      <td>NaN</td>\n",
       "      <td>NaN</td>\n",
       "      <td>NaN</td>\n",
       "      <td>NaN</td>\n",
       "      <td>NaN</td>\n",
       "      <td>人口</td>\n",
       "      <td>面積（平方キロメートル）</td>\n",
       "      <td>人口</td>\n",
       "      <td>面積（平方キロメートル）</td>\n",
       "    </tr>\n",
       "    <tr>\n",
       "      <th>3</th>\n",
       "      <td>Prefecture and year</td>\n",
       "      <td>NaN</td>\n",
       "      <td>Population　　\\n 1)  2)</td>\n",
       "      <td>All Shi (urban)</td>\n",
       "      <td>All Gun (rural)</td>\n",
       "      <td>Area (square kilometer)\\n 3)  4)  5)</td>\n",
       "      <td>Population density\\n(per square kilometer)   6)</td>\n",
       "      <td>Population</td>\n",
       "      <td>Area (square kilometer)</td>\n",
       "      <td>Population</td>\n",
       "      <td>Area (square kilometer)</td>\n",
       "    </tr>\n",
       "    <tr>\n",
       "      <th>4</th>\n",
       "      <td>明治31年</td>\n",
       "      <td>1898.0</td>\n",
       "      <td>45403041</td>\n",
       "      <td>5334563</td>\n",
       "      <td>40068478</td>\n",
       "      <td>...</td>\n",
       "      <td>...</td>\n",
       "      <td>0</td>\n",
       "      <td>0</td>\n",
       "      <td>0</td>\n",
       "      <td>0</td>\n",
       "    </tr>\n",
       "    <tr>\n",
       "      <th>...</th>\n",
       "      <td>...</td>\n",
       "      <td>...</td>\n",
       "      <td>...</td>\n",
       "      <td>...</td>\n",
       "      <td>...</td>\n",
       "      <td>...</td>\n",
       "      <td>...</td>\n",
       "      <td>...</td>\n",
       "      <td>...</td>\n",
       "      <td>...</td>\n",
       "      <td>...</td>\n",
       "    </tr>\n",
       "    <tr>\n",
       "      <th>1103</th>\n",
       "      <td>60</td>\n",
       "      <td>1985.0</td>\n",
       "      <td>1179097</td>\n",
       "      <td>796714</td>\n",
       "      <td>382383</td>\n",
       "      <td>2254.17</td>\n",
       "      <td>523</td>\n",
       "      <td>606489</td>\n",
       "      <td>75.6</td>\n",
       "      <td>59816</td>\n",
       "      <td>9</td>\n",
       "    </tr>\n",
       "    <tr>\n",
       "      <th>1104</th>\n",
       "      <td>平成 2年</td>\n",
       "      <td>1990.0</td>\n",
       "      <td>1222398</td>\n",
       "      <td>825965</td>\n",
       "      <td>396433</td>\n",
       "      <td>2264</td>\n",
       "      <td>540</td>\n",
       "      <td>650721</td>\n",
       "      <td>86.8</td>\n",
       "      <td>97965</td>\n",
       "      <td>16</td>\n",
       "    </tr>\n",
       "    <tr>\n",
       "      <th>1105</th>\n",
       "      <td>7</td>\n",
       "      <td>1995.0</td>\n",
       "      <td>1273440</td>\n",
       "      <td>857390</td>\n",
       "      <td>416050</td>\n",
       "      <td>2266.04</td>\n",
       "      <td>562</td>\n",
       "      <td>697324</td>\n",
       "      <td>96.6</td>\n",
       "      <td>125965</td>\n",
       "      <td>20.5</td>\n",
       "    </tr>\n",
       "    <tr>\n",
       "      <th>1106</th>\n",
       "      <td>12</td>\n",
       "      <td>2000.0</td>\n",
       "      <td>1318220</td>\n",
       "      <td>881832</td>\n",
       "      <td>436388</td>\n",
       "      <td>2271.3</td>\n",
       "      <td>580</td>\n",
       "      <td>718373</td>\n",
       "      <td>100.1</td>\n",
       "      <td>134145</td>\n",
       "      <td>21.2</td>\n",
       "    </tr>\n",
       "    <tr>\n",
       "      <th>1107</th>\n",
       "      <td>17</td>\n",
       "      <td>2005.0</td>\n",
       "      <td>1361594</td>\n",
       "      <td>1014617</td>\n",
       "      <td>346977</td>\n",
       "      <td>2274.59</td>\n",
       "      <td>599</td>\n",
       "      <td>791437</td>\n",
       "      <td>108.6</td>\n",
       "      <td>101838</td>\n",
       "      <td>17.3</td>\n",
       "    </tr>\n",
       "  </tbody>\n",
       "</table>\n",
       "<p>1108 rows × 11 columns</p>\n",
       "</div>"
      ],
      "text/plain": [
       "                       0       1                      2                3   \\\n",
       "0                 都道府県,年次     NaN                     人口              NaN   \n",
       "1                     NaN     NaN                    NaN               市部   \n",
       "2                     NaN     NaN                    NaN              NaN   \n",
       "3     Prefecture and year     NaN  Population　　\\n 1)  2)  All Shi (urban)   \n",
       "4                   明治31年  1898.0               45403041          5334563   \n",
       "...                   ...     ...                    ...              ...   \n",
       "1103                  60　  1985.0                1179097           796714   \n",
       "1104                平成 2年  1990.0                1222398           825965   \n",
       "1105                   7　  1995.0                1273440           857390   \n",
       "1106                  12　  2000.0                1318220           881832   \n",
       "1107                  17　  2005.0                1361594          1014617   \n",
       "\n",
       "                   4                                     5   \\\n",
       "0                 NaN                          面積(平方キロメートル)   \n",
       "1                  郡部                                   NaN   \n",
       "2                 NaN                                   NaN   \n",
       "3     All Gun (rural)  Area (square kilometer)\\n 3)  4)  5)   \n",
       "4            40068478                                   ...   \n",
       "...               ...                                   ...   \n",
       "1103           382383                               2254.17   \n",
       "1104           396433                                  2264   \n",
       "1105           416050                               2266.04   \n",
       "1106           436388                                2271.3   \n",
       "1107           346977                               2274.59   \n",
       "\n",
       "                                                   6            7   \\\n",
       "0                                  人口密度(1平方キロメートル当たり)      人口集中地区    \n",
       "1                                                 NaN           市部   \n",
       "2                                                 NaN          人口    \n",
       "3     Population density\\n(per square kilometer)   6)  Population    \n",
       "4                                                 ...            0   \n",
       "...                                               ...          ...   \n",
       "1103                                              523       606489   \n",
       "1104                                              540       650721   \n",
       "1105                                              562       697324   \n",
       "1106                                              580       718373   \n",
       "1107                                              599       791437   \n",
       "\n",
       "                           8            9                        10  \n",
       "0                         NaN          NaN                      NaN  \n",
       "1                         NaN           郡部                      NaN  \n",
       "2               面積（平方キロメートル）           人口             面積（平方キロメートル）   \n",
       "3     Area (square kilometer)  Population   Area (square kilometer)  \n",
       "4                           0            0                        0  \n",
       "...                       ...          ...                      ...  \n",
       "1103                     75.6        59816                        9  \n",
       "1104                     86.8        97965                       16  \n",
       "1105                     96.6       125965                     20.5  \n",
       "1106                    100.1       134145                     21.2  \n",
       "1107                    108.6       101838                     17.3  \n",
       "\n",
       "[1108 rows x 11 columns]"
      ]
     },
     "execution_count": 12,
     "metadata": {},
     "output_type": "execute_result"
    }
   ],
   "source": [
    "df_dropped"
   ]
  },
  {
   "cell_type": "code",
   "execution_count": 26,
   "id": "bdaaa8a3-03fa-455a-9e97-d397dc07a803",
   "metadata": {},
   "outputs": [
    {
     "data": {
      "text/plain": [
       "array([1898., 1903., 1908., 1913., 1918., 1920., 1925., 1930., 1935.,\n",
       "       1940., 1947., 1950., 1955., 1960., 1965., 1970., 1975., 1980.,\n",
       "       1985., 1990., 1995., 2000., 2005.,   nan])"
      ]
     },
     "execution_count": 26,
     "metadata": {},
     "output_type": "execute_result"
    }
   ],
   "source": [
    "np.unique(df_dropped.iloc[:,1].to_list())"
   ]
  },
  {
   "cell_type": "code",
   "execution_count": 12,
   "id": "47a1c92d-c307-4463-a4f6-908e108a4e3d",
   "metadata": {},
   "outputs": [],
   "source": [
    "columns_original = df_dropped.iloc[3,:]"
   ]
  },
  {
   "cell_type": "code",
   "execution_count": 13,
   "id": "c8c4d592-bc06-4812-ab48-df2af8e53860",
   "metadata": {},
   "outputs": [
    {
     "data": {
      "text/plain": [
       "0                                 Prefecture and year\n",
       "1                                                 NaN\n",
       "2                               Population　　\\n 1)  2)\n",
       "3                                     All Shi (urban)\n",
       "4                                     All Gun (rural)\n",
       "5                Area (square kilometer)\\n 3)  4)  5)\n",
       "6     Population density\\n(per square kilometer)   6)\n",
       "7                                         Population \n",
       "8                             Area (square kilometer)\n",
       "9                                         Population \n",
       "10                            Area (square kilometer)\n",
       "Name: 3, dtype: object"
      ]
     },
     "execution_count": 13,
     "metadata": {},
     "output_type": "execute_result"
    }
   ],
   "source": [
    "columns_original"
   ]
  },
  {
   "cell_type": "code",
   "execution_count": 14,
   "id": "4b96b8ac-b9a6-42ff-a059-34bff9cfa6e3",
   "metadata": {},
   "outputs": [],
   "source": [
    "columns = ['year_jpn', 'year_wst', 'pop_tot', 'pop_urban', 'pop_rural', 'area', 'pop_density', \n",
    "           'pop_urban_dense', 'area_urban_dense', 'pop_rural_dense', 'area_rural_dense']"
   ]
  },
  {
   "cell_type": "code",
   "execution_count": 1,
   "id": "c73354ea-3bd8-4453-be8e-3cbce9a0f46d",
   "metadata": {},
   "outputs": [],
   "source": [
    "columns = ['year_jpn', 'year_wst', 'tot_pop', 'urban_pop', 'rural_pop', 'area', 'pop_density',\n",
    "           'dense_urban_pop', 'dense_urban_area', 'dense_rural_pop','dense_rural_area']"
   ]
  },
  {
   "cell_type": "code",
   "execution_count": 15,
   "id": "34a8d881-5943-4100-a860-f74e10f20522",
   "metadata": {},
   "outputs": [],
   "source": [
    "df_dropped.columns = columns"
   ]
  },
  {
   "cell_type": "code",
   "execution_count": 16,
   "id": "ddcd1423-5c29-4938-9825-59710440973c",
   "metadata": {},
   "outputs": [],
   "source": [
    "# Number of rows of data for each prefecture\n",
    "rows_data = 23"
   ]
  },
  {
   "cell_type": "code",
   "execution_count": 17,
   "id": "4bc39c38-abdd-4088-b49d-43874ffcb173",
   "metadata": {},
   "outputs": [],
   "source": [
    "data_row_init = 4"
   ]
  },
  {
   "cell_type": "code",
   "execution_count": 18,
   "id": "a8c3f755-4b7d-4fa2-b2b2-a56273aebbfc",
   "metadata": {},
   "outputs": [
    {
     "data": {
      "text/plain": [
       "'明治31年'"
      ]
     },
     "execution_count": 18,
     "metadata": {},
     "output_type": "execute_result"
    }
   ],
   "source": [
    "df_dropped.iloc[4, 0]"
   ]
  },
  {
   "cell_type": "code",
   "execution_count": 19,
   "id": "cfd616e3-b30c-4658-a4a1-b3b95367e19b",
   "metadata": {},
   "outputs": [
    {
     "data": {
      "text/plain": [
       "4     明治31年\n",
       "5       36　\n",
       "6       41　\n",
       "7     大正 2年\n",
       "8        7　\n",
       "9        9　\n",
       "10      14　\n",
       "11    昭和 5年\n",
       "12      10　\n",
       "13      15　\n",
       "14      22　\n",
       "15      25　\n",
       "16      30　\n",
       "17      35　\n",
       "18      40　\n",
       "19      45　\n",
       "20      50　\n",
       "21      55　\n",
       "22      60　\n",
       "23    平成 2年\n",
       "24       7　\n",
       "25      12　\n",
       "26      17　\n",
       "Name: year_jpn, dtype: object"
      ]
     },
     "execution_count": 19,
     "metadata": {},
     "output_type": "execute_result"
    }
   ],
   "source": [
    "df_dropped.iloc[4:4+rows_data, 0]"
   ]
  },
  {
   "cell_type": "code",
   "execution_count": 20,
   "id": "72296bcb-cee7-42a2-b85f-33eb9ad56e15",
   "metadata": {},
   "outputs": [],
   "source": [
    "# Number of rows between labels in each prefecture\n",
    "rows_label = 24"
   ]
  },
  {
   "cell_type": "code",
   "execution_count": 33,
   "id": "74010d89-558d-4014-95c1-8954a6bda89a",
   "metadata": {},
   "outputs": [
    {
     "ename": "NameError",
     "evalue": "name 'rows_label' is not defined",
     "output_type": "error",
     "traceback": [
      "\u001b[0;31m---------------------------------------------------------------------------\u001b[0m",
      "\u001b[0;31mNameError\u001b[0m                                 Traceback (most recent call last)",
      "\u001b[0;32m/var/folders/hb/3db8mbcj4l74ztsvqyx17yd00000gn/T/ipykernel_24621/2202169728.py\u001b[0m in \u001b[0;36m<module>\u001b[0;34m\u001b[0m\n\u001b[1;32m      4\u001b[0m \u001b[0mpref_row_init\u001b[0m \u001b[0;34m=\u001b[0m \u001b[0;36m9\u001b[0m\u001b[0;34m\u001b[0m\u001b[0;34m\u001b[0m\u001b[0m\n\u001b[1;32m      5\u001b[0m \u001b[0;32mfor\u001b[0m \u001b[0mi\u001b[0m \u001b[0;32min\u001b[0m \u001b[0mrange\u001b[0m\u001b[0;34m(\u001b[0m\u001b[0mnum_of_prefs\u001b[0m\u001b[0;34m)\u001b[0m\u001b[0;34m:\u001b[0m\u001b[0;34m\u001b[0m\u001b[0;34m\u001b[0m\u001b[0m\n\u001b[0;32m----> 6\u001b[0;31m     \u001b[0mpref_name\u001b[0m \u001b[0;34m=\u001b[0m \u001b[0mdf_original\u001b[0m\u001b[0;34m.\u001b[0m\u001b[0miloc\u001b[0m\u001b[0;34m[\u001b[0m\u001b[0mpref_row_init\u001b[0m \u001b[0;34m+\u001b[0m \u001b[0mi\u001b[0m \u001b[0;34m*\u001b[0m \u001b[0mrows_label\u001b[0m\u001b[0;34m,\u001b[0m \u001b[0;36m0\u001b[0m\u001b[0;34m]\u001b[0m\u001b[0;34m.\u001b[0m\u001b[0mstrip\u001b[0m\u001b[0;34m(\u001b[0m\u001b[0;34m)\u001b[0m\u001b[0;34m\u001b[0m\u001b[0;34m\u001b[0m\u001b[0m\n\u001b[0m\u001b[1;32m      7\u001b[0m     \u001b[0mpref_row\u001b[0m  \u001b[0;34m=\u001b[0m \u001b[0mdata_row_init\u001b[0m \u001b[0;34m+\u001b[0m \u001b[0mi\u001b[0m \u001b[0;34m*\u001b[0m \u001b[0mrows_data\u001b[0m\u001b[0;34m\u001b[0m\u001b[0;34m\u001b[0m\u001b[0m\n\u001b[1;32m      8\u001b[0m     \u001b[0mpref_labels\u001b[0m\u001b[0;34m[\u001b[0m\u001b[0mpref_name\u001b[0m\u001b[0;34m]\u001b[0m \u001b[0;34m=\u001b[0m \u001b[0mpref_row\u001b[0m\u001b[0;34m\u001b[0m\u001b[0;34m\u001b[0m\u001b[0m\n",
      "\u001b[0;31mNameError\u001b[0m: name 'rows_label' is not defined"
     ]
    }
   ],
   "source": [
    "# Create a dictionary of prefectures and indices\n",
    "pref_labels = {}\n",
    "num_of_prefs = 48\n",
    "pref_row_init = 9\n",
    "for i in range(num_of_prefs):\n",
    "    pref_name = df_original.iloc[pref_row_init + i * rows_label, 0].strip()\n",
    "    pref_row  = data_row_init + i * rows_data\n",
    "    pref_labels[pref_name] = pref_row"
   ]
  },
  {
   "cell_type": "code",
   "execution_count": 34,
   "id": "9fd4f3cb-f354-4dda-baac-b6f85c8d9b57",
   "metadata": {},
   "outputs": [
    {
     "data": {
      "text/plain": [
       "{}"
      ]
     },
     "execution_count": 34,
     "metadata": {},
     "output_type": "execute_result"
    }
   ],
   "source": [
    "pref_labels"
   ]
  },
  {
   "cell_type": "code",
   "execution_count": 32,
   "id": "dc805ae7-cab4-4b47-9b7e-7a9002427df9",
   "metadata": {},
   "outputs": [],
   "source": [
    "def save_csv(pref_name, csv_pref_name):\n",
    "    pref_id = pref_labels[pref_name]\n",
    "    df_temp = df_dropped.iloc[pref_id: pref_id + rows_data]\n",
    "    csv_title = '../../Data/Downloaded/urban_rural_pop_' + csv_pref_name + '.csv'\n",
    "    df_temp.to_csv(csv_title, index = False)"
   ]
  },
  {
   "cell_type": "code",
   "execution_count": 31,
   "id": "2bd0bebe-900c-4798-9891-983fa0482e34",
   "metadata": {},
   "outputs": [
    {
     "ename": "NameError",
     "evalue": "name 'pref_dict' is not defined",
     "output_type": "error",
     "traceback": [
      "\u001b[0;31m---------------------------------------------------------------------------\u001b[0m",
      "\u001b[0;31mNameError\u001b[0m                                 Traceback (most recent call last)",
      "\u001b[0;32m/var/folders/hb/3db8mbcj4l74ztsvqyx17yd00000gn/T/ipykernel_24621/1232116794.py\u001b[0m in \u001b[0;36m<module>\u001b[0;34m\u001b[0m\n\u001b[0;32m----> 1\u001b[0;31m \u001b[0msave_csv\u001b[0m\u001b[0;34m(\u001b[0m\u001b[0;34m'全国'\u001b[0m\u001b[0;34m,\u001b[0m \u001b[0;34m'total'\u001b[0m\u001b[0;34m)\u001b[0m\u001b[0;34m\u001b[0m\u001b[0;34m\u001b[0m\u001b[0m\n\u001b[0m",
      "\u001b[0;32m/var/folders/hb/3db8mbcj4l74ztsvqyx17yd00000gn/T/ipykernel_24621/2297508503.py\u001b[0m in \u001b[0;36msave_csv\u001b[0;34m(pref_name, csv_pref_name)\u001b[0m\n\u001b[1;32m      1\u001b[0m \u001b[0;32mdef\u001b[0m \u001b[0msave_csv\u001b[0m\u001b[0;34m(\u001b[0m\u001b[0mpref_name\u001b[0m\u001b[0;34m,\u001b[0m \u001b[0mcsv_pref_name\u001b[0m\u001b[0;34m)\u001b[0m\u001b[0;34m:\u001b[0m\u001b[0;34m\u001b[0m\u001b[0;34m\u001b[0m\u001b[0m\n\u001b[0;32m----> 2\u001b[0;31m     \u001b[0mpref_id\u001b[0m \u001b[0;34m=\u001b[0m \u001b[0mpref_dict\u001b[0m\u001b[0;34m[\u001b[0m\u001b[0mpref_name\u001b[0m\u001b[0;34m]\u001b[0m\u001b[0;34m\u001b[0m\u001b[0;34m\u001b[0m\u001b[0m\n\u001b[0m\u001b[1;32m      3\u001b[0m     \u001b[0mdf_temp\u001b[0m \u001b[0;34m=\u001b[0m \u001b[0mdf_dropped\u001b[0m\u001b[0;34m.\u001b[0m\u001b[0miloc\u001b[0m\u001b[0;34m[\u001b[0m\u001b[0mpref_id\u001b[0m\u001b[0;34m:\u001b[0m \u001b[0mpref_id\u001b[0m \u001b[0;34m+\u001b[0m \u001b[0mrows_data\u001b[0m\u001b[0;34m]\u001b[0m\u001b[0;34m\u001b[0m\u001b[0;34m\u001b[0m\u001b[0m\n\u001b[1;32m      4\u001b[0m     \u001b[0mcsv_title\u001b[0m \u001b[0;34m=\u001b[0m \u001b[0;34m'../../Data/Downloaded/urban_rural_pop_'\u001b[0m \u001b[0;34m+\u001b[0m \u001b[0mcsv_pref_name\u001b[0m \u001b[0;34m+\u001b[0m \u001b[0;34m'.csv'\u001b[0m\u001b[0;34m\u001b[0m\u001b[0;34m\u001b[0m\u001b[0m\n\u001b[1;32m      5\u001b[0m     \u001b[0mdf_temp\u001b[0m\u001b[0;34m.\u001b[0m\u001b[0mto_csv\u001b[0m\u001b[0;34m(\u001b[0m\u001b[0mcsv_title\u001b[0m\u001b[0;34m,\u001b[0m \u001b[0mindex\u001b[0m \u001b[0;34m=\u001b[0m \u001b[0;32mFalse\u001b[0m\u001b[0;34m)\u001b[0m\u001b[0;34m\u001b[0m\u001b[0;34m\u001b[0m\u001b[0m\n",
      "\u001b[0;31mNameError\u001b[0m: name 'pref_dict' is not defined"
     ]
    }
   ],
   "source": [
    "save_csv('全国', 'total')"
   ]
  },
  {
   "cell_type": "code",
   "execution_count": 30,
   "id": "95e2e0be-7785-46d8-825f-d52c1b2fa0c9",
   "metadata": {},
   "outputs": [],
   "source": [
    "save_csv('東京都', 'tokyo')\n",
    "save_csv('神奈川県', 'kanagawa')\n",
    "save_csv('埼玉県', 'saitama')\n",
    "save_csv('千葉県', 'chiba')\n",
    "save_csv('愛知県', 'nagoya')\n",
    "save_csv('京都府', 'kyoto')\n",
    "save_csv('大阪府', 'osaka')\n",
    "save_csv('兵庫県', 'hyogo')"
   ]
  },
  {
   "cell_type": "code",
   "execution_count": null,
   "id": "62154148-9b4f-40b8-82eb-3f66d9394b08",
   "metadata": {},
   "outputs": [],
   "source": []
  }
 ],
 "metadata": {
  "kernelspec": {
   "display_name": "Python 3 (ipykernel)",
   "language": "python",
   "name": "python3"
  },
  "language_info": {
   "codemirror_mode": {
    "name": "ipython",
    "version": 3
   },
   "file_extension": ".py",
   "mimetype": "text/x-python",
   "name": "python",
   "nbconvert_exporter": "python",
   "pygments_lexer": "ipython3",
   "version": "3.9.6"
  }
 },
 "nbformat": 4,
 "nbformat_minor": 5
}
