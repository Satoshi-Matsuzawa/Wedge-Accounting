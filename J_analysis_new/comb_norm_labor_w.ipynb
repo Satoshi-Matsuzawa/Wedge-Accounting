{
 "cells": [
  {
   "cell_type": "code",
   "execution_count": 1,
   "id": "driven-projection",
   "metadata": {},
   "outputs": [],
   "source": [
    "import pandas as pd\n",
    "import numpy as np\n",
    "import matplotlib.pyplot as plt"
   ]
  },
  {
   "cell_type": "raw",
   "id": "educated-graduate",
   "metadata": {},
   "source": [
    "import matplotlib as mpl\n",
    "# Use the pgf backend (must be set before pyplot imported)\n",
    "mpl.use('pgf')"
   ]
  },
  {
   "cell_type": "code",
   "execution_count": 4,
   "id": "permanent-brown",
   "metadata": {},
   "outputs": [],
   "source": [
    "df_pre = pd.read_csv('../../Data/Results/pre_labor_w.csv')\n",
    "df_post = pd.read_csv('../../Data/Results/post_labor_w.csv')"
   ]
  },
  {
   "cell_type": "code",
   "execution_count": 5,
   "id": "effective-watershed",
   "metadata": {},
   "outputs": [],
   "source": [
    "df_merged = pd.concat([df_pre, df_post])"
   ]
  },
  {
   "cell_type": "code",
   "execution_count": 6,
   "id": "cross-alcohol",
   "metadata": {},
   "outputs": [
    {
     "data": {
      "text/html": [
       "<div>\n",
       "<style scoped>\n",
       "    .dataframe tbody tr th:only-of-type {\n",
       "        vertical-align: middle;\n",
       "    }\n",
       "\n",
       "    .dataframe tbody tr th {\n",
       "        vertical-align: top;\n",
       "    }\n",
       "\n",
       "    .dataframe thead th {\n",
       "        text-align: right;\n",
       "    }\n",
       "</style>\n",
       "<table border=\"1\" class=\"dataframe\">\n",
       "  <thead>\n",
       "    <tr style=\"text-align: right;\">\n",
       "      <th></th>\n",
       "      <th>year_wst</th>\n",
       "      <th>PM_muM/PA_muA</th>\n",
       "      <th>F_LM</th>\n",
       "      <th>F_LA</th>\n",
       "      <th>F_LM/F_LA</th>\n",
       "      <th>labor_wedge</th>\n",
       "    </tr>\n",
       "  </thead>\n",
       "  <tbody>\n",
       "    <tr>\n",
       "      <th>0</th>\n",
       "      <td>1906</td>\n",
       "      <td>1.855159</td>\n",
       "      <td>0.000176</td>\n",
       "      <td>0.000080</td>\n",
       "      <td>2.195617</td>\n",
       "      <td>4.073219</td>\n",
       "    </tr>\n",
       "    <tr>\n",
       "      <th>1</th>\n",
       "      <td>1907</td>\n",
       "      <td>1.977796</td>\n",
       "      <td>0.000175</td>\n",
       "      <td>0.000085</td>\n",
       "      <td>2.069769</td>\n",
       "      <td>4.093582</td>\n",
       "    </tr>\n",
       "    <tr>\n",
       "      <th>2</th>\n",
       "      <td>1908</td>\n",
       "      <td>2.959963</td>\n",
       "      <td>0.000174</td>\n",
       "      <td>0.000086</td>\n",
       "      <td>2.017207</td>\n",
       "      <td>5.970856</td>\n",
       "    </tr>\n",
       "    <tr>\n",
       "      <th>3</th>\n",
       "      <td>1909</td>\n",
       "      <td>2.615798</td>\n",
       "      <td>0.000170</td>\n",
       "      <td>0.000087</td>\n",
       "      <td>1.964193</td>\n",
       "      <td>5.137932</td>\n",
       "    </tr>\n",
       "    <tr>\n",
       "      <th>4</th>\n",
       "      <td>1910</td>\n",
       "      <td>3.024375</td>\n",
       "      <td>0.000178</td>\n",
       "      <td>0.000082</td>\n",
       "      <td>2.154945</td>\n",
       "      <td>6.517360</td>\n",
       "    </tr>\n",
       "    <tr>\n",
       "      <th>...</th>\n",
       "      <td>...</td>\n",
       "      <td>...</td>\n",
       "      <td>...</td>\n",
       "      <td>...</td>\n",
       "      <td>...</td>\n",
       "      <td>...</td>\n",
       "    </tr>\n",
       "    <tr>\n",
       "      <th>39</th>\n",
       "      <td>1994</td>\n",
       "      <td>1.060868</td>\n",
       "      <td>24.661663</td>\n",
       "      <td>14.984035</td>\n",
       "      <td>1.645863</td>\n",
       "      <td>1.746044</td>\n",
       "    </tr>\n",
       "    <tr>\n",
       "      <th>40</th>\n",
       "      <td>1995</td>\n",
       "      <td>1.044643</td>\n",
       "      <td>25.149376</td>\n",
       "      <td>14.466199</td>\n",
       "      <td>1.738492</td>\n",
       "      <td>1.816103</td>\n",
       "    </tr>\n",
       "    <tr>\n",
       "      <th>41</th>\n",
       "      <td>1996</td>\n",
       "      <td>1.041792</td>\n",
       "      <td>26.109713</td>\n",
       "      <td>15.332177</td>\n",
       "      <td>1.702936</td>\n",
       "      <td>1.774104</td>\n",
       "    </tr>\n",
       "    <tr>\n",
       "      <th>42</th>\n",
       "      <td>1997</td>\n",
       "      <td>1.041758</td>\n",
       "      <td>26.239018</td>\n",
       "      <td>14.964714</td>\n",
       "      <td>1.753392</td>\n",
       "      <td>1.826611</td>\n",
       "    </tr>\n",
       "    <tr>\n",
       "      <th>43</th>\n",
       "      <td>1998</td>\n",
       "      <td>1.044475</td>\n",
       "      <td>25.642911</td>\n",
       "      <td>14.859140</td>\n",
       "      <td>1.725733</td>\n",
       "      <td>1.802485</td>\n",
       "    </tr>\n",
       "  </tbody>\n",
       "</table>\n",
       "<p>79 rows × 6 columns</p>\n",
       "</div>"
      ],
      "text/plain": [
       "    year_wst  PM_muM/PA_muA       F_LM       F_LA  F_LM/F_LA  labor_wedge\n",
       "0       1906       1.855159   0.000176   0.000080   2.195617     4.073219\n",
       "1       1907       1.977796   0.000175   0.000085   2.069769     4.093582\n",
       "2       1908       2.959963   0.000174   0.000086   2.017207     5.970856\n",
       "3       1909       2.615798   0.000170   0.000087   1.964193     5.137932\n",
       "4       1910       3.024375   0.000178   0.000082   2.154945     6.517360\n",
       "..       ...            ...        ...        ...        ...          ...\n",
       "39      1994       1.060868  24.661663  14.984035   1.645863     1.746044\n",
       "40      1995       1.044643  25.149376  14.466199   1.738492     1.816103\n",
       "41      1996       1.041792  26.109713  15.332177   1.702936     1.774104\n",
       "42      1997       1.041758  26.239018  14.964714   1.753392     1.826611\n",
       "43      1998       1.044475  25.642911  14.859140   1.725733     1.802485\n",
       "\n",
       "[79 rows x 6 columns]"
      ]
     },
     "execution_count": 6,
     "metadata": {},
     "output_type": "execute_result"
    }
   ],
   "source": [
    "df_merged"
   ]
  },
  {
   "cell_type": "code",
   "execution_count": 10,
   "id": "finished-issue",
   "metadata": {},
   "outputs": [
    {
     "data": {
      "image/png": "[encoded data removed]",
      "text/plain": [
       "<Figure size 451.364x252 with 1 Axes>"
      ]
     },
     "metadata": {
      "needs_background": "light"
     },
     "output_type": "display_data"
    }
   ],
   "source": [
    "fig, ax = plt.subplots()\n",
    "\n",
    "plt.rc('text', usetex=True)\n",
    "plt.rc('font', family='serif')\n",
    "\n",
    "plt.rc('pgf', texsystem = 'xelatex')\n",
    "df_pre.plot(x = 'year_wst', y = 'labor_wedge', \n",
    "               label = r'Normalized labor wedge $\\biggl(\\frac{1 + \\tau_{W,t}}{1 + \\tau_{C,t}}-1 \\biggr)$', \n",
    "               marker = '.',\n",
    "               linestyle = '--',\n",
    "               color = 'b',\n",
    "               ax = ax)\n",
    "df_post.plot(x = 'year_wst', y = 'labor_wedge',  \n",
    "               marker = '.',\n",
    "               linestyle = '--',\n",
    "               color = 'b',\n",
    "               ax = ax)\n",
    "#ax.set_rasterized(True)\n",
    "ax.legend_.remove()\n",
    "plt.xlabel('year')\n",
    "fig.set_size_inches(w=6.26894, h=3.5)\n",
    "plt.title(r'\\textbf{Labor wedge $\\tau_{W,t}$}')\n",
    "plt.savefig('../../Notes/comb_lab_w.pgf')\n",
    "plt.show()"
   ]
  },
  {
   "cell_type": "code",
   "execution_count": 8,
   "id": "adjusted-keyboard",
   "metadata": {
    "tags": []
   },
   "outputs": [
    {
     "data": {
      "image/png": "[encoded data removed]",
      "text/plain": [
       "<Figure size 451.364x252 with 1 Axes>"
      ]
     },
     "metadata": {
      "needs_background": "light"
     },
     "output_type": "display_data"
    }
   ],
   "source": [
    "fig, ax = plt.subplots()\n",
    "\n",
    "plt.rc('text', usetex=True)\n",
    "plt.rc('font', family='serif')\n",
    "\n",
    "#plt.rc('pgf', texsystem = 'xelatex')\n",
    "df_pre.plot(x = 'year_wst', y = 'F_LM/F_LA', \n",
    "               label = r'Normalized labor wedge $\\biggl(\\frac{1 + \\tau_{W,t}}{1 + \\tau_{C,t}}-1 \\biggr)$', \n",
    "               marker = '.',\n",
    "               linestyle = '--',\n",
    "               color = 'b',\n",
    "               ax = ax)\n",
    "df_post.plot(x = 'year_wst', y = 'F_LM/F_LA',  \n",
    "               marker = '.',\n",
    "               linestyle = '--',\n",
    "               color = 'b',\n",
    "               ax = ax)\n",
    "#ax.set_rasterized(True)\n",
    "ax.legend_.remove()\n",
    "plt.xlabel('year')\n",
    "fig.set_size_inches(w=6.26894, h=3.5)\n",
    "plt.title(r'\\textbf{Labor productivity}')\n",
    "plt.savefig('../../Notes/comb_lab_w.pdf')\n",
    "plt.show()"
   ]
  },
  {
   "cell_type": "code",
   "execution_count": 9,
   "id": "fdc524ef-89de-4eec-bd5c-13821becc22c",
   "metadata": {
    "tags": []
   },
   "outputs": [
    {
     "data": {
      "image/png": "[encoded data removed]",
      "text/plain": [
       "<Figure size 451.364x252 with 1 Axes>"
      ]
     },
     "metadata": {
      "needs_background": "light"
     },
     "output_type": "display_data"
    }
   ],
   "source": [
    "fig, ax = plt.subplots()\n",
    "\n",
    "plt.rc('text', usetex=True)\n",
    "plt.rc('font', family='serif')\n",
    "\n",
    "#plt.rc('pgf', texsystem = 'xelatex')\n",
    "df_pre.plot(x = 'year_wst', y = 'PM_muM/PA_muA', \n",
    "               label = r'Normalized labor wedge $\\biggl(\\frac{1 + \\tau_{W,t}}{1 + \\tau_{C,t}}-1 \\biggr)$', \n",
    "               marker = '.',\n",
    "               linestyle = '--',\n",
    "               color = 'b',\n",
    "               ax = ax)\n",
    "df_post.plot(x = 'year_wst', y = 'PM_muM/PA_muA',  \n",
    "               marker = '.',\n",
    "               linestyle = '--',\n",
    "               color = 'b',\n",
    "               ax = ax)\n",
    "#ax.set_rasterized(True)\n",
    "ax.legend_.remove()\n",
    "plt.xlabel('year')\n",
    "fig.set_size_inches(w=6.26894, h=3.5)\n",
    "plt.title(r'\\textbf{Ratio of utility $\\mu_M/\\mu_A$}')\n",
    "plt.savefig('../../Notes/comb_lab_w.pdf')\n",
    "plt.show()"
   ]
  },
  {
   "cell_type": "code",
   "execution_count": null,
   "id": "tender-newman",
   "metadata": {},
   "outputs": [],
   "source": []
  },
  {
   "cell_type": "code",
   "execution_count": null,
   "id": "da21708d-1865-4a28-a19e-f076321ba048",
   "metadata": {},
   "outputs": [],
   "source": []
  }
 ],
 "metadata": {
  "kernelspec": {
   "display_name": "Python 3 (ipykernel)",
   "language": "python",
   "name": "python3"
  },
  "language_info": {
   "codemirror_mode": {
    "name": "ipython",
    "version": 3
   },
   "file_extension": ".py",
   "mimetype": "text/x-python",
   "name": "python",
   "nbconvert_exporter": "python",
   "pygments_lexer": "ipython3",
   "version": "3.9.6"
  }
 },
 "nbformat": 4,
 "nbformat_minor": 5
}
