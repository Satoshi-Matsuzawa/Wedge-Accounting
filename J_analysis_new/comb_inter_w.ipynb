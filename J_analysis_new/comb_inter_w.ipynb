{
 "cells": [
  {
   "cell_type": "code",
   "execution_count": 1,
   "id": "separate-escape",
   "metadata": {},
   "outputs": [],
   "source": [
    "import pandas as pd\n",
    "import numpy as np\n",
    "import matplotlib.pyplot as plt"
   ]
  },
  {
   "cell_type": "raw",
   "id": "exempt-binary",
   "metadata": {},
   "source": [
    "import matplotlib as mpl\n",
    "# Use the pgf backend (must be set before pyplot imported)\n",
    "mpl.use('pgf')"
   ]
  },
  {
   "cell_type": "code",
   "execution_count": 2,
   "id": "valued-morocco",
   "metadata": {},
   "outputs": [],
   "source": [
    "df_pre = pd.read_csv('../../Data/Results/pre_intertemporal_w.csv')\n",
    "df_post = pd.read_csv('../../Data/Results/post_intertemporal_w.csv')"
   ]
  },
  {
   "cell_type": "code",
   "execution_count": 3,
   "id": "protecting-cambodia",
   "metadata": {},
   "outputs": [],
   "source": [
    "df_merged = pd.concat([df_pre, df_post])"
   ]
  },
  {
   "cell_type": "code",
   "execution_count": 4,
   "id": "realistic-legislature",
   "metadata": {},
   "outputs": [
    {
     "data": {
      "text/html": [
       "<div>\n",
       "<style scoped>\n",
       "    .dataframe tbody tr th:only-of-type {\n",
       "        vertical-align: middle;\n",
       "    }\n",
       "\n",
       "    .dataframe tbody tr th {\n",
       "        vertical-align: top;\n",
       "    }\n",
       "\n",
       "    .dataframe thead th {\n",
       "        text-align: right;\n",
       "    }\n",
       "</style>\n",
       "<table border=\"1\" class=\"dataframe\">\n",
       "  <thead>\n",
       "    <tr style=\"text-align: right;\">\n",
       "      <th></th>\n",
       "      <th>year_wst</th>\n",
       "      <th>cMt/cMt+1</th>\n",
       "      <th>F_KM</th>\n",
       "      <th>F_KA</th>\n",
       "      <th>F_KM/F_KA</th>\n",
       "      <th>roi</th>\n",
       "      <th>intertemporal_wedge</th>\n",
       "    </tr>\n",
       "  </thead>\n",
       "  <tbody>\n",
       "    <tr>\n",
       "      <th>0</th>\n",
       "      <td>1885</td>\n",
       "      <td>0.882379</td>\n",
       "      <td>0.626124</td>\n",
       "      <td>0.043979</td>\n",
       "      <td>14.236783</td>\n",
       "      <td>0.970464</td>\n",
       "      <td>0.822064</td>\n",
       "    </tr>\n",
       "    <tr>\n",
       "      <th>1</th>\n",
       "      <td>1886</td>\n",
       "      <td>0.976291</td>\n",
       "      <td>0.590717</td>\n",
       "      <td>0.048269</td>\n",
       "      <td>12.238128</td>\n",
       "      <td>0.970222</td>\n",
       "      <td>0.909331</td>\n",
       "    </tr>\n",
       "    <tr>\n",
       "      <th>2</th>\n",
       "      <td>1887</td>\n",
       "      <td>0.975657</td>\n",
       "      <td>0.595556</td>\n",
       "      <td>0.049926</td>\n",
       "      <td>11.928660</td>\n",
       "      <td>0.973154</td>\n",
       "      <td>0.911486</td>\n",
       "    </tr>\n",
       "    <tr>\n",
       "      <th>3</th>\n",
       "      <td>1888</td>\n",
       "      <td>0.877411</td>\n",
       "      <td>0.536929</td>\n",
       "      <td>0.048258</td>\n",
       "      <td>11.126331</td>\n",
       "      <td>0.970245</td>\n",
       "      <td>0.817251</td>\n",
       "    </tr>\n",
       "    <tr>\n",
       "      <th>4</th>\n",
       "      <td>1889</td>\n",
       "      <td>0.939864</td>\n",
       "      <td>0.595104</td>\n",
       "      <td>0.044040</td>\n",
       "      <td>13.512742</td>\n",
       "      <td>0.970198</td>\n",
       "      <td>0.875380</td>\n",
       "    </tr>\n",
       "    <tr>\n",
       "      <th>...</th>\n",
       "      <td>...</td>\n",
       "      <td>...</td>\n",
       "      <td>...</td>\n",
       "      <td>...</td>\n",
       "      <td>...</td>\n",
       "      <td>...</td>\n",
       "      <td>...</td>\n",
       "    </tr>\n",
       "    <tr>\n",
       "      <th>39</th>\n",
       "      <td>1994</td>\n",
       "      <td>0.984265</td>\n",
       "      <td>0.359623</td>\n",
       "      <td>0.016103</td>\n",
       "      <td>22.333285</td>\n",
       "      <td>0.982321</td>\n",
       "      <td>0.928189</td>\n",
       "    </tr>\n",
       "    <tr>\n",
       "      <th>40</th>\n",
       "      <td>1995</td>\n",
       "      <td>0.964416</td>\n",
       "      <td>0.353584</td>\n",
       "      <td>0.014920</td>\n",
       "      <td>23.698094</td>\n",
       "      <td>0.982273</td>\n",
       "      <td>0.909427</td>\n",
       "    </tr>\n",
       "    <tr>\n",
       "      <th>41</th>\n",
       "      <td>1996</td>\n",
       "      <td>1.013699</td>\n",
       "      <td>0.354542</td>\n",
       "      <td>0.014976</td>\n",
       "      <td>23.673538</td>\n",
       "      <td>0.982835</td>\n",
       "      <td>0.956447</td>\n",
       "    </tr>\n",
       "    <tr>\n",
       "      <th>42</th>\n",
       "      <td>1997</td>\n",
       "      <td>1.012297</td>\n",
       "      <td>0.343300</td>\n",
       "      <td>0.014049</td>\n",
       "      <td>24.435766</td>\n",
       "      <td>0.984158</td>\n",
       "      <td>0.956410</td>\n",
       "    </tr>\n",
       "    <tr>\n",
       "      <th>43</th>\n",
       "      <td>1998</td>\n",
       "      <td>1.006425</td>\n",
       "      <td>0.316838</td>\n",
       "      <td>0.013459</td>\n",
       "      <td>23.541388</td>\n",
       "      <td>NaN</td>\n",
       "      <td>NaN</td>\n",
       "    </tr>\n",
       "  </tbody>\n",
       "</table>\n",
       "<p>97 rows × 7 columns</p>\n",
       "</div>"
      ],
      "text/plain": [
       "    year_wst  cMt/cMt+1      F_KM      F_KA  F_KM/F_KA       roi  \\\n",
       "0       1885   0.882379  0.626124  0.043979  14.236783  0.970464   \n",
       "1       1886   0.976291  0.590717  0.048269  12.238128  0.970222   \n",
       "2       1887   0.975657  0.595556  0.049926  11.928660  0.973154   \n",
       "3       1888   0.877411  0.536929  0.048258  11.126331  0.970245   \n",
       "4       1889   0.939864  0.595104  0.044040  13.512742  0.970198   \n",
       "..       ...        ...       ...       ...        ...       ...   \n",
       "39      1994   0.984265  0.359623  0.016103  22.333285  0.982321   \n",
       "40      1995   0.964416  0.353584  0.014920  23.698094  0.982273   \n",
       "41      1996   1.013699  0.354542  0.014976  23.673538  0.982835   \n",
       "42      1997   1.012297  0.343300  0.014049  24.435766  0.984158   \n",
       "43      1998   1.006425  0.316838  0.013459  23.541388       NaN   \n",
       "\n",
       "    intertemporal_wedge  \n",
       "0              0.822064  \n",
       "1              0.909331  \n",
       "2              0.911486  \n",
       "3              0.817251  \n",
       "4              0.875380  \n",
       "..                  ...  \n",
       "39             0.928189  \n",
       "40             0.909427  \n",
       "41             0.956447  \n",
       "42             0.956410  \n",
       "43                  NaN  \n",
       "\n",
       "[97 rows x 7 columns]"
      ]
     },
     "execution_count": 4,
     "metadata": {},
     "output_type": "execute_result"
    }
   ],
   "source": [
    "df_merged"
   ]
  },
  {
   "cell_type": "code",
   "execution_count": 6,
   "id": "promising-adapter",
   "metadata": {},
   "outputs": [
    {
     "data": {
      "image/png": "[encoded data removed]",
      "text/plain": [
       "<Figure size 451.364x252 with 1 Axes>"
      ]
     },
     "metadata": {
      "needs_background": "light"
     },
     "output_type": "display_data"
    }
   ],
   "source": [
    "fig, ax = plt.subplots()\n",
    "\n",
    "plt.rc('text', usetex=True)\n",
    "plt.rc('font', family='serif')\n",
    "\n",
    "plt.rc('pgf', texsystem = 'pdflatex')\n",
    "df_pre.plot(x = 'year_wst', y = 'intertemporal_wedge', \n",
    "#               label = r'Normalized cap wedge $\\biggl(\\frac{1 + \\tau_{R,t}}{1 + \\tau_{C,t}}-1 \\biggr)$', \n",
    "               marker = '.',\n",
    "               linestyle = '--',\n",
    "               color = 'b',\n",
    "               ax = ax)\n",
    "df_post.plot(x = 'year_wst', y = 'intertemporal_wedge',  \n",
    "               marker = '.',\n",
    "               linestyle = '--',\n",
    "               color = 'b',\n",
    "               ax = ax)\n",
    "#ax.set_rasterized(True)\n",
    "ax.legend_.remove()\n",
    "plt.xlabel('year')\n",
    "fig.set_size_inches(w=6.26894, h=3.5)\n",
    "plt.title(r'\\textbf{Intertemporal wedge $\\tau_{K,t+1}$}')\n",
    "plt.savefig('../../Notes/comb_int_w.pgf')\n",
    "plt.show()"
   ]
  },
  {
   "cell_type": "code",
   "execution_count": 7,
   "id": "saved-tactics",
   "metadata": {},
   "outputs": [
    {
     "data": {
      "image/png": "[encoded data removed]",
      "text/plain": [
       "<Figure size 451.364x252 with 1 Axes>"
      ]
     },
     "metadata": {
      "needs_background": "light"
     },
     "output_type": "display_data"
    }
   ],
   "source": [
    "fig, ax = plt.subplots()\n",
    "\n",
    "plt.rc('text', usetex=True)\n",
    "plt.rc('font', family='serif')\n",
    "\n",
    "#plt.rc('pgf', texsystem = 'pdflatex')\n",
    "df_pre.plot(x = 'year_wst', y = 'intertemporal_wedge', \n",
    "#               label = r'Normalized cap wedge $\\biggl(\\frac{1 + \\tau_{R,t}}{1 + \\tau_{C,t}}-1 \\biggr)$', \n",
    "               marker = '.',\n",
    "               linestyle = '--',\n",
    "               color = 'b',\n",
    "               ax = ax)\n",
    "df_post.plot(x = 'year_wst', y = 'intertemporal_wedge',  \n",
    "               marker = '.',\n",
    "               linestyle = '--',\n",
    "               color = 'b',\n",
    "               ax = ax)\n",
    "#ax.set_rasterized(True)\n",
    "ax.legend_.remove()\n",
    "plt.xlabel('year')\n",
    "fig.set_size_inches(w=6.26894, h=3.5)\n",
    "plt.title(r'\\textbf{Intertemporal wedge $\\tau_{K,t+1}$}')\n",
    "plt.savefig('../../Notes/comb_int_w.pdf')\n",
    "plt.show()"
   ]
  },
  {
   "cell_type": "code",
   "execution_count": null,
   "id": "hourly-newspaper",
   "metadata": {},
   "outputs": [],
   "source": []
  }
 ],
 "metadata": {
  "kernelspec": {
   "display_name": "Python 3 (ipykernel)",
   "language": "python",
   "name": "python3"
  },
  "language_info": {
   "codemirror_mode": {
    "name": "ipython",
    "version": 3
   },
   "file_extension": ".py",
   "mimetype": "text/x-python",
   "name": "python",
   "nbconvert_exporter": "python",
   "pygments_lexer": "ipython3",
   "version": "3.9.6"
  }
 },
 "nbformat": 4,
 "nbformat_minor": 5
}
