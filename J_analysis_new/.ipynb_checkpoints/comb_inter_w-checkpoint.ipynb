{
 "cells": [
  {
   "cell_type": "code",
   "execution_count": 1,
   "id": "separate-escape",
   "metadata": {},
   "outputs": [],
   "source": [
    "import pandas as pd\n",
    "import numpy as np\n",
    "import matplotlib.pyplot as plt"
   ]
  },
  {
   "cell_type": "raw",
   "id": "exempt-binary",
   "metadata": {},
   "source": [
    "import matplotlib as mpl\n",
    "# Use the pgf backend (must be set before pyplot imported)\n",
    "mpl.use('pgf')"
   ]
  },
  {
   "cell_type": "code",
   "execution_count": 2,
   "id": "valued-morocco",
   "metadata": {},
   "outputs": [],
   "source": [
    "df_pre = pd.read_csv('../../Data/Results/pre_inter_w.csv')\n",
    "df_post = pd.read_csv('../../Data/Results/post_inter_w.csv')"
   ]
  },
  {
   "cell_type": "code",
   "execution_count": 3,
   "id": "protecting-cambodia",
   "metadata": {},
   "outputs": [],
   "source": [
    "df_merged = pd.concat([df_pre, df_post])"
   ]
  },
  {
   "cell_type": "code",
   "execution_count": 4,
   "id": "realistic-legislature",
   "metadata": {},
   "outputs": [
    {
     "data": {
      "text/html": [
       "<div>\n",
       "<style scoped>\n",
       "    .dataframe tbody tr th:only-of-type {\n",
       "        vertical-align: middle;\n",
       "    }\n",
       "\n",
       "    .dataframe tbody tr th {\n",
       "        vertical-align: top;\n",
       "    }\n",
       "\n",
       "    .dataframe thead th {\n",
       "        text-align: right;\n",
       "    }\n",
       "</style>\n",
       "<table border=\"1\" class=\"dataframe\">\n",
       "  <thead>\n",
       "    <tr style=\"text-align: right;\">\n",
       "      <th></th>\n",
       "      <th>year_wst</th>\n",
       "      <th>real_roc</th>\n",
       "      <th>c_M_t/c_M_t+1</th>\n",
       "      <th>intertemporal_wedge</th>\n",
       "      <th>intertemporal_wedge-1</th>\n",
       "    </tr>\n",
       "  </thead>\n",
       "  <tbody>\n",
       "    <tr>\n",
       "      <th>0</th>\n",
       "      <td>1885</td>\n",
       "      <td>1.726698</td>\n",
       "      <td>0.979528</td>\n",
       "      <td>1.623695</td>\n",
       "      <td>0.623695</td>\n",
       "    </tr>\n",
       "    <tr>\n",
       "      <th>1</th>\n",
       "      <td>1886</td>\n",
       "      <td>1.742737</td>\n",
       "      <td>0.887953</td>\n",
       "      <td>1.485570</td>\n",
       "      <td>0.485570</td>\n",
       "    </tr>\n",
       "    <tr>\n",
       "      <th>2</th>\n",
       "      <td>1887</td>\n",
       "      <td>1.660400</td>\n",
       "      <td>0.967499</td>\n",
       "      <td>1.542178</td>\n",
       "      <td>0.542178</td>\n",
       "    </tr>\n",
       "    <tr>\n",
       "      <th>3</th>\n",
       "      <td>1888</td>\n",
       "      <td>1.739618</td>\n",
       "      <td>0.905688</td>\n",
       "      <td>1.512530</td>\n",
       "      <td>0.512530</td>\n",
       "    </tr>\n",
       "    <tr>\n",
       "      <th>4</th>\n",
       "      <td>1889</td>\n",
       "      <td>1.740817</td>\n",
       "      <td>1.029664</td>\n",
       "      <td>1.720759</td>\n",
       "      <td>0.720759</td>\n",
       "    </tr>\n",
       "    <tr>\n",
       "      <th>...</th>\n",
       "      <td>...</td>\n",
       "      <td>...</td>\n",
       "      <td>...</td>\n",
       "      <td>...</td>\n",
       "      <td>...</td>\n",
       "    </tr>\n",
       "    <tr>\n",
       "      <th>38</th>\n",
       "      <td>1993</td>\n",
       "      <td>1.287641</td>\n",
       "      <td>0.995080</td>\n",
       "      <td>1.230054</td>\n",
       "      <td>0.230054</td>\n",
       "    </tr>\n",
       "    <tr>\n",
       "      <th>39</th>\n",
       "      <td>1994</td>\n",
       "      <td>1.281717</td>\n",
       "      <td>0.981687</td>\n",
       "      <td>1.207915</td>\n",
       "      <td>0.207915</td>\n",
       "    </tr>\n",
       "    <tr>\n",
       "      <th>40</th>\n",
       "      <td>1995</td>\n",
       "      <td>1.282599</td>\n",
       "      <td>0.959924</td>\n",
       "      <td>1.181949</td>\n",
       "      <td>0.181949</td>\n",
       "    </tr>\n",
       "    <tr>\n",
       "      <th>41</th>\n",
       "      <td>1996</td>\n",
       "      <td>1.271776</td>\n",
       "      <td>0.978711</td>\n",
       "      <td>1.194912</td>\n",
       "      <td>0.194912</td>\n",
       "    </tr>\n",
       "    <tr>\n",
       "      <th>42</th>\n",
       "      <td>1997</td>\n",
       "      <td>NaN</td>\n",
       "      <td>1.015635</td>\n",
       "      <td>NaN</td>\n",
       "      <td>NaN</td>\n",
       "    </tr>\n",
       "  </tbody>\n",
       "</table>\n",
       "<p>96 rows × 5 columns</p>\n",
       "</div>"
      ],
      "text/plain": [
       "    year_wst  real_roc  c_M_t/c_M_t+1  intertemporal_wedge  \\\n",
       "0       1885  1.726698       0.979528             1.623695   \n",
       "1       1886  1.742737       0.887953             1.485570   \n",
       "2       1887  1.660400       0.967499             1.542178   \n",
       "3       1888  1.739618       0.905688             1.512530   \n",
       "4       1889  1.740817       1.029664             1.720759   \n",
       "..       ...       ...            ...                  ...   \n",
       "38      1993  1.287641       0.995080             1.230054   \n",
       "39      1994  1.281717       0.981687             1.207915   \n",
       "40      1995  1.282599       0.959924             1.181949   \n",
       "41      1996  1.271776       0.978711             1.194912   \n",
       "42      1997       NaN       1.015635                  NaN   \n",
       "\n",
       "    intertemporal_wedge-1  \n",
       "0                0.623695  \n",
       "1                0.485570  \n",
       "2                0.542178  \n",
       "3                0.512530  \n",
       "4                0.720759  \n",
       "..                    ...  \n",
       "38               0.230054  \n",
       "39               0.207915  \n",
       "40               0.181949  \n",
       "41               0.194912  \n",
       "42                    NaN  \n",
       "\n",
       "[96 rows x 5 columns]"
      ]
     },
     "execution_count": 4,
     "metadata": {},
     "output_type": "execute_result"
    }
   ],
   "source": [
    "df_merged"
   ]
  },
  {
   "cell_type": "code",
   "execution_count": 5,
   "id": "promising-adapter",
   "metadata": {},
   "outputs": [
    {
     "data": {
      "image/png": "[encoded data removed]",
      "text/plain": [
       "<Figure size 451.364x252 with 1 Axes>"
      ]
     },
     "metadata": {
      "needs_background": "light"
     },
     "output_type": "display_data"
    }
   ],
   "source": [
    "fig, ax = plt.subplots()\n",
    "\n",
    "plt.rc('text', usetex=True)\n",
    "plt.rc('font', family='serif')\n",
    "\n",
    "plt.rc('pgf', texsystem = 'pdflatex')\n",
    "df_pre.plot(x = 'year_wst', y = 'intertemporal_wedge-1', \n",
    "#               label = r'Normalized cap wedge $\\biggl(\\frac{1 + \\tau_{R,t}}{1 + \\tau_{C,t}}-1 \\biggr)$', \n",
    "               marker = '.',\n",
    "               linestyle = '--',\n",
    "               color = 'b',\n",
    "               ax = ax)\n",
    "df_post.plot(x = 'year_wst', y = 'intertemporal_wedge-1',  \n",
    "               marker = '.',\n",
    "               linestyle = '--',\n",
    "               color = 'b',\n",
    "               ax = ax)\n",
    "#ax.set_rasterized(True)\n",
    "ax.legend_.remove()\n",
    "plt.xlabel('year')\n",
    "fig.set_size_inches(w=6.26894, h=3.5)\n",
    "plt.title(r'\\textbf{Intertemporal wedge $\\tau_{K,t+1}$}')\n",
    "plt.savefig('../../Notes/comb_int_w.pgf')\n",
    "plt.show()"
   ]
  },
  {
   "cell_type": "code",
   "execution_count": 6,
   "id": "saved-tactics",
   "metadata": {},
   "outputs": [
    {
     "data": {
      "image/png": "[encoded data removed]",
      "text/plain": [
       "<Figure size 451.364x252 with 1 Axes>"
      ]
     },
     "metadata": {
      "needs_background": "light"
     },
     "output_type": "display_data"
    }
   ],
   "source": [
    "fig, ax = plt.subplots()\n",
    "\n",
    "plt.rc('text', usetex=True)\n",
    "plt.rc('font', family='serif')\n",
    "\n",
    "#plt.rc('pgf', texsystem = 'pdflatex')\n",
    "df_pre.plot(x = 'year_wst', y = 'intertemporal_wedge-1', \n",
    "#               label = r'Normalized cap wedge $\\biggl(\\frac{1 + \\tau_{R,t}}{1 + \\tau_{C,t}}-1 \\biggr)$', \n",
    "               marker = '.',\n",
    "               linestyle = '--',\n",
    "               color = 'b',\n",
    "               ax = ax)\n",
    "df_post.plot(x = 'year_wst', y = 'intertemporal_wedge-1',  \n",
    "               marker = '.',\n",
    "               linestyle = '--',\n",
    "               color = 'b',\n",
    "               ax = ax)\n",
    "#ax.set_rasterized(True)\n",
    "ax.legend_.remove()\n",
    "plt.xlabel('year')\n",
    "fig.set_size_inches(w=6.26894, h=3.5)\n",
    "plt.title(r'\\textbf{Intertemporal wedge $\\tau_{K,t+1}$}')\n",
    "plt.savefig('../../Notes/comb_int_w.pdf')\n",
    "plt.show()"
   ]
  },
  {
   "cell_type": "code",
   "execution_count": null,
   "id": "hourly-newspaper",
   "metadata": {},
   "outputs": [],
   "source": []
  }
 ],
 "metadata": {
  "kernelspec": {
   "display_name": "Python 3",
   "language": "python",
   "name": "python3"
  },
  "language_info": {
   "codemirror_mode": {
    "name": "ipython",
    "version": 3
   },
   "file_extension": ".py",
   "mimetype": "text/x-python",
   "name": "python",
   "nbconvert_exporter": "python",
   "pygments_lexer": "ipython3",
   "version": "3.9.5"
  }
 },
 "nbformat": 4,
 "nbformat_minor": 5
}
