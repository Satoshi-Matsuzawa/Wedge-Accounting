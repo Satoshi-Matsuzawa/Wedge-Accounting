{
 "cells": [
  {
   "cell_type": "code",
   "execution_count": 8,
   "id": "differential-victorian",
   "metadata": {},
   "outputs": [],
   "source": [
    "import pandas as pd\n",
    "import numpy as np\n",
    "import matplotlib.pyplot as plt"
   ]
  },
  {
   "cell_type": "raw",
   "id": "collected-reader",
   "metadata": {},
   "source": [
    "import matplotlib as mpl\n",
    "# Use the pgf backend (must be set before pyplot imported)\n",
    "mpl.use('pgf')"
   ]
  },
  {
   "cell_type": "code",
   "execution_count": 9,
   "id": "floating-business",
   "metadata": {},
   "outputs": [],
   "source": [
    "df_pre = pd.read_csv('../../Data/Results/pre_cap_w.csv')\n",
    "df_post = pd.read_csv('../../Data/Results/post_cap_w.csv')"
   ]
  },
  {
   "cell_type": "code",
   "execution_count": 10,
   "id": "endless-procurement",
   "metadata": {},
   "outputs": [],
   "source": [
    "df_merged = pd.concat([df_pre, df_post])"
   ]
  },
  {
   "cell_type": "code",
   "execution_count": 11,
   "id": "subject-bradley",
   "metadata": {},
   "outputs": [
    {
     "data": {
      "text/html": [
       "<div>\n",
       "<style scoped>\n",
       "    .dataframe tbody tr th:only-of-type {\n",
       "        vertical-align: middle;\n",
       "    }\n",
       "\n",
       "    .dataframe tbody tr th {\n",
       "        vertical-align: top;\n",
       "    }\n",
       "\n",
       "    .dataframe thead th {\n",
       "        text-align: right;\n",
       "    }\n",
       "</style>\n",
       "<table border=\"1\" class=\"dataframe\">\n",
       "  <thead>\n",
       "    <tr style=\"text-align: right;\">\n",
       "      <th></th>\n",
       "      <th>year_wst</th>\n",
       "      <th>PM_muM/PA_muA</th>\n",
       "      <th>F_KM</th>\n",
       "      <th>F_KA</th>\n",
       "      <th>F_KM/F_KA</th>\n",
       "      <th>cap_wedge</th>\n",
       "    </tr>\n",
       "  </thead>\n",
       "  <tbody>\n",
       "    <tr>\n",
       "      <th>0</th>\n",
       "      <td>1885</td>\n",
       "      <td>1.432480</td>\n",
       "      <td>0.626124</td>\n",
       "      <td>0.043979</td>\n",
       "      <td>14.236783</td>\n",
       "      <td>20.393903</td>\n",
       "    </tr>\n",
       "    <tr>\n",
       "      <th>1</th>\n",
       "      <td>1886</td>\n",
       "      <td>2.098833</td>\n",
       "      <td>0.590717</td>\n",
       "      <td>0.048269</td>\n",
       "      <td>12.238128</td>\n",
       "      <td>25.685786</td>\n",
       "    </tr>\n",
       "    <tr>\n",
       "      <th>2</th>\n",
       "      <td>1887</td>\n",
       "      <td>2.422082</td>\n",
       "      <td>0.595556</td>\n",
       "      <td>0.049926</td>\n",
       "      <td>11.928660</td>\n",
       "      <td>28.892195</td>\n",
       "    </tr>\n",
       "    <tr>\n",
       "      <th>3</th>\n",
       "      <td>1888</td>\n",
       "      <td>2.292789</td>\n",
       "      <td>0.536929</td>\n",
       "      <td>0.048258</td>\n",
       "      <td>11.126331</td>\n",
       "      <td>25.510329</td>\n",
       "    </tr>\n",
       "    <tr>\n",
       "      <th>4</th>\n",
       "      <td>1889</td>\n",
       "      <td>2.380315</td>\n",
       "      <td>0.595104</td>\n",
       "      <td>0.044040</td>\n",
       "      <td>13.512742</td>\n",
       "      <td>32.164582</td>\n",
       "    </tr>\n",
       "    <tr>\n",
       "      <th>...</th>\n",
       "      <td>...</td>\n",
       "      <td>...</td>\n",
       "      <td>...</td>\n",
       "      <td>...</td>\n",
       "      <td>...</td>\n",
       "      <td>...</td>\n",
       "    </tr>\n",
       "    <tr>\n",
       "      <th>39</th>\n",
       "      <td>1994</td>\n",
       "      <td>1.060868</td>\n",
       "      <td>0.359623</td>\n",
       "      <td>0.016103</td>\n",
       "      <td>22.333285</td>\n",
       "      <td>23.692676</td>\n",
       "    </tr>\n",
       "    <tr>\n",
       "      <th>40</th>\n",
       "      <td>1995</td>\n",
       "      <td>1.044643</td>\n",
       "      <td>0.353584</td>\n",
       "      <td>0.014920</td>\n",
       "      <td>23.698094</td>\n",
       "      <td>24.756038</td>\n",
       "    </tr>\n",
       "    <tr>\n",
       "      <th>41</th>\n",
       "      <td>1996</td>\n",
       "      <td>1.041792</td>\n",
       "      <td>0.354542</td>\n",
       "      <td>0.014976</td>\n",
       "      <td>23.673538</td>\n",
       "      <td>24.662891</td>\n",
       "    </tr>\n",
       "    <tr>\n",
       "      <th>42</th>\n",
       "      <td>1997</td>\n",
       "      <td>1.041758</td>\n",
       "      <td>0.343300</td>\n",
       "      <td>0.014049</td>\n",
       "      <td>24.435766</td>\n",
       "      <td>25.456163</td>\n",
       "    </tr>\n",
       "    <tr>\n",
       "      <th>43</th>\n",
       "      <td>1998</td>\n",
       "      <td>1.044475</td>\n",
       "      <td>0.316838</td>\n",
       "      <td>0.013459</td>\n",
       "      <td>23.541388</td>\n",
       "      <td>24.588392</td>\n",
       "    </tr>\n",
       "  </tbody>\n",
       "</table>\n",
       "<p>97 rows × 6 columns</p>\n",
       "</div>"
      ],
      "text/plain": [
       "    year_wst  PM_muM/PA_muA      F_KM      F_KA  F_KM/F_KA  cap_wedge\n",
       "0       1885       1.432480  0.626124  0.043979  14.236783  20.393903\n",
       "1       1886       2.098833  0.590717  0.048269  12.238128  25.685786\n",
       "2       1887       2.422082  0.595556  0.049926  11.928660  28.892195\n",
       "3       1888       2.292789  0.536929  0.048258  11.126331  25.510329\n",
       "4       1889       2.380315  0.595104  0.044040  13.512742  32.164582\n",
       "..       ...            ...       ...       ...        ...        ...\n",
       "39      1994       1.060868  0.359623  0.016103  22.333285  23.692676\n",
       "40      1995       1.044643  0.353584  0.014920  23.698094  24.756038\n",
       "41      1996       1.041792  0.354542  0.014976  23.673538  24.662891\n",
       "42      1997       1.041758  0.343300  0.014049  24.435766  25.456163\n",
       "43      1998       1.044475  0.316838  0.013459  23.541388  24.588392\n",
       "\n",
       "[97 rows x 6 columns]"
      ]
     },
     "execution_count": 11,
     "metadata": {},
     "output_type": "execute_result"
    }
   ],
   "source": [
    "df_merged"
   ]
  },
  {
   "cell_type": "code",
   "execution_count": 17,
   "id": "further-calcium",
   "metadata": {},
   "outputs": [
    {
     "data": {
      "image/png": "[encoded data removed]",
      "text/plain": [
       "<Figure size 451.364x252 with 1 Axes>"
      ]
     },
     "metadata": {
      "needs_background": "light"
     },
     "output_type": "display_data"
    }
   ],
   "source": [
    "fig, ax = plt.subplots()\n",
    "\n",
    "plt.rc('text', usetex=True)\n",
    "plt.rc('font', family='serif')\n",
    "\n",
    "plt.rc('pgf', texsystem = 'xelatex')\n",
    "df_pre.plot(x = 'year_wst', y = 'cap_wedge', \n",
    "#               label = r'Normalized cap wedge $\\biggl(\\frac{1 + \\tau_{R,t}}{1 + \\tau_{C,t}}-1 \\biggr)$', \n",
    "               marker = '.',\n",
    "               linestyle = '--',\n",
    "               color = 'b',\n",
    "               ax = ax)\n",
    "df_post.plot(x = 'year_wst', y = 'cap_wedge',  \n",
    "               marker = '.',\n",
    "               linestyle = '--',\n",
    "               color = 'b',\n",
    "               ax = ax)\n",
    "#ax.set_rasterized(True)\n",
    "ax.legend_.remove()\n",
    "plt.xlabel('year')\n",
    "fig.set_size_inches(w=6.26894, h=3.5)\n",
    "plt.title(r'\\textbf{Capital wedge $\\tau_{R,t}$}')\n",
    "plt.savefig('../../Notes/comb_cap_w.pgf')\n",
    "plt.show()"
   ]
  },
  {
   "cell_type": "code",
   "execution_count": 16,
   "id": "breeding-hawaiian",
   "metadata": {},
   "outputs": [
    {
     "data": {
      "image/png": "[encoded data removed]",
      "text/plain": [
       "<Figure size 451.364x252 with 1 Axes>"
      ]
     },
     "metadata": {
      "needs_background": "light"
     },
     "output_type": "display_data"
    }
   ],
   "source": [
    "fig, ax = plt.subplots()\n",
    "\n",
    "plt.rc('text', usetex=True)\n",
    "plt.rc('font', family='serif')\n",
    "\n",
    "#plt.rc('pgf', texsystem = 'xelatex')\n",
    "df_pre.plot(x = 'year_wst', y = 'F_KM/F_KA', \n",
    "#               label = r'Normalized cap wedge $\\biggl(\\frac{1 + \\tau_{R,t}}{1 + \\tau_{C,t}}-1 \\biggr)$', \n",
    "               marker = '.',\n",
    "               linestyle = '--',\n",
    "               color = 'b',\n",
    "               ax = ax)\n",
    "df_post.plot(x = 'year_wst', y = 'F_KM/F_KA',  \n",
    "               marker = '.',\n",
    "               linestyle = '--',\n",
    "               color = 'b',\n",
    "               ax = ax)\n",
    "#ax.set_rasterized(True)\n",
    "ax.legend_.remove()\n",
    "plt.xlabel('year')\n",
    "fig.set_size_inches(w=6.26894, h=3.5)\n",
    "#plt.title(r'\\textbf{Normalized cap wedge $\\frac{1 + \\tau_{R,t}}{1 + \\tau_{C,t}}-1$}')\n",
    "plt.title(r'\\textbf{Productivity ratio}')\n",
    "plt.savefig('../../Notes/comb_cap_w.pdf')\n",
    "plt.show()"
   ]
  },
  {
   "cell_type": "code",
   "execution_count": null,
   "id": "indirect-snowboard",
   "metadata": {},
   "outputs": [],
   "source": []
  }
 ],
 "metadata": {
  "kernelspec": {
   "display_name": "Python 3 (ipykernel)",
   "language": "python",
   "name": "python3"
  },
  "language_info": {
   "codemirror_mode": {
    "name": "ipython",
    "version": 3
   },
   "file_extension": ".py",
   "mimetype": "text/x-python",
   "name": "python",
   "nbconvert_exporter": "python",
   "pygments_lexer": "ipython3",
   "version": "3.9.6"
  }
 },
 "nbformat": 4,
 "nbformat_minor": 5
}
