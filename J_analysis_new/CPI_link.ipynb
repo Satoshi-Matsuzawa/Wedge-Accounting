{
 "cells": [
  {
   "cell_type": "code",
   "execution_count": 1,
   "id": "4918d74a-7c93-42e5-b9ca-4e7b7817b437",
   "metadata": {},
   "outputs": [],
   "source": [
    "import pandas as pd\n",
    "import numpy as np\n",
    "import matplotlib.pyplot as plt"
   ]
  },
  {
   "cell_type": "code",
   "execution_count": 2,
   "id": "8c1cdcc3-6013-4551-96aa-2db1dfcfef5e",
   "metadata": {},
   "outputs": [],
   "source": [
    "# read csv files\n",
    "df_post_CPI = pd.read_csv('../../Data/Downloads/Post/post_CPI_alt.csv')\n",
    "df_CPI_link = pd.read_csv('../../Data/Downloads/Pre/pre_CPI_link.csv')\n",
    "df_post_exp = pd.read_csv('../../Data/Downloads/Post/post_exp.csv')"
   ]
  },
  {
   "cell_type": "code",
   "execution_count": 4,
   "id": "b4026ea7-f6d2-4577-8f62-d8620acda434",
   "metadata": {},
   "outputs": [],
   "source": [
    "cpi_agr_link_1935_1955 = df_CPI_link.loc[df_CPI_link.year_wst == 1955]['cpi_agr'].values[0]"
   ]
  },
  {
   "cell_type": "code",
   "execution_count": 7,
   "id": "15e9309a-e7ab-41e5-b1cf-30a9fca34ba8",
   "metadata": {},
   "outputs": [],
   "source": [
    "cpi_goods_link_1935_1955 = df_CPI_link.loc[df_CPI_link.year_wst == 1955]['cpi_goods'].values[0]"
   ]
  },
  {
   "cell_type": "code",
   "execution_count": 8,
   "id": "710c1e47-36fd-4b81-afb6-ee95db94a45c",
   "metadata": {},
   "outputs": [],
   "source": [
    "cpi_agr_1955 = df_post_CPI.loc[df_post_CPI.year_wst == 1955]['cpi_agr'].values[0]"
   ]
  },
  {
   "cell_type": "code",
   "execution_count": 9,
   "id": "9d2cea56-6aab-4b37-b553-78422f164ae6",
   "metadata": {},
   "outputs": [],
   "source": [
    "cpi_goods_1955 = df_post_CPI.loc[df_post_CPI.year_wst == 1955]['cpi_goods'].values[0]"
   ]
  },
  {
   "cell_type": "code",
   "execution_count": 15,
   "id": "f000f49c-3012-4c41-943a-8be3125e2de7",
   "metadata": {},
   "outputs": [],
   "source": [
    "cpi_agr_link = cpi_agr_link_1935_1955 / cpi_agr_1955"
   ]
  },
  {
   "cell_type": "code",
   "execution_count": 16,
   "id": "41229ea3-7278-4113-8cfa-51c770951530",
   "metadata": {},
   "outputs": [],
   "source": [
    "cpi_goods_link = cpi_goods_link_1935_1955 / cpi_goods_1955"
   ]
  },
  {
   "cell_type": "code",
   "execution_count": 19,
   "id": "0f03cb66-db72-44e0-b825-c2da638b7558",
   "metadata": {},
   "outputs": [],
   "source": [
    "df_post_CPI['cpi_goods_1934'] = df_post_CPI.cpi_goods * cpi_goods_link"
   ]
  },
  {
   "cell_type": "code",
   "execution_count": null,
   "id": "d99cf521-1e94-49a5-bdfe-fca987eda49e",
   "metadata": {},
   "outputs": [],
   "source": [
    "df_post_CPI['']"
   ]
  }
 ],
 "metadata": {
  "kernelspec": {
   "display_name": "Python 3 (ipykernel)",
   "language": "python",
   "name": "python3"
  },
  "language_info": {
   "codemirror_mode": {
    "name": "ipython",
    "version": 3
   },
   "file_extension": ".py",
   "mimetype": "text/x-python",
   "name": "python",
   "nbconvert_exporter": "python",
   "pygments_lexer": "ipython3",
   "version": "3.9.6"
  }
 },
 "nbformat": 4,
 "nbformat_minor": 5
}
