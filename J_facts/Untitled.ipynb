{
 "cells": [
  {
   "cell_type": "code",
   "execution_count": 1,
   "id": "4cf4e2c5-2d32-4daa-bc62-c0f5f4bcab75",
   "metadata": {},
   "outputs": [],
   "source": [
    "import urllib\n",
    "import urllib.request\n",
    "import json\n",
    "import matplotlib.pyplot as plt\n",
    "import pprint\n",
    "import pandas as pd\n",
    "import seaborn as sns"
   ]
  },
  {
   "cell_type": "code",
   "execution_count": 2,
   "id": "15879f32-3614-40a2-a984-c92a118c70f9",
   "metadata": {},
   "outputs": [
    {
     "name": "stdout",
     "output_type": "stream",
     "text": [
      "{'GET_STATS_DATA': {'PARAMETER': {'CNT_GET_FLG': 'N',\n",
      "                                  'DATA_FORMAT': 'J',\n",
      "                                  'LANG': 'J',\n",
      "                                  'METAGET_FLG': 'Y',\n",
      "                                  'SECTION_HEADER_FLG': 1,\n",
      "                                  'START_POSITION': 1,\n",
      "                                  'STATS_DATA_ID': '0003147022'},\n",
      "                    'RESULT': {'DATE': '2021-09-09T10:58:09.037+09:00',\n",
      "                               'ERROR_MSG': '正常に終了しました。',\n",
      "                               'STATUS': 0},\n",
      "                    'STATISTICAL_DATA': {'CLASS_INF': {'CLASS_OBJ': [...]},\n",
      "                                         'DATA_INF': {'NOTE': [...],\n",
      "                                                      'VALUE': [...]},\n",
      "                                         'RESULT_INF': {'FROM_NUMBER': 1,\n",
      "                                                        'TOTAL_NUMBER': 2700,\n",
      "                                                        'TO_NUMBER': 2700},\n",
      "                                         'TABLE_INF': {'@id': '0003147022',\n",
      "                                                       'CYCLE': '-',\n",
      "                                                       'GOV_ORG': {...},\n",
      "                                                       'MAIN_CATEGORY': {...},\n",
      "                                                       'OPEN_DATE': '2016-03-28',\n",
      "                                                       'OVERALL_TOTAL_NUMBER': 2700,\n",
      "                                                       'SMALL_AREA': 0,\n",
      "                                                       'STATISTICS_NAME': '学校保健統計調査 '\n",
      "                                                                          '年次統計',\n",
      "                                                       'STATISTICS_NAME_SPEC': {'TABULATION_CATEGORY': '学校保健統計調査',\n",
      "                                                                                'TABULATION_SUB_CATEGORY1': '年次統計'},\n",
      "                                                       'STAT_NAME': {...},\n",
      "                                                       'SUB_CATEGORY': {...},\n",
      "                                                       'SURVEY_DATE': 0,\n",
      "                                                       'TITLE': {...},\n",
      "                                                       'TITLE_SPEC': {...},\n",
      "                                                       'UPDATED_DATE': '2019-11-08'}}}}\n"
     ]
    },
    {
     "name": "stderr",
     "output_type": "stream",
     "text": [
      "/var/folders/hb/3db8mbcj4l74ztsvqyx17yd00000gn/T/ipykernel_54218/2542639079.py:17: FutureWarning: pandas.io.json.json_normalize is deprecated, use pandas.json_normalize instead\n",
      "  df = pd.io.json.json_normalize(table_info_values, sep ='_')\n"
     ]
    }
   ],
   "source": [
    "appId = \"1228171589a8c7453c27fced05d8d1e1fa944be8\"\n",
    "url = \"http://api.e-stat.go.jp/rest/2.1/app/json/getStatsData?\"\n",
    "keys = {\n",
    "    \"appId\":appId,\n",
    "    \"lang\":\"J\",\n",
    "    \"statsDataId\":\"0003147022\",\n",
    "    \"metaGetFlg\":\"Y\",\n",
    "    \"cntGetFlg\":\"N\",\n",
    "    \"sectionHeaderFlg\":\"1\"\n",
    "}\n",
    "paramStr =urllib.parse.urlencode(keys)\n",
    "rObj =urllib.request.urlopen(url+paramStr)\n",
    "resStr = rObj.read()\n",
    "res = json.loads(resStr)\n",
    "pprint.pprint(res,depth =4)\n",
    "table_info_values = res['GET_STATS_DATA']['STATISTICAL_DATA']['DATA_INF']['VALUE']\n",
    "df = pd.io.json.json_normalize(table_info_values, sep ='_')"
   ]
  },
  {
   "cell_type": "code",
   "execution_count": 3,
   "id": "7d5594f2-05cc-4f14-89bd-5adde9a1c80a",
   "metadata": {},
   "outputs": [],
   "source": [
    "df.columns = [s.replace('@', '').replace('$', 'val') for s in df.columns]\n",
    "codes = res['GET_STATS_DATA']['STATISTICAL_DATA']['CLASS_INF']['CLASS_OBJ']"
   ]
  },
  {
   "cell_type": "code",
   "execution_count": 4,
   "id": "4f9d6638-daab-4420-ad7e-07979919a7d1",
   "metadata": {},
   "outputs": [],
   "source": [
    "gender = codes[1]['CLASS']\n",
    "gender_dict = {}\n",
    "for i in gender:\n",
    "    gender_dict.update({i['@code']:i['@name']})\n",
    "gender_dict_eng = {'20':'Male','30':'Female'}\n",
    "age =codes[3]['CLASS']\n",
    "age_dict = {}\n",
    "for i in age:\n",
    "    age_dict.update({i['@code']:i['@name']})\n",
    "df.time = df.time.str.extract(r'(^\\w{4})')\n",
    "df['gender_jpn']=df.cat01.map(gender_dict)\n",
    "df['gender']=df.cat01.map(gender_dict_eng)\n",
    "df['age']=df.cat03.map(age_dict)"
   ]
  },
  {
   "cell_type": "code",
   "execution_count": 5,
   "id": "30c66d87-e61c-4d7c-a96b-853c67b6e248",
   "metadata": {},
   "outputs": [],
   "source": [
    "df.time =pd.to_numeric(df.time)\n",
    "df.val =pd.to_numeric(df.val)"
   ]
  },
  {
   "cell_type": "code",
   "execution_count": 6,
   "id": "9884173e-d8e7-4bbe-bc86-e3c136a84fbc",
   "metadata": {},
   "outputs": [],
   "source": [
    "df['cohort_17'] = df.time - 17"
   ]
  },
  {
   "cell_type": "code",
   "execution_count": 22,
   "id": "f9e94a01-196d-4760-a580-4b3b78c64bbf",
   "metadata": {
    "tags": []
   },
   "outputs": [
    {
     "data": {
      "image/png": "[encoded data removed]",
      "text/plain": [
       "<Figure size 451.364x252 with 1 Axes>"
      ]
     },
     "metadata": {
      "needs_background": "light"
     },
     "output_type": "display_data"
    }
   ],
   "source": [
    "fig, ax = plt.subplots()\n",
    "\n",
    "plt.rc('text', usetex=True)\n",
    "plt.rc('font', family='serif')\n",
    "\n",
    "#plt.rc('pgf', texsystem = 'xelatex')\n",
    "df[(df.cat03=='130') & (df.gender == 'Male')].plot(x = 'cohort_17', y = 'val', \n",
    "#               label = r'Normalized cap wedge $\\biggl(\\frac{1 + \\tau_{R,t}}{1 + \\tau_{C,t}}-1 \\biggr)$', \n",
    "               #linestyle = '--',\n",
    "               color = 'b',\n",
    "               label = 'Male',\n",
    "               ax = ax)\n",
    "\n",
    "df[(df.cat03=='130') & (df.gender == 'Female')].plot(x = 'cohort_17', y = 'val', \n",
    "#               label = r'Normalized cap wedge $\\biggl(\\frac{1 + \\tau_{R,t}}{1 + \\tau_{C,t}}-1 \\biggr)$', \n",
    "               #linestyle = '--',\n",
    "               color = 'c',\n",
    "               label = 'Female',\n",
    "               ax = ax)\n",
    "\n",
    "#ax.set_rasterized(True)\n",
    "#ax.legend_.remove()\n",
    "#ax.yaxis.set_major_formatter(mpl.ticker.StrMethodFormatter('{x:,.0f}'))\n",
    "plt.xlabel('Birth year')\n",
    "plt.ylabel('Height in cm')\n",
    "fig.set_size_inches(w=6.26894, h=3.5)\n",
    "plt.title('Height of 17-year-old student (cm)')\n",
    "plt.savefig('../../Notes/Facts/height_17.pgf')\n",
    "plt.show()"
   ]
  },
  {
   "cell_type": "code",
   "execution_count": null,
   "id": "7e6832c1-fee4-4f23-899d-bd568ed8acd8",
   "metadata": {},
   "outputs": [],
   "source": []
  }
 ],
 "metadata": {
  "kernelspec": {
   "display_name": "Python 3 (ipykernel)",
   "language": "python",
   "name": "python3"
  },
  "language_info": {
   "codemirror_mode": {
    "name": "ipython",
    "version": 3
   },
   "file_extension": ".py",
   "mimetype": "text/x-python",
   "name": "python",
   "nbconvert_exporter": "python",
   "pygments_lexer": "ipython3",
   "version": "3.9.6"
  }
 },
 "nbformat": 4,
 "nbformat_minor": 5
}
